{
 "cells": [
  {
   "cell_type": "markdown",
   "metadata": {},
   "source": [
    "## Outlier Detection Techniques"
   ]
  },
  {
   "cell_type": "code",
   "execution_count": 1,
   "metadata": {},
   "outputs": [],
   "source": [
    "import pandas as panda\n",
    "import numpy as np\n",
    "from matplotlib import pyplot as plot\n",
    "from scipy.stats import zscore, boxcox_normplot, boxcox,loggamma\n",
    "import seaborn as sns\n",
    "import warnings\n",
    "from sklearn.preprocessing import StandardScaler,MinMaxScaler, RobustScaler, MaxAbsScaler,PowerTransformer\n",
    "\n",
    "warnings.simplefilter('ignore')"
   ]
  },
  {
   "cell_type": "code",
   "execution_count": 2,
   "metadata": {},
   "outputs": [
    {
     "data": {
      "text/plain": [
       "(201917, 6)"
      ]
     },
     "execution_count": 2,
     "metadata": {},
     "output_type": "execute_result"
    }
   ],
   "source": [
    "data_path = 'train.csv'\n",
    "\n",
    "data = panda.read_csv(data_path)\n",
    "data.shape"
   ]
  },
  {
   "cell_type": "code",
   "execution_count": 3,
   "metadata": {},
   "outputs": [
    {
     "name": "stdout",
     "output_type": "stream",
     "text": [
      "<class 'pandas.core.frame.DataFrame'>\n",
      "RangeIndex: 201917 entries, 0 to 201916\n",
      "Data columns (total 6 columns):\n",
      "first_active_month    201917 non-null object\n",
      "card_id               201917 non-null object\n",
      "feature_1             201917 non-null int64\n",
      "feature_2             201917 non-null int64\n",
      "feature_3             201917 non-null int64\n",
      "target                201917 non-null float64\n",
      "dtypes: float64(1), int64(3), object(2)\n",
      "memory usage: 9.2+ MB\n"
     ]
    }
   ],
   "source": [
    "data.info()"
   ]
  },
  {
   "cell_type": "code",
   "execution_count": 4,
   "metadata": {},
   "outputs": [
    {
     "data": {
      "text/html": [
       "<div>\n",
       "<style scoped>\n",
       "    .dataframe tbody tr th:only-of-type {\n",
       "        vertical-align: middle;\n",
       "    }\n",
       "\n",
       "    .dataframe tbody tr th {\n",
       "        vertical-align: top;\n",
       "    }\n",
       "\n",
       "    .dataframe thead th {\n",
       "        text-align: right;\n",
       "    }\n",
       "</style>\n",
       "<table border=\"1\" class=\"dataframe\">\n",
       "  <thead>\n",
       "    <tr style=\"text-align: right;\">\n",
       "      <th></th>\n",
       "      <th>count</th>\n",
       "      <th>unique</th>\n",
       "      <th>top</th>\n",
       "      <th>freq</th>\n",
       "      <th>mean</th>\n",
       "      <th>std</th>\n",
       "      <th>min</th>\n",
       "      <th>25%</th>\n",
       "      <th>50%</th>\n",
       "      <th>75%</th>\n",
       "      <th>max</th>\n",
       "    </tr>\n",
       "  </thead>\n",
       "  <tbody>\n",
       "    <tr>\n",
       "      <th>first_active_month</th>\n",
       "      <td>201917</td>\n",
       "      <td>75</td>\n",
       "      <td>2017-09</td>\n",
       "      <td>13878</td>\n",
       "      <td>NaN</td>\n",
       "      <td>NaN</td>\n",
       "      <td>NaN</td>\n",
       "      <td>NaN</td>\n",
       "      <td>NaN</td>\n",
       "      <td>NaN</td>\n",
       "      <td>NaN</td>\n",
       "    </tr>\n",
       "    <tr>\n",
       "      <th>card_id</th>\n",
       "      <td>201917</td>\n",
       "      <td>201917</td>\n",
       "      <td>C_ID_3d7ccc2dbd</td>\n",
       "      <td>1</td>\n",
       "      <td>NaN</td>\n",
       "      <td>NaN</td>\n",
       "      <td>NaN</td>\n",
       "      <td>NaN</td>\n",
       "      <td>NaN</td>\n",
       "      <td>NaN</td>\n",
       "      <td>NaN</td>\n",
       "    </tr>\n",
       "    <tr>\n",
       "      <th>feature_1</th>\n",
       "      <td>201917</td>\n",
       "      <td>NaN</td>\n",
       "      <td>NaN</td>\n",
       "      <td>NaN</td>\n",
       "      <td>3.10531</td>\n",
       "      <td>1.18616</td>\n",
       "      <td>1</td>\n",
       "      <td>2</td>\n",
       "      <td>3</td>\n",
       "      <td>4</td>\n",
       "      <td>5</td>\n",
       "    </tr>\n",
       "    <tr>\n",
       "      <th>feature_2</th>\n",
       "      <td>201917</td>\n",
       "      <td>NaN</td>\n",
       "      <td>NaN</td>\n",
       "      <td>NaN</td>\n",
       "      <td>1.74541</td>\n",
       "      <td>0.751362</td>\n",
       "      <td>1</td>\n",
       "      <td>1</td>\n",
       "      <td>2</td>\n",
       "      <td>2</td>\n",
       "      <td>3</td>\n",
       "    </tr>\n",
       "    <tr>\n",
       "      <th>feature_3</th>\n",
       "      <td>201917</td>\n",
       "      <td>NaN</td>\n",
       "      <td>NaN</td>\n",
       "      <td>NaN</td>\n",
       "      <td>0.565569</td>\n",
       "      <td>0.495683</td>\n",
       "      <td>0</td>\n",
       "      <td>0</td>\n",
       "      <td>1</td>\n",
       "      <td>1</td>\n",
       "      <td>1</td>\n",
       "    </tr>\n",
       "    <tr>\n",
       "      <th>target</th>\n",
       "      <td>201917</td>\n",
       "      <td>NaN</td>\n",
       "      <td>NaN</td>\n",
       "      <td>NaN</td>\n",
       "      <td>-0.393636</td>\n",
       "      <td>3.8505</td>\n",
       "      <td>-33.2193</td>\n",
       "      <td>-0.88311</td>\n",
       "      <td>-0.0234369</td>\n",
       "      <td>0.765453</td>\n",
       "      <td>17.9651</td>\n",
       "    </tr>\n",
       "  </tbody>\n",
       "</table>\n",
       "</div>"
      ],
      "text/plain": [
       "                     count  unique              top   freq      mean  \\\n",
       "first_active_month  201917      75          2017-09  13878       NaN   \n",
       "card_id             201917  201917  C_ID_3d7ccc2dbd      1       NaN   \n",
       "feature_1           201917     NaN              NaN    NaN   3.10531   \n",
       "feature_2           201917     NaN              NaN    NaN   1.74541   \n",
       "feature_3           201917     NaN              NaN    NaN  0.565569   \n",
       "target              201917     NaN              NaN    NaN -0.393636   \n",
       "\n",
       "                         std      min      25%        50%       75%      max  \n",
       "first_active_month       NaN      NaN      NaN        NaN       NaN      NaN  \n",
       "card_id                  NaN      NaN      NaN        NaN       NaN      NaN  \n",
       "feature_1            1.18616        1        2          3         4        5  \n",
       "feature_2           0.751362        1        1          2         2        3  \n",
       "feature_3           0.495683        0        0          1         1        1  \n",
       "target                3.8505 -33.2193 -0.88311 -0.0234369  0.765453  17.9651  "
      ]
     },
     "execution_count": 4,
     "metadata": {},
     "output_type": "execute_result"
    }
   ],
   "source": [
    "data.describe(include='all').T"
   ]
  },
  {
   "cell_type": "code",
   "execution_count": 5,
   "metadata": {},
   "outputs": [
    {
     "data": {
      "text/plain": [
       "feature_1     1.406975\n",
       "feature_2     0.564544\n",
       "feature_3     0.245702\n",
       "target       14.826350\n",
       "dtype: float64"
      ]
     },
     "execution_count": 5,
     "metadata": {},
     "output_type": "execute_result"
    }
   ],
   "source": [
    "data.var()"
   ]
  },
  {
   "cell_type": "code",
   "execution_count": 6,
   "metadata": {},
   "outputs": [
    {
     "data": {
      "text/plain": [
       "(-33.21928095, 17.9650684, 0   -33.219281\n",
       " dtype: float64, -6.720159691530675)"
      ]
     },
     "execution_count": 6,
     "metadata": {},
     "output_type": "execute_result"
    }
   ],
   "source": [
    "data['target'].min(),data['target'].max() ,data['target'].mode(),data['target'].skew()\n"
   ]
  },
  {
   "cell_type": "code",
   "execution_count": 7,
   "metadata": {},
   "outputs": [
    {
     "data": {
      "text/plain": [
       "-33.219281    2207\n",
       " 0.000000     1630\n",
       " 1.000000      117\n",
       "-1.000000       81\n",
       "-0.584963       35\n",
       " 0.584963       28\n",
       "-1.321928       19\n",
       " 0.284918       17\n",
       " 1.584963       14\n",
       " 0.342052       13\n",
       "Name: target, dtype: int64"
      ]
     },
     "execution_count": 7,
     "metadata": {},
     "output_type": "execute_result"
    }
   ],
   "source": [
    "data.target.value_counts().head(10)"
   ]
  },
  {
   "cell_type": "markdown",
   "metadata": {},
   "source": [
    "## Outlier Detection Techniques:\n",
    "\n",
    "#### We will explore the following outlier detection techniques:\n",
    "\n",
    "1. Box Plot\n",
    "2. Histogram\n",
    "3. Z Score\n",
    "4. Normal Probability Plot\n",
    "\n"
   ]
  },
  {
   "cell_type": "code",
   "execution_count": 8,
   "metadata": {},
   "outputs": [
    {
     "data": {
      "image/png": "[encoded data removed]",
      "text/plain": [
       "<Figure size 864x576 with 2 Axes>"
      ]
     },
     "metadata": {},
     "output_type": "display_data"
    }
   ],
   "source": [
    "sns.set(style=\"whitegrid\")\n",
    "f, (ax_box, ax_hist) = plot.subplots(2, sharex=True, gridspec_kw= {\"height_ratios\": (1, 3)}, figsize = (12,8))\n",
    "mean=data['target'].mean()\n",
    "median=data['target'].median()\n",
    "mode=data['target'].mode().get_values()[0]\n",
    "std_dev = data.target.std()\n",
    "skew = data.target.skew()\n",
    "\n",
    "sns.boxplot(data[\"target\"], ax=ax_box)\n",
    "ax_box.axvline(mean, color='r', linestyle='--')\n",
    "ax_box.axvline(median, color='g', linestyle='-')\n",
    "ax_box.axvline(mode, color='b', linestyle='-')\n",
    "ax_box.set_title('Box Plot IQR')\n",
    "\n",
    "sns.distplot(data[\"target\"], ax=ax_hist, kde= True)\n",
    "ax_hist.axvline(mean, color='r', linestyle='--')\n",
    "ax_hist.axvline(median, color='green', linestyle='-')\n",
    "ax_hist.axvline(mode, color='b', linestyle='-')\n",
    "ax_hist.set_ylabel('Probability Density')\n",
    "plot.text(11, .30, 'Std Deviation %.2f'%std_dev, {'color': 'black', 'fontsize': 12})\n",
    "plot.text(11, .28, 'Skew %.2f'%skew, {'color': 'black', 'fontsize': 12})\n",
    "plot.legend({'Mean Value %.2f'%mean:mean,'Median Value %.2f'%median:median,'Mode Value %.2f'%mode:mode}, loc='best', fontsize=12)\n",
    "\n",
    "ax_box.set(xlabel='')\n",
    "plot.show()"
   ]
  },
  {
   "cell_type": "markdown",
   "metadata": {},
   "source": [
    "Lets check how we can use the z score\n",
    "\n",
    "1. what is the zscore of target variable\n",
    "\n",
    "2. which rows have the outliers"
   ]
  },
  {
   "cell_type": "code",
   "execution_count": 9,
   "metadata": {},
   "outputs": [],
   "source": [
    "target_zscore = np.abs(zscore(data['target']))\n",
    "data['target_zscore'] = target_zscore"
   ]
  },
  {
   "cell_type": "code",
   "execution_count": 10,
   "metadata": {},
   "outputs": [],
   "source": [
    "outliers_data = data.loc[(data['target_zscore']>3) | (data['target_zscore'] <-3)] \n",
    "\n",
    "outlier_row_number = outliers_data.index.values"
   ]
  },
  {
   "cell_type": "code",
   "execution_count": 11,
   "metadata": {},
   "outputs": [
    {
     "data": {
      "image/png": "[encoded data removed]",
      "text/plain": [
       "<Figure size 432x288 with 1 Axes>"
      ]
     },
     "metadata": {},
     "output_type": "display_data"
    }
   ],
   "source": [
    "# lets plot the scatter matrix for target vs target_zscore\n",
    "\n",
    "plot.scatter(x = data['target_zscore'], y = data['target'], color = 'r')\n",
    "plot.xlabel('target z score')\n",
    "plot.ylabel('target')\n",
    "plot.title('Target value vs Target Z score')\n",
    "plot.show()"
   ]
  },
  {
   "cell_type": "markdown",
   "metadata": {},
   "source": [
    "Immediate Observation:\n",
    "\n",
    "1. From the histogram, we saw that we are detecting values below -30 to be outliers for the target variable\n",
    "\n",
    "\n",
    "2. However from our z-score calculations and keeping range outside of -3 and 3 as outliers, we can see that values outside the range of -10 and 10 are also considered as outliers"
   ]
  },
  {
   "cell_type": "markdown",
   "metadata": {},
   "source": [
    "### Observations on the data\n",
    "\n",
    "\n",
    "#### 1. From the box plot and histogram shown above, it is very clear that target variable has outliers and those outliers are the points with values less than -30\n",
    "\n",
    "\n",
    "#### 2. Our outliers are the mode of our target distribution, meaning they appear the most often and hence cannot be disregarded easily. In other words, there is swamping in our target variable\n",
    "\n",
    "\n",
    "#### 3. Skew of target variable is -6. which is a significant skew. Maybe our outlier detection is affected due to distribution"
   ]
  },
  {
   "cell_type": "markdown",
   "metadata": {},
   "source": [
    "\n",
    "\n",
    "### We will attempt to normalize our data using box cox transformations. \n",
    "\n",
    "#### 1. In order to find the optimum lambda parameter we will plot our Box Normality Plot\n",
    "#### 2. Additionally we will compare the original and transformed data in histograms\n",
    "\n",
    "##### *** Box Cox Transformations require positive values, so we would scale our data first\n",
    "\n",
    "#### UPDATE: No amount of StandardScaling/MinMaxScaling/RobustScaling helped. So resolving to Power Transformation"
   ]
  },
  {
   "cell_type": "code",
   "execution_count": 12,
   "metadata": {},
   "outputs": [
    {
     "data": {
      "image/png": "[encoded data removed]",
      "text/plain": [
       "<Figure size 432x288 with 1 Axes>"
      ]
     },
     "metadata": {},
     "output_type": "display_data"
    }
   ],
   "source": [
    "johnson_transformer = PowerTransformer()\n",
    "scaled_target = johnson_transformer.fit_transform(data.target.values[:,np.newaxis])\n",
    "\n",
    "sns.distplot(scaled_target)\n",
    "plot.show()"
   ]
  },
  {
   "cell_type": "code",
   "execution_count": 13,
   "metadata": {},
   "outputs": [
    {
     "data": {
      "text/plain": [
       "array([0.57044961])"
      ]
     },
     "execution_count": 13,
     "metadata": {},
     "output_type": "execute_result"
    }
   ],
   "source": [
    "from scipy.stats import skew\n",
    "skew(scaled_target)"
   ]
  },
  {
   "cell_type": "markdown",
   "metadata": {},
   "source": [
    "We can see that out skew has normalized from -6 to 0.5"
   ]
  },
  {
   "cell_type": "code",
   "execution_count": 29,
   "metadata": {},
   "outputs": [
    {
     "data": {
      "image/png": "[encoded data removed]",
      "text/plain": [
       "<Figure size 720x288 with 1 Axes>"
      ]
     },
     "metadata": {},
     "output_type": "display_data"
    }
   ],
   "source": [
    "##since we were not able to see box cox normalixation in action with this particular dataset\n",
    "## lets take a random data and see how box cox actually looks like\n",
    "\n",
    "x = loggamma.rvs(5, size=500) + 5\n",
    "fig = plot.figure(figsize = (10,4))\n",
    "ax = fig.add_subplot(111)\n",
    "lamdas,prob = boxcox_normplot(x, -20, 20, plot=ax)\n",
    "plot.plot(lamdas,prob, linestyle='--', color='blue')\n",
    "_, maxlog = boxcox(x) ##maxlog is the maximum lambda taken to normalize the data\n",
    "ax.axvline(maxlog, color='r', label='Max Lambda = %s'%maxlog)\n",
    "plot.legend(loc='best')\n",
    "plot.show()"
   ]
  }
 ],
 "metadata": {
  "kernelspec": {
   "display_name": "Python 3",
   "language": "python",
   "name": "python3"
  },
  "language_info": {
   "codemirror_mode": {
    "name": "ipython",
    "version": 3
   },
   "file_extension": ".py",
   "mimetype": "text/x-python",
   "name": "python",
   "nbconvert_exporter": "python",
   "pygments_lexer": "ipython3",
   "version": "3.6.5"
  }
 },
 "nbformat": 4,
 "nbformat_minor": 2
}
