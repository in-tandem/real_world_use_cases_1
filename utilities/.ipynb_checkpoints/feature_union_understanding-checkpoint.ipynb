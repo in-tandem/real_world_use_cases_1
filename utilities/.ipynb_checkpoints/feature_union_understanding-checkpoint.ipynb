{
 "cells": [
  {
   "cell_type": "markdown",
   "metadata": {},
   "source": [
    "## Understanding Feature Union Techniques in sklearn"
   ]
  },
  {
   "cell_type": "code",
   "execution_count": 1,
   "metadata": {},
   "outputs": [],
   "source": [
    "from sklearn.preprocessing import FunctionTransformer\n",
    "from sklearn.pipeline import FeatureUnion, Pipeline\n",
    "from sklearn.compose import ColumnTransformer\n",
    "from sklearn.preprocessing import StandardScaler, OneHotEncoder, LabelEncoder\n",
    "from sklearn.base import BaseEstimator, TransformerMixin\n",
    "import pandas as panda\n",
    "import numpy as np\n",
    "import warnings\n",
    "warnings.simplefilter('ignore')"
   ]
  },
  {
   "cell_type": "code",
   "execution_count": 2,
   "metadata": {},
   "outputs": [
    {
     "data": {
      "text/html": [
       "<div>\n",
       "<style scoped>\n",
       "    .dataframe tbody tr th:only-of-type {\n",
       "        vertical-align: middle;\n",
       "    }\n",
       "\n",
       "    .dataframe tbody tr th {\n",
       "        vertical-align: top;\n",
       "    }\n",
       "\n",
       "    .dataframe thead th {\n",
       "        text-align: right;\n",
       "    }\n",
       "</style>\n",
       "<table border=\"1\" class=\"dataframe\">\n",
       "  <thead>\n",
       "    <tr style=\"text-align: right;\">\n",
       "      <th></th>\n",
       "      <th>countries</th>\n",
       "      <th>avg_height</th>\n",
       "      <th>std</th>\n",
       "      <th>count</th>\n",
       "      <th>gender</th>\n",
       "    </tr>\n",
       "  </thead>\n",
       "  <tbody>\n",
       "    <tr>\n",
       "      <th>0</th>\n",
       "      <td>Spain</td>\n",
       "      <td>5.8</td>\n",
       "      <td>2.0</td>\n",
       "      <td>20000</td>\n",
       "      <td>M</td>\n",
       "    </tr>\n",
       "    <tr>\n",
       "      <th>1</th>\n",
       "      <td>India</td>\n",
       "      <td>5.7</td>\n",
       "      <td>4.0</td>\n",
       "      <td>540000</td>\n",
       "      <td>M</td>\n",
       "    </tr>\n",
       "    <tr>\n",
       "      <th>2</th>\n",
       "      <td>China</td>\n",
       "      <td>5.4</td>\n",
       "      <td>5.0</td>\n",
       "      <td>1200000</td>\n",
       "      <td>F</td>\n",
       "    </tr>\n",
       "    <tr>\n",
       "      <th>3</th>\n",
       "      <td>USA</td>\n",
       "      <td>6.1</td>\n",
       "      <td>2.0</td>\n",
       "      <td>670000</td>\n",
       "      <td>M</td>\n",
       "    </tr>\n",
       "    <tr>\n",
       "      <th>4</th>\n",
       "      <td>England</td>\n",
       "      <td>5.8</td>\n",
       "      <td>1.2</td>\n",
       "      <td>500000</td>\n",
       "      <td>M</td>\n",
       "    </tr>\n",
       "    <tr>\n",
       "      <th>5</th>\n",
       "      <td>Australia</td>\n",
       "      <td>6.2</td>\n",
       "      <td>2.0</td>\n",
       "      <td>12450</td>\n",
       "      <td>F</td>\n",
       "    </tr>\n",
       "    <tr>\n",
       "      <th>6</th>\n",
       "      <td>Burma</td>\n",
       "      <td>5.2</td>\n",
       "      <td>2.0</td>\n",
       "      <td>12000</td>\n",
       "      <td>M</td>\n",
       "    </tr>\n",
       "    <tr>\n",
       "      <th>7</th>\n",
       "      <td>Japan</td>\n",
       "      <td>5.3</td>\n",
       "      <td>1.0</td>\n",
       "      <td>120000</td>\n",
       "      <td>M</td>\n",
       "    </tr>\n",
       "    <tr>\n",
       "      <th>8</th>\n",
       "      <td>Norway</td>\n",
       "      <td>6.1</td>\n",
       "      <td>1.2</td>\n",
       "      <td>100000</td>\n",
       "      <td>F</td>\n",
       "    </tr>\n",
       "    <tr>\n",
       "      <th>9</th>\n",
       "      <td>Germany</td>\n",
       "      <td>6.0</td>\n",
       "      <td>4.0</td>\n",
       "      <td>10000</td>\n",
       "      <td>M</td>\n",
       "    </tr>\n",
       "  </tbody>\n",
       "</table>\n",
       "</div>"
      ],
      "text/plain": [
       "   countries  avg_height  std    count gender\n",
       "0      Spain         5.8  2.0    20000      M\n",
       "1      India         5.7  4.0   540000      M\n",
       "2      China         5.4  5.0  1200000      F\n",
       "3        USA         6.1  2.0   670000      M\n",
       "4    England         5.8  1.2   500000      M\n",
       "5  Australia         6.2  2.0    12450      F\n",
       "6      Burma         5.2  2.0    12000      M\n",
       "7      Japan         5.3  1.0   120000      M\n",
       "8     Norway         6.1  1.2   100000      F\n",
       "9    Germany         6.0  4.0    10000      M"
      ]
     },
     "execution_count": 2,
     "metadata": {},
     "output_type": "execute_result"
    }
   ],
   "source": [
    "##lets create a simple dataframe\n",
    "\n",
    "countries = ['Spain','India','China','USA','England','Australia','Burma','Japan','Norway','Germany']\n",
    "\n",
    "average_height = [5.8,5.7,5.4,6.1,5.8,6.2,5.2,5.3,6.1,6.]\n",
    "\n",
    "std_deviation = [2,4,5,2,1.2,2,2,1,1.2,4]\n",
    "\n",
    "population_studied = [20000,540000,1200000,670000,500000,12450,12000,120000,100000,10000]\n",
    "\n",
    "gender_studied = ['M','M','F','M','M','F','M','M','F','M']\n",
    "\n",
    "\n",
    "height_data = panda.DataFrame({\n",
    "    \n",
    "                'countries':countries,\n",
    "                'avg_height': average_height,\n",
    "                'std':std_deviation,\n",
    "                'count': population_studied,\n",
    "                'gender':gender_studied\n",
    "    \n",
    "})\n",
    "\n",
    "height_data"
   ]
  },
  {
   "cell_type": "markdown",
   "metadata": {},
   "source": [
    "#### We will take the following actions in each column to prepare it for the machine learning model\n",
    "\n",
    "##### 1. one hot encoding the column gender\n",
    "##### 2. standardize the column count, avg_height and std\n",
    "##### 3. drop the column countries\n",
    "\n",
    "### \\** We will perform all these actions in one shot using Pipeline, FeatureUnions and Transformers in sci-kit learn\n",
    "\n",
    "\n"
   ]
  },
  {
   "cell_type": "code",
   "execution_count": 3,
   "metadata": {},
   "outputs": [],
   "source": [
    "\n",
    "## handle all numeric columns at one shot since their expected behavior is the same\n",
    "\n",
    "transformers_for_numeric_columns = [('numerical_standard_scaling',StandardScaler(),['avg_height','std','count'])]\n",
    "\n",
    "column_transformer_numeric = ColumnTransformer(\n",
    "                                    transformers = transformers_for_numeric_columns,\n",
    "#                                     remainder = 'passthrough'\n",
    "                                )\n"
   ]
  },
  {
   "cell_type": "code",
   "execution_count": 10,
   "metadata": {},
   "outputs": [],
   "source": [
    "\n",
    "## drop the countries columns\n",
    "## we will not need this since our remainder in above first applied feature will be default of drop. so all other\n",
    "## columns not mentioned will be dropped\n",
    "drop_countries_transformers = ColumnTransformer(\n",
    "\n",
    "                                transformers = [('drop_countries', 'drop',['countries'])],\n",
    "#                                 remainder = 'passthrough'\n",
    "\n",
    ")\n"
   ]
  },
  {
   "cell_type": "code",
   "execution_count": 5,
   "metadata": {},
   "outputs": [],
   "source": [
    "\n",
    "'''\n",
    "we are going to enable pipelines to work off a single columns in a panda datafram\n",
    "this particular transformer will enable us to hook this into a feature union which\n",
    "will return the column which has been mentioned in the contructor\n",
    "'''\n",
    "\n",
    "class MyItemSelector(BaseEstimator, TransformerMixin):\n",
    "    def __init__(self, column_name):\n",
    "        self.key = column_name\n",
    "\n",
    "    def fit(self, x, y=None):\n",
    "        return self\n",
    "\n",
    "    def transform(self, df):\n",
    "        return df[self.key]\n",
    "    \n",
    "    \n",
    "'''\n",
    "the normal LabelEncoder in scikit learn only takes one argument in fit,fit_transform which is y.\n",
    "however our pipelines and our feature unions all expect two columns, x and y.\n",
    "we will provide this behavior with an extension of the labelencoder class\n",
    "\n",
    "'''\n",
    "class MyLabelEncoder(LabelEncoder):\n",
    "    \n",
    "    def fit(self, X, y, **fit_params):\n",
    "        \n",
    "        # reshape because we are going to append it to a matrix\n",
    "        # adding a new axis so that we convert a row only data dim (x,)\n",
    "        # to a two dim array (x,1)\n",
    "        return super().fit(X)[:,np.newaxis]\n",
    "    \n",
    "    def fit_transform(self, X, y, **fit_params):\n",
    "        \n",
    "        return super().fit_transform(X)[:,np.newaxis]\n",
    "    "
   ]
  },
  {
   "cell_type": "code",
   "execution_count": 6,
   "metadata": {},
   "outputs": [],
   "source": [
    "label = LabelEncoder()\n",
    "ohe = OneHotEncoder()\n",
    "\n",
    "pipeline = Pipeline([\n",
    "    \n",
    "            ('select_gender_column', MyItemSelector(column_name='gender')),\n",
    "            ('labelize_gender', MyLabelEncoder()),\n",
    "            ('encode_gender' , OneHotEncoder())\n",
    "    \n",
    "    \n",
    "])\n",
    "\n",
    "\n",
    "# # feature_transformer_gender = \n",
    "# gender_col_transformer = ColumnTransformer(\n",
    "\n",
    "#     transformers = [\n",
    "        \n",
    "#         ('label', LabelEncoder(), ['gender']),\n",
    "#         ('encode', OneHotEncoder(), ['gender']),\n",
    "        \n",
    "#     ]\n",
    "#     ,\n",
    "#     remainder= 'passthrough'\n",
    "# )"
   ]
  },
  {
   "cell_type": "code",
   "execution_count": 7,
   "metadata": {},
   "outputs": [
    {
     "data": {
      "text/plain": [
       "[('gender_transformation', Pipeline(memory=None,\n",
       "       steps=[('select_gender_column', MyItemSelector(column_name=None)), ('labelize_gender', MyLabelEncoder()), ('encode_gender', OneHotEncoder(categorical_features=None, categories=None,\n",
       "         dtype=<class 'numpy.float64'>, handle_unknown='error',\n",
       "         n_values=None, sparse=True))])),\n",
       " ('transform_numeric_columns',\n",
       "  ColumnTransformer(n_jobs=None, remainder='drop', sparse_threshold=0.3,\n",
       "           transformer_weights=None,\n",
       "           transformers=[('numerical_standard_scaling', StandardScaler(copy=True, with_mean=True, with_std=True), ['avg_height', 'std', 'count'])]))]"
      ]
     },
     "execution_count": 7,
     "metadata": {},
     "output_type": "execute_result"
    }
   ],
   "source": [
    "\n",
    "features =[\n",
    "    \n",
    "    ('gender_transformation', pipeline),\n",
    "    ('transform_numeric_columns', column_transformer_numeric),\n",
    "]\n",
    "\n",
    "\n",
    "features"
   ]
  },
  {
   "cell_type": "code",
   "execution_count": 8,
   "metadata": {},
   "outputs": [],
   "source": [
    "feature_union = FeatureUnion(features)"
   ]
  },
  {
   "cell_type": "code",
   "execution_count": 9,
   "metadata": {},
   "outputs": [
    {
     "data": {
      "text/plain": [
       "array([[ 0.        ,  1.        ,  0.11826248, -0.33410121, -0.78602775],\n",
       "       [ 0.        ,  1.        , -0.17739372,  1.18454064,  0.58351917],\n",
       "       [ 1.        ,  0.        , -1.06436231,  1.94386157,  2.32179027],\n",
       "       [ 0.        ,  1.        ,  1.00523107, -0.33410121,  0.9259059 ],\n",
       "       [ 0.        ,  1.        ,  0.11826248, -0.94155795,  0.47816941],\n",
       "       [ 1.        ,  0.        ,  1.30088727, -0.33410121, -0.80591252],\n",
       "       [ 0.        ,  1.        , -1.65567471, -0.33410121, -0.80709771],\n",
       "       [ 0.        ,  1.        , -1.36001851, -1.09342213, -0.52265334],\n",
       "       [ 1.        ,  0.        ,  1.00523107, -0.94155795, -0.57532823],\n",
       "       [ 0.        ,  1.        ,  0.70957488,  1.18454064, -0.81236519]])"
      ]
     },
     "execution_count": 9,
     "metadata": {},
     "output_type": "execute_result"
    }
   ],
   "source": [
    "##lets do a trial run and see what happens\n",
    "\n",
    "feature_union.fit_transform(height_data).toarray()"
   ]
  }
 ],
 "metadata": {
  "kernelspec": {
   "display_name": "Python 3",
   "language": "python",
   "name": "python3"
  },
  "language_info": {
   "codemirror_mode": {
    "name": "ipython",
    "version": 3
   },
   "file_extension": ".py",
   "mimetype": "text/x-python",
   "name": "python",
   "nbconvert_exporter": "python",
   "pygments_lexer": "ipython3",
   "version": "3.6.5"
  }
 },
 "nbformat": 4,
 "nbformat_minor": 2
}
