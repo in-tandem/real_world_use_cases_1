{
 "cells": [
  {
   "cell_type": "markdown",
   "metadata": {},
   "source": [
    "## Understanding Principal Component Analysis"
   ]
  },
  {
   "cell_type": "code",
   "execution_count": 1,
   "metadata": {},
   "outputs": [],
   "source": [
    "from sklearn.datasets import load_wine\n",
    "from sklearn.preprocessing import StandardScaler\n",
    "from sklearn.model_selection import train_test_split\n",
    "from sklearn.linear_model import LogisticRegression,Perceptron\n",
    "from sklearn.metrics import accuracy_score\n",
    "import numpy as np\n",
    "from matplotlib import pyplot as plot\n",
    "import pandas as panda\n",
    "import seaborn as sns\n",
    "\n",
    "import warnings\n",
    "warnings.simplefilter('ignore')"
   ]
  },
  {
   "cell_type": "code",
   "execution_count": 2,
   "metadata": {},
   "outputs": [],
   "source": [
    "X, y = load_wine(return_X_y = True)"
   ]
  },
  {
   "cell_type": "code",
   "execution_count": 3,
   "metadata": {},
   "outputs": [
    {
     "data": {
      "text/plain": [
       "((178, 13), (178,))"
      ]
     },
     "execution_count": 3,
     "metadata": {},
     "output_type": "execute_result"
    }
   ],
   "source": [
    "X.shape, y.shape"
   ]
  },
  {
   "cell_type": "markdown",
   "metadata": {},
   "source": [
    "#### We can see that our feature set has 13 dimensions, making it imposiible for us to visualize it against the dependent variable y\n",
    "\n",
    "#### However lets just proceed and check for accuracies in the model, leaving the data as is and without any feature extraction"
   ]
  },
  {
   "cell_type": "code",
   "execution_count": 4,
   "metadata": {},
   "outputs": [],
   "source": [
    "np.random.seed(1243)# setting the seed for reproducibility"
   ]
  },
  {
   "cell_type": "code",
   "execution_count": 5,
   "metadata": {},
   "outputs": [
    {
     "data": {
      "text/plain": [
       "(array([59, 71, 48], dtype=int64), array([0, 1, 2]))"
      ]
     },
     "execution_count": 5,
     "metadata": {},
     "output_type": "execute_result"
    }
   ],
   "source": [
    "np.bincount(y), np.unique(y)"
   ]
  },
  {
   "cell_type": "code",
   "execution_count": 6,
   "metadata": {},
   "outputs": [
    {
     "data": {
      "image/png": "[encoded data removed]",
      "text/plain": [
       "<Figure size 432x288 with 1 Axes>"
      ]
     },
     "metadata": {},
     "output_type": "display_data"
    }
   ],
   "source": [
    "sns.barplot(x= np.unique(y), y = np.bincount(y))\n",
    "plot.xlabel('Unique classes')\n",
    "plot.ylabel('Number of occurences')\n",
    "plot.title('Distribution of Target Variable- Wine Type')\n",
    "plot.show()"
   ]
  },
  {
   "cell_type": "code",
   "execution_count": 7,
   "metadata": {},
   "outputs": [],
   "source": [
    "x_train, x_test, y_train,y_test = train_test_split(X,y , stratify = y)"
   ]
  },
  {
   "cell_type": "code",
   "execution_count": 8,
   "metadata": {},
   "outputs": [
    {
     "data": {
      "text/plain": [
       "((133, 13), (45, 13), (133,), (45,), array([15, 18, 12], dtype=int64))"
      ]
     },
     "execution_count": 8,
     "metadata": {},
     "output_type": "execute_result"
    }
   ],
   "source": [
    "x_train.shape, x_test.shape, y_train.shape, y_test.shape, np.bincount(y_test)"
   ]
  },
  {
   "cell_type": "code",
   "execution_count": 9,
   "metadata": {},
   "outputs": [],
   "source": [
    "# classifier = LogisticRegression(max_iter = 1000, class_weight = 'balanced', solver = 'lbfgs') ## solver is a solver geared for multiclass\n",
    "\n",
    "# the above classifier ends up being a real good classifier, considering the data size, and accurately predicts all\n",
    "# however we would like to create a weak learner\n",
    "\n",
    "classifier = Perceptron(max_iter = 50)\n"
   ]
  },
  {
   "cell_type": "code",
   "execution_count": 10,
   "metadata": {},
   "outputs": [
    {
     "data": {
      "text/plain": [
       "Perceptron(alpha=0.0001, class_weight=None, early_stopping=False, eta0=1.0,\n",
       "      fit_intercept=True, max_iter=50, n_iter=None, n_iter_no_change=5,\n",
       "      n_jobs=None, penalty=None, random_state=0, shuffle=True, tol=None,\n",
       "      validation_fraction=0.1, verbose=0, warm_start=False)"
      ]
     },
     "execution_count": 10,
     "metadata": {},
     "output_type": "execute_result"
    }
   ],
   "source": [
    "classifier.fit(x_train,y_train)"
   ]
  },
  {
   "cell_type": "code",
   "execution_count": 11,
   "metadata": {},
   "outputs": [],
   "source": [
    "y_predictions = classifier.predict(x_test)"
   ]
  },
  {
   "cell_type": "code",
   "execution_count": 12,
   "metadata": {},
   "outputs": [
    {
     "data": {
      "text/plain": [
       "0.7111111111111111"
      ]
     },
     "execution_count": 12,
     "metadata": {},
     "output_type": "execute_result"
    }
   ],
   "source": [
    "accuracy_score(y_test, y_predictions)"
   ]
  },
  {
   "cell_type": "code",
   "execution_count": 13,
   "metadata": {},
   "outputs": [
    {
     "data": {
      "text/html": [
       "<div>\n",
       "<style scoped>\n",
       "    .dataframe tbody tr th:only-of-type {\n",
       "        vertical-align: middle;\n",
       "    }\n",
       "\n",
       "    .dataframe tbody tr th {\n",
       "        vertical-align: top;\n",
       "    }\n",
       "\n",
       "    .dataframe thead th {\n",
       "        text-align: right;\n",
       "    }\n",
       "</style>\n",
       "<table border=\"1\" class=\"dataframe\">\n",
       "  <thead>\n",
       "    <tr style=\"text-align: right;\">\n",
       "      <th>Actual</th>\n",
       "      <th>0</th>\n",
       "      <th>1</th>\n",
       "      <th>2</th>\n",
       "      <th>All</th>\n",
       "    </tr>\n",
       "    <tr>\n",
       "      <th>Predictions</th>\n",
       "      <th></th>\n",
       "      <th></th>\n",
       "      <th></th>\n",
       "      <th></th>\n",
       "    </tr>\n",
       "  </thead>\n",
       "  <tbody>\n",
       "    <tr>\n",
       "      <th>0</th>\n",
       "      <td>15</td>\n",
       "      <td>2</td>\n",
       "      <td>2</td>\n",
       "      <td>19</td>\n",
       "    </tr>\n",
       "    <tr>\n",
       "      <th>1</th>\n",
       "      <td>0</td>\n",
       "      <td>13</td>\n",
       "      <td>6</td>\n",
       "      <td>19</td>\n",
       "    </tr>\n",
       "    <tr>\n",
       "      <th>2</th>\n",
       "      <td>0</td>\n",
       "      <td>3</td>\n",
       "      <td>4</td>\n",
       "      <td>7</td>\n",
       "    </tr>\n",
       "    <tr>\n",
       "      <th>All</th>\n",
       "      <td>15</td>\n",
       "      <td>18</td>\n",
       "      <td>12</td>\n",
       "      <td>45</td>\n",
       "    </tr>\n",
       "  </tbody>\n",
       "</table>\n",
       "</div>"
      ],
      "text/plain": [
       "Actual        0   1   2  All\n",
       "Predictions                 \n",
       "0            15   2   2   19\n",
       "1             0  13   6   19\n",
       "2             0   3   4    7\n",
       "All          15  18  12   45"
      ]
     },
     "execution_count": 13,
     "metadata": {},
     "output_type": "execute_result"
    }
   ],
   "source": [
    "panda.crosstab(\n",
    "\n",
    "    panda.Series(y_predictions, name = 'Predictions'),\n",
    "    panda.Series(y_test, name = 'Actual'),\n",
    "    margins = True\n",
    "\n",
    ")\n",
    "\n",
    "## we can see below that the model has misclassified 5 wines type out of 18 wines for type 1 wine\n",
    "## it has also misclassified 6 out of 12 wines for type 2 wine"
   ]
  },
  {
   "cell_type": "code",
   "execution_count": 14,
   "metadata": {},
   "outputs": [
    {
     "data": {
      "text/plain": [
       "(array([0, 1, 2]),\n",
       " array([19, 19,  7], dtype=int64),\n",
       " array([0, 1, 2]),\n",
       " array([15, 18, 12], dtype=int64))"
      ]
     },
     "execution_count": 14,
     "metadata": {},
     "output_type": "execute_result"
    }
   ],
   "source": [
    "np.unique(y_predictions),np.bincount(y_predictions),np.unique(y_test),np.bincount(y_test)"
   ]
  },
  {
   "cell_type": "code",
   "execution_count": 15,
   "metadata": {},
   "outputs": [
    {
     "data": {
      "image/png": "[encoded data removed]",
      "text/plain": [
       "<Figure size 720x360 with 1 Axes>"
      ]
     },
     "metadata": {},
     "output_type": "display_data"
    }
   ],
   "source": [
    "\n",
    "plot.figure(figsize= (10,5))\n",
    "sns.barplot(x=np.unique(y_test),y=np.bincount(y_test), color='grey', label='Actual Wine Type')\n",
    "sns.barplot(x=np.unique(y_predictions),y=np.bincount(y_predictions), color='pink', alpha=0.8, label='Predicted Wine Types')\n",
    "plot.legend(loc = 'best')\n",
    "plot.title('Actual vs Predicted Classes')\n",
    "plot.show()"
   ]
  },
  {
   "cell_type": "markdown",
   "metadata": {},
   "source": [
    "#### Observation from the classification matrix and the overlaying bar plot:\n",
    "\n",
    "##### 1. It has classified more number of wine type 0 than there actually is ( 15 type 0 wine, our classifier says 19)\n",
    "##### 2. It has classified more number of wine type 1 than there actually is ( 18 type 1 wine, our classifier says 19)\n",
    "##### 3. It has classified less number of wine type 2 than there actually is ( 12 type 2 wine, our classifier says 7)"
   ]
  },
  {
   "cell_type": "markdown",
   "metadata": {},
   "source": [
    "<br><br>\n",
    "## Lets now check for feature extraction techniques to try and improve our accuracies"
   ]
  },
  {
   "cell_type": "markdown",
   "metadata": {},
   "source": [
    "One feature extraction technique is to use principal component analysis as a dimensionality reduction tool. In feature extraction techniques the following happens:\n",
    "\n",
    "\n",
    "1. lets say there are 17 old independent variables. (in our example above, X dimension is 17 columns)\n",
    "2. We will not randomly drop one or few of those columns( this is called feature selection) because it may lead to information loss\n",
    "3. Instread using feature extraction techniques, we will create 17 'new' variables each of which is a linear combination of each of the 17 old variables.\n",
    "4. Each of the new variables created will carry information of all the old variables , however they will demonstrate differing variances.\n",
    "5. Those new variables are called principal components, and we will select the highest principal components which display most variance\n",
    "6. Highest order principal components display highest degree of variance(meaning better degree of using this variable as a way of classifying or categorizing) and they will also be independent of each other."
   ]
  },
  {
   "cell_type": "markdown",
   "metadata": {},
   "source": [
    "##### How to calculate the principal components?\n",
    "\n",
    "say dimension of X feature set is n * p. That is, p columns across n rows of data.\n",
    "\n",
    "\n",
    "1. standardize your X feature set. Use sklearn.preprocessing.StandardScaler\n",
    "\n",
    "\n",
    "2. create a new matrix of dimension p * p. This matrix is called the covariance matrix. \n",
    "\n",
    "\n",
    "3. Each element of covariance matrix can be calculated as : \n",
    "\n",
    "        i.   ( sum for all i =1..n ( xij - mean(xj) ) * ( xik - mean(xk) ) ) / n\n",
    "        \n",
    "        ii.  n = number of rows\n",
    "        \n",
    "        iii. xj and xk are columns in the feature set of x\n",
    "        \n",
    "        iv.  point one will hence give us the covariance between feature xj and xk. \n",
    "\n",
    "\n",
    "4. how to create a covariance matrix? we can use np.cov method. Additionally covariance matrix can also be found as (X transposed).dot(X). This matrix will be scaled to nth degree, meaning each element will be 2,3,4,etc times the actual value. However since every element is scaled to same higher order, we can use this covariance matrix as well.\n",
    "\n",
    "\n",
    "5. Additonally we can also perform this action using code. which we will show below\n",
    "\n",
    "\n",
    "6. Once we have found the covariance matrix , we will perform eigen decomposition to find the eigen vector and the eigen value of the covariance matrix.\n",
    "\n",
    "\n",
    "7. how do we calculate the eigen vector and eigen value? we can use np.linalg.eig method and pass in the covariance matrix as an input. \n",
    "\n",
    "\n",
    "8. Additinally steps 3-7, can be achieved in one shot using singular value decomposition , np.inalg.svd\n",
    "\n",
    "\n",
    "9. Our <b>eigen vectors are infact the principal components</b>. Each of these eigen vectors carry information of each of the old variables, weighted by their contribution in explaining the variance. Simply put, higher magnitude of eigen vectors , are able to classify the dependent variable to a higher degree.\n",
    "\n",
    "\n",
    "10. From where do we get the magnitude of these eigen vectors? We get them from the eigen values.\n",
    "\n",
    "\n",
    "11. So to see the change in variance for each of these principal components, we can plot a curve and check the elbow point. Elbow point is the point after which, principal components do not really  contribute to change in variance and can be dropped.\n",
    "\n",
    "\n",
    "12. In order to now transform the X feature sets into our principal components, lets select the number of eigenvectors we would like to keep. Usually it would be the number of top most principal components, pre elbow point. Lets say the number is k\n",
    "\n",
    "\n",
    "13. Sort the eigen values and eigen vectors from top to smallest. Create eigen pairs of them , essentially a tuple of eigen value and corresponding eigen vector\n",
    "\n",
    "\n",
    "14. Create a matrix from the above eigen pair, taking top k number of tuples. Let this matrix be P\n",
    "\n",
    "\n",
    "15. create another matrix pca_x which is equal to x_std.dot(P). Matrix pca_x is the principal component transformed view of the X feature set. If k < p, we have reduced our dimension from p to k number of dimensions.\n",
    "\n",
    "\n",
    "\n",
    "\n",
    "#### Lets apply each of the above steps in our wine data set to perform a principal component analysis dimension reduction\n"
   ]
  },
  {
   "cell_type": "markdown",
   "metadata": {},
   "source": [
    "<br>\n",
    "\n",
    "<b>HOW TO CREATE A COVARIANCE MATRIX  - DIFFERENT TECHNIQUES"
   ]
  },
  {
   "cell_type": "code",
   "execution_count": 16,
   "metadata": {},
   "outputs": [
    {
     "data": {
      "text/plain": [
       "(178, 13)"
      ]
     },
     "execution_count": 16,
     "metadata": {},
     "output_type": "execute_result"
    }
   ],
   "source": [
    "X.shape"
   ]
  },
  {
   "cell_type": "code",
   "execution_count": 17,
   "metadata": {},
   "outputs": [],
   "source": [
    "## the very first step is to scale the feature set\n",
    "x_std = StandardScaler().fit_transform(X)"
   ]
  },
  {
   "cell_type": "code",
   "execution_count": 18,
   "metadata": {},
   "outputs": [
    {
     "name": "stdout",
     "output_type": "stream",
     "text": [
      "(13, 13)\n"
     ]
    }
   ],
   "source": [
    "## first very simplest step..simply dot product of transposed and itself\n",
    "## our covariance matrix will ofcouse be 13 cross 13 size. \n",
    "\n",
    "covariance_using_transpose = x_std.T.dot(x_std)\n",
    "\n",
    "print(covariance_using_transpose.shape)"
   ]
  },
  {
   "cell_type": "code",
   "execution_count": 19,
   "metadata": {},
   "outputs": [
    {
     "name": "stdout",
     "output_type": "stream",
     "text": [
      "(13, 13)\n"
     ]
    }
   ],
   "source": [
    "## second manual step. we will consider each column and subtract the mean\n",
    "\n",
    "# since we are performing mean across axis 0 , is row wise, we are actually getting mean of values across columns\n",
    "mean_for_each_feature = np.mean(x_std, axis = 0) #mean across each column, we are mean-ing rowwise\n",
    "\n",
    "# subtract each columns from its mean. dot product of matrix transposed and matrix\n",
    "\n",
    "covariance_ = (x_std - mean_for_each_feature).T.dot((x_std - mean_for_each_feature))\n",
    "covariance_manually = covariance_/x_std.shape[0] # divide by number of rows\n",
    "\n",
    "\n",
    "print(covariance_manually.shape)"
   ]
  },
  {
   "cell_type": "code",
   "execution_count": 20,
   "metadata": {},
   "outputs": [
    {
     "name": "stdout",
     "output_type": "stream",
     "text": [
      "(13, 13)\n"
     ]
    }
   ],
   "source": [
    "# third step, simply use the numpy cov funxtion\n",
    "covariance_using_numpy = np.cov(x_std.T)\n",
    "\n",
    "print(covariance_using_numpy.shape)"
   ]
  },
  {
   "cell_type": "code",
   "execution_count": 21,
   "metadata": {},
   "outputs": [
    {
     "name": "stdout",
     "output_type": "stream",
     "text": [
      "covariance_using_transpose[0][3]:  -55.22185436661314 covariance_using_transpose[3][0]:  -55.22185436661314\n",
      "covariance_manually[0][3]:  -0.31023513689108506 covariance_manually[3][0]:  -0.31023513689108506\n",
      "covariance_using_numpy[0][3]:  -0.3119878777774758 covariance_using_numpy[3][0]:  -0.3119878777774758\n"
     ]
    }
   ],
   "source": [
    "## lets compare some values from each covariance technqiue\n",
    "# covariance_manually, covariance_using_numpy, covariance_using_transpose\n",
    "print('covariance_using_transpose[0][3]: ', covariance_using_transpose[0][3],'covariance_using_transpose[3][0]: ',covariance_using_transpose[3][0] )\n",
    "print('covariance_manually[0][3]: ', covariance_manually[0][3],'covariance_manually[3][0]: ', covariance_manually[3][0])\n",
    "print('covariance_using_numpy[0][3]: ', covariance_using_numpy[0][3],'covariance_using_numpy[3][0]: ', covariance_using_numpy[3][0])"
   ]
  },
  {
   "cell_type": "markdown",
   "metadata": {},
   "source": [
    "###### we will observe that numpy calculation and our own calculation using mean functions is giving same results(almost)\n",
    "###### using simple transpose technique, is also giving us same result, however each point is multiplied by the order of n (no of rows)"
   ]
  },
  {
   "cell_type": "markdown",
   "metadata": {},
   "source": [
    "<br>\n",
    "\n",
    "<b>HOW TO DERIVE EIGEN VALUES AND EIGEN VECTORS"
   ]
  },
  {
   "cell_type": "code",
   "execution_count": 22,
   "metadata": {},
   "outputs": [],
   "source": [
    "eigen_values_using_transposed_matrix,eigen_vectors_using_transposed_matrix = np.linalg.eig(covariance_using_transpose)"
   ]
  },
  {
   "cell_type": "code",
   "execution_count": 23,
   "metadata": {},
   "outputs": [
    {
     "data": {
      "text/plain": [
       "(array([837.64134503, 444.46132455, 257.40081061, 163.57735843,\n",
       "        151.87461575, 114.21495161,  98.08303953,  18.40127255,\n",
       "         62.03253067,  30.0411018 ,  51.42062979,  40.19037787,\n",
       "         44.66064183]),\n",
       " array([[-0.1443294 ,  0.48365155, -0.20738262,  0.0178563 , -0.26566365,\n",
       "          0.21353865,  0.05639636, -0.01496997,  0.39613926, -0.26628645,\n",
       "         -0.50861912, -0.22591696,  0.21160473],\n",
       "        [ 0.24518758,  0.22493093,  0.08901289, -0.53689028,  0.03521363,\n",
       "          0.53681385, -0.42052391, -0.02596375,  0.06582674,  0.12169604,\n",
       "          0.07528304,  0.07648554, -0.30907994],\n",
       "        [ 0.00205106,  0.31606881,  0.6262239 ,  0.21417556, -0.14302547,\n",
       "          0.15447466,  0.14917061,  0.14121803, -0.17026002, -0.04962237,\n",
       "          0.30769445, -0.49869142, -0.02712539],\n",
       "        [ 0.23932041, -0.0105905 ,  0.61208035, -0.06085941,  0.06610294,\n",
       "         -0.10082451,  0.28696914, -0.09168285,  0.42797018, -0.05574287,\n",
       "         -0.20044931,  0.47931378,  0.05279942],\n",
       "        [-0.14199204,  0.299634  ,  0.13075693,  0.35179658,  0.72704851,\n",
       "          0.03814394, -0.3228833 , -0.05677422, -0.15636143,  0.06222011,\n",
       "         -0.27140257,  0.07128891,  0.06787022],\n",
       "        [-0.39466085,  0.06503951,  0.14617896, -0.19806835, -0.14931841,\n",
       "         -0.0841223 ,  0.02792498,  0.46390791, -0.40593409, -0.30388245,\n",
       "         -0.28603452,  0.30434119, -0.32013135],\n",
       "        [-0.4229343 , -0.00335981,  0.1506819 , -0.15229479, -0.10902584,\n",
       "         -0.01892002,  0.06068521, -0.83225706, -0.18724536, -0.04289883,\n",
       "         -0.04957849, -0.02569409, -0.16315051],\n",
       "        [ 0.2985331 ,  0.02877949,  0.17036816,  0.20330102, -0.50070298,\n",
       "         -0.25859401, -0.59544729, -0.11403985, -0.23328465,  0.04235219,\n",
       "         -0.19550132,  0.11689586,  0.21553507],\n",
       "        [-0.31342949,  0.03930172,  0.14945431, -0.39905653,  0.13685982,\n",
       "         -0.53379539, -0.37213935,  0.11691707,  0.36822675, -0.09555303,\n",
       "          0.20914487, -0.23736257,  0.1341839 ],\n",
       "        [ 0.0886167 ,  0.52999567, -0.13730621, -0.06592568, -0.07643678,\n",
       "         -0.41864414,  0.22771214,  0.0119928 , -0.03379692,  0.60422163,\n",
       "         -0.05621752,  0.0318388 , -0.29077518],\n",
       "        [-0.29671456, -0.27923515,  0.08522192,  0.42777141, -0.17361452,\n",
       "          0.10598274, -0.23207564,  0.08988884,  0.43662362,  0.259214  ,\n",
       "         -0.08582839, -0.04821201, -0.52239889],\n",
       "        [-0.37616741, -0.16449619,  0.16600459, -0.18412074, -0.10116099,\n",
       "          0.26585107,  0.0447637 ,  0.15671813, -0.07810789,  0.60095872,\n",
       "         -0.1372269 ,  0.0464233 ,  0.52370587],\n",
       "        [-0.28675223,  0.36490283, -0.12674592,  0.23207086, -0.1578688 ,\n",
       "          0.11972557, -0.0768045 , -0.01444734,  0.12002267, -0.07940162,\n",
       "          0.57578611,  0.53926983,  0.162116  ]]))"
      ]
     },
     "execution_count": 23,
     "metadata": {},
     "output_type": "execute_result"
    }
   ],
   "source": [
    "eigen_values_using_transposed_matrix,eigen_vectors_using_transposed_matrix"
   ]
  },
  {
   "cell_type": "code",
   "execution_count": 24,
   "metadata": {},
   "outputs": [],
   "source": [
    "eigen_values_using_manual_matrix,eigen_vectors_using_manual_matrix = np.linalg.eig(covariance_manually)"
   ]
  },
  {
   "cell_type": "code",
   "execution_count": 25,
   "metadata": {},
   "outputs": [
    {
     "data": {
      "text/plain": [
       "(array([4.70585025, 2.49697373, 1.44607197, 0.91897392, 0.85322818,\n",
       "        0.64165703, 0.55102831, 0.10337794, 0.34849736, 0.16877023,\n",
       "        0.28887994, 0.22578864, 0.25090248]),\n",
       " array([[-0.1443294 , -0.48365155,  0.20738262, -0.0178563 ,  0.26566365,\n",
       "         -0.21353865, -0.05639636,  0.01496997, -0.39613926,  0.26628645,\n",
       "          0.50861912, -0.22591696,  0.21160473],\n",
       "        [ 0.24518758, -0.22493093, -0.08901289,  0.53689028, -0.03521363,\n",
       "         -0.53681385,  0.42052391,  0.02596375, -0.06582674, -0.12169604,\n",
       "         -0.07528304,  0.07648554, -0.30907994],\n",
       "        [ 0.00205106, -0.31606881, -0.6262239 , -0.21417556,  0.14302547,\n",
       "         -0.15447466, -0.14917061, -0.14121803,  0.17026002,  0.04962237,\n",
       "         -0.30769445, -0.49869142, -0.02712539],\n",
       "        [ 0.23932041,  0.0105905 , -0.61208035,  0.06085941, -0.06610294,\n",
       "          0.10082451, -0.28696914,  0.09168285, -0.42797018,  0.05574287,\n",
       "          0.20044931,  0.47931378,  0.05279942],\n",
       "        [-0.14199204, -0.299634  , -0.13075693, -0.35179658, -0.72704851,\n",
       "         -0.03814394,  0.3228833 ,  0.05677422,  0.15636143, -0.06222011,\n",
       "          0.27140257,  0.07128891,  0.06787022],\n",
       "        [-0.39466085, -0.06503951, -0.14617896,  0.19806835,  0.14931841,\n",
       "          0.0841223 , -0.02792498, -0.46390791,  0.40593409,  0.30388245,\n",
       "          0.28603452,  0.30434119, -0.32013135],\n",
       "        [-0.4229343 ,  0.00335981, -0.1506819 ,  0.15229479,  0.10902584,\n",
       "          0.01892002, -0.06068521,  0.83225706,  0.18724536,  0.04289883,\n",
       "          0.04957849, -0.02569409, -0.16315051],\n",
       "        [ 0.2985331 , -0.02877949, -0.17036816, -0.20330102,  0.50070298,\n",
       "          0.25859401,  0.59544729,  0.11403985,  0.23328465, -0.04235219,\n",
       "          0.19550132,  0.11689586,  0.21553507],\n",
       "        [-0.31342949, -0.03930172, -0.14945431,  0.39905653, -0.13685982,\n",
       "          0.53379539,  0.37213935, -0.11691707, -0.36822675,  0.09555303,\n",
       "         -0.20914487, -0.23736257,  0.1341839 ],\n",
       "        [ 0.0886167 , -0.52999567,  0.13730621,  0.06592568,  0.07643678,\n",
       "          0.41864414, -0.22771214, -0.0119928 ,  0.03379692, -0.60422163,\n",
       "          0.05621752,  0.0318388 , -0.29077518],\n",
       "        [-0.29671456,  0.27923515, -0.08522192, -0.42777141,  0.17361452,\n",
       "         -0.10598274,  0.23207564, -0.08988884, -0.43662362, -0.259214  ,\n",
       "          0.08582839, -0.04821201, -0.52239889],\n",
       "        [-0.37616741,  0.16449619, -0.16600459,  0.18412074,  0.10116099,\n",
       "         -0.26585107, -0.0447637 , -0.15671813,  0.07810789, -0.60095872,\n",
       "          0.1372269 ,  0.0464233 ,  0.52370587],\n",
       "        [-0.28675223, -0.36490283,  0.12674592, -0.23207086,  0.1578688 ,\n",
       "         -0.11972557,  0.0768045 ,  0.01444734, -0.12002267,  0.07940162,\n",
       "         -0.57578611,  0.53926983,  0.162116  ]]))"
      ]
     },
     "execution_count": 25,
     "metadata": {},
     "output_type": "execute_result"
    }
   ],
   "source": [
    "eigen_values_using_manual_matrix,eigen_vectors_using_manual_matrix"
   ]
  },
  {
   "cell_type": "code",
   "execution_count": 26,
   "metadata": {},
   "outputs": [],
   "source": [
    "eigen_values_using_transposed_numpy,eigen_vectors_using_transposed_numpy = np.linalg.eig(covariance_using_numpy)"
   ]
  },
  {
   "cell_type": "code",
   "execution_count": 27,
   "metadata": {},
   "outputs": [
    {
     "data": {
      "text/plain": [
       "(array([4.73243698, 2.51108093, 1.45424187, 0.92416587, 0.85804868,\n",
       "        0.64528221, 0.55414147, 0.10396199, 0.35046627, 0.16972374,\n",
       "        0.29051203, 0.22706428, 0.25232001]),\n",
       " array([[-0.1443294 ,  0.48365155,  0.20738262, -0.0178563 , -0.26566365,\n",
       "          0.21353865,  0.05639636, -0.01496997,  0.39613926, -0.26628645,\n",
       "         -0.50861912, -0.22591696,  0.21160473],\n",
       "        [ 0.24518758,  0.22493093, -0.08901289,  0.53689028,  0.03521363,\n",
       "          0.53681385, -0.42052391, -0.02596375,  0.06582674,  0.12169604,\n",
       "          0.07528304,  0.07648554, -0.30907994],\n",
       "        [ 0.00205106,  0.31606881, -0.6262239 , -0.21417556, -0.14302547,\n",
       "          0.15447466,  0.14917061,  0.14121803, -0.17026002, -0.04962237,\n",
       "          0.30769445, -0.49869142, -0.02712539],\n",
       "        [ 0.23932041, -0.0105905 , -0.61208035,  0.06085941,  0.06610294,\n",
       "         -0.10082451,  0.28696914, -0.09168285,  0.42797018, -0.05574287,\n",
       "         -0.20044931,  0.47931378,  0.05279942],\n",
       "        [-0.14199204,  0.299634  , -0.13075693, -0.35179658,  0.72704851,\n",
       "          0.03814394, -0.3228833 , -0.05677422, -0.15636143,  0.06222011,\n",
       "         -0.27140257,  0.07128891,  0.06787022],\n",
       "        [-0.39466085,  0.06503951, -0.14617896,  0.19806835, -0.14931841,\n",
       "         -0.0841223 ,  0.02792498,  0.46390791, -0.40593409, -0.30388245,\n",
       "         -0.28603452,  0.30434119, -0.32013135],\n",
       "        [-0.4229343 , -0.00335981, -0.1506819 ,  0.15229479, -0.10902584,\n",
       "         -0.01892002,  0.06068521, -0.83225706, -0.18724536, -0.04289883,\n",
       "         -0.04957849, -0.02569409, -0.16315051],\n",
       "        [ 0.2985331 ,  0.02877949, -0.17036816, -0.20330102, -0.50070298,\n",
       "         -0.25859401, -0.59544729, -0.11403985, -0.23328465,  0.04235219,\n",
       "         -0.19550132,  0.11689586,  0.21553507],\n",
       "        [-0.31342949,  0.03930172, -0.14945431,  0.39905653,  0.13685982,\n",
       "         -0.53379539, -0.37213935,  0.11691707,  0.36822675, -0.09555303,\n",
       "          0.20914487, -0.23736257,  0.1341839 ],\n",
       "        [ 0.0886167 ,  0.52999567,  0.13730621,  0.06592568, -0.07643678,\n",
       "         -0.41864414,  0.22771214,  0.0119928 , -0.03379692,  0.60422163,\n",
       "         -0.05621752,  0.0318388 , -0.29077518],\n",
       "        [-0.29671456, -0.27923515, -0.08522192, -0.42777141, -0.17361452,\n",
       "          0.10598274, -0.23207564,  0.08988884,  0.43662362,  0.259214  ,\n",
       "         -0.08582839, -0.04821201, -0.52239889],\n",
       "        [-0.37616741, -0.16449619, -0.16600459,  0.18412074, -0.10116099,\n",
       "          0.26585107,  0.0447637 ,  0.15671813, -0.07810789,  0.60095872,\n",
       "         -0.1372269 ,  0.0464233 ,  0.52370587],\n",
       "        [-0.28675223,  0.36490283,  0.12674592, -0.23207086, -0.1578688 ,\n",
       "          0.11972557, -0.0768045 , -0.01444734,  0.12002267, -0.07940162,\n",
       "          0.57578611,  0.53926983,  0.162116  ]]))"
      ]
     },
     "execution_count": 27,
     "metadata": {},
     "output_type": "execute_result"
    }
   ],
   "source": [
    "eigen_values_using_transposed_numpy,eigen_vectors_using_transposed_numpy"
   ]
  },
  {
   "cell_type": "code",
   "execution_count": 28,
   "metadata": {},
   "outputs": [
    {
     "name": "stdout",
     "output_type": "stream",
     "text": [
      "(13, 13) (13,) (178, 178)\n"
     ]
    }
   ],
   "source": [
    "## in most cases though we can perform a singular value decomposition to get the covariance matrix and eigen values \n",
    "## and vectors at one go\n",
    "\n",
    "u , s , v = np.linalg.svd(x_std.T)\n",
    "\n",
    "print(u.shape, s.shape, v.shape, )  ## u is the eigen vector"
   ]
  },
  {
   "cell_type": "markdown",
   "metadata": {},
   "source": [
    "<br>\n",
    "\n",
    "<b>LETS PLOT THE VARIANCE PLOT TO CHECK ELBOW POINT</b>"
   ]
  },
  {
   "cell_type": "code",
   "execution_count": 35,
   "metadata": {},
   "outputs": [],
   "source": [
    "\n",
    "def plot_variance_scree_plot(variance, cumulative_variance, title = 'Principal Component vs Explained Ratio'):\n",
    "    with plot.style.context('seaborn-whitegrid'):\n",
    "        plot.figure(figsize=(10, 5))\n",
    "\n",
    "        plot.bar(range(1,14), variance, alpha=0.8, align='center',\n",
    "                label='individual explained variance', color = 'teal') ## since there are 13 dimenison\n",
    "        plot.step(range(1,14), cumulative_variance, where='mid',\n",
    "                 label='cumulative explained variance', color ='red')\n",
    "        plot.plot(variance, color = 'black', label='scree')\n",
    "        plot.ylabel('Explained variance ratio')\n",
    "        plot.xlabel('Principal components')\n",
    "        plot.legend(loc='best')\n",
    "        plot.tight_layout()\n",
    "        plot.title(title)\n",
    "        plot.show()"
   ]
  },
  {
   "cell_type": "code",
   "execution_count": 36,
   "metadata": {},
   "outputs": [
    {
     "data": {
      "image/png": "[encoded data removed]",
      "text/plain": [
       "<Figure size 720x360 with 1 Axes>"
      ]
     },
     "metadata": {},
     "output_type": "display_data"
    }
   ],
   "source": [
    "tot = sum(eigen_values_using_transposed_numpy)\n",
    "var_exp = [(i / tot)*100 for i in sorted(eigen_values_using_transposed_numpy, reverse=True)]\n",
    "cum_var_exp = np.cumsum(var_exp)\n",
    "\n",
    "\n",
    "plot_variance_scree_plot(var_exp,cum_var_exp, title = 'Finding elbow point of Principal Components on Eigen Values calculated via numpy')"
   ]
  },
  {
   "cell_type": "code",
   "execution_count": null,
   "metadata": {},
   "outputs": [],
   "source": [
    "tot = sum(eigen_values_using_manual_matrix)\n",
    "var_exp = [(i / tot)*100 for i in sorted(eigen_values_using_manual_matrix, reverse=True)]\n",
    "cum_var_exp = np.cumsum(var_exp)\n",
    "\n",
    "\n",
    "plot_variance_scree_plot(var_exp,cum_var_exp, title = 'Finding elbow point of Principal Components on Eigen Values \\\n",
    "        calculated via manual matrix')"
   ]
  },
  {
   "cell_type": "code",
   "execution_count": null,
   "metadata": {},
   "outputs": [],
   "source": [
    "tot = sum(eigen_values_using_transposed_matrix)\n",
    "var_exp = [(i / tot)*100 for i in sorted(eigen_values_using_transposed_matrix, reverse=True)]\n",
    "cum_var_exp = np.cumsum(var_exp)\n",
    "\n",
    "\n",
    "plot_variance_scree_plot(var_exp,cum_var_exp, title = 'Finding elbow point of Principal Components on Eigen Values calculated via numpy')"
   ]
  },
  {
   "cell_type": "markdown",
   "metadata": {},
   "source": [
    "#### IN ALL CASES, WE CAN SEE THAT THE ELBOW POINT IS AROUND PC3. AND THE FIRST PRINCIPAL COMPONENT ITSELF ACCOUNTS FOR NEARLY 40% VARIANCE"
   ]
  },
  {
   "cell_type": "markdown",
   "metadata": {},
   "source": [
    "<br>\n",
    "\n",
    "<b>LETS CREATE THE PCA TRANSFORMED FEATURE SET FROM THE EIGEN VECTORS AND VALUES</b>"
   ]
  },
  {
   "cell_type": "code",
   "execution_count": null,
   "metadata": {},
   "outputs": [],
   "source": [
    "\n",
    "eigen_values = eigen_values_using_transposed_numpy\n",
    "eigen_vectors = eigen_vectors_using_transposed_numpy\n",
    "\n",
    "## rememeber ith eigen value is the magnitude of the correspondnig ith column eigen vector\n",
    "eigen_pairs = [(eigen_values[i], eigen_vectors[:,i]) for i in range(len(eigen_values))]\n",
    "\n",
    "eigen_pairs_sorted = sorted(eigen_pairs, key = lambda x: x[0], reverse = True)\n",
    "\n",
    "\n",
    "print(len(eigen_pairs_sorted)) # eigen pair will be  a 13 length list, with each element being a tuple of (1 value , 13 values)\n"
   ]
  },
  {
   "cell_type": "markdown",
   "metadata": {},
   "source": [
    "lets create the principal components matrix, taking top K values. in our example, we will take k = 2. <br>\n",
    "To be honest, we are taking k = 2, so that we can draw the components in a graph. even though in our variance \n",
    "plot, we can see elbow point is post 3, ie. top 3 components contribute to the highest variance\n",
    "\n",
    "\n",
    "remember our princinpal components are the eigen vectors, the eigen pairs are essentially eigen vectors sorted based \n",
    "on higher to lower eigen values. <br> So eigen_pairs_sorted at index 1 is the principal component. \n",
    "<br>We will create a matrix\n",
    "out of the top 2 using np.hstack. why hstack? bcoz are eigen vectors are the columns."
   ]
  },
  {
   "cell_type": "code",
   "execution_count": null,
   "metadata": {},
   "outputs": [],
   "source": [
    "\n",
    "projection_matrix = np.hstack(\n",
    "                        (eigen_pairs_sorted[0][1][:, np.newaxis], #we give 2d dimension to a 1d list eigen_pairs_sorted[0][1]\n",
    "                        eigen_pairs_sorted[1][1][:, np.newaxis])                        \n",
    "                    )\n",
    "\n",
    "projection_matrix.shape"
   ]
  },
  {
   "cell_type": "markdown",
   "metadata": {},
   "source": [
    "Now that we have our projection matrix, in order to transform our standardized original feature set x_std\n",
    "onto the PCA subspace, <br>we have to do <b>X_PCA = X.dot(projection_matrix).</b>\n",
    "\n",
    "\n",
    "<b> Lets pause a while and think about the dimensions</b>\n",
    "\n",
    "1. our original feature set x was of the dimensions 178 * 13 . So 13 columns of data across 178 rows\n",
    "\n",
    "\n",
    "2. Since our number of independent variables or number of features or number of dimensions was 13, we will get a 13 * 13 matrix denoting the eigen vectors.\n",
    "\n",
    "\n",
    "3. Out of the 13 \\* 13  eigen vector matrix , we select top K most. This creates a projection matrix of 13 * K. Remember in our case, K = 2\n",
    "\n",
    "\n",
    "4. We now perform a dot product of the original 178 \\* 13 matrix , with the 13 \\* K projection matrix. Our result will be a 178 \\* K matrix.\n",
    "\n",
    "<b>And voilaaa!! All is well in the world, we have kept the original number of data and reduced the number of features as well\n",
    "\n"
   ]
  },
  {
   "cell_type": "code",
   "execution_count": null,
   "metadata": {},
   "outputs": [],
   "source": [
    "x_pca = x_std.dot(projection_matrix)\n",
    "\n",
    "x_pca.shape"
   ]
  },
  {
   "cell_type": "markdown",
   "metadata": {},
   "source": [
    "Now that we have 2 dimensions, we can visualize our data set in a 2D graph"
   ]
  },
  {
   "cell_type": "code",
   "execution_count": null,
   "metadata": {},
   "outputs": [],
   "source": [
    "colors = ['red', 'blue' , 'green']\n",
    "markers = ['*', 'o', 's'] # s for square\n",
    "\n",
    "##essentially wine type 0,1,2 will be represented using a star, dot and square box in red blue and green colors respectively\n",
    "\n",
    "wine_types = np.unique(y)\n",
    "\n",
    "plot.figure(figsize = (10,5))\n",
    "\n",
    "for wine_type, color, marker in zip(wine_types, colors, markers):\n",
    "    \n",
    "    plot.scatter(\n",
    "    \n",
    "                x_pca[y==wine_type, 0], ##y==winetype 0/1/2 gives row numbers which are for that wine type\n",
    "                x_pca[y==wine_type, 1],\n",
    "                c = color,\n",
    "                label = wine_type,\n",
    "                marker = marker\n",
    "        \n",
    "                )\n",
    "\n",
    "# plot.figure(figsize = (10,5))\n",
    "plot.title('Principal Components Visualized')\n",
    "plot.xlabel('PC1')\n",
    "plot.ylabel('PC2')\n",
    "plot.legend(loc='best')\n",
    "\n",
    "plot.show()\n",
    "\n"
   ]
  },
  {
   "cell_type": "markdown",
   "metadata": {},
   "source": [
    "<br>\n",
    "\n",
    "<b>LETS CREATE THE PCA FOR WINE DATASET AND RE-EVALUATE</b>"
   ]
  },
  {
   "cell_type": "code",
   "execution_count": null,
   "metadata": {},
   "outputs": [],
   "source": [
    "X, y = load_wine(return_X_y = True)\n",
    "\n",
    "x_train, x_test, y_train, y_test = train_test_split(X,y, stratify=y)\n",
    "\n",
    "scaler = StandardScaler()\n",
    "x_train_std = StandardScaler().fit_transform(x_train)\n",
    "x_test_std = StandardScaler().fit_transform(x_test)"
   ]
  },
  {
   "cell_type": "code",
   "execution_count": null,
   "metadata": {},
   "outputs": [],
   "source": [
    "def create_pca_transformed(x):\n",
    "    '''\n",
    "    \n",
    "    this method will take the matrix x and project it onto a PCA transformed sub space \n",
    "    it will always return a 2D pca matrix\n",
    "    \n",
    "    remember: we can very well simply use sklearn.decomposition.PCA class\n",
    "    however this is for our own learning more than anything\n",
    "    \n",
    "    '''\n",
    "    \n",
    "    covariance_matrix = np.cov(x.T)\n",
    "    eigen_values, eigen_vectors = np.linalg.eig(covariance_matrix)\n",
    "    \n",
    "    eigen_pairs = [\n",
    "        \n",
    "                    (np.abs(eigen_values[i]), eigen_vectors[:,i]) for i in range(len(eigen_values))\n",
    "                ]\n",
    "    \n",
    "    eigen_pairs_sorted = sorted(eigen_pairs, key = lambda x: x[0], reverse = True)\n",
    "    \n",
    "    projection_matrix = np.hstack(\n",
    "                                (\n",
    "                                eigen_pairs_sorted[0][1][:, np.newaxis],\n",
    "                                eigen_pairs_sorted[1][1][:, np.newaxis]\n",
    "                                )\n",
    "                        )\n",
    "    \n",
    "    return projection_matrix\n",
    "#     pca_transformed = x.dot(projection_matrix)\n",
    "    \n",
    "#     return pca_transformed * -1\n",
    "    \n",
    "    \n",
    "    \n",
    "    "
   ]
  },
  {
   "cell_type": "code",
   "execution_count": null,
   "metadata": {},
   "outputs": [],
   "source": [
    "projection_matrix = create_pca_transformed(x_train_std)\n",
    "x_train_pca = x_train_std.dot(projection_matrix)\n",
    "x_test_pca = x_test_std.dot(projection_matrix)"
   ]
  },
  {
   "cell_type": "code",
   "execution_count": null,
   "metadata": {},
   "outputs": [],
   "source": [
    "x_train_pca.shape, x_test_pca.shape"
   ]
  },
  {
   "cell_type": "code",
   "execution_count": null,
   "metadata": {},
   "outputs": [],
   "source": [
    "from sklearn.decomposition import PCA\n",
    "\n",
    "pca = PCA(n_components = 2)\n",
    "x_train_pca1 = pca.fit_transform(x_train_std)\n",
    "x_test_pca1 = pca.transform(x_test_std)"
   ]
  },
  {
   "cell_type": "code",
   "execution_count": null,
   "metadata": {},
   "outputs": [],
   "source": [
    "classifier = Perceptron(max_iter = 50)"
   ]
  },
  {
   "cell_type": "code",
   "execution_count": null,
   "metadata": {},
   "outputs": [],
   "source": [
    "classifier.fit(x_train_pca,y_train)"
   ]
  },
  {
   "cell_type": "code",
   "execution_count": null,
   "metadata": {},
   "outputs": [],
   "source": [
    "y_predictions = classifier.predict(x_test_pca)"
   ]
  },
  {
   "cell_type": "code",
   "execution_count": null,
   "metadata": {},
   "outputs": [],
   "source": [
    "accuracy_score(y_test, y_predictions)"
   ]
  },
  {
   "cell_type": "code",
   "execution_count": null,
   "metadata": {},
   "outputs": [],
   "source": [
    "##just for comparison sake, lets compare the accuracy when we get the sklearn PCA lib\n",
    "## we wll see that we get the same score\n",
    "clf = Perceptron(max_iter = 50)\n",
    "clf.fit(x_train_pca1,y_train)\n",
    "accuracy_score(y_test, clf.predict(x_test_pca1))"
   ]
  },
  {
   "cell_type": "code",
   "execution_count": null,
   "metadata": {},
   "outputs": [],
   "source": [
    "panda.crosstab(\n",
    "\n",
    "    panda.Series(y_predictions, name = 'Predictions'),\n",
    "    panda.Series(y_test, name = 'Actual'),\n",
    "    margins = True\n",
    "\n",
    ")\n",
    "\n",
    "## we can see below that the model has misclassified 5 wines type out of 18 wines for type 1 wine\n",
    "## it has also misclassified 6 out of 12 wines for type 2 wine"
   ]
  },
  {
   "cell_type": "code",
   "execution_count": null,
   "metadata": {},
   "outputs": [],
   "source": [
    "\n",
    "plot.figure(figsize= (10,5))\n",
    "sns.barplot(x=np.unique(y_test),y=np.bincount(y_test), color='grey', label='Actual Wine Type')\n",
    "sns.barplot(x=np.unique(y_predictions),y=np.bincount(y_predictions), color='pink', alpha=0.8, label='Predicted Wine Types')\n",
    "plot.legend(loc = 'best')\n",
    "plot.title('Actual vs Predicted Classes')\n",
    "plot.show()"
   ]
  },
  {
   "cell_type": "markdown",
   "metadata": {},
   "source": [
    "#### LA VOILA!!! Our accuracy has jumped to 95% from 71%"
   ]
  },
  {
   "cell_type": "code",
   "execution_count": null,
   "metadata": {},
   "outputs": [],
   "source": [
    "\n",
    "from matplotlib.colors import ListedColormap\n",
    "\n",
    "def plot_decision_region(X,y,classifier, resolution = 0.2):\n",
    "    \n",
    "    \n",
    "    markers = ['*', 'o', 's']\n",
    "    colors = ['red', 'blue', 'green']\n",
    "    cmap = ListedColormap(colors[:len(np.unique(y))])\n",
    "    \n",
    "    \n",
    "    # Plotting decision regions\n",
    "    x_min, x_max = X[:, 0].min() - 1, X[:, 0].max() + 1\n",
    "    y_min, y_max = X[:, 1].min() - 1, X[:, 1].max() + 1\n",
    "    \n",
    "    xx, yy = np.meshgrid(np.arange(x_min, x_max, 0.1),\n",
    "                         np.arange(y_min, y_max, 0.1))\n",
    "\n",
    "    Z = classifier.predict(np.array([xx.ravel(), yy.ravel()]).T)\n",
    "    \n",
    "    Z = Z.reshape(xx.shape)\n",
    "    \n",
    "    plot.figure(figsize = (10,5))\n",
    "    \n",
    "    plot.contourf(xx,yy,Z, alpha = 0.4, cmap = cmap)\n",
    "\n",
    "    plot.xlim(xx.min(), xx.max())\n",
    "    plot.ylim(yy.min(), yy.max())\n",
    "    \n",
    "    for idx, cl in enumerate(np.unique(y)):\n",
    "        \n",
    "        plot.scatter(\n",
    "        \n",
    "                    x = X[y == cl, 0],\n",
    "                    y = X[y == cl, 1],\n",
    "                    alpha = 0.3,\n",
    "                    c = cmap(idx),\n",
    "                    edgecolor = 'black',\n",
    "                    marker = markers[idx],\n",
    "                    label = cl\n",
    "            )\n",
    "        \n",
    "    plot.xlabel('PC1')\n",
    "    plot.ylabel('PC2')\n",
    "    plot.legend(loc = 'best')\n",
    "    plot.title('Decision Boundary Regions')\n",
    "    plot.show()"
   ]
  },
  {
   "cell_type": "code",
   "execution_count": null,
   "metadata": {},
   "outputs": [],
   "source": [
    "plot_decision_region(x_test_pca,y_test,classifier =  classifier, resolution = 0.2)"
   ]
  }
 ],
 "metadata": {
  "kernelspec": {
   "display_name": "Python 3",
   "language": "python",
   "name": "python3"
  },
  "language_info": {
   "codemirror_mode": {
    "name": "ipython",
    "version": 3
   },
   "file_extension": ".py",
   "mimetype": "text/x-python",
   "name": "python",
   "nbconvert_exporter": "python",
   "pygments_lexer": "ipython3",
   "version": "3.6.5"
  }
 },
 "nbformat": 4,
 "nbformat_minor": 2
}
