{
 "cells": [
  {
   "cell_type": "markdown",
   "metadata": {},
   "source": [
    "We are looking for card ids:\n",
    "    \n",
    "    1. present in historical transaction\n",
    "    \n",
    "    2. present in new transaction\n",
    "    \n",
    "    3. has NO corresponding merchant information\n",
    "\n"
   ]
  },
  {
   "cell_type": "code",
   "execution_count": 2,
   "metadata": {},
   "outputs": [],
   "source": [
    "import pandas as panda\n",
    "import numpy as np\n",
    "from collections import Counter"
   ]
  },
  {
   "cell_type": "code",
   "execution_count": 3,
   "metadata": {},
   "outputs": [],
   "source": [
    "train_data = panda.read_csv('train_2.csv')\n",
    "historical_data_with_merchant = panda.read_csv('hist_without_merchant_aggregated.csv')\n",
    "new_data_with_merchant = panda.read_csv('new_without_merchant_aggregated.csv')\n",
    "# hist_data_agg = panda.read_csv('hist_with_merchant_aggregated.csv')\n",
    "# merchant_data = panda.read_csv('merchants_2.csv')"
   ]
  },
  {
   "cell_type": "code",
   "execution_count": 4,
   "metadata": {
    "scrolled": true
   },
   "outputs": [
    {
     "data": {
      "text/plain": [
       "((201917, 9), (69254, 23), (26196, 23))"
      ]
     },
     "execution_count": 4,
     "metadata": {},
     "output_type": "execute_result"
    }
   ],
   "source": [
    "train_data.shape, historical_data_with_merchant.shape, new_data_with_merchant.shape"
   ]
  },
  {
   "cell_type": "code",
   "execution_count": 5,
   "metadata": {},
   "outputs": [],
   "source": [
    "train_card_ids = set(train_data.card_id.values.tolist())\n",
    "hist_card_ids = set(historical_data_with_merchant.card_id.values.tolist())\n",
    "new_card_ids = set(new_data_with_merchant.card_id.values.tolist())"
   ]
  },
  {
   "cell_type": "code",
   "execution_count": 6,
   "metadata": {},
   "outputs": [
    {
     "data": {
      "text/plain": [
       "('Number of unique train card id',\n",
       " 201917,\n",
       " 'Number of unique hist card id',\n",
       " 69254,\n",
       " 'Number of unique new card id',\n",
       " 26196)"
      ]
     },
     "execution_count": 6,
     "metadata": {},
     "output_type": "execute_result"
    }
   ],
   "source": [
    "'Number of unique train card id', len(train_card_ids), \\\n",
    "'Number of unique hist card id', len(hist_card_ids), \\\n",
    "'Number of unique new card id', len(new_card_ids), \\\n"
   ]
  },
  {
   "cell_type": "code",
   "execution_count": 7,
   "metadata": {},
   "outputs": [
    {
     "data": {
      "text/plain": [
       "0"
      ]
     },
     "execution_count": 7,
     "metadata": {},
     "output_type": "execute_result"
    }
   ],
   "source": [
    "train_card_ids_with_new = train_card_ids.intersection(new_card_ids)\n",
    "len(train_card_ids_with_new.intersection(hist_card_ids))"
   ]
  },
  {
   "cell_type": "code",
   "execution_count": 8,
   "metadata": {},
   "outputs": [
    {
     "data": {
      "text/plain": [
       "0"
      ]
     },
     "execution_count": 8,
     "metadata": {},
     "output_type": "execute_result"
    }
   ],
   "source": [
    "train_card_ids_with_new = train_card_ids.intersection(hist_card_ids)\n",
    "len(train_card_ids_with_new.intersection(new_card_ids))"
   ]
  },
  {
   "cell_type": "code",
   "execution_count": 9,
   "metadata": {},
   "outputs": [],
   "source": [
    "test_data = panda.read_csv('test_2.csv')"
   ]
  },
  {
   "cell_type": "code",
   "execution_count": 10,
   "metadata": {},
   "outputs": [],
   "source": [
    "test_card_ids = set(test_data.card_id.values.tolist())"
   ]
  },
  {
   "cell_type": "code",
   "execution_count": 11,
   "metadata": {},
   "outputs": [
    {
     "data": {
      "text/plain": [
       "('Number of unique train card id',\n",
       " 123623,\n",
       " 'Number of unique hist card id',\n",
       " 69254,\n",
       " 'Number of unique new card id',\n",
       " 26196)"
      ]
     },
     "execution_count": 11,
     "metadata": {},
     "output_type": "execute_result"
    }
   ],
   "source": [
    "'Number of unique train card id', len(test_card_ids), \\\n",
    "'Number of unique hist card id', len(hist_card_ids), \\\n",
    "'Number of unique new card id', len(new_card_ids), \\\n"
   ]
  },
  {
   "cell_type": "code",
   "execution_count": 12,
   "metadata": {},
   "outputs": [
    {
     "data": {
      "text/plain": [
       "0"
      ]
     },
     "execution_count": 12,
     "metadata": {},
     "output_type": "execute_result"
    }
   ],
   "source": [
    "test_card_ids_with_new = test_card_ids.intersection(new_card_ids)\n",
    "len(test_card_ids_with_new.intersection(hist_card_ids))"
   ]
  },
  {
   "cell_type": "code",
   "execution_count": 14,
   "metadata": {},
   "outputs": [
    {
     "data": {
      "text/plain": [
       "0"
      ]
     },
     "execution_count": 14,
     "metadata": {},
     "output_type": "execute_result"
    }
   ],
   "source": [
    "test_card_ids_with_new = test_card_ids.intersection(hist_card_ids)\n",
    "len(test_card_ids_with_new.intersection(new_card_ids))"
   ]
  },
  {
   "cell_type": "code",
   "execution_count": null,
   "metadata": {},
   "outputs": [],
   "source": []
  }
 ],
 "metadata": {
  "kernelspec": {
   "display_name": "Python 3",
   "language": "python",
   "name": "python3"
  },
  "language_info": {
   "codemirror_mode": {
    "name": "ipython",
    "version": 3
   },
   "file_extension": ".py",
   "mimetype": "text/x-python",
   "name": "python",
   "nbconvert_exporter": "python",
   "pygments_lexer": "ipython3",
   "version": "3.6.5"
  }
 },
 "nbformat": 4,
 "nbformat_minor": 2
}
