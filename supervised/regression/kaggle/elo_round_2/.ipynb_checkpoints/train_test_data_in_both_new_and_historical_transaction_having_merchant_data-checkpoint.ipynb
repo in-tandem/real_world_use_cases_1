{
 "cells": [
  {
   "cell_type": "markdown",
   "metadata": {},
   "source": [
    "We are looking for card ids:\n",
    "    \n",
    "    1. present in historical transaction\n",
    "    \n",
    "    2. present in new transaction\n",
    "    \n",
    "    3. also has corresponding merchant information\n",
    "\n"
   ]
  },
  {
   "cell_type": "code",
   "execution_count": 1,
   "metadata": {},
   "outputs": [],
   "source": [
    "import pandas as panda\n",
    "import numpy as np\n",
    "from collections import Counter"
   ]
  },
  {
   "cell_type": "code",
   "execution_count": 49,
   "metadata": {},
   "outputs": [],
   "source": [
    "train_data = panda.read_csv('train_2.csv')\n",
    "historical_data_with_merchant = panda.read_csv('hist_joined_with_merchants_data.csv')\n",
    "new_data_with_merchant = panda.read_csv('new_with_merchant_aggregated.csv')\n",
    "hist_data_agg = panda.read_csv('hist_with_merchant_aggregated.csv')\n",
    "merchant_data = panda.read_csv('merchants_2.csv')"
   ]
  },
  {
   "cell_type": "code",
   "execution_count": 51,
   "metadata": {},
   "outputs": [
    {
     "data": {
      "text/plain": [
       "((325540, 32), (325540,), (334696, 34), (334633,))"
      ]
     },
     "execution_count": 51,
     "metadata": {},
     "output_type": "execute_result"
    }
   ],
   "source": [
    "hist_data_agg.shape, hist_data_agg.card_id.unique().shape,merchant_data.shape, merchant_data.merchant_id.unique().shape,"
   ]
  },
  {
   "cell_type": "code",
   "execution_count": 56,
   "metadata": {},
   "outputs": [
    {
     "data": {
      "text/plain": [
       "(dtype('O'), dtype('O'))"
      ]
     },
     "execution_count": 56,
     "metadata": {},
     "output_type": "execute_result"
    }
   ],
   "source": [
    "hist_data_agg.merchant_id.dtypes, merchant_data.merchant_id.dtypes"
   ]
  },
  {
   "cell_type": "code",
   "execution_count": 57,
   "metadata": {},
   "outputs": [
    {
     "name": "stdout",
     "output_type": "stream",
     "text": [
      "before drop: (325540, 66)\n",
      "after drop: (325540, 66) (325540,)\n"
     ]
    }
   ],
   "source": [
    "# result = panda.merge(hist_data_agg, merchant_data, on='merchant_id', how='inner')\n",
    "# result = hist_data_agg.join(merchant_data, how='left', on='merchant_id')\n",
    "result = panda.concat([hist_data_agg, merchant_data], axis=1, join ='inner')\n",
    "print('before drop:', result.shape)\n",
    "result.dropna(inplace=True)\n",
    "print('after drop:', result.shape, result.card_id.unique().shape)\n"
   ]
  },
  {
   "cell_type": "code",
   "execution_count": 58,
   "metadata": {},
   "outputs": [
    {
     "data": {
      "text/plain": [
       "((347585, 65), (325540,), (325540, 66), (325540,))"
      ]
     },
     "execution_count": 58,
     "metadata": {},
     "output_type": "execute_result"
    }
   ],
   "source": [
    "historical_data_with_merchant.shape,historical_data_with_merchant.card_id.unique().shape, result.shape, result.card_id.unique().shape\n"
   ]
  },
  {
   "cell_type": "code",
   "execution_count": null,
   "metadata": {},
   "outputs": [],
   "source": []
  },
  {
   "cell_type": "code",
   "execution_count": 27,
   "metadata": {
    "scrolled": true
   },
   "outputs": [
    {
     "data": {
      "text/plain": [
       "((201917, 9), (347585, 65), (289057, 32))"
      ]
     },
     "execution_count": 27,
     "metadata": {},
     "output_type": "execute_result"
    }
   ],
   "source": [
    "train_data.shape, historical_data_with_merchant.shape, new_data_with_merchant.shape"
   ]
  },
  {
   "cell_type": "code",
   "execution_count": 28,
   "metadata": {},
   "outputs": [],
   "source": [
    "train_card_ids = set(train_data.card_id.values.tolist())\n",
    "hist_card_ids = set(historical_data_with_merchant.card_id.values.tolist())\n",
    "new_card_ids = set(new_data_with_merchant.card_id.values.tolist())"
   ]
  },
  {
   "cell_type": "code",
   "execution_count": 29,
   "metadata": {},
   "outputs": [
    {
     "data": {
      "text/plain": [
       "('Number of unique train card id',\n",
       " 201917,\n",
       " 'Number of unique hist card id',\n",
       " 325540,\n",
       " 'Number of unique new card id',\n",
       " 289057)"
      ]
     },
     "execution_count": 29,
     "metadata": {},
     "output_type": "execute_result"
    }
   ],
   "source": [
    "'Number of unique train card id', len(train_card_ids), \\\n",
    "'Number of unique hist card id', len(hist_card_ids), \\\n",
    "'Number of unique new card id', len(new_card_ids), \\\n"
   ]
  },
  {
   "cell_type": "code",
   "execution_count": 33,
   "metadata": {},
   "outputs": [
    {
     "data": {
      "text/plain": [
       "179400"
      ]
     },
     "execution_count": 33,
     "metadata": {},
     "output_type": "execute_result"
    }
   ],
   "source": [
    "train_card_ids_with_new = train_card_ids.intersection(new_card_ids)\n",
    "len(train_card_ids_with_new.intersection(hist_card_ids))"
   ]
  },
  {
   "cell_type": "code",
   "execution_count": 34,
   "metadata": {},
   "outputs": [
    {
     "data": {
      "text/plain": [
       "179400"
      ]
     },
     "execution_count": 34,
     "metadata": {},
     "output_type": "execute_result"
    }
   ],
   "source": [
    "train_card_ids_with_new = train_card_ids.intersection(hist_card_ids)\n",
    "len(train_card_ids_with_new.intersection(new_card_ids))"
   ]
  },
  {
   "cell_type": "code",
   "execution_count": 46,
   "metadata": {},
   "outputs": [
    {
     "data": {
      "text/plain": [
       "(201917, 179400)"
      ]
     },
     "execution_count": 46,
     "metadata": {},
     "output_type": "execute_result"
    }
   ],
   "source": [
    "len(train_card_ids.intersection(hist_card_ids)),len(train_card_ids.intersection(new_card_ids))"
   ]
  },
  {
   "cell_type": "code",
   "execution_count": 48,
   "metadata": {},
   "outputs": [
    {
     "data": {
      "text/plain": [
       "((347585, 65), (325540,))"
      ]
     },
     "execution_count": 48,
     "metadata": {},
     "output_type": "execute_result"
    }
   ],
   "source": [
    "historical_data_with_merchant.shape, historical_data_with_merchant.card_id.unique().shape"
   ]
  },
  {
   "cell_type": "code",
   "execution_count": 59,
   "metadata": {},
   "outputs": [
    {
     "name": "stdout",
     "output_type": "stream",
     "text": [
      "before dropping: (201917, 74)\n",
      "after dropping: (201917, 74) 201917\n"
     ]
    }
   ],
   "source": [
    "temp = panda.merge(train_data, result, on ='card_id', how='left')\n",
    "print('before dropping:',temp.shape)\n",
    "temp.dropna(inplace = True)\n",
    "print('after dropping:',temp.shape, len(set(temp.card_id.values.tolist())))"
   ]
  },
  {
   "cell_type": "code",
   "execution_count": null,
   "metadata": {},
   "outputs": [],
   "source": []
  },
  {
   "cell_type": "code",
   "execution_count": 12,
   "metadata": {},
   "outputs": [],
   "source": [
    "del new_data_with_merchant"
   ]
  },
  {
   "cell_type": "code",
   "execution_count": 36,
   "metadata": {},
   "outputs": [
    {
     "data": {
      "text/plain": [
       "179400"
      ]
     },
     "execution_count": 36,
     "metadata": {},
     "output_type": "execute_result"
    }
   ],
   "source": [
    "set(temp.card_id.values.tolist()).intersection(set(new_data_with_merchant.card_id.values.tolist())).__len__()"
   ]
  },
  {
   "cell_type": "code",
   "execution_count": 60,
   "metadata": {},
   "outputs": [
    {
     "name": "stdout",
     "output_type": "stream",
     "text": [
      "before dropping: (201917, 105)\n",
      "after dropping: (179400, 105)\n"
     ]
    }
   ],
   "source": [
    "temp_1 = panda.merge(temp, new_data_with_merchant, on ='card_id', how='left')\n",
    "print('before dropping:',temp_1.shape)\n",
    "temp_1.dropna(inplace = True)\n",
    "print('after dropping:',temp_1.shape)"
   ]
  },
  {
   "cell_type": "code",
   "execution_count": 61,
   "metadata": {},
   "outputs": [
    {
     "data": {
      "text/plain": [
       "0"
      ]
     },
     "execution_count": 61,
     "metadata": {},
     "output_type": "execute_result"
    }
   ],
   "source": [
    "temp_1.isnull().any().sum()"
   ]
  },
  {
   "cell_type": "code",
   "execution_count": 62,
   "metadata": {},
   "outputs": [
    {
     "data": {
      "text/plain": [
       "((179400,), (179400, 105))"
      ]
     },
     "execution_count": 62,
     "metadata": {},
     "output_type": "execute_result"
    }
   ],
   "source": [
    "temp_1.card_id.unique().shape, temp_1.shape"
   ]
  },
  {
   "cell_type": "code",
   "execution_count": 63,
   "metadata": {},
   "outputs": [],
   "source": [
    "temp_1.to_csv('train_with_hist_new_with_merchant.csv', index = False)"
   ]
  },
  {
   "cell_type": "code",
   "execution_count": 64,
   "metadata": {},
   "outputs": [],
   "source": [
    "test_data = panda.read_csv('test_2.csv')"
   ]
  },
  {
   "cell_type": "code",
   "execution_count": 65,
   "metadata": {},
   "outputs": [
    {
     "data": {
      "text/plain": [
       "((123623, 8), (123623,))"
      ]
     },
     "execution_count": 65,
     "metadata": {},
     "output_type": "execute_result"
    }
   ],
   "source": [
    "test_data.shape, test_data.card_id.unique().shape"
   ]
  },
  {
   "cell_type": "code",
   "execution_count": 68,
   "metadata": {},
   "outputs": [
    {
     "data": {
      "text/plain": [
       "(123623, 109657)"
      ]
     },
     "execution_count": 68,
     "metadata": {},
     "output_type": "execute_result"
    }
   ],
   "source": [
    "len(set(test_data.card_id.values.tolist()).intersection(set(result.card_id.values.tolist()))), \\\n",
    "len(set(test_data.card_id.values.tolist()).intersection(set(new_data_with_merchant.card_id.values.tolist())))"
   ]
  },
  {
   "cell_type": "code",
   "execution_count": 69,
   "metadata": {},
   "outputs": [
    {
     "name": "stdout",
     "output_type": "stream",
     "text": [
      "before dropping: (123623, 73)\n",
      "after dropping: (123623, 73) 123623\n"
     ]
    }
   ],
   "source": [
    "temp = panda.merge(test_data, result, on ='card_id', how='left')\n",
    "print('before dropping:',temp.shape)\n",
    "temp.dropna(inplace = True)\n",
    "print('after dropping:',temp.shape, len(set(temp.card_id.values.tolist())))"
   ]
  },
  {
   "cell_type": "code",
   "execution_count": 70,
   "metadata": {},
   "outputs": [
    {
     "name": "stdout",
     "output_type": "stream",
     "text": [
      "before dropping: (123623, 104)\n",
      "after dropping: (109657, 104)\n"
     ]
    }
   ],
   "source": [
    "temp_1 = panda.merge(temp, new_data_with_merchant, on ='card_id', how='left')\n",
    "print('before dropping:',temp_1.shape)\n",
    "temp_1.dropna(inplace = True)\n",
    "print('after dropping:',temp_1.shape)"
   ]
  },
  {
   "cell_type": "code",
   "execution_count": 71,
   "metadata": {},
   "outputs": [
    {
     "data": {
      "text/plain": [
       "0"
      ]
     },
     "execution_count": 71,
     "metadata": {},
     "output_type": "execute_result"
    }
   ],
   "source": [
    "temp_1.isnull().any().sum()"
   ]
  },
  {
   "cell_type": "code",
   "execution_count": 72,
   "metadata": {},
   "outputs": [],
   "source": [
    "temp_1.to_csv('test_with_hist_new_with_merchant.csv', index = False)"
   ]
  }
 ],
 "metadata": {
  "kernelspec": {
   "display_name": "Python 3",
   "language": "python",
   "name": "python3"
  },
  "language_info": {
   "codemirror_mode": {
    "name": "ipython",
    "version": 3
   },
   "file_extension": ".py",
   "mimetype": "text/x-python",
   "name": "python",
   "nbconvert_exporter": "python",
   "pygments_lexer": "ipython3",
   "version": "3.6.5"
  }
 },
 "nbformat": 4,
 "nbformat_minor": 2
}
