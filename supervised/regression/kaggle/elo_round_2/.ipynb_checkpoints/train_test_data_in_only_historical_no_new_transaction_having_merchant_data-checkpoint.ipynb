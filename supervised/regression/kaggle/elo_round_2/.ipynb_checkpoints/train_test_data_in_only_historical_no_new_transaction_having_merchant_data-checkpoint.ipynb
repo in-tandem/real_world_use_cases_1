{
 "cells": [
  {
   "cell_type": "markdown",
   "metadata": {},
   "source": [
    "We are looking for card ids:\n",
    "    \n",
    "    1. present in historical transaction\n",
    "    \n",
    "    2. not present in new transaction\n",
    "    \n",
    "    3. also has corresponding merchant information\n",
    "\n"
   ]
  },
  {
   "cell_type": "code",
   "execution_count": 2,
   "metadata": {},
   "outputs": [],
   "source": [
    "import pandas as panda\n",
    "import numpy as np\n",
    "from collections import Counter"
   ]
  },
  {
   "cell_type": "code",
   "execution_count": 21,
   "metadata": {},
   "outputs": [],
   "source": [
    "train_data = panda.read_csv('train_2.csv')\n",
    "historical_data_with_merchant = panda.read_csv('hist_joined_with_merchants_data.csv')\n",
    "new_data_with_merchant = panda.read_csv('new_with_merchant_aggregated.csv')\n",
    "hist_data_agg = panda.read_csv('hist_with_merchant_aggregated.csv')\n",
    "merchant_data = panda.read_csv('merchants_2.csv')"
   ]
  },
  {
   "cell_type": "code",
   "execution_count": 4,
   "metadata": {},
   "outputs": [
    {
     "data": {
      "text/plain": [
       "((325540, 32), (325540,), (334696, 34), (334633,))"
      ]
     },
     "execution_count": 4,
     "metadata": {},
     "output_type": "execute_result"
    }
   ],
   "source": [
    "hist_data_agg.shape, hist_data_agg.card_id.unique().shape,merchant_data.shape, merchant_data.merchant_id.unique().shape,"
   ]
  },
  {
   "cell_type": "code",
   "execution_count": 5,
   "metadata": {},
   "outputs": [
    {
     "name": "stdout",
     "output_type": "stream",
     "text": [
      "before drop: (325540, 66)\n",
      "after drop: (325540, 66) (325540,)\n"
     ]
    }
   ],
   "source": [
    "# result = panda.merge(hist_data_agg, merchant_data, on='merchant_id', how='inner')\n",
    "# result = hist_data_agg.join(merchant_data, how='left', on='merchant_id')\n",
    "result = panda.concat([hist_data_agg, merchant_data], axis=1, join ='inner')\n",
    "print('before drop:', result.shape)\n",
    "result.dropna(inplace=True)\n",
    "print('after drop:', result.shape, result.card_id.unique().shape)\n"
   ]
  },
  {
   "cell_type": "code",
   "execution_count": 6,
   "metadata": {},
   "outputs": [
    {
     "data": {
      "text/plain": [
       "((347585, 65), (325540,), (325540, 66), (325540,))"
      ]
     },
     "execution_count": 6,
     "metadata": {},
     "output_type": "execute_result"
    }
   ],
   "source": [
    "historical_data_with_merchant.shape,historical_data_with_merchant.card_id.unique().shape, result.shape, result.card_id.unique().shape\n"
   ]
  },
  {
   "cell_type": "code",
   "execution_count": 8,
   "metadata": {},
   "outputs": [
    {
     "data": {
      "text/plain": [
       "22517"
      ]
     },
     "execution_count": 8,
     "metadata": {},
     "output_type": "execute_result"
    }
   ],
   "source": [
    "\n",
    "train_data_card_ids = set(train_data.card_id.values.tolist())\n",
    "new_trn_data_card_ids = set(new_data_with_merchant.card_id.values.tolist())\n",
    "\n",
    "card_ids_with_no_new_transaction = [i for i in train_data_card_ids if i not in new_trn_data_card_ids]\n",
    "len(card_ids_with_no_new_transaction)"
   ]
  },
  {
   "cell_type": "code",
   "execution_count": 18,
   "metadata": {
    "scrolled": true
   },
   "outputs": [
    {
     "data": {
      "text/plain": [
       "((22517, 66), 0)"
      ]
     },
     "execution_count": 18,
     "metadata": {},
     "output_type": "execute_result"
    }
   ],
   "source": [
    "result[result.card_id.isin(card_ids_with_no_new_transaction)].shape, result.isnull().any().sum()"
   ]
  },
  {
   "cell_type": "code",
   "execution_count": 22,
   "metadata": {},
   "outputs": [],
   "source": [
    "train_data_1 = train_data[train_data.card_id.isin(card_ids_with_no_new_transaction)]"
   ]
  },
  {
   "cell_type": "code",
   "execution_count": 23,
   "metadata": {},
   "outputs": [
    {
     "data": {
      "text/plain": [
       "card_id             0\n",
       "target              0\n",
       "enc_feature_1_1     0\n",
       "enc_feature_1_2     0\n",
       "enc_feature_1_3     0\n",
       "enc_feature_1_4     0\n",
       "enc_feature_1_5     0\n",
       "months_passed       0\n",
       "first_active_day    0\n",
       "dtype: int64"
      ]
     },
     "execution_count": 23,
     "metadata": {},
     "output_type": "execute_result"
    }
   ],
   "source": [
    "train_data_1.isnull().sum()"
   ]
  },
  {
   "cell_type": "code",
   "execution_count": 24,
   "metadata": {},
   "outputs": [
    {
     "data": {
      "text/plain": [
       "((22517, 9), (22517,), (325540, 66), (325540,))"
      ]
     },
     "execution_count": 24,
     "metadata": {},
     "output_type": "execute_result"
    }
   ],
   "source": [
    "train_data_1.shape, train_data_1.card_id.unique().shape, result.shape, result.card_id.unique().shape"
   ]
  },
  {
   "cell_type": "code",
   "execution_count": 25,
   "metadata": {},
   "outputs": [
    {
     "name": "stdout",
     "output_type": "stream",
     "text": [
      "before dropping: (22517, 74)\n",
      "after dropping: (22517, 74)\n"
     ]
    }
   ],
   "source": [
    "temp = panda.merge(train_data_1, result, on='card_id', how='inner')\n",
    "print('before dropping:', temp.shape)\n",
    "temp.dropna(inplace=True)\n",
    "print('after dropping:', temp.shape)"
   ]
  },
  {
   "cell_type": "code",
   "execution_count": 47,
   "metadata": {},
   "outputs": [],
   "source": [
    "temp.to_csv('train_with_only_hist_with_merchant.csv',index=False)"
   ]
  },
  {
   "cell_type": "code",
   "execution_count": 27,
   "metadata": {},
   "outputs": [
    {
     "data": {
      "text/plain": [
       "(123623, 8)"
      ]
     },
     "execution_count": 27,
     "metadata": {},
     "output_type": "execute_result"
    }
   ],
   "source": [
    "test_data = panda.read_csv('test_2.csv')\n",
    "test_data.shape"
   ]
  },
  {
   "cell_type": "code",
   "execution_count": 28,
   "metadata": {},
   "outputs": [
    {
     "data": {
      "text/plain": [
       "13966"
      ]
     },
     "execution_count": 28,
     "metadata": {},
     "output_type": "execute_result"
    }
   ],
   "source": [
    "\n",
    "test_data_card_ids = set(test_data.card_id.values.tolist())\n",
    "new_trn_data_card_ids = set(new_data_with_merchant.card_id.values.tolist())\n",
    "\n",
    "test_card_ids_with_no_new_transaction = [i for i in test_data_card_ids if i not in new_trn_data_card_ids]\n",
    "len(test_card_ids_with_no_new_transaction)"
   ]
  },
  {
   "cell_type": "code",
   "execution_count": 29,
   "metadata": {
    "scrolled": true
   },
   "outputs": [
    {
     "data": {
      "text/plain": [
       "((13966, 66), 0)"
      ]
     },
     "execution_count": 29,
     "metadata": {},
     "output_type": "execute_result"
    }
   ],
   "source": [
    "result[result.card_id.isin(test_card_ids_with_no_new_transaction)].shape, result.isnull().any().sum()"
   ]
  },
  {
   "cell_type": "code",
   "execution_count": 30,
   "metadata": {},
   "outputs": [
    {
     "data": {
      "text/plain": [
       "((13966, 8), (13966,))"
      ]
     },
     "execution_count": 30,
     "metadata": {},
     "output_type": "execute_result"
    }
   ],
   "source": [
    "test_data_1 = test_data[test_data.card_id.isin(test_card_ids_with_no_new_transaction)]\n",
    "test_data_1.shape, test_data_1.card_id.unique().shape"
   ]
  },
  {
   "cell_type": "code",
   "execution_count": 31,
   "metadata": {},
   "outputs": [
    {
     "name": "stdout",
     "output_type": "stream",
     "text": [
      "before dropping: (13966, 73)\n",
      "after dropping: (13966, 73)\n"
     ]
    }
   ],
   "source": [
    "temp_1 = panda.merge(test_data_1, result, on='card_id', how='inner')\n",
    "print('before dropping:', temp_1.shape)\n",
    "temp_1.dropna(inplace=True)\n",
    "print('after dropping:', temp_1.shape)"
   ]
  },
  {
   "cell_type": "code",
   "execution_count": 48,
   "metadata": {},
   "outputs": [],
   "source": [
    "temp_1.to_csv('test_with_only_hist_with_merchant.csv',index=False)"
   ]
  },
  {
   "cell_type": "code",
   "execution_count": 34,
   "metadata": {},
   "outputs": [
    {
     "data": {
      "text/plain": [
       "((69254, 23), (69254,))"
      ]
     },
     "execution_count": 34,
     "metadata": {},
     "output_type": "execute_result"
    }
   ],
   "source": [
    "historical_data_no_merchant = panda.read_csv('hist_without_merchant_aggregated.csv')\n",
    "historical_data_no_merchant.shape,historical_data_no_merchant.card_id.unique().shape,"
   ]
  },
  {
   "cell_type": "code",
   "execution_count": 38,
   "metadata": {},
   "outputs": [],
   "source": [
    "train_card_id_in_history_without_merchant =set(train_data.card_id.values.tolist()).intersection(set(historical_data_no_merchant.card_id.values.tolist()))"
   ]
  },
  {
   "cell_type": "code",
   "execution_count": 39,
   "metadata": {},
   "outputs": [
    {
     "data": {
      "text/plain": [
       "42885"
      ]
     },
     "execution_count": 39,
     "metadata": {},
     "output_type": "execute_result"
    }
   ],
   "source": [
    "len(train_card_id_in_history_without_merchant)"
   ]
  },
  {
   "cell_type": "code",
   "execution_count": 42,
   "metadata": {},
   "outputs": [],
   "source": [
    "test_card_id_in_history_without_merchant =set(test_data.card_id.values.tolist()).intersection(set(historical_data_no_merchant.card_id.values.tolist()))"
   ]
  },
  {
   "cell_type": "code",
   "execution_count": 43,
   "metadata": {},
   "outputs": [
    {
     "data": {
      "text/plain": [
       "26369"
      ]
     },
     "execution_count": 43,
     "metadata": {},
     "output_type": "execute_result"
    }
   ],
   "source": [
    "len(test_card_id_in_history_without_merchant)"
   ]
  },
  {
   "cell_type": "code",
   "execution_count": 44,
   "metadata": {},
   "outputs": [
    {
     "data": {
      "text/plain": [
       "((26369, 8), (26369,))"
      ]
     },
     "execution_count": 44,
     "metadata": {},
     "output_type": "execute_result"
    }
   ],
   "source": [
    "test_data_2 = test_data[test_data.card_id.isin(test_card_id_in_history_without_merchant)]\n",
    "test_data_2.shape, test_data_2.card_id.unique().shape"
   ]
  },
  {
   "cell_type": "code",
   "execution_count": 45,
   "metadata": {},
   "outputs": [
    {
     "name": "stderr",
     "output_type": "stream",
     "text": [
      "C:\\Users\\somak\\Anaconda3\\lib\\site-packages\\ipykernel_launcher.py:1: UserWarning: Boolean Series key will be reindexed to match DataFrame index.\n",
      "  \"\"\"Entry point for launching an IPython kernel.\n"
     ]
    },
    {
     "data": {
      "text/plain": [
       "((26257, 8), (26257,))"
      ]
     },
     "execution_count": 45,
     "metadata": {},
     "output_type": "execute_result"
    }
   ],
   "source": [
    "train_data_2 = test_data[train_data.card_id.isin(train_card_id_in_history_without_merchant)]\n",
    "train_data_2.shape, train_data_2.card_id.unique().shape"
   ]
  },
  {
   "cell_type": "code",
   "execution_count": 46,
   "metadata": {},
   "outputs": [
    {
     "name": "stdout",
     "output_type": "stream",
     "text": [
      "before dropping: (26369, 73)\n",
      "after dropping: (26369, 73)\n"
     ]
    }
   ],
   "source": [
    "temp_2 = panda.merge(test_data_2, result, on='card_id', how='inner')\n",
    "print('before dropping:', temp_2.shape)\n",
    "temp_2.dropna(inplace=True)\n",
    "print('after dropping:', temp_2.shape)"
   ]
  },
  {
   "cell_type": "code",
   "execution_count": 49,
   "metadata": {},
   "outputs": [],
   "source": [
    "temp_2.to_csv('test_with_only_hist_with_no_merchant.csv',index=False)"
   ]
  },
  {
   "cell_type": "code",
   "execution_count": null,
   "metadata": {},
   "outputs": [],
   "source": []
  },
  {
   "cell_type": "code",
   "execution_count": 50,
   "metadata": {},
   "outputs": [
    {
     "name": "stdout",
     "output_type": "stream",
     "text": [
      "before dropping: (26257, 73)\n",
      "after dropping: (26257, 73)\n"
     ]
    }
   ],
   "source": [
    "temp_3 = panda.merge(train_data_2, result, on='card_id', how='inner')\n",
    "print('before dropping:', temp_3.shape)\n",
    "temp_3.dropna(inplace=True)\n",
    "print('after dropping:', temp_3.shape)"
   ]
  },
  {
   "cell_type": "code",
   "execution_count": 51,
   "metadata": {},
   "outputs": [],
   "source": [
    "temp_3.to_csv('train_with_only_hist_with_no_merchant.csv',index=False)"
   ]
  },
  {
   "cell_type": "code",
   "execution_count": null,
   "metadata": {},
   "outputs": [],
   "source": []
  }
 ],
 "metadata": {
  "kernelspec": {
   "display_name": "Python 3",
   "language": "python",
   "name": "python3"
  },
  "language_info": {
   "codemirror_mode": {
    "name": "ipython",
    "version": 3
   },
   "file_extension": ".py",
   "mimetype": "text/x-python",
   "name": "python",
   "nbconvert_exporter": "python",
   "pygments_lexer": "ipython3",
   "version": "3.6.5"
  }
 },
 "nbformat": 4,
 "nbformat_minor": 2
}
