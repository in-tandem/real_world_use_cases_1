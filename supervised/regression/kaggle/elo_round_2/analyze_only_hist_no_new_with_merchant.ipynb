{
 "cells": [
  {
   "cell_type": "code",
   "execution_count": 1,
   "metadata": {},
   "outputs": [],
   "source": [
    "from sklearn.preprocessing import RobustScaler, StandardScaler, PowerTransformer\n",
    "from sklearn.model_selection import KFold,train_test_split\n",
    "\n",
    "import time\n",
    "import lightgbm as lgb\n",
    "import pandas as panda\n",
    "import numpy as np\n",
    "import seaborn as sns\n",
    "from matplotlib import pyplot as plot\n",
    "import xgboost as xgb\n",
    "from xgboost.sklearn import XGBRegressor\n",
    "import datetime\n",
    "from sklearn.model_selection import GridSearchCV"
   ]
  },
  {
   "cell_type": "code",
   "execution_count": 10,
   "metadata": {},
   "outputs": [],
   "source": [
    "train_data = panda.read_csv('train_with_only_hist_with_merchant.csv')\n",
    "test_data = panda.read_csv('test_with_only_hist_with_merchant.csv')\n",
    "\n",
    "train_data = panda.read_csv('train_with_hist_new_with_merchant.csv')\n",
    "test_data = panda.read_csv('test_with_hist_new_with_merchant.csv')\n"
   ]
  },
  {
   "cell_type": "code",
   "execution_count": 11,
   "metadata": {},
   "outputs": [
    {
     "data": {
      "text/html": [
       "<div>\n",
       "<style scoped>\n",
       "    .dataframe tbody tr th:only-of-type {\n",
       "        vertical-align: middle;\n",
       "    }\n",
       "\n",
       "    .dataframe tbody tr th {\n",
       "        vertical-align: top;\n",
       "    }\n",
       "\n",
       "    .dataframe thead th {\n",
       "        text-align: right;\n",
       "    }\n",
       "</style>\n",
       "<table border=\"1\" class=\"dataframe\">\n",
       "  <thead>\n",
       "    <tr style=\"text-align: right;\">\n",
       "      <th></th>\n",
       "      <th>card_id</th>\n",
       "      <th>target</th>\n",
       "      <th>enc_feature_1_1</th>\n",
       "      <th>enc_feature_1_2</th>\n",
       "      <th>enc_feature_1_3</th>\n",
       "      <th>enc_feature_1_4</th>\n",
       "      <th>enc_feature_1_5</th>\n",
       "      <th>months_passed</th>\n",
       "      <th>first_active_day</th>\n",
       "      <th>old_purchase_amount_sum</th>\n",
       "      <th>...</th>\n",
       "      <th>new_authorized_flag_count_authorized_one</th>\n",
       "      <th>new_authorized_flag_count_authorized_zero</th>\n",
       "      <th>new_category_1_mean</th>\n",
       "      <th>new_category_1_count_category_1_one</th>\n",
       "      <th>new_category_1_count_category_1_zero</th>\n",
       "      <th>new_enc_purchase_date_mean</th>\n",
       "      <th>new_enc_purchase_date_min</th>\n",
       "      <th>new_enc_purchase_date_max</th>\n",
       "      <th>new_enc_purchase_date_ptp</th>\n",
       "      <th>merchant_id_y</th>\n",
       "    </tr>\n",
       "  </thead>\n",
       "  <tbody>\n",
       "    <tr>\n",
       "      <th>0</th>\n",
       "      <td>C_ID_92a2005557</td>\n",
       "      <td>-0.820283</td>\n",
       "      <td>0</td>\n",
       "      <td>0</td>\n",
       "      <td>0</td>\n",
       "      <td>0</td>\n",
       "      <td>1</td>\n",
       "      <td>19</td>\n",
       "      <td>1496275200000000000</td>\n",
       "      <td>-161.803556</td>\n",
       "      <td>...</td>\n",
       "      <td>23.0</td>\n",
       "      <td>0.0</td>\n",
       "      <td>0.0</td>\n",
       "      <td>0.0</td>\n",
       "      <td>23.0</td>\n",
       "      <td>1.522525e+09</td>\n",
       "      <td>1.520259e+09</td>\n",
       "      <td>1.525001e+09</td>\n",
       "      <td>4742309.0</td>\n",
       "      <td>M_ID_98b342c0e3</td>\n",
       "    </tr>\n",
       "  </tbody>\n",
       "</table>\n",
       "<p>1 rows × 105 columns</p>\n",
       "</div>"
      ],
      "text/plain": [
       "           card_id    target  enc_feature_1_1  enc_feature_1_2  \\\n",
       "0  C_ID_92a2005557 -0.820283                0                0   \n",
       "\n",
       "   enc_feature_1_3  enc_feature_1_4  enc_feature_1_5  months_passed  \\\n",
       "0                0                0                1             19   \n",
       "\n",
       "      first_active_day  old_purchase_amount_sum       ...         \\\n",
       "0  1496275200000000000              -161.803556       ...          \n",
       "\n",
       "   new_authorized_flag_count_authorized_one  \\\n",
       "0                                      23.0   \n",
       "\n",
       "   new_authorized_flag_count_authorized_zero  new_category_1_mean  \\\n",
       "0                                        0.0                  0.0   \n",
       "\n",
       "   new_category_1_count_category_1_one  new_category_1_count_category_1_zero  \\\n",
       "0                                  0.0                                  23.0   \n",
       "\n",
       "   new_enc_purchase_date_mean  new_enc_purchase_date_min  \\\n",
       "0                1.522525e+09               1.520259e+09   \n",
       "\n",
       "   new_enc_purchase_date_max  new_enc_purchase_date_ptp    merchant_id_y  \n",
       "0               1.525001e+09                  4742309.0  M_ID_98b342c0e3  \n",
       "\n",
       "[1 rows x 105 columns]"
      ]
     },
     "execution_count": 11,
     "metadata": {},
     "output_type": "execute_result"
    }
   ],
   "source": [
    "train_data.head(1)"
   ]
  },
  {
   "cell_type": "code",
   "execution_count": 12,
   "metadata": {},
   "outputs": [],
   "source": [
    "y = train_data.target\n",
    "x = train_data[[i for i in train_data.columns.tolist() if i not in ['card_id','subsector_id','city_id','target','merchant_id.1','merchant_group_id','merchant_id','merchant_id_y','merchant_id_x','merchant_id_x.1','category_1','category_4']]]"
   ]
  },
  {
   "cell_type": "code",
   "execution_count": 14,
   "metadata": {},
   "outputs": [
    {
     "data": {
      "text/plain": [
       "['merchant_id_x', 'merchant_id_x.1', 'merchant_id_y']"
      ]
     },
     "execution_count": 14,
     "metadata": {},
     "output_type": "execute_result"
    }
   ],
   "source": [
    "[i for i in train_data.columns.tolist() if i.startswith('merchant_id')]"
   ]
  },
  {
   "cell_type": "code",
   "execution_count": 15,
   "metadata": {},
   "outputs": [
    {
     "data": {
      "text/plain": [
       "array([['C_ID_92a2005557', 'M_ID_1a81c358a3', 'M_ID_ef7c5ba88c',\n",
       "        'M_ID_98b342c0e3'],\n",
       "       ['C_ID_3d0044924f', 'M_ID_940fb4498f', 'M_ID_26530cd8c0',\n",
       "        'M_ID_6e7c412a33'],\n",
       "       ['C_ID_d639edf6cd', 'M_ID_5634fd83e0', 'M_ID_74fca63f4d',\n",
       "        'M_ID_c84d28e906'],\n",
       "       ...,\n",
       "       ['C_ID_7666735b3d', 'M_ID_9139332ccc', 'M_ID_a0572189b7',\n",
       "        'M_ID_365240c25a'],\n",
       "       ['C_ID_73f5a0efd0', 'M_ID_1e1f6cc067', 'M_ID_6a8fbd7ccb',\n",
       "        'M_ID_981fe24744'],\n",
       "       ['C_ID_92c9984c58', 'M_ID_e5374dabc0', 'M_ID_a3c88aa066',\n",
       "        'M_ID_413c7e57bc']], dtype=object)"
      ]
     },
     "execution_count": 15,
     "metadata": {},
     "output_type": "execute_result"
    }
   ],
   "source": [
    "train_data[['card_id','merchant_id_x', 'merchant_id_x.1', 'merchant_id_y']].values"
   ]
  }
 ],
 "metadata": {
  "kernelspec": {
   "display_name": "Python 3",
   "language": "python",
   "name": "python3"
  },
  "language_info": {
   "codemirror_mode": {
    "name": "ipython",
    "version": 3
   },
   "file_extension": ".py",
   "mimetype": "text/x-python",
   "name": "python",
   "nbconvert_exporter": "python",
   "pygments_lexer": "ipython3",
   "version": "3.6.5"
  }
 },
 "nbformat": 4,
 "nbformat_minor": 2
}
