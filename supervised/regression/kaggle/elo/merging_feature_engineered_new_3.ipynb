{
 "cells": [
  {
   "cell_type": "markdown",
   "metadata": {},
   "source": [
    "# RE RE FEATURE ENGINEERING OF DATA-not touching empty in test and train"
   ]
  },
  {
   "cell_type": "code",
   "execution_count": 1,
   "metadata": {},
   "outputs": [],
   "source": [
    "import numpy as np\n",
    "import pandas as panda\n",
    "from dateutil import relativedelta\n",
    "import datetime"
   ]
  },
  {
   "cell_type": "code",
   "execution_count": 11,
   "metadata": {},
   "outputs": [],
   "source": [
    "train_data_path = 'C:/somak/real_world_use_cases_1/supervised/regression/kaggle/elo/all_new/train_2.csv'\n",
    "test_data_path = 'C:/somak/real_world_use_cases_1/supervised/regression/kaggle/elo/all_new/test_2.csv'\n",
    "new_treated_transaction_path = 'all_new/treated_new_transaction.csv'\n",
    "# treated_historical_transaction_path = 'all_new/treated_historical_transactions_1.csv'\n",
    "\n"
   ]
  },
  {
   "cell_type": "code",
   "execution_count": 12,
   "metadata": {},
   "outputs": [
    {
     "data": {
      "text/plain": [
       "{'card_id': dtype('O'),\n",
       " 'target': dtype('float64'),\n",
       " 'enc_feature_1_1': dtype('int64'),\n",
       " 'enc_feature_1_2': dtype('int64'),\n",
       " 'enc_feature_1_3': dtype('int64'),\n",
       " 'enc_feature_1_4': dtype('int64'),\n",
       " 'enc_feature_1_5': dtype('int64'),\n",
       " 'months_passed': dtype('int64'),\n",
       " 'first_active_day': dtype('int64')}"
      ]
     },
     "execution_count": 12,
     "metadata": {},
     "output_type": "execute_result"
    }
   ],
   "source": [
    "train_data = panda.read_csv(train_data_path)\n",
    "train_data_types = train_data.dtypes\n",
    "train_data_columns ={}\n",
    "for index, name in enumerate(train_data.columns.tolist()):\n",
    "    train_data_columns[name] = train_data_types[index]\n",
    "train_data_columns"
   ]
  },
  {
   "cell_type": "code",
   "execution_count": 14,
   "metadata": {},
   "outputs": [
    {
     "ename": "NameError",
     "evalue": "name 'train_data' is not defined",
     "output_type": "error",
     "traceback": [
      "\u001b[1;31m---------------------------------------------------------------------------\u001b[0m",
      "\u001b[1;31mNameError\u001b[0m                                 Traceback (most recent call last)",
      "\u001b[1;32m<ipython-input-14-a55972488af8>\u001b[0m in \u001b[0;36m<module>\u001b[1;34m()\u001b[0m\n\u001b[1;32m----> 1\u001b[1;33m \u001b[1;32mdel\u001b[0m \u001b[0mtrain_data\u001b[0m\u001b[1;33m\u001b[0m\u001b[0m\n\u001b[0m",
      "\u001b[1;31mNameError\u001b[0m: name 'train_data' is not defined"
     ]
    }
   ],
   "source": [
    "del train_data"
   ]
  },
  {
   "cell_type": "code",
   "execution_count": 15,
   "metadata": {},
   "outputs": [],
   "source": [
    "\n",
    "## simply passed the columns to reduce memory footprint\n",
    "train_data = panda.read_csv(train_data_path, dtype = train_data_columns)"
   ]
  },
  {
   "cell_type": "code",
   "execution_count": 16,
   "metadata": {},
   "outputs": [
    {
     "data": {
      "text/html": [
       "<div>\n",
       "<style scoped>\n",
       "    .dataframe tbody tr th:only-of-type {\n",
       "        vertical-align: middle;\n",
       "    }\n",
       "\n",
       "    .dataframe tbody tr th {\n",
       "        vertical-align: top;\n",
       "    }\n",
       "\n",
       "    .dataframe thead th {\n",
       "        text-align: right;\n",
       "    }\n",
       "</style>\n",
       "<table border=\"1\" class=\"dataframe\">\n",
       "  <thead>\n",
       "    <tr style=\"text-align: right;\">\n",
       "      <th></th>\n",
       "      <th>card_id</th>\n",
       "      <th>target</th>\n",
       "      <th>enc_feature_1_1</th>\n",
       "      <th>enc_feature_1_2</th>\n",
       "      <th>enc_feature_1_3</th>\n",
       "      <th>enc_feature_1_4</th>\n",
       "      <th>enc_feature_1_5</th>\n",
       "      <th>months_passed</th>\n",
       "      <th>first_active_day</th>\n",
       "    </tr>\n",
       "  </thead>\n",
       "  <tbody>\n",
       "    <tr>\n",
       "      <th>0</th>\n",
       "      <td>C_ID_92a2005557</td>\n",
       "      <td>-0.820283</td>\n",
       "      <td>0</td>\n",
       "      <td>0</td>\n",
       "      <td>0</td>\n",
       "      <td>0</td>\n",
       "      <td>1</td>\n",
       "      <td>19</td>\n",
       "      <td>1496275200000000000</td>\n",
       "    </tr>\n",
       "    <tr>\n",
       "      <th>1</th>\n",
       "      <td>C_ID_3d0044924f</td>\n",
       "      <td>0.392913</td>\n",
       "      <td>0</td>\n",
       "      <td>0</td>\n",
       "      <td>0</td>\n",
       "      <td>1</td>\n",
       "      <td>0</td>\n",
       "      <td>24</td>\n",
       "      <td>1483228800000000000</td>\n",
       "    </tr>\n",
       "    <tr>\n",
       "      <th>2</th>\n",
       "      <td>C_ID_d639edf6cd</td>\n",
       "      <td>0.688056</td>\n",
       "      <td>0</td>\n",
       "      <td>1</td>\n",
       "      <td>0</td>\n",
       "      <td>0</td>\n",
       "      <td>0</td>\n",
       "      <td>29</td>\n",
       "      <td>1470009600000000000</td>\n",
       "    </tr>\n",
       "    <tr>\n",
       "      <th>3</th>\n",
       "      <td>C_ID_186d6a6901</td>\n",
       "      <td>0.142495</td>\n",
       "      <td>0</td>\n",
       "      <td>0</td>\n",
       "      <td>0</td>\n",
       "      <td>1</td>\n",
       "      <td>0</td>\n",
       "      <td>16</td>\n",
       "      <td>1504224000000000000</td>\n",
       "    </tr>\n",
       "    <tr>\n",
       "      <th>4</th>\n",
       "      <td>C_ID_cdbd2c0db2</td>\n",
       "      <td>-0.159749</td>\n",
       "      <td>1</td>\n",
       "      <td>0</td>\n",
       "      <td>0</td>\n",
       "      <td>0</td>\n",
       "      <td>0</td>\n",
       "      <td>14</td>\n",
       "      <td>1509494400000000000</td>\n",
       "    </tr>\n",
       "  </tbody>\n",
       "</table>\n",
       "</div>"
      ],
      "text/plain": [
       "           card_id    target  enc_feature_1_1  enc_feature_1_2  \\\n",
       "0  C_ID_92a2005557 -0.820283                0                0   \n",
       "1  C_ID_3d0044924f  0.392913                0                0   \n",
       "2  C_ID_d639edf6cd  0.688056                0                1   \n",
       "3  C_ID_186d6a6901  0.142495                0                0   \n",
       "4  C_ID_cdbd2c0db2 -0.159749                1                0   \n",
       "\n",
       "   enc_feature_1_3  enc_feature_1_4  enc_feature_1_5  months_passed  \\\n",
       "0                0                0                1             19   \n",
       "1                0                1                0             24   \n",
       "2                0                0                0             29   \n",
       "3                0                1                0             16   \n",
       "4                0                0                0             14   \n",
       "\n",
       "      first_active_day  \n",
       "0  1496275200000000000  \n",
       "1  1483228800000000000  \n",
       "2  1470009600000000000  \n",
       "3  1504224000000000000  \n",
       "4  1509494400000000000  "
      ]
     },
     "execution_count": 16,
     "metadata": {},
     "output_type": "execute_result"
    }
   ],
   "source": [
    "train_data.head()"
   ]
  },
  {
   "cell_type": "code",
   "execution_count": 17,
   "metadata": {},
   "outputs": [
    {
     "data": {
      "text/html": [
       "<div>\n",
       "<style scoped>\n",
       "    .dataframe tbody tr th:only-of-type {\n",
       "        vertical-align: middle;\n",
       "    }\n",
       "\n",
       "    .dataframe tbody tr th {\n",
       "        vertical-align: top;\n",
       "    }\n",
       "\n",
       "    .dataframe thead th {\n",
       "        text-align: right;\n",
       "    }\n",
       "</style>\n",
       "<table border=\"1\" class=\"dataframe\">\n",
       "  <thead>\n",
       "    <tr style=\"text-align: right;\">\n",
       "      <th></th>\n",
       "      <th>card_id</th>\n",
       "      <th>purchase_amount_sum</th>\n",
       "      <th>purchase_amount_mean</th>\n",
       "      <th>purchase_amount_max</th>\n",
       "      <th>month_lag_sum</th>\n",
       "      <th>month_lag_mean</th>\n",
       "      <th>month_lag_max</th>\n",
       "      <th>enc_category_2_1_sum</th>\n",
       "      <th>enc_category_2_2_sum</th>\n",
       "      <th>enc_category_2_3_sum</th>\n",
       "      <th>...</th>\n",
       "      <th>installments_max</th>\n",
       "      <th>authorized_flag_mean</th>\n",
       "      <th>authorized_flag_count_authorized_one</th>\n",
       "      <th>authorized_flag_count_authorized_zero</th>\n",
       "      <th>category_1_mean</th>\n",
       "      <th>category_1_count_category_1_one</th>\n",
       "      <th>category_1_count_category_1_zero</th>\n",
       "      <th>enc_purchase_date_mean</th>\n",
       "      <th>enc_purchase_date_min</th>\n",
       "      <th>enc_purchase_date_max</th>\n",
       "    </tr>\n",
       "  </thead>\n",
       "  <tbody>\n",
       "    <tr>\n",
       "      <th>0</th>\n",
       "      <td>C_ID_00007093c1</td>\n",
       "      <td>-1.328524</td>\n",
       "      <td>-0.664262</td>\n",
       "      <td>-0.656749</td>\n",
       "      <td>4</td>\n",
       "      <td>2.000000</td>\n",
       "      <td>2</td>\n",
       "      <td>1</td>\n",
       "      <td>0</td>\n",
       "      <td>1</td>\n",
       "      <td>...</td>\n",
       "      <td>1</td>\n",
       "      <td>1</td>\n",
       "      <td>2</td>\n",
       "      <td>0</td>\n",
       "      <td>0.000000</td>\n",
       "      <td>0</td>\n",
       "      <td>2</td>\n",
       "      <td>1.523023e+09</td>\n",
       "      <td>1.522754e+09</td>\n",
       "      <td>1.523291e+09</td>\n",
       "    </tr>\n",
       "    <tr>\n",
       "      <th>1</th>\n",
       "      <td>C_ID_0001238066</td>\n",
       "      <td>-14.850055</td>\n",
       "      <td>-0.571156</td>\n",
       "      <td>-0.078318</td>\n",
       "      <td>35</td>\n",
       "      <td>1.346154</td>\n",
       "      <td>2</td>\n",
       "      <td>23</td>\n",
       "      <td>0</td>\n",
       "      <td>0</td>\n",
       "      <td>...</td>\n",
       "      <td>10</td>\n",
       "      <td>1</td>\n",
       "      <td>26</td>\n",
       "      <td>0</td>\n",
       "      <td>0.076923</td>\n",
       "      <td>2</td>\n",
       "      <td>24</td>\n",
       "      <td>1.522335e+09</td>\n",
       "      <td>1.519923e+09</td>\n",
       "      <td>1.525118e+09</td>\n",
       "    </tr>\n",
       "    <tr>\n",
       "      <th>2</th>\n",
       "      <td>C_ID_0001506ef0</td>\n",
       "      <td>-1.447354</td>\n",
       "      <td>-0.723677</td>\n",
       "      <td>-0.715352</td>\n",
       "      <td>2</td>\n",
       "      <td>1.000000</td>\n",
       "      <td>1</td>\n",
       "      <td>0</td>\n",
       "      <td>0</td>\n",
       "      <td>2</td>\n",
       "      <td>...</td>\n",
       "      <td>0</td>\n",
       "      <td>1</td>\n",
       "      <td>2</td>\n",
       "      <td>0</td>\n",
       "      <td>0.000000</td>\n",
       "      <td>0</td>\n",
       "      <td>2</td>\n",
       "      <td>1.521474e+09</td>\n",
       "      <td>1.521239e+09</td>\n",
       "      <td>1.521710e+09</td>\n",
       "    </tr>\n",
       "    <tr>\n",
       "      <th>3</th>\n",
       "      <td>C_ID_0001793786</td>\n",
       "      <td>-0.229620</td>\n",
       "      <td>-0.007407</td>\n",
       "      <td>3.129932</td>\n",
       "      <td>41</td>\n",
       "      <td>1.322581</td>\n",
       "      <td>2</td>\n",
       "      <td>17</td>\n",
       "      <td>8</td>\n",
       "      <td>5</td>\n",
       "      <td>...</td>\n",
       "      <td>0</td>\n",
       "      <td>1</td>\n",
       "      <td>31</td>\n",
       "      <td>0</td>\n",
       "      <td>0.000000</td>\n",
       "      <td>0</td>\n",
       "      <td>31</td>\n",
       "      <td>1.512327e+09</td>\n",
       "      <td>1.510761e+09</td>\n",
       "      <td>1.514742e+09</td>\n",
       "    </tr>\n",
       "    <tr>\n",
       "      <th>4</th>\n",
       "      <td>C_ID_000183fdda</td>\n",
       "      <td>-6.590778</td>\n",
       "      <td>-0.599162</td>\n",
       "      <td>-0.107680</td>\n",
       "      <td>14</td>\n",
       "      <td>1.272727</td>\n",
       "      <td>2</td>\n",
       "      <td>0</td>\n",
       "      <td>0</td>\n",
       "      <td>11</td>\n",
       "      <td>...</td>\n",
       "      <td>4</td>\n",
       "      <td>1</td>\n",
       "      <td>11</td>\n",
       "      <td>0</td>\n",
       "      <td>0.000000</td>\n",
       "      <td>0</td>\n",
       "      <td>11</td>\n",
       "      <td>1.521578e+09</td>\n",
       "      <td>1.519994e+09</td>\n",
       "      <td>1.525100e+09</td>\n",
       "    </tr>\n",
       "  </tbody>\n",
       "</table>\n",
       "<p>5 rows × 27 columns</p>\n",
       "</div>"
      ],
      "text/plain": [
       "           card_id  purchase_amount_sum  purchase_amount_mean  \\\n",
       "0  C_ID_00007093c1            -1.328524             -0.664262   \n",
       "1  C_ID_0001238066           -14.850055             -0.571156   \n",
       "2  C_ID_0001506ef0            -1.447354             -0.723677   \n",
       "3  C_ID_0001793786            -0.229620             -0.007407   \n",
       "4  C_ID_000183fdda            -6.590778             -0.599162   \n",
       "\n",
       "   purchase_amount_max  month_lag_sum  month_lag_mean  month_lag_max  \\\n",
       "0            -0.656749              4        2.000000              2   \n",
       "1            -0.078318             35        1.346154              2   \n",
       "2            -0.715352              2        1.000000              1   \n",
       "3             3.129932             41        1.322581              2   \n",
       "4            -0.107680             14        1.272727              2   \n",
       "\n",
       "   enc_category_2_1_sum  enc_category_2_2_sum  enc_category_2_3_sum  \\\n",
       "0                     1                     0                     1   \n",
       "1                    23                     0                     0   \n",
       "2                     0                     0                     2   \n",
       "3                    17                     8                     5   \n",
       "4                     0                     0                    11   \n",
       "\n",
       "           ...            installments_max  authorized_flag_mean  \\\n",
       "0          ...                           1                     1   \n",
       "1          ...                          10                     1   \n",
       "2          ...                           0                     1   \n",
       "3          ...                           0                     1   \n",
       "4          ...                           4                     1   \n",
       "\n",
       "   authorized_flag_count_authorized_one  \\\n",
       "0                                     2   \n",
       "1                                    26   \n",
       "2                                     2   \n",
       "3                                    31   \n",
       "4                                    11   \n",
       "\n",
       "   authorized_flag_count_authorized_zero  category_1_mean  \\\n",
       "0                                      0         0.000000   \n",
       "1                                      0         0.076923   \n",
       "2                                      0         0.000000   \n",
       "3                                      0         0.000000   \n",
       "4                                      0         0.000000   \n",
       "\n",
       "   category_1_count_category_1_one  category_1_count_category_1_zero  \\\n",
       "0                                0                                 2   \n",
       "1                                2                                24   \n",
       "2                                0                                 2   \n",
       "3                                0                                31   \n",
       "4                                0                                11   \n",
       "\n",
       "   enc_purchase_date_mean  enc_purchase_date_min  enc_purchase_date_max  \n",
       "0            1.523023e+09           1.522754e+09           1.523291e+09  \n",
       "1            1.522335e+09           1.519923e+09           1.525118e+09  \n",
       "2            1.521474e+09           1.521239e+09           1.521710e+09  \n",
       "3            1.512327e+09           1.510761e+09           1.514742e+09  \n",
       "4            1.521578e+09           1.519994e+09           1.525100e+09  \n",
       "\n",
       "[5 rows x 27 columns]"
      ]
     },
     "execution_count": 17,
     "metadata": {},
     "output_type": "execute_result"
    }
   ],
   "source": [
    "agg = panda.read_csv(new_treated_transaction_path)\n",
    "d_type = agg.dtypes\n",
    "d_cols = {}\n",
    "for index, name in enumerate(agg.columns.tolist()):\n",
    "    d_cols[name] = d_type[index]\n",
    "\n",
    "del agg\n",
    "\n",
    "agg = panda.read_csv(new_treated_transaction_path, dtype = d_cols)\n",
    "agg.head()"
   ]
  },
  {
   "cell_type": "code",
   "execution_count": 18,
   "metadata": {},
   "outputs": [
    {
     "data": {
      "text/plain": [
       "(201917, 290001, 179986)"
      ]
     },
     "execution_count": 18,
     "metadata": {},
     "output_type": "execute_result"
    }
   ],
   "source": [
    "len(train_data),len(agg), len(set(agg.card_id.values.tolist()).intersection(set(train_data.card_id.values.tolist())))"
   ]
  },
  {
   "cell_type": "code",
   "execution_count": 28,
   "metadata": {},
   "outputs": [],
   "source": [
    "tt = agg.merge(train_data, on='card_id', how='right')"
   ]
  },
  {
   "cell_type": "code",
   "execution_count": 10,
   "metadata": {},
   "outputs": [],
   "source": [
    "# tt.fillna(value = tt.mean(), inplace=True)"
   ]
  },
  {
   "cell_type": "code",
   "execution_count": 29,
   "metadata": {},
   "outputs": [
    {
     "data": {
      "text/plain": [
       "201917"
      ]
     },
     "execution_count": 29,
     "metadata": {},
     "output_type": "execute_result"
    }
   ],
   "source": [
    "len(tt)"
   ]
  },
  {
   "cell_type": "code",
   "execution_count": 30,
   "metadata": {},
   "outputs": [],
   "source": [
    "tt.to_csv('all_new/train_6.csv', index=False)"
   ]
  },
  {
   "cell_type": "code",
   "execution_count": 31,
   "metadata": {},
   "outputs": [
    {
     "data": {
      "text/plain": [
       "{'card_id': dtype('O'),\n",
       " 'enc_feature_1_1': dtype('int64'),\n",
       " 'enc_feature_1_2': dtype('int64'),\n",
       " 'enc_feature_1_3': dtype('int64'),\n",
       " 'enc_feature_1_4': dtype('int64'),\n",
       " 'enc_feature_1_5': dtype('int64'),\n",
       " 'months_passed': dtype('int64'),\n",
       " 'first_active_day': dtype('int64')}"
      ]
     },
     "execution_count": 31,
     "metadata": {},
     "output_type": "execute_result"
    }
   ],
   "source": [
    "test_data = panda.read_csv(test_data_path)\n",
    "test_data_types = test_data.dtypes\n",
    "test_data_columns ={}\n",
    "for index, name in enumerate(test_data.columns.tolist()):\n",
    "    test_data_columns[name] = test_data_types[index]\n",
    "test_data_columns"
   ]
  },
  {
   "cell_type": "code",
   "execution_count": 32,
   "metadata": {},
   "outputs": [],
   "source": [
    "del test_data"
   ]
  },
  {
   "cell_type": "code",
   "execution_count": 33,
   "metadata": {},
   "outputs": [],
   "source": [
    "\n",
    "## simply passed the columns to reduce memory footprint\n",
    "test_data = panda.read_csv(test_data_path, dtype = test_data_columns)"
   ]
  },
  {
   "cell_type": "code",
   "execution_count": 34,
   "metadata": {},
   "outputs": [
    {
     "data": {
      "text/html": [
       "<div>\n",
       "<style scoped>\n",
       "    .dataframe tbody tr th:only-of-type {\n",
       "        vertical-align: middle;\n",
       "    }\n",
       "\n",
       "    .dataframe tbody tr th {\n",
       "        vertical-align: top;\n",
       "    }\n",
       "\n",
       "    .dataframe thead th {\n",
       "        text-align: right;\n",
       "    }\n",
       "</style>\n",
       "<table border=\"1\" class=\"dataframe\">\n",
       "  <thead>\n",
       "    <tr style=\"text-align: right;\">\n",
       "      <th></th>\n",
       "      <th>card_id</th>\n",
       "      <th>enc_feature_1_1</th>\n",
       "      <th>enc_feature_1_2</th>\n",
       "      <th>enc_feature_1_3</th>\n",
       "      <th>enc_feature_1_4</th>\n",
       "      <th>enc_feature_1_5</th>\n",
       "      <th>months_passed</th>\n",
       "      <th>first_active_day</th>\n",
       "    </tr>\n",
       "  </thead>\n",
       "  <tbody>\n",
       "    <tr>\n",
       "      <th>0</th>\n",
       "      <td>C_ID_0ab67a22ab</td>\n",
       "      <td>0</td>\n",
       "      <td>0</td>\n",
       "      <td>1</td>\n",
       "      <td>0</td>\n",
       "      <td>0</td>\n",
       "      <td>21</td>\n",
       "      <td>1491004800000000000</td>\n",
       "    </tr>\n",
       "    <tr>\n",
       "      <th>1</th>\n",
       "      <td>C_ID_130fd0cbdd</td>\n",
       "      <td>0</td>\n",
       "      <td>1</td>\n",
       "      <td>0</td>\n",
       "      <td>0</td>\n",
       "      <td>0</td>\n",
       "      <td>24</td>\n",
       "      <td>1483228800000000000</td>\n",
       "    </tr>\n",
       "    <tr>\n",
       "      <th>2</th>\n",
       "      <td>C_ID_b709037bc5</td>\n",
       "      <td>0</td>\n",
       "      <td>0</td>\n",
       "      <td>0</td>\n",
       "      <td>0</td>\n",
       "      <td>1</td>\n",
       "      <td>17</td>\n",
       "      <td>1501545600000000000</td>\n",
       "    </tr>\n",
       "    <tr>\n",
       "      <th>3</th>\n",
       "      <td>C_ID_d27d835a9f</td>\n",
       "      <td>0</td>\n",
       "      <td>1</td>\n",
       "      <td>0</td>\n",
       "      <td>0</td>\n",
       "      <td>0</td>\n",
       "      <td>13</td>\n",
       "      <td>1512086400000000000</td>\n",
       "    </tr>\n",
       "    <tr>\n",
       "      <th>4</th>\n",
       "      <td>C_ID_2b5e3df5c2</td>\n",
       "      <td>0</td>\n",
       "      <td>0</td>\n",
       "      <td>0</td>\n",
       "      <td>0</td>\n",
       "      <td>1</td>\n",
       "      <td>37</td>\n",
       "      <td>1448928000000000000</td>\n",
       "    </tr>\n",
       "  </tbody>\n",
       "</table>\n",
       "</div>"
      ],
      "text/plain": [
       "           card_id  enc_feature_1_1  enc_feature_1_2  enc_feature_1_3  \\\n",
       "0  C_ID_0ab67a22ab                0                0                1   \n",
       "1  C_ID_130fd0cbdd                0                1                0   \n",
       "2  C_ID_b709037bc5                0                0                0   \n",
       "3  C_ID_d27d835a9f                0                1                0   \n",
       "4  C_ID_2b5e3df5c2                0                0                0   \n",
       "\n",
       "   enc_feature_1_4  enc_feature_1_5  months_passed     first_active_day  \n",
       "0                0                0             21  1491004800000000000  \n",
       "1                0                0             24  1483228800000000000  \n",
       "2                0                1             17  1501545600000000000  \n",
       "3                0                0             13  1512086400000000000  \n",
       "4                0                1             37  1448928000000000000  "
      ]
     },
     "execution_count": 34,
     "metadata": {},
     "output_type": "execute_result"
    }
   ],
   "source": [
    "test_data.head()"
   ]
  },
  {
   "cell_type": "code",
   "execution_count": 35,
   "metadata": {},
   "outputs": [
    {
     "data": {
      "text/plain": [
       "(123623, 290001, 110015)"
      ]
     },
     "execution_count": 35,
     "metadata": {},
     "output_type": "execute_result"
    }
   ],
   "source": [
    "len(test_data),len(agg), len(set(agg.card_id.values.tolist()).intersection(set(test_data.card_id.values.tolist())))"
   ]
  },
  {
   "cell_type": "code",
   "execution_count": 36,
   "metadata": {},
   "outputs": [],
   "source": [
    "tt = agg.merge(test_data, on='card_id', how='right')"
   ]
  },
  {
   "cell_type": "code",
   "execution_count": 17,
   "metadata": {},
   "outputs": [],
   "source": [
    "# tt.fillna(value = tt.mean(), inplace=True)"
   ]
  },
  {
   "cell_type": "code",
   "execution_count": 37,
   "metadata": {},
   "outputs": [
    {
     "data": {
      "text/plain": [
       "123623"
      ]
     },
     "execution_count": 37,
     "metadata": {},
     "output_type": "execute_result"
    }
   ],
   "source": [
    "len(set(tt.card_id.values))"
   ]
  },
  {
   "cell_type": "code",
   "execution_count": 38,
   "metadata": {},
   "outputs": [],
   "source": [
    "tt.to_csv('all_new/test_6.csv', index=False)"
   ]
  },
  {
   "cell_type": "code",
   "execution_count": null,
   "metadata": {},
   "outputs": [],
   "source": []
  }
 ],
 "metadata": {
  "kernelspec": {
   "display_name": "Python 3",
   "language": "python",
   "name": "python3"
  },
  "language_info": {
   "codemirror_mode": {
    "name": "ipython",
    "version": 3
   },
   "file_extension": ".py",
   "mimetype": "text/x-python",
   "name": "python",
   "nbconvert_exporter": "python",
   "pygments_lexer": "ipython3",
   "version": "3.6.5"
  }
 },
 "nbformat": 4,
 "nbformat_minor": 2
}
