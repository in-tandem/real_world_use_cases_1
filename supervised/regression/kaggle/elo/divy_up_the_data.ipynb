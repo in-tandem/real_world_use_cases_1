{
 "cells": [
  {
   "cell_type": "code",
   "execution_count": 1,
   "metadata": {},
   "outputs": [],
   "source": [
    "import pandas as panda\n",
    "import numpy as np"
   ]
  },
  {
   "cell_type": "code",
   "execution_count": 2,
   "metadata": {},
   "outputs": [],
   "source": [
    "merchant_data_path = 'all_new/merchants_2.csv'\n",
    "new_transaction_data_path = 'C:/somak/real_world_use_cases_1/supervised/regression/kaggle/elo/all_new/new_merchant_transactions.csv'\n",
    "historical_transaction_data_path = 'C:/somak/real_world_use_cases_1/supervised/regression/kaggle/elo/all_new/historical_transactions.csv'\n",
    "\n",
    "train_data_path = 'C:/somak/real_world_use_cases_1/supervised/regression/kaggle/elo/all_new/train_2.csv'\n",
    "test_data_path = 'C:/somak/real_world_use_cases_1/supervised/regression/kaggle/elo/all_new/test_2.csv'"
   ]
  },
  {
   "cell_type": "code",
   "execution_count": 3,
   "metadata": {},
   "outputs": [],
   "source": [
    "merchant_data = panda.read_csv(merchant_data_path)\n",
    "new_transaction_data = panda.read_csv(new_transaction_data_path)\n",
    "historical_transaction_data = panda.read_csv(historical_transaction_data_path)\n",
    "train_data = panda.read_csv(train_data_path)\n",
    "test_data = panda.read_csv(test_data_path)\n"
   ]
  },
  {
   "cell_type": "code",
   "execution_count": 15,
   "metadata": {},
   "outputs": [
    {
     "data": {
      "text/plain": [
       "((29112361, 14), (1963031, 14))"
      ]
     },
     "execution_count": 15,
     "metadata": {},
     "output_type": "execute_result"
    }
   ],
   "source": [
    "historical_transaction_data.shape, new_transaction_data.shape"
   ]
  },
  {
   "cell_type": "code",
   "execution_count": 4,
   "metadata": {},
   "outputs": [],
   "source": [
    "train_card_ids = set(train_data.card_id.values.tolist())\n",
    "test_card_ids = set(test_data.card_id.values.tolist())\n",
    "new_trn_card_ids = set(new_transaction_data.card_id.values.tolist())\n",
    "hist_trn_card_ids = set(historical_transaction_data.card_id.values.tolist())\n"
   ]
  },
  {
   "cell_type": "code",
   "execution_count": 5,
   "metadata": {},
   "outputs": [
    {
     "data": {
      "text/plain": [
       "('Number of train card ids ',\n",
       " 201917,\n",
       " 'Number of test card ids ',\n",
       " 123623,\n",
       " 'Number of new trn card ids ',\n",
       " 290001,\n",
       " 'Number of hist trn card ids ',\n",
       " 325540)"
      ]
     },
     "execution_count": 5,
     "metadata": {},
     "output_type": "execute_result"
    }
   ],
   "source": [
    "'Number of train card ids ',len(train_card_ids), \\\n",
    "'Number of test card ids ',len(test_card_ids), \\\n",
    "'Number of new trn card ids ',len(new_trn_card_ids), \\\n",
    "'Number of hist trn card ids ',len(hist_trn_card_ids), \\"
   ]
  },
  {
   "cell_type": "code",
   "execution_count": 6,
   "metadata": {},
   "outputs": [
    {
     "data": {
      "text/plain": [
       "21931"
      ]
     },
     "execution_count": 6,
     "metadata": {},
     "output_type": "execute_result"
    }
   ],
   "source": [
    "## number of train cards details which are not present in new transaction\n",
    "len(train_card_ids.difference(new_trn_card_ids))"
   ]
  },
  {
   "cell_type": "code",
   "execution_count": 7,
   "metadata": {},
   "outputs": [
    {
     "data": {
      "text/plain": [
       "13608"
      ]
     },
     "execution_count": 7,
     "metadata": {},
     "output_type": "execute_result"
    }
   ],
   "source": [
    "## number of test cards details which are not present in new transaction\n",
    "len(test_card_ids.difference(new_trn_card_ids))"
   ]
  },
  {
   "cell_type": "code",
   "execution_count": 8,
   "metadata": {},
   "outputs": [
    {
     "data": {
      "text/plain": [
       "0"
      ]
     },
     "execution_count": 8,
     "metadata": {},
     "output_type": "execute_result"
    }
   ],
   "source": [
    "## number of train cards details which are not present in historical transaction\n",
    "len(train_card_ids.difference(hist_trn_card_ids))"
   ]
  },
  {
   "cell_type": "code",
   "execution_count": 9,
   "metadata": {},
   "outputs": [
    {
     "data": {
      "text/plain": [
       "0"
      ]
     },
     "execution_count": 9,
     "metadata": {},
     "output_type": "execute_result"
    }
   ],
   "source": [
    "## number of test cards details which are not present in historical transaction\n",
    "len(test_card_ids.difference(hist_trn_card_ids))"
   ]
  },
  {
   "cell_type": "code",
   "execution_count": 10,
   "metadata": {},
   "outputs": [
    {
     "data": {
      "text/plain": [
       "(138481, 14)"
      ]
     },
     "execution_count": 10,
     "metadata": {},
     "output_type": "execute_result"
    }
   ],
   "source": [
    "## historical transaction where merchant id is null or -1\n",
    "historical_transaction_data.loc[(historical_transaction_data.merchant_id.isna()) | (historical_transaction_data.merchant_id==-1)].shape"
   ]
  },
  {
   "cell_type": "code",
   "execution_count": 11,
   "metadata": {},
   "outputs": [
    {
     "data": {
      "text/plain": [
       "(26216, 14)"
      ]
     },
     "execution_count": 11,
     "metadata": {},
     "output_type": "execute_result"
    }
   ],
   "source": [
    "## new transaction where merchant id is null or -1\n",
    "new_transaction_data.loc[(new_transaction_data.merchant_id.isna()) | (new_transaction_data.merchant_id==-1)].shape"
   ]
  },
  {
   "cell_type": "code",
   "execution_count": 12,
   "metadata": {},
   "outputs": [
    {
     "data": {
      "text/plain": [
       "69254"
      ]
     },
     "execution_count": 12,
     "metadata": {},
     "output_type": "execute_result"
    }
   ],
   "source": [
    "hist_card_id = set(historical_transaction_data.loc[(historical_transaction_data.merchant_id.isna()) | (historical_transaction_data.merchant_id==-1)].card_id.values.tolist())\n",
    "\n",
    "len(hist_card_id)#no of unique card ids that  are present in historical transaction but dont have any merchant info"
   ]
  },
  {
   "cell_type": "code",
   "execution_count": 14,
   "metadata": {},
   "outputs": [
    {
     "data": {
      "text/plain": [
       "26196"
      ]
     },
     "execution_count": 14,
     "metadata": {},
     "output_type": "execute_result"
    }
   ],
   "source": [
    "new_card_id = set(new_transaction_data.loc[(new_transaction_data.merchant_id.isna()) | (new_transaction_data.merchant_id==-1)].card_id.values.tolist())\n",
    "len(new_card_id)## no of new transaction card ids that are present in new tran saction but dont have any merchant info"
   ]
  },
  {
   "cell_type": "code",
   "execution_count": 16,
   "metadata": {},
   "outputs": [
    {
     "data": {
      "text/plain": [
       "42885"
      ]
     },
     "execution_count": 16,
     "metadata": {},
     "output_type": "execute_result"
    }
   ],
   "source": [
    "## number of train cards details which are present in historical transaction but have no merchant info\n",
    "len(train_card_ids.intersection(hist_card_id))"
   ]
  },
  {
   "cell_type": "code",
   "execution_count": 17,
   "metadata": {},
   "outputs": [
    {
     "data": {
      "text/plain": [
       "26369"
      ]
     },
     "execution_count": 17,
     "metadata": {},
     "output_type": "execute_result"
    }
   ],
   "source": [
    "## number of test cards details which are present in historical transaction but have no merchant info\n",
    "len(test_card_ids.intersection(hist_card_id))"
   ]
  },
  {
   "cell_type": "code",
   "execution_count": 18,
   "metadata": {},
   "outputs": [
    {
     "data": {
      "text/plain": [
       "16257"
      ]
     },
     "execution_count": 18,
     "metadata": {},
     "output_type": "execute_result"
    }
   ],
   "source": [
    "## number of train cards details which are present in new transaction but have no merchant info\n",
    "len(train_card_ids.intersection(new_card_id))"
   ]
  },
  {
   "cell_type": "code",
   "execution_count": 19,
   "metadata": {},
   "outputs": [
    {
     "data": {
      "text/plain": [
       "9939"
      ]
     },
     "execution_count": 19,
     "metadata": {},
     "output_type": "execute_result"
    }
   ],
   "source": [
    "## number of test cards details which are present in new transaction but have no merchant info\n",
    "len(test_card_ids.intersection(new_card_id))"
   ]
  },
  {
   "cell_type": "code",
   "execution_count": 25,
   "metadata": {},
   "outputs": [
    {
     "data": {
      "text/plain": [
       "(138481, 14)"
      ]
     },
     "execution_count": 25,
     "metadata": {},
     "output_type": "execute_result"
    }
   ],
   "source": [
    "\n",
    "##write out historical transaction with no merchant data\n",
    "historical_transaction_data.\\\n",
    "loc[(historical_transaction_data.merchant_id.isna()) | (historical_transaction_data.merchant_id==-1)].\\\n",
    "shape\n",
    "# to_csv('all_new/hist_with_no_merchant.csv', index=False)"
   ]
  },
  {
   "cell_type": "code",
   "execution_count": 27,
   "metadata": {},
   "outputs": [],
   "source": [
    "\n",
    "##write out historical transaction with merchant data\n",
    "historical_transaction_data.\\\n",
    "loc[(~historical_transaction_data.merchant_id.isna()) & (historical_transaction_data.merchant_id!=-1)].\\\n",
    "to_csv('all_new/hist_with_merchant.csv', index=False)\n"
   ]
  },
  {
   "cell_type": "code",
   "execution_count": 30,
   "metadata": {},
   "outputs": [],
   "source": [
    "\n",
    "##write out historical transaction with no merchant data\n",
    "new_transaction_data.\\\n",
    "loc[(new_transaction_data.merchant_id.isna()) | (new_transaction_data.merchant_id==-1)].\\\n",
    "to_csv('all_new/new_with_no_merchant.csv', index=False)"
   ]
  },
  {
   "cell_type": "code",
   "execution_count": 31,
   "metadata": {},
   "outputs": [],
   "source": [
    "\n",
    "##write out historical transaction with merchant data\n",
    "new_transaction_data.\\\n",
    "loc[(~new_transaction_data.merchant_id.isna()) & (new_transaction_data.merchant_id!=-1)].\\\n",
    "to_csv('all_new/new_with_merchant.csv', index=False)\n"
   ]
  },
  {
   "cell_type": "code",
   "execution_count": null,
   "metadata": {},
   "outputs": [],
   "source": []
  }
 ],
 "metadata": {
  "kernelspec": {
   "display_name": "Python 3",
   "language": "python",
   "name": "python3"
  },
  "language_info": {
   "codemirror_mode": {
    "name": "ipython",
    "version": 3
   },
   "file_extension": ".py",
   "mimetype": "text/x-python",
   "name": "python",
   "nbconvert_exporter": "python",
   "pygments_lexer": "ipython3",
   "version": "3.6.5"
  }
 },
 "nbformat": 4,
 "nbformat_minor": 2
}
