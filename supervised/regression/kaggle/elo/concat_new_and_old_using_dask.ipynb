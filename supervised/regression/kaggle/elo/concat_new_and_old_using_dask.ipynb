{
 "cells": [
  {
   "cell_type": "code",
   "execution_count": 1,
   "metadata": {},
   "outputs": [],
   "source": [
    "import pandas as panda\n",
    "\n",
    "import numpy as np\n",
    "\n",
    "import datetime, time\n",
    "\n",
    "from matplotlib.pyplot import plot\n",
    "\n",
    "from sklearn.model_selection import train_test_split\n",
    "from sklearn.preprocessing import MinMaxScaler\n",
    "\n",
    "import seaborn as sns\n",
    "\n",
    "import dask.dataframe as dd\n",
    "from sklearn.linear_model import LinearRegression, RANSACRegressor, SGDRegressor\n",
    "from sklearn.ensemble import RandomForestRegressor\n",
    "from sklearn.tree import DecisionTreeRegressor\n",
    "from sklearn.svm import SVR\n",
    "from sklearn.metrics import accuracy_score, mean_squared_error, r2_score, make_scorer\n",
    "from sklearn.model_selection import train_test_split, GridSearchCV\n",
    "from sklearn.preprocessing import StandardScaler\n",
    "from sklearn.pipeline import make_pipeline, Pipeline"
   ]
  },
  {
   "cell_type": "code",
   "execution_count": 2,
   "metadata": {},
   "outputs": [],
   "source": [
    "historical_transaction_data_path = 'all/historical_transactions.csv'\n",
    "new_transaction_data_path = 'all/new_merchant_transactions.csv'"
   ]
  },
  {
   "cell_type": "code",
   "execution_count": 3,
   "metadata": {},
   "outputs": [],
   "source": [
    "historical_transaction_data = panda.read_csv(historical_transaction_data_path)"
   ]
  },
  {
   "cell_type": "code",
   "execution_count": 4,
   "metadata": {},
   "outputs": [],
   "source": [
    "new_transaction_data = panda.read_csv(new_transaction_data_path)"
   ]
  },
  {
   "cell_type": "code",
   "execution_count": 5,
   "metadata": {},
   "outputs": [],
   "source": [
    "# new_transaction_data.head()"
   ]
  },
  {
   "cell_type": "code",
   "execution_count": 6,
   "metadata": {},
   "outputs": [],
   "source": [
    "all_transaction = panda.concat([new_transaction_data, historical_transaction_data])"
   ]
  },
  {
   "cell_type": "code",
   "execution_count": 7,
   "metadata": {},
   "outputs": [],
   "source": [
    "# len(all_transaction)"
   ]
  },
  {
   "cell_type": "code",
   "execution_count": 8,
   "metadata": {},
   "outputs": [],
   "source": [
    "# all_transaction.isnull().sum()"
   ]
  },
  {
   "cell_type": "code",
   "execution_count": 9,
   "metadata": {},
   "outputs": [],
   "source": [
    "## category_3, _2 are categorical variables. replacing missing values with max appearing values for each\n",
    "\n",
    "## not doing anything with merchant_id yet. since its alphabetical we will remove it. and for our round 2 we will not be considering\n",
    "## any data from merchant .csv\n",
    "\n",
    "\n",
    "all_transaction['category_2'].fillna(all_transaction.category_2.value_counts().idxmax(), inplace= True)\n",
    "all_transaction['category_3'].fillna(all_transaction.category_3.value_counts().idxmax(), inplace= True)\n"
   ]
  },
  {
   "cell_type": "code",
   "execution_count": 10,
   "metadata": {},
   "outputs": [],
   "source": [
    "# all_transaction_1.head()\n",
    "# all_transaction['category_2'].isnull().sum()"
   ]
  },
  {
   "cell_type": "code",
   "execution_count": 11,
   "metadata": {},
   "outputs": [],
   "source": [
    "# all_transaction['category_3'].isnull().sum()"
   ]
  },
  {
   "cell_type": "code",
   "execution_count": 12,
   "metadata": {},
   "outputs": [
    {
     "name": "stdout",
     "output_type": "stream",
     "text": [
      "31075392 , earlier length:  31075392\n"
     ]
    }
   ],
   "source": [
    "## lets get the total number of transactions for each card\n",
    "\n",
    "total_transaction = all_transaction.groupby(['card_id'])['city_id'].count()\n",
    "\n",
    "total_transaction = total_transaction.reset_index()\n",
    "\n",
    "total_transaction.columns = ['card_id', 'total_no_of_transaction']\n",
    "\n",
    "total_transaction_merged = all_transaction.merge(total_transaction, how='inner', on='card_id')\n",
    "\n",
    "print(len(total_transaction_merged), ', earlier length: ', len(all_transaction))\n",
    "\n"
   ]
  },
  {
   "cell_type": "code",
   "execution_count": 13,
   "metadata": {},
   "outputs": [],
   "source": [
    "## we will now add columsn for how many times a card has been rejected and how many times it has been approved\n",
    "\n",
    "# total_transaction_merged.head()\n",
    "\n"
   ]
  },
  {
   "cell_type": "code",
   "execution_count": 14,
   "metadata": {},
   "outputs": [],
   "source": [
    "temp= total_transaction_merged.authorized_flag.str.get_dummies()\n",
    "\n"
   ]
  },
  {
   "cell_type": "code",
   "execution_count": 15,
   "metadata": {},
   "outputs": [
    {
     "data": {
      "text/html": [
       "<div>\n",
       "<style scoped>\n",
       "    .dataframe tbody tr th:only-of-type {\n",
       "        vertical-align: middle;\n",
       "    }\n",
       "\n",
       "    .dataframe tbody tr th {\n",
       "        vertical-align: top;\n",
       "    }\n",
       "\n",
       "    .dataframe thead th {\n",
       "        text-align: right;\n",
       "    }\n",
       "</style>\n",
       "<table border=\"1\" class=\"dataframe\">\n",
       "  <thead>\n",
       "    <tr style=\"text-align: right;\">\n",
       "      <th></th>\n",
       "      <th>N</th>\n",
       "      <th>Y</th>\n",
       "    </tr>\n",
       "  </thead>\n",
       "  <tbody>\n",
       "    <tr>\n",
       "      <th>0</th>\n",
       "      <td>0</td>\n",
       "      <td>1</td>\n",
       "    </tr>\n",
       "    <tr>\n",
       "      <th>1</th>\n",
       "      <td>0</td>\n",
       "      <td>1</td>\n",
       "    </tr>\n",
       "    <tr>\n",
       "      <th>2</th>\n",
       "      <td>0</td>\n",
       "      <td>1</td>\n",
       "    </tr>\n",
       "    <tr>\n",
       "      <th>3</th>\n",
       "      <td>0</td>\n",
       "      <td>1</td>\n",
       "    </tr>\n",
       "    <tr>\n",
       "      <th>4</th>\n",
       "      <td>0</td>\n",
       "      <td>1</td>\n",
       "    </tr>\n",
       "  </tbody>\n",
       "</table>\n",
       "</div>"
      ],
      "text/plain": [
       "   N  Y\n",
       "0  0  1\n",
       "1  0  1\n",
       "2  0  1\n",
       "3  0  1\n",
       "4  0  1"
      ]
     },
     "execution_count": 15,
     "metadata": {},
     "output_type": "execute_result"
    }
   ],
   "source": [
    "temp.head()"
   ]
  },
  {
   "cell_type": "code",
   "execution_count": 16,
   "metadata": {},
   "outputs": [],
   "source": [
    "total_transaction_merged[['N','Y']] = temp"
   ]
  },
  {
   "cell_type": "code",
   "execution_count": 17,
   "metadata": {},
   "outputs": [],
   "source": [
    "tt = total_transaction_merged.groupby(['card_id'])['N'].sum()\n",
    "\n",
    "tt = tt.reset_index()\n",
    "\n"
   ]
  },
  {
   "cell_type": "code",
   "execution_count": 18,
   "metadata": {},
   "outputs": [
    {
     "data": {
      "text/html": [
       "<div>\n",
       "<style scoped>\n",
       "    .dataframe tbody tr th:only-of-type {\n",
       "        vertical-align: middle;\n",
       "    }\n",
       "\n",
       "    .dataframe tbody tr th {\n",
       "        vertical-align: top;\n",
       "    }\n",
       "\n",
       "    .dataframe thead th {\n",
       "        text-align: right;\n",
       "    }\n",
       "</style>\n",
       "<table border=\"1\" class=\"dataframe\">\n",
       "  <thead>\n",
       "    <tr style=\"text-align: right;\">\n",
       "      <th></th>\n",
       "      <th>card_id</th>\n",
       "      <th>N</th>\n",
       "    </tr>\n",
       "  </thead>\n",
       "  <tbody>\n",
       "    <tr>\n",
       "      <th>0</th>\n",
       "      <td>C_ID_00007093C1</td>\n",
       "      <td>35</td>\n",
       "    </tr>\n",
       "    <tr>\n",
       "      <th>1</th>\n",
       "      <td>C_ID_0001238066</td>\n",
       "      <td>3</td>\n",
       "    </tr>\n",
       "    <tr>\n",
       "      <th>2</th>\n",
       "      <td>C_ID_0001506EF0</td>\n",
       "      <td>4</td>\n",
       "    </tr>\n",
       "    <tr>\n",
       "      <th>3</th>\n",
       "      <td>C_ID_0001793786</td>\n",
       "      <td>27</td>\n",
       "    </tr>\n",
       "    <tr>\n",
       "      <th>4</th>\n",
       "      <td>C_ID_000183FDDA</td>\n",
       "      <td>7</td>\n",
       "    </tr>\n",
       "    <tr>\n",
       "      <th>5</th>\n",
       "      <td>C_ID_00024E244B</td>\n",
       "      <td>17</td>\n",
       "    </tr>\n",
       "    <tr>\n",
       "      <th>6</th>\n",
       "      <td>C_ID_0002709B5A</td>\n",
       "      <td>6</td>\n",
       "    </tr>\n",
       "    <tr>\n",
       "      <th>7</th>\n",
       "      <td>C_ID_00027503E2</td>\n",
       "      <td>18</td>\n",
       "    </tr>\n",
       "    <tr>\n",
       "      <th>8</th>\n",
       "      <td>C_ID_000298032A</td>\n",
       "      <td>2</td>\n",
       "    </tr>\n",
       "    <tr>\n",
       "      <th>9</th>\n",
       "      <td>C_ID_0002BA3C2E</td>\n",
       "      <td>15</td>\n",
       "    </tr>\n",
       "    <tr>\n",
       "      <th>10</th>\n",
       "      <td>C_ID_0002C7C2C1</td>\n",
       "      <td>9</td>\n",
       "    </tr>\n",
       "    <tr>\n",
       "      <th>11</th>\n",
       "      <td>C_ID_00032DF08F</td>\n",
       "      <td>20</td>\n",
       "    </tr>\n",
       "    <tr>\n",
       "      <th>12</th>\n",
       "      <td>C_ID_0003754056</td>\n",
       "      <td>1</td>\n",
       "    </tr>\n",
       "    <tr>\n",
       "      <th>13</th>\n",
       "      <td>C_ID_000377F6A0</td>\n",
       "      <td>6</td>\n",
       "    </tr>\n",
       "    <tr>\n",
       "      <th>14</th>\n",
       "      <td>C_ID_0003BE3C83</td>\n",
       "      <td>25</td>\n",
       "    </tr>\n",
       "    <tr>\n",
       "      <th>15</th>\n",
       "      <td>C_ID_0003F41435</td>\n",
       "      <td>6</td>\n",
       "    </tr>\n",
       "    <tr>\n",
       "      <th>16</th>\n",
       "      <td>C_ID_00042D509C</td>\n",
       "      <td>44</td>\n",
       "    </tr>\n",
       "    <tr>\n",
       "      <th>17</th>\n",
       "      <td>C_ID_0004587331</td>\n",
       "      <td>2</td>\n",
       "    </tr>\n",
       "    <tr>\n",
       "      <th>18</th>\n",
       "      <td>C_ID_0004725B87</td>\n",
       "      <td>7</td>\n",
       "    </tr>\n",
       "    <tr>\n",
       "      <th>19</th>\n",
       "      <td>C_ID_0004888DDD</td>\n",
       "      <td>5</td>\n",
       "    </tr>\n",
       "    <tr>\n",
       "      <th>20</th>\n",
       "      <td>C_ID_0004B68C49</td>\n",
       "      <td>0</td>\n",
       "    </tr>\n",
       "    <tr>\n",
       "      <th>21</th>\n",
       "      <td>C_ID_0004C2A5AB</td>\n",
       "      <td>3</td>\n",
       "    </tr>\n",
       "    <tr>\n",
       "      <th>22</th>\n",
       "      <td>C_ID_00057B99FE</td>\n",
       "      <td>2</td>\n",
       "    </tr>\n",
       "    <tr>\n",
       "      <th>23</th>\n",
       "      <td>C_ID_000599DAF9</td>\n",
       "      <td>2</td>\n",
       "    </tr>\n",
       "    <tr>\n",
       "      <th>24</th>\n",
       "      <td>C_ID_0005B2F279</td>\n",
       "      <td>0</td>\n",
       "    </tr>\n",
       "    <tr>\n",
       "      <th>25</th>\n",
       "      <td>C_ID_0005B5804F</td>\n",
       "      <td>0</td>\n",
       "    </tr>\n",
       "    <tr>\n",
       "      <th>26</th>\n",
       "      <td>C_ID_0005F16CC8</td>\n",
       "      <td>17</td>\n",
       "    </tr>\n",
       "    <tr>\n",
       "      <th>27</th>\n",
       "      <td>C_ID_0006152DB8</td>\n",
       "      <td>10</td>\n",
       "    </tr>\n",
       "    <tr>\n",
       "      <th>28</th>\n",
       "      <td>C_ID_000616F4A8</td>\n",
       "      <td>2</td>\n",
       "    </tr>\n",
       "    <tr>\n",
       "      <th>29</th>\n",
       "      <td>C_ID_000664AA02</td>\n",
       "      <td>0</td>\n",
       "    </tr>\n",
       "    <tr>\n",
       "      <th>...</th>\n",
       "      <td>...</td>\n",
       "      <td>...</td>\n",
       "    </tr>\n",
       "    <tr>\n",
       "      <th>325510</th>\n",
       "      <td>C_ID_FFFB79FB56</td>\n",
       "      <td>0</td>\n",
       "    </tr>\n",
       "    <tr>\n",
       "      <th>325511</th>\n",
       "      <td>C_ID_FFFB9EA3F6</td>\n",
       "      <td>16</td>\n",
       "    </tr>\n",
       "    <tr>\n",
       "      <th>325512</th>\n",
       "      <td>C_ID_FFFBA72DC5</td>\n",
       "      <td>9</td>\n",
       "    </tr>\n",
       "    <tr>\n",
       "      <th>325513</th>\n",
       "      <td>C_ID_FFFBDF036B</td>\n",
       "      <td>19</td>\n",
       "    </tr>\n",
       "    <tr>\n",
       "      <th>325514</th>\n",
       "      <td>C_ID_FFFBEE5C24</td>\n",
       "      <td>2</td>\n",
       "    </tr>\n",
       "    <tr>\n",
       "      <th>325515</th>\n",
       "      <td>C_ID_FFFC96BF24</td>\n",
       "      <td>16</td>\n",
       "    </tr>\n",
       "    <tr>\n",
       "      <th>325516</th>\n",
       "      <td>C_ID_FFFCB74F49</td>\n",
       "      <td>13</td>\n",
       "    </tr>\n",
       "    <tr>\n",
       "      <th>325517</th>\n",
       "      <td>C_ID_FFFCF66E12</td>\n",
       "      <td>1</td>\n",
       "    </tr>\n",
       "    <tr>\n",
       "      <th>325518</th>\n",
       "      <td>C_ID_FFFD070E0E</td>\n",
       "      <td>6</td>\n",
       "    </tr>\n",
       "    <tr>\n",
       "      <th>325519</th>\n",
       "      <td>C_ID_FFFD1207A8</td>\n",
       "      <td>33</td>\n",
       "    </tr>\n",
       "    <tr>\n",
       "      <th>325520</th>\n",
       "      <td>C_ID_FFFD24DCF3</td>\n",
       "      <td>1</td>\n",
       "    </tr>\n",
       "    <tr>\n",
       "      <th>325521</th>\n",
       "      <td>C_ID_FFFD337484</td>\n",
       "      <td>3</td>\n",
       "    </tr>\n",
       "    <tr>\n",
       "      <th>325522</th>\n",
       "      <td>C_ID_FFFD345048</td>\n",
       "      <td>11</td>\n",
       "    </tr>\n",
       "    <tr>\n",
       "      <th>325523</th>\n",
       "      <td>C_ID_FFFD351E7F</td>\n",
       "      <td>21</td>\n",
       "    </tr>\n",
       "    <tr>\n",
       "      <th>325524</th>\n",
       "      <td>C_ID_FFFD93C8BF</td>\n",
       "      <td>7</td>\n",
       "    </tr>\n",
       "    <tr>\n",
       "      <th>325525</th>\n",
       "      <td>C_ID_FFFD943B91</td>\n",
       "      <td>15</td>\n",
       "    </tr>\n",
       "    <tr>\n",
       "      <th>325526</th>\n",
       "      <td>C_ID_FFFDAD8AA0</td>\n",
       "      <td>7</td>\n",
       "    </tr>\n",
       "    <tr>\n",
       "      <th>325527</th>\n",
       "      <td>C_ID_FFFDE15AB6</td>\n",
       "      <td>10</td>\n",
       "    </tr>\n",
       "    <tr>\n",
       "      <th>325528</th>\n",
       "      <td>C_ID_FFFDF34798</td>\n",
       "      <td>0</td>\n",
       "    </tr>\n",
       "    <tr>\n",
       "      <th>325529</th>\n",
       "      <td>C_ID_FFFE29A04A</td>\n",
       "      <td>3</td>\n",
       "    </tr>\n",
       "    <tr>\n",
       "      <th>325530</th>\n",
       "      <td>C_ID_FFFE78B232</td>\n",
       "      <td>11</td>\n",
       "    </tr>\n",
       "    <tr>\n",
       "      <th>325531</th>\n",
       "      <td>C_ID_FFFE866457</td>\n",
       "      <td>3</td>\n",
       "    </tr>\n",
       "    <tr>\n",
       "      <th>325532</th>\n",
       "      <td>C_ID_FFFEA6DE74</td>\n",
       "      <td>8</td>\n",
       "    </tr>\n",
       "    <tr>\n",
       "      <th>325533</th>\n",
       "      <td>C_ID_FFFECED303</td>\n",
       "      <td>22</td>\n",
       "    </tr>\n",
       "    <tr>\n",
       "      <th>325534</th>\n",
       "      <td>C_ID_FFFEED3A89</td>\n",
       "      <td>3</td>\n",
       "    </tr>\n",
       "    <tr>\n",
       "      <th>325535</th>\n",
       "      <td>C_ID_FFFF1D9928</td>\n",
       "      <td>3</td>\n",
       "    </tr>\n",
       "    <tr>\n",
       "      <th>325536</th>\n",
       "      <td>C_ID_FFFF579D3A</td>\n",
       "      <td>15</td>\n",
       "    </tr>\n",
       "    <tr>\n",
       "      <th>325537</th>\n",
       "      <td>C_ID_FFFF756266</td>\n",
       "      <td>10</td>\n",
       "    </tr>\n",
       "    <tr>\n",
       "      <th>325538</th>\n",
       "      <td>C_ID_FFFF828181</td>\n",
       "      <td>24</td>\n",
       "    </tr>\n",
       "    <tr>\n",
       "      <th>325539</th>\n",
       "      <td>C_ID_FFFFFD5772</td>\n",
       "      <td>9</td>\n",
       "    </tr>\n",
       "  </tbody>\n",
       "</table>\n",
       "<p>325540 rows × 2 columns</p>\n",
       "</div>"
      ],
      "text/plain": [
       "                card_id   N\n",
       "0       C_ID_00007093C1  35\n",
       "1       C_ID_0001238066   3\n",
       "2       C_ID_0001506EF0   4\n",
       "3       C_ID_0001793786  27\n",
       "4       C_ID_000183FDDA   7\n",
       "5       C_ID_00024E244B  17\n",
       "6       C_ID_0002709B5A   6\n",
       "7       C_ID_00027503E2  18\n",
       "8       C_ID_000298032A   2\n",
       "9       C_ID_0002BA3C2E  15\n",
       "10      C_ID_0002C7C2C1   9\n",
       "11      C_ID_00032DF08F  20\n",
       "12      C_ID_0003754056   1\n",
       "13      C_ID_000377F6A0   6\n",
       "14      C_ID_0003BE3C83  25\n",
       "15      C_ID_0003F41435   6\n",
       "16      C_ID_00042D509C  44\n",
       "17      C_ID_0004587331   2\n",
       "18      C_ID_0004725B87   7\n",
       "19      C_ID_0004888DDD   5\n",
       "20      C_ID_0004B68C49   0\n",
       "21      C_ID_0004C2A5AB   3\n",
       "22      C_ID_00057B99FE   2\n",
       "23      C_ID_000599DAF9   2\n",
       "24      C_ID_0005B2F279   0\n",
       "25      C_ID_0005B5804F   0\n",
       "26      C_ID_0005F16CC8  17\n",
       "27      C_ID_0006152DB8  10\n",
       "28      C_ID_000616F4A8   2\n",
       "29      C_ID_000664AA02   0\n",
       "...                 ...  ..\n",
       "325510  C_ID_FFFB79FB56   0\n",
       "325511  C_ID_FFFB9EA3F6  16\n",
       "325512  C_ID_FFFBA72DC5   9\n",
       "325513  C_ID_FFFBDF036B  19\n",
       "325514  C_ID_FFFBEE5C24   2\n",
       "325515  C_ID_FFFC96BF24  16\n",
       "325516  C_ID_FFFCB74F49  13\n",
       "325517  C_ID_FFFCF66E12   1\n",
       "325518  C_ID_FFFD070E0E   6\n",
       "325519  C_ID_FFFD1207A8  33\n",
       "325520  C_ID_FFFD24DCF3   1\n",
       "325521  C_ID_FFFD337484   3\n",
       "325522  C_ID_FFFD345048  11\n",
       "325523  C_ID_FFFD351E7F  21\n",
       "325524  C_ID_FFFD93C8BF   7\n",
       "325525  C_ID_FFFD943B91  15\n",
       "325526  C_ID_FFFDAD8AA0   7\n",
       "325527  C_ID_FFFDE15AB6  10\n",
       "325528  C_ID_FFFDF34798   0\n",
       "325529  C_ID_FFFE29A04A   3\n",
       "325530  C_ID_FFFE78B232  11\n",
       "325531  C_ID_FFFE866457   3\n",
       "325532  C_ID_FFFEA6DE74   8\n",
       "325533  C_ID_FFFECED303  22\n",
       "325534  C_ID_FFFEED3A89   3\n",
       "325535  C_ID_FFFF1D9928   3\n",
       "325536  C_ID_FFFF579D3A  15\n",
       "325537  C_ID_FFFF756266  10\n",
       "325538  C_ID_FFFF828181  24\n",
       "325539  C_ID_FFFFFD5772   9\n",
       "\n",
       "[325540 rows x 2 columns]"
      ]
     },
     "execution_count": 18,
     "metadata": {},
     "output_type": "execute_result"
    }
   ],
   "source": [
    "tt['card_id'] = tt.card_id.apply(lambda x: x.upper().strip())\n",
    "tt"
   ]
  },
  {
   "cell_type": "code",
   "execution_count": 19,
   "metadata": {},
   "outputs": [],
   "source": [
    "total_transaction_merged['card_id'] = total_transaction_merged.card_id.apply(lambda x: x.upper().strip())\n",
    "\n",
    "# total_transaction_merged"
   ]
  },
  {
   "cell_type": "code",
   "execution_count": 20,
   "metadata": {},
   "outputs": [],
   "source": [
    "no_count_merged = total_transaction_merged.merge(tt, how='left', on='card_id')"
   ]
  },
  {
   "cell_type": "code",
   "execution_count": 21,
   "metadata": {},
   "outputs": [],
   "source": [
    "\n",
    "# total_transaction_merged = total_transaction_merged[[i for i in total_transaction_merged.columns.tolist() if i not in ['N','Y']]]\n",
    "# no_count_merged_1 = total_transaction_merged[[i for i in total_transaction_merged.columns.tolist() if i not in ['N','Y']]].merge(tt, how='left', on='card_id')"
   ]
  },
  {
   "cell_type": "code",
   "execution_count": 22,
   "metadata": {},
   "outputs": [
    {
     "data": {
      "text/html": [
       "<div>\n",
       "<style scoped>\n",
       "    .dataframe tbody tr th:only-of-type {\n",
       "        vertical-align: middle;\n",
       "    }\n",
       "\n",
       "    .dataframe tbody tr th {\n",
       "        vertical-align: top;\n",
       "    }\n",
       "\n",
       "    .dataframe thead th {\n",
       "        text-align: right;\n",
       "    }\n",
       "</style>\n",
       "<table border=\"1\" class=\"dataframe\">\n",
       "  <thead>\n",
       "    <tr style=\"text-align: right;\">\n",
       "      <th></th>\n",
       "      <th>card_id</th>\n",
       "      <th>N</th>\n",
       "    </tr>\n",
       "  </thead>\n",
       "  <tbody>\n",
       "    <tr>\n",
       "      <th>0</th>\n",
       "      <td>C_ID_00007093C1</td>\n",
       "      <td>35</td>\n",
       "    </tr>\n",
       "    <tr>\n",
       "      <th>1</th>\n",
       "      <td>C_ID_0001238066</td>\n",
       "      <td>3</td>\n",
       "    </tr>\n",
       "    <tr>\n",
       "      <th>2</th>\n",
       "      <td>C_ID_0001506EF0</td>\n",
       "      <td>4</td>\n",
       "    </tr>\n",
       "    <tr>\n",
       "      <th>3</th>\n",
       "      <td>C_ID_0001793786</td>\n",
       "      <td>27</td>\n",
       "    </tr>\n",
       "    <tr>\n",
       "      <th>4</th>\n",
       "      <td>C_ID_000183FDDA</td>\n",
       "      <td>7</td>\n",
       "    </tr>\n",
       "  </tbody>\n",
       "</table>\n",
       "</div>"
      ],
      "text/plain": [
       "           card_id   N\n",
       "0  C_ID_00007093C1  35\n",
       "1  C_ID_0001238066   3\n",
       "2  C_ID_0001506EF0   4\n",
       "3  C_ID_0001793786  27\n",
       "4  C_ID_000183FDDA   7"
      ]
     },
     "execution_count": 22,
     "metadata": {},
     "output_type": "execute_result"
    }
   ],
   "source": [
    "tt.head()"
   ]
  },
  {
   "cell_type": "code",
   "execution_count": 23,
   "metadata": {},
   "outputs": [
    {
     "data": {
      "text/plain": [
       "31075392"
      ]
     },
     "execution_count": 23,
     "metadata": {},
     "output_type": "execute_result"
    }
   ],
   "source": [
    "len(total_transaction_merged)"
   ]
  },
  {
   "cell_type": "code",
   "execution_count": 24,
   "metadata": {},
   "outputs": [],
   "source": [
    "no_count_merged['total_rejects'] = no_count_merged['N_y'] "
   ]
  },
  {
   "cell_type": "code",
   "execution_count": 25,
   "metadata": {},
   "outputs": [],
   "source": [
    "no_count_merged['total_accepted'] = no_count_merged['total_no_of_transaction'] -no_count_merged['total_rejects']"
   ]
  },
  {
   "cell_type": "code",
   "execution_count": 26,
   "metadata": {},
   "outputs": [],
   "source": [
    "# no_count_merged.head()"
   ]
  },
  {
   "cell_type": "markdown",
   "metadata": {},
   "source": [
    "##### at this point we have total no of transactions, total no of rejected and total no of approved transactions\n",
    "\n",
    "##### we would want another column that says total purchase amount"
   ]
  },
  {
   "cell_type": "code",
   "execution_count": 27,
   "metadata": {},
   "outputs": [],
   "source": [
    "# historical_store = panda.HDFStore('all/yes_no_total_added.h5')\n",
    "# historical_store['df'] = no_count_merged\n",
    "no_count_merged.to_csv('all/yes_no_merged.csv')\n",
    "# no_count_merged[0:25000].to_pickle('all/yes_no_merged_25000.pkl')"
   ]
  },
  {
   "cell_type": "code",
   "execution_count": 28,
   "metadata": {},
   "outputs": [],
   "source": [
    "# no_count_merged[25000:300000].to_pickle('all/yes_no_merged_300000.pkl')"
   ]
  },
  {
   "cell_type": "code",
   "execution_count": 29,
   "metadata": {},
   "outputs": [],
   "source": [
    "# no_count_merged[300000:1000000].to_pickle('all/yes_no_merged_1mil.pkl')"
   ]
  },
  {
   "cell_type": "code",
   "execution_count": 30,
   "metadata": {},
   "outputs": [],
   "source": [
    "# no_count_merged[1000000:2000000].to_pickle('all/yes_no_merged_2mil.pkl')"
   ]
  },
  {
   "cell_type": "code",
   "execution_count": 31,
   "metadata": {},
   "outputs": [],
   "source": [
    "# no_count_merged[2000000:3000000].to_pickle('all/yes_no_merged_3mil.pkl')"
   ]
  },
  {
   "cell_type": "code",
   "execution_count": 32,
   "metadata": {},
   "outputs": [],
   "source": [
    "# no_count_merged[2000000:2000000].to_pickle('all/yes_no_merged_4mil.pkl')"
   ]
  }
 ],
 "metadata": {
  "kernelspec": {
   "display_name": "Python 3",
   "language": "python",
   "name": "python3"
  },
  "language_info": {
   "codemirror_mode": {
    "name": "ipython",
    "version": 3
   },
   "file_extension": ".py",
   "mimetype": "text/x-python",
   "name": "python",
   "nbconvert_exporter": "python",
   "pygments_lexer": "ipython3",
   "version": "3.6.5"
  }
 },
 "nbformat": 4,
 "nbformat_minor": 2
}
