{
 "cells": [
  {
   "cell_type": "markdown",
   "metadata": {},
   "source": [
    "### Costa Rican P overty - Social Scheme Distribution"
   ]
  },
  {
   "cell_type": "code",
   "execution_count": 1,
   "metadata": {},
   "outputs": [],
   "source": [
    "import numpy as np\n",
    "import pandas as panda\n",
    "from matplotlib import pyplot as plot\n",
    "from sklearn.preprocessing import StandardScaler\n",
    "from sklearn.model_selection import train_test_split\n",
    "import seaborn as sns\n",
    "import warnings\n",
    "warnings.simplefilter('ignore')"
   ]
  },
  {
   "cell_type": "code",
   "execution_count": 2,
   "metadata": {},
   "outputs": [
    {
     "data": {
      "text/plain": [
       "(9557, 143)"
      ]
     },
     "execution_count": 2,
     "metadata": {},
     "output_type": "execute_result"
    }
   ],
   "source": [
    "train_data = panda.read_csv('data/train.csv')\n",
    "train_data.shape"
   ]
  },
  {
   "cell_type": "code",
   "execution_count": 3,
   "metadata": {},
   "outputs": [
    {
     "data": {
      "text/html": [
       "<div>\n",
       "<style scoped>\n",
       "    .dataframe tbody tr th:only-of-type {\n",
       "        vertical-align: middle;\n",
       "    }\n",
       "\n",
       "    .dataframe tbody tr th {\n",
       "        vertical-align: top;\n",
       "    }\n",
       "\n",
       "    .dataframe thead th {\n",
       "        text-align: right;\n",
       "    }\n",
       "</style>\n",
       "<table border=\"1\" class=\"dataframe\">\n",
       "  <thead>\n",
       "    <tr style=\"text-align: right;\">\n",
       "      <th></th>\n",
       "      <th>count</th>\n",
       "      <th>unique</th>\n",
       "      <th>top</th>\n",
       "      <th>freq</th>\n",
       "      <th>mean</th>\n",
       "      <th>std</th>\n",
       "      <th>min</th>\n",
       "      <th>25%</th>\n",
       "      <th>50%</th>\n",
       "      <th>75%</th>\n",
       "      <th>max</th>\n",
       "    </tr>\n",
       "  </thead>\n",
       "  <tbody>\n",
       "    <tr>\n",
       "      <th>Id</th>\n",
       "      <td>9557</td>\n",
       "      <td>9557</td>\n",
       "      <td>ID_7173c12fc</td>\n",
       "      <td>1</td>\n",
       "      <td>NaN</td>\n",
       "      <td>NaN</td>\n",
       "      <td>NaN</td>\n",
       "      <td>NaN</td>\n",
       "      <td>NaN</td>\n",
       "      <td>NaN</td>\n",
       "      <td>NaN</td>\n",
       "    </tr>\n",
       "    <tr>\n",
       "      <th>v2a1</th>\n",
       "      <td>2697</td>\n",
       "      <td>NaN</td>\n",
       "      <td>NaN</td>\n",
       "      <td>NaN</td>\n",
       "      <td>165232</td>\n",
       "      <td>150457</td>\n",
       "      <td>0</td>\n",
       "      <td>80000</td>\n",
       "      <td>130000</td>\n",
       "      <td>200000</td>\n",
       "      <td>2.35348e+06</td>\n",
       "    </tr>\n",
       "    <tr>\n",
       "      <th>hacdor</th>\n",
       "      <td>9557</td>\n",
       "      <td>NaN</td>\n",
       "      <td>NaN</td>\n",
       "      <td>NaN</td>\n",
       "      <td>0.0380873</td>\n",
       "      <td>0.191417</td>\n",
       "      <td>0</td>\n",
       "      <td>0</td>\n",
       "      <td>0</td>\n",
       "      <td>0</td>\n",
       "      <td>1</td>\n",
       "    </tr>\n",
       "    <tr>\n",
       "      <th>rooms</th>\n",
       "      <td>9557</td>\n",
       "      <td>NaN</td>\n",
       "      <td>NaN</td>\n",
       "      <td>NaN</td>\n",
       "      <td>4.95553</td>\n",
       "      <td>1.46838</td>\n",
       "      <td>1</td>\n",
       "      <td>4</td>\n",
       "      <td>5</td>\n",
       "      <td>6</td>\n",
       "      <td>11</td>\n",
       "    </tr>\n",
       "    <tr>\n",
       "      <th>hacapo</th>\n",
       "      <td>9557</td>\n",
       "      <td>NaN</td>\n",
       "      <td>NaN</td>\n",
       "      <td>NaN</td>\n",
       "      <td>0.0236476</td>\n",
       "      <td>0.151957</td>\n",
       "      <td>0</td>\n",
       "      <td>0</td>\n",
       "      <td>0</td>\n",
       "      <td>0</td>\n",
       "      <td>1</td>\n",
       "    </tr>\n",
       "    <tr>\n",
       "      <th>v14a</th>\n",
       "      <td>9557</td>\n",
       "      <td>NaN</td>\n",
       "      <td>NaN</td>\n",
       "      <td>NaN</td>\n",
       "      <td>0.994768</td>\n",
       "      <td>0.0721453</td>\n",
       "      <td>0</td>\n",
       "      <td>1</td>\n",
       "      <td>1</td>\n",
       "      <td>1</td>\n",
       "      <td>1</td>\n",
       "    </tr>\n",
       "    <tr>\n",
       "      <th>refrig</th>\n",
       "      <td>9557</td>\n",
       "      <td>NaN</td>\n",
       "      <td>NaN</td>\n",
       "      <td>NaN</td>\n",
       "      <td>0.957623</td>\n",
       "      <td>0.201459</td>\n",
       "      <td>0</td>\n",
       "      <td>1</td>\n",
       "      <td>1</td>\n",
       "      <td>1</td>\n",
       "      <td>1</td>\n",
       "    </tr>\n",
       "    <tr>\n",
       "      <th>v18q</th>\n",
       "      <td>9557</td>\n",
       "      <td>NaN</td>\n",
       "      <td>NaN</td>\n",
       "      <td>NaN</td>\n",
       "      <td>0.231767</td>\n",
       "      <td>0.421983</td>\n",
       "      <td>0</td>\n",
       "      <td>0</td>\n",
       "      <td>0</td>\n",
       "      <td>0</td>\n",
       "      <td>1</td>\n",
       "    </tr>\n",
       "    <tr>\n",
       "      <th>v18q1</th>\n",
       "      <td>2215</td>\n",
       "      <td>NaN</td>\n",
       "      <td>NaN</td>\n",
       "      <td>NaN</td>\n",
       "      <td>1.40406</td>\n",
       "      <td>0.763131</td>\n",
       "      <td>1</td>\n",
       "      <td>1</td>\n",
       "      <td>1</td>\n",
       "      <td>2</td>\n",
       "      <td>6</td>\n",
       "    </tr>\n",
       "    <tr>\n",
       "      <th>r4h1</th>\n",
       "      <td>9557</td>\n",
       "      <td>NaN</td>\n",
       "      <td>NaN</td>\n",
       "      <td>NaN</td>\n",
       "      <td>0.385895</td>\n",
       "      <td>0.680779</td>\n",
       "      <td>0</td>\n",
       "      <td>0</td>\n",
       "      <td>0</td>\n",
       "      <td>1</td>\n",
       "      <td>5</td>\n",
       "    </tr>\n",
       "    <tr>\n",
       "      <th>r4h2</th>\n",
       "      <td>9557</td>\n",
       "      <td>NaN</td>\n",
       "      <td>NaN</td>\n",
       "      <td>NaN</td>\n",
       "      <td>1.55917</td>\n",
       "      <td>1.03657</td>\n",
       "      <td>0</td>\n",
       "      <td>1</td>\n",
       "      <td>1</td>\n",
       "      <td>2</td>\n",
       "      <td>8</td>\n",
       "    </tr>\n",
       "    <tr>\n",
       "      <th>r4h3</th>\n",
       "      <td>9557</td>\n",
       "      <td>NaN</td>\n",
       "      <td>NaN</td>\n",
       "      <td>NaN</td>\n",
       "      <td>1.94507</td>\n",
       "      <td>1.18885</td>\n",
       "      <td>0</td>\n",
       "      <td>1</td>\n",
       "      <td>2</td>\n",
       "      <td>3</td>\n",
       "      <td>8</td>\n",
       "    </tr>\n",
       "    <tr>\n",
       "      <th>r4m1</th>\n",
       "      <td>9557</td>\n",
       "      <td>NaN</td>\n",
       "      <td>NaN</td>\n",
       "      <td>NaN</td>\n",
       "      <td>0.399184</td>\n",
       "      <td>0.69246</td>\n",
       "      <td>0</td>\n",
       "      <td>0</td>\n",
       "      <td>0</td>\n",
       "      <td>1</td>\n",
       "      <td>6</td>\n",
       "    </tr>\n",
       "    <tr>\n",
       "      <th>r4m2</th>\n",
       "      <td>9557</td>\n",
       "      <td>NaN</td>\n",
       "      <td>NaN</td>\n",
       "      <td>NaN</td>\n",
       "      <td>1.66171</td>\n",
       "      <td>0.933052</td>\n",
       "      <td>0</td>\n",
       "      <td>1</td>\n",
       "      <td>1</td>\n",
       "      <td>2</td>\n",
       "      <td>6</td>\n",
       "    </tr>\n",
       "    <tr>\n",
       "      <th>r4m3</th>\n",
       "      <td>9557</td>\n",
       "      <td>NaN</td>\n",
       "      <td>NaN</td>\n",
       "      <td>NaN</td>\n",
       "      <td>2.0609</td>\n",
       "      <td>1.20617</td>\n",
       "      <td>0</td>\n",
       "      <td>1</td>\n",
       "      <td>2</td>\n",
       "      <td>3</td>\n",
       "      <td>8</td>\n",
       "    </tr>\n",
       "    <tr>\n",
       "      <th>r4t1</th>\n",
       "      <td>9557</td>\n",
       "      <td>NaN</td>\n",
       "      <td>NaN</td>\n",
       "      <td>NaN</td>\n",
       "      <td>0.785079</td>\n",
       "      <td>1.04756</td>\n",
       "      <td>0</td>\n",
       "      <td>0</td>\n",
       "      <td>0</td>\n",
       "      <td>1</td>\n",
       "      <td>7</td>\n",
       "    </tr>\n",
       "    <tr>\n",
       "      <th>r4t2</th>\n",
       "      <td>9557</td>\n",
       "      <td>NaN</td>\n",
       "      <td>NaN</td>\n",
       "      <td>NaN</td>\n",
       "      <td>3.22089</td>\n",
       "      <td>1.44099</td>\n",
       "      <td>1</td>\n",
       "      <td>2</td>\n",
       "      <td>3</td>\n",
       "      <td>4</td>\n",
       "      <td>11</td>\n",
       "    </tr>\n",
       "    <tr>\n",
       "      <th>r4t3</th>\n",
       "      <td>9557</td>\n",
       "      <td>NaN</td>\n",
       "      <td>NaN</td>\n",
       "      <td>NaN</td>\n",
       "      <td>4.00596</td>\n",
       "      <td>1.7712</td>\n",
       "      <td>1</td>\n",
       "      <td>3</td>\n",
       "      <td>4</td>\n",
       "      <td>5</td>\n",
       "      <td>13</td>\n",
       "    </tr>\n",
       "    <tr>\n",
       "      <th>tamhog</th>\n",
       "      <td>9557</td>\n",
       "      <td>NaN</td>\n",
       "      <td>NaN</td>\n",
       "      <td>NaN</td>\n",
       "      <td>3.99906</td>\n",
       "      <td>1.77222</td>\n",
       "      <td>1</td>\n",
       "      <td>3</td>\n",
       "      <td>4</td>\n",
       "      <td>5</td>\n",
       "      <td>13</td>\n",
       "    </tr>\n",
       "    <tr>\n",
       "      <th>tamviv</th>\n",
       "      <td>9557</td>\n",
       "      <td>NaN</td>\n",
       "      <td>NaN</td>\n",
       "      <td>NaN</td>\n",
       "      <td>4.09459</td>\n",
       "      <td>1.87643</td>\n",
       "      <td>1</td>\n",
       "      <td>3</td>\n",
       "      <td>4</td>\n",
       "      <td>5</td>\n",
       "      <td>15</td>\n",
       "    </tr>\n",
       "    <tr>\n",
       "      <th>escolari</th>\n",
       "      <td>9557</td>\n",
       "      <td>NaN</td>\n",
       "      <td>NaN</td>\n",
       "      <td>NaN</td>\n",
       "      <td>7.20027</td>\n",
       "      <td>4.73088</td>\n",
       "      <td>0</td>\n",
       "      <td>4</td>\n",
       "      <td>6</td>\n",
       "      <td>11</td>\n",
       "      <td>21</td>\n",
       "    </tr>\n",
       "    <tr>\n",
       "      <th>rez_esc</th>\n",
       "      <td>1629</td>\n",
       "      <td>NaN</td>\n",
       "      <td>NaN</td>\n",
       "      <td>NaN</td>\n",
       "      <td>0.459791</td>\n",
       "      <td>0.94655</td>\n",
       "      <td>0</td>\n",
       "      <td>0</td>\n",
       "      <td>0</td>\n",
       "      <td>1</td>\n",
       "      <td>5</td>\n",
       "    </tr>\n",
       "    <tr>\n",
       "      <th>hhsize</th>\n",
       "      <td>9557</td>\n",
       "      <td>NaN</td>\n",
       "      <td>NaN</td>\n",
       "      <td>NaN</td>\n",
       "      <td>3.99906</td>\n",
       "      <td>1.77222</td>\n",
       "      <td>1</td>\n",
       "      <td>3</td>\n",
       "      <td>4</td>\n",
       "      <td>5</td>\n",
       "      <td>13</td>\n",
       "    </tr>\n",
       "    <tr>\n",
       "      <th>paredblolad</th>\n",
       "      <td>9557</td>\n",
       "      <td>NaN</td>\n",
       "      <td>NaN</td>\n",
       "      <td>NaN</td>\n",
       "      <td>0.594015</td>\n",
       "      <td>0.491107</td>\n",
       "      <td>0</td>\n",
       "      <td>0</td>\n",
       "      <td>1</td>\n",
       "      <td>1</td>\n",
       "      <td>1</td>\n",
       "    </tr>\n",
       "    <tr>\n",
       "      <th>paredzocalo</th>\n",
       "      <td>9557</td>\n",
       "      <td>NaN</td>\n",
       "      <td>NaN</td>\n",
       "      <td>NaN</td>\n",
       "      <td>0.0777441</td>\n",
       "      <td>0.267782</td>\n",
       "      <td>0</td>\n",
       "      <td>0</td>\n",
       "      <td>0</td>\n",
       "      <td>0</td>\n",
       "      <td>1</td>\n",
       "    </tr>\n",
       "    <tr>\n",
       "      <th>paredpreb</th>\n",
       "      <td>9557</td>\n",
       "      <td>NaN</td>\n",
       "      <td>NaN</td>\n",
       "      <td>NaN</td>\n",
       "      <td>0.18803</td>\n",
       "      <td>0.390756</td>\n",
       "      <td>0</td>\n",
       "      <td>0</td>\n",
       "      <td>0</td>\n",
       "      <td>0</td>\n",
       "      <td>1</td>\n",
       "    </tr>\n",
       "    <tr>\n",
       "      <th>pareddes</th>\n",
       "      <td>9557</td>\n",
       "      <td>NaN</td>\n",
       "      <td>NaN</td>\n",
       "      <td>NaN</td>\n",
       "      <td>0.0085801</td>\n",
       "      <td>0.0922354</td>\n",
       "      <td>0</td>\n",
       "      <td>0</td>\n",
       "      <td>0</td>\n",
       "      <td>0</td>\n",
       "      <td>1</td>\n",
       "    </tr>\n",
       "    <tr>\n",
       "      <th>paredmad</th>\n",
       "      <td>9557</td>\n",
       "      <td>NaN</td>\n",
       "      <td>NaN</td>\n",
       "      <td>NaN</td>\n",
       "      <td>0.115622</td>\n",
       "      <td>0.319788</td>\n",
       "      <td>0</td>\n",
       "      <td>0</td>\n",
       "      <td>0</td>\n",
       "      <td>0</td>\n",
       "      <td>1</td>\n",
       "    </tr>\n",
       "    <tr>\n",
       "      <th>paredzinc</th>\n",
       "      <td>9557</td>\n",
       "      <td>NaN</td>\n",
       "      <td>NaN</td>\n",
       "      <td>NaN</td>\n",
       "      <td>0.0130794</td>\n",
       "      <td>0.113621</td>\n",
       "      <td>0</td>\n",
       "      <td>0</td>\n",
       "      <td>0</td>\n",
       "      <td>0</td>\n",
       "      <td>1</td>\n",
       "    </tr>\n",
       "    <tr>\n",
       "      <th>paredfibras</th>\n",
       "      <td>9557</td>\n",
       "      <td>NaN</td>\n",
       "      <td>NaN</td>\n",
       "      <td>NaN</td>\n",
       "      <td>0.00146489</td>\n",
       "      <td>0.0382479</td>\n",
       "      <td>0</td>\n",
       "      <td>0</td>\n",
       "      <td>0</td>\n",
       "      <td>0</td>\n",
       "      <td>1</td>\n",
       "    </tr>\n",
       "    <tr>\n",
       "      <th>...</th>\n",
       "      <td>...</td>\n",
       "      <td>...</td>\n",
       "      <td>...</td>\n",
       "      <td>...</td>\n",
       "      <td>...</td>\n",
       "      <td>...</td>\n",
       "      <td>...</td>\n",
       "      <td>...</td>\n",
       "      <td>...</td>\n",
       "      <td>...</td>\n",
       "      <td>...</td>\n",
       "    </tr>\n",
       "    <tr>\n",
       "      <th>bedrooms</th>\n",
       "      <td>9557</td>\n",
       "      <td>NaN</td>\n",
       "      <td>NaN</td>\n",
       "      <td>NaN</td>\n",
       "      <td>2.73998</td>\n",
       "      <td>0.944507</td>\n",
       "      <td>1</td>\n",
       "      <td>2</td>\n",
       "      <td>3</td>\n",
       "      <td>3</td>\n",
       "      <td>8</td>\n",
       "    </tr>\n",
       "    <tr>\n",
       "      <th>overcrowding</th>\n",
       "      <td>9557</td>\n",
       "      <td>NaN</td>\n",
       "      <td>NaN</td>\n",
       "      <td>NaN</td>\n",
       "      <td>1.60538</td>\n",
       "      <td>0.819946</td>\n",
       "      <td>0.2</td>\n",
       "      <td>1</td>\n",
       "      <td>1.5</td>\n",
       "      <td>2</td>\n",
       "      <td>6</td>\n",
       "    </tr>\n",
       "    <tr>\n",
       "      <th>tipovivi1</th>\n",
       "      <td>9557</td>\n",
       "      <td>NaN</td>\n",
       "      <td>NaN</td>\n",
       "      <td>NaN</td>\n",
       "      <td>0.6185</td>\n",
       "      <td>0.48578</td>\n",
       "      <td>0</td>\n",
       "      <td>0</td>\n",
       "      <td>1</td>\n",
       "      <td>1</td>\n",
       "      <td>1</td>\n",
       "    </tr>\n",
       "    <tr>\n",
       "      <th>tipovivi2</th>\n",
       "      <td>9557</td>\n",
       "      <td>NaN</td>\n",
       "      <td>NaN</td>\n",
       "      <td>NaN</td>\n",
       "      <td>0.100555</td>\n",
       "      <td>0.300754</td>\n",
       "      <td>0</td>\n",
       "      <td>0</td>\n",
       "      <td>0</td>\n",
       "      <td>0</td>\n",
       "      <td>1</td>\n",
       "    </tr>\n",
       "    <tr>\n",
       "      <th>tipovivi3</th>\n",
       "      <td>9557</td>\n",
       "      <td>NaN</td>\n",
       "      <td>NaN</td>\n",
       "      <td>NaN</td>\n",
       "      <td>0.181647</td>\n",
       "      <td>0.385573</td>\n",
       "      <td>0</td>\n",
       "      <td>0</td>\n",
       "      <td>0</td>\n",
       "      <td>0</td>\n",
       "      <td>1</td>\n",
       "    </tr>\n",
       "    <tr>\n",
       "      <th>tipovivi4</th>\n",
       "      <td>9557</td>\n",
       "      <td>NaN</td>\n",
       "      <td>NaN</td>\n",
       "      <td>NaN</td>\n",
       "      <td>0.0170556</td>\n",
       "      <td>0.129485</td>\n",
       "      <td>0</td>\n",
       "      <td>0</td>\n",
       "      <td>0</td>\n",
       "      <td>0</td>\n",
       "      <td>1</td>\n",
       "    </tr>\n",
       "    <tr>\n",
       "      <th>tipovivi5</th>\n",
       "      <td>9557</td>\n",
       "      <td>NaN</td>\n",
       "      <td>NaN</td>\n",
       "      <td>NaN</td>\n",
       "      <td>0.0822434</td>\n",
       "      <td>0.27475</td>\n",
       "      <td>0</td>\n",
       "      <td>0</td>\n",
       "      <td>0</td>\n",
       "      <td>0</td>\n",
       "      <td>1</td>\n",
       "    </tr>\n",
       "    <tr>\n",
       "      <th>computer</th>\n",
       "      <td>9557</td>\n",
       "      <td>NaN</td>\n",
       "      <td>NaN</td>\n",
       "      <td>NaN</td>\n",
       "      <td>0.102124</td>\n",
       "      <td>0.302827</td>\n",
       "      <td>0</td>\n",
       "      <td>0</td>\n",
       "      <td>0</td>\n",
       "      <td>0</td>\n",
       "      <td>1</td>\n",
       "    </tr>\n",
       "    <tr>\n",
       "      <th>television</th>\n",
       "      <td>9557</td>\n",
       "      <td>NaN</td>\n",
       "      <td>NaN</td>\n",
       "      <td>NaN</td>\n",
       "      <td>0.284608</td>\n",
       "      <td>0.451251</td>\n",
       "      <td>0</td>\n",
       "      <td>0</td>\n",
       "      <td>0</td>\n",
       "      <td>1</td>\n",
       "      <td>1</td>\n",
       "    </tr>\n",
       "    <tr>\n",
       "      <th>mobilephone</th>\n",
       "      <td>9557</td>\n",
       "      <td>NaN</td>\n",
       "      <td>NaN</td>\n",
       "      <td>NaN</td>\n",
       "      <td>0.975306</td>\n",
       "      <td>0.155199</td>\n",
       "      <td>0</td>\n",
       "      <td>1</td>\n",
       "      <td>1</td>\n",
       "      <td>1</td>\n",
       "      <td>1</td>\n",
       "    </tr>\n",
       "    <tr>\n",
       "      <th>qmobilephone</th>\n",
       "      <td>9557</td>\n",
       "      <td>NaN</td>\n",
       "      <td>NaN</td>\n",
       "      <td>NaN</td>\n",
       "      <td>2.82149</td>\n",
       "      <td>1.48325</td>\n",
       "      <td>0</td>\n",
       "      <td>2</td>\n",
       "      <td>3</td>\n",
       "      <td>4</td>\n",
       "      <td>10</td>\n",
       "    </tr>\n",
       "    <tr>\n",
       "      <th>lugar1</th>\n",
       "      <td>9557</td>\n",
       "      <td>NaN</td>\n",
       "      <td>NaN</td>\n",
       "      <td>NaN</td>\n",
       "      <td>0.587632</td>\n",
       "      <td>0.492286</td>\n",
       "      <td>0</td>\n",
       "      <td>0</td>\n",
       "      <td>1</td>\n",
       "      <td>1</td>\n",
       "      <td>1</td>\n",
       "    </tr>\n",
       "    <tr>\n",
       "      <th>lugar2</th>\n",
       "      <td>9557</td>\n",
       "      <td>NaN</td>\n",
       "      <td>NaN</td>\n",
       "      <td>NaN</td>\n",
       "      <td>0.0927069</td>\n",
       "      <td>0.290036</td>\n",
       "      <td>0</td>\n",
       "      <td>0</td>\n",
       "      <td>0</td>\n",
       "      <td>0</td>\n",
       "      <td>1</td>\n",
       "    </tr>\n",
       "    <tr>\n",
       "      <th>lugar3</th>\n",
       "      <td>9557</td>\n",
       "      <td>NaN</td>\n",
       "      <td>NaN</td>\n",
       "      <td>NaN</td>\n",
       "      <td>0.0623627</td>\n",
       "      <td>0.241826</td>\n",
       "      <td>0</td>\n",
       "      <td>0</td>\n",
       "      <td>0</td>\n",
       "      <td>0</td>\n",
       "      <td>1</td>\n",
       "    </tr>\n",
       "    <tr>\n",
       "      <th>lugar4</th>\n",
       "      <td>9557</td>\n",
       "      <td>NaN</td>\n",
       "      <td>NaN</td>\n",
       "      <td>NaN</td>\n",
       "      <td>0.0827666</td>\n",
       "      <td>0.275543</td>\n",
       "      <td>0</td>\n",
       "      <td>0</td>\n",
       "      <td>0</td>\n",
       "      <td>0</td>\n",
       "      <td>1</td>\n",
       "    </tr>\n",
       "    <tr>\n",
       "      <th>lugar5</th>\n",
       "      <td>9557</td>\n",
       "      <td>NaN</td>\n",
       "      <td>NaN</td>\n",
       "      <td>NaN</td>\n",
       "      <td>0.0938579</td>\n",
       "      <td>0.291646</td>\n",
       "      <td>0</td>\n",
       "      <td>0</td>\n",
       "      <td>0</td>\n",
       "      <td>0</td>\n",
       "      <td>1</td>\n",
       "    </tr>\n",
       "    <tr>\n",
       "      <th>lugar6</th>\n",
       "      <td>9557</td>\n",
       "      <td>NaN</td>\n",
       "      <td>NaN</td>\n",
       "      <td>NaN</td>\n",
       "      <td>0.0806739</td>\n",
       "      <td>0.272348</td>\n",
       "      <td>0</td>\n",
       "      <td>0</td>\n",
       "      <td>0</td>\n",
       "      <td>0</td>\n",
       "      <td>1</td>\n",
       "    </tr>\n",
       "    <tr>\n",
       "      <th>area1</th>\n",
       "      <td>9557</td>\n",
       "      <td>NaN</td>\n",
       "      <td>NaN</td>\n",
       "      <td>NaN</td>\n",
       "      <td>0.714555</td>\n",
       "      <td>0.45165</td>\n",
       "      <td>0</td>\n",
       "      <td>0</td>\n",
       "      <td>1</td>\n",
       "      <td>1</td>\n",
       "      <td>1</td>\n",
       "    </tr>\n",
       "    <tr>\n",
       "      <th>area2</th>\n",
       "      <td>9557</td>\n",
       "      <td>NaN</td>\n",
       "      <td>NaN</td>\n",
       "      <td>NaN</td>\n",
       "      <td>0.285445</td>\n",
       "      <td>0.45165</td>\n",
       "      <td>0</td>\n",
       "      <td>0</td>\n",
       "      <td>0</td>\n",
       "      <td>1</td>\n",
       "      <td>1</td>\n",
       "    </tr>\n",
       "    <tr>\n",
       "      <th>age</th>\n",
       "      <td>9557</td>\n",
       "      <td>NaN</td>\n",
       "      <td>NaN</td>\n",
       "      <td>NaN</td>\n",
       "      <td>34.3035</td>\n",
       "      <td>21.6123</td>\n",
       "      <td>0</td>\n",
       "      <td>17</td>\n",
       "      <td>31</td>\n",
       "      <td>51</td>\n",
       "      <td>97</td>\n",
       "    </tr>\n",
       "    <tr>\n",
       "      <th>SQBescolari</th>\n",
       "      <td>9557</td>\n",
       "      <td>NaN</td>\n",
       "      <td>NaN</td>\n",
       "      <td>NaN</td>\n",
       "      <td>74.2228</td>\n",
       "      <td>76.7775</td>\n",
       "      <td>0</td>\n",
       "      <td>16</td>\n",
       "      <td>36</td>\n",
       "      <td>121</td>\n",
       "      <td>441</td>\n",
       "    </tr>\n",
       "    <tr>\n",
       "      <th>SQBage</th>\n",
       "      <td>9557</td>\n",
       "      <td>NaN</td>\n",
       "      <td>NaN</td>\n",
       "      <td>NaN</td>\n",
       "      <td>1643.77</td>\n",
       "      <td>1741.2</td>\n",
       "      <td>0</td>\n",
       "      <td>289</td>\n",
       "      <td>961</td>\n",
       "      <td>2601</td>\n",
       "      <td>9409</td>\n",
       "    </tr>\n",
       "    <tr>\n",
       "      <th>SQBhogar_total</th>\n",
       "      <td>9557</td>\n",
       "      <td>NaN</td>\n",
       "      <td>NaN</td>\n",
       "      <td>NaN</td>\n",
       "      <td>19.1329</td>\n",
       "      <td>18.7514</td>\n",
       "      <td>1</td>\n",
       "      <td>9</td>\n",
       "      <td>16</td>\n",
       "      <td>25</td>\n",
       "      <td>169</td>\n",
       "    </tr>\n",
       "    <tr>\n",
       "      <th>SQBedjefe</th>\n",
       "      <td>9557</td>\n",
       "      <td>NaN</td>\n",
       "      <td>NaN</td>\n",
       "      <td>NaN</td>\n",
       "      <td>53.5003</td>\n",
       "      <td>78.4458</td>\n",
       "      <td>0</td>\n",
       "      <td>0</td>\n",
       "      <td>36</td>\n",
       "      <td>81</td>\n",
       "      <td>441</td>\n",
       "    </tr>\n",
       "    <tr>\n",
       "      <th>SQBhogar_nin</th>\n",
       "      <td>9557</td>\n",
       "      <td>NaN</td>\n",
       "      <td>NaN</td>\n",
       "      <td>NaN</td>\n",
       "      <td>3.84483</td>\n",
       "      <td>6.9463</td>\n",
       "      <td>0</td>\n",
       "      <td>0</td>\n",
       "      <td>1</td>\n",
       "      <td>4</td>\n",
       "      <td>81</td>\n",
       "    </tr>\n",
       "    <tr>\n",
       "      <th>SQBovercrowding</th>\n",
       "      <td>9557</td>\n",
       "      <td>NaN</td>\n",
       "      <td>NaN</td>\n",
       "      <td>NaN</td>\n",
       "      <td>3.24949</td>\n",
       "      <td>4.12955</td>\n",
       "      <td>0.04</td>\n",
       "      <td>1</td>\n",
       "      <td>2.25</td>\n",
       "      <td>4</td>\n",
       "      <td>36</td>\n",
       "    </tr>\n",
       "    <tr>\n",
       "      <th>SQBdependency</th>\n",
       "      <td>9557</td>\n",
       "      <td>NaN</td>\n",
       "      <td>NaN</td>\n",
       "      <td>NaN</td>\n",
       "      <td>3.90041</td>\n",
       "      <td>12.5118</td>\n",
       "      <td>0</td>\n",
       "      <td>0.111111</td>\n",
       "      <td>0.444444</td>\n",
       "      <td>1.77778</td>\n",
       "      <td>64</td>\n",
       "    </tr>\n",
       "    <tr>\n",
       "      <th>SQBmeaned</th>\n",
       "      <td>9552</td>\n",
       "      <td>NaN</td>\n",
       "      <td>NaN</td>\n",
       "      <td>NaN</td>\n",
       "      <td>102.589</td>\n",
       "      <td>93.5169</td>\n",
       "      <td>0</td>\n",
       "      <td>36</td>\n",
       "      <td>81</td>\n",
       "      <td>134.56</td>\n",
       "      <td>1369</td>\n",
       "    </tr>\n",
       "    <tr>\n",
       "      <th>agesq</th>\n",
       "      <td>9557</td>\n",
       "      <td>NaN</td>\n",
       "      <td>NaN</td>\n",
       "      <td>NaN</td>\n",
       "      <td>1643.77</td>\n",
       "      <td>1741.2</td>\n",
       "      <td>0</td>\n",
       "      <td>289</td>\n",
       "      <td>961</td>\n",
       "      <td>2601</td>\n",
       "      <td>9409</td>\n",
       "    </tr>\n",
       "    <tr>\n",
       "      <th>Target</th>\n",
       "      <td>9557</td>\n",
       "      <td>NaN</td>\n",
       "      <td>NaN</td>\n",
       "      <td>NaN</td>\n",
       "      <td>3.30229</td>\n",
       "      <td>1.00956</td>\n",
       "      <td>1</td>\n",
       "      <td>3</td>\n",
       "      <td>4</td>\n",
       "      <td>4</td>\n",
       "      <td>4</td>\n",
       "    </tr>\n",
       "  </tbody>\n",
       "</table>\n",
       "<p>143 rows × 11 columns</p>\n",
       "</div>"
      ],
      "text/plain": [
       "                count unique           top freq        mean        std   min  \\\n",
       "Id               9557   9557  ID_7173c12fc    1         NaN        NaN   NaN   \n",
       "v2a1             2697    NaN           NaN  NaN      165232     150457     0   \n",
       "hacdor           9557    NaN           NaN  NaN   0.0380873   0.191417     0   \n",
       "rooms            9557    NaN           NaN  NaN     4.95553    1.46838     1   \n",
       "hacapo           9557    NaN           NaN  NaN   0.0236476   0.151957     0   \n",
       "v14a             9557    NaN           NaN  NaN    0.994768  0.0721453     0   \n",
       "refrig           9557    NaN           NaN  NaN    0.957623   0.201459     0   \n",
       "v18q             9557    NaN           NaN  NaN    0.231767   0.421983     0   \n",
       "v18q1            2215    NaN           NaN  NaN     1.40406   0.763131     1   \n",
       "r4h1             9557    NaN           NaN  NaN    0.385895   0.680779     0   \n",
       "r4h2             9557    NaN           NaN  NaN     1.55917    1.03657     0   \n",
       "r4h3             9557    NaN           NaN  NaN     1.94507    1.18885     0   \n",
       "r4m1             9557    NaN           NaN  NaN    0.399184    0.69246     0   \n",
       "r4m2             9557    NaN           NaN  NaN     1.66171   0.933052     0   \n",
       "r4m3             9557    NaN           NaN  NaN      2.0609    1.20617     0   \n",
       "r4t1             9557    NaN           NaN  NaN    0.785079    1.04756     0   \n",
       "r4t2             9557    NaN           NaN  NaN     3.22089    1.44099     1   \n",
       "r4t3             9557    NaN           NaN  NaN     4.00596     1.7712     1   \n",
       "tamhog           9557    NaN           NaN  NaN     3.99906    1.77222     1   \n",
       "tamviv           9557    NaN           NaN  NaN     4.09459    1.87643     1   \n",
       "escolari         9557    NaN           NaN  NaN     7.20027    4.73088     0   \n",
       "rez_esc          1629    NaN           NaN  NaN    0.459791    0.94655     0   \n",
       "hhsize           9557    NaN           NaN  NaN     3.99906    1.77222     1   \n",
       "paredblolad      9557    NaN           NaN  NaN    0.594015   0.491107     0   \n",
       "paredzocalo      9557    NaN           NaN  NaN   0.0777441   0.267782     0   \n",
       "paredpreb        9557    NaN           NaN  NaN     0.18803   0.390756     0   \n",
       "pareddes         9557    NaN           NaN  NaN   0.0085801  0.0922354     0   \n",
       "paredmad         9557    NaN           NaN  NaN    0.115622   0.319788     0   \n",
       "paredzinc        9557    NaN           NaN  NaN   0.0130794   0.113621     0   \n",
       "paredfibras      9557    NaN           NaN  NaN  0.00146489  0.0382479     0   \n",
       "...               ...    ...           ...  ...         ...        ...   ...   \n",
       "bedrooms         9557    NaN           NaN  NaN     2.73998   0.944507     1   \n",
       "overcrowding     9557    NaN           NaN  NaN     1.60538   0.819946   0.2   \n",
       "tipovivi1        9557    NaN           NaN  NaN      0.6185    0.48578     0   \n",
       "tipovivi2        9557    NaN           NaN  NaN    0.100555   0.300754     0   \n",
       "tipovivi3        9557    NaN           NaN  NaN    0.181647   0.385573     0   \n",
       "tipovivi4        9557    NaN           NaN  NaN   0.0170556   0.129485     0   \n",
       "tipovivi5        9557    NaN           NaN  NaN   0.0822434    0.27475     0   \n",
       "computer         9557    NaN           NaN  NaN    0.102124   0.302827     0   \n",
       "television       9557    NaN           NaN  NaN    0.284608   0.451251     0   \n",
       "mobilephone      9557    NaN           NaN  NaN    0.975306   0.155199     0   \n",
       "qmobilephone     9557    NaN           NaN  NaN     2.82149    1.48325     0   \n",
       "lugar1           9557    NaN           NaN  NaN    0.587632   0.492286     0   \n",
       "lugar2           9557    NaN           NaN  NaN   0.0927069   0.290036     0   \n",
       "lugar3           9557    NaN           NaN  NaN   0.0623627   0.241826     0   \n",
       "lugar4           9557    NaN           NaN  NaN   0.0827666   0.275543     0   \n",
       "lugar5           9557    NaN           NaN  NaN   0.0938579   0.291646     0   \n",
       "lugar6           9557    NaN           NaN  NaN   0.0806739   0.272348     0   \n",
       "area1            9557    NaN           NaN  NaN    0.714555    0.45165     0   \n",
       "area2            9557    NaN           NaN  NaN    0.285445    0.45165     0   \n",
       "age              9557    NaN           NaN  NaN     34.3035    21.6123     0   \n",
       "SQBescolari      9557    NaN           NaN  NaN     74.2228    76.7775     0   \n",
       "SQBage           9557    NaN           NaN  NaN     1643.77     1741.2     0   \n",
       "SQBhogar_total   9557    NaN           NaN  NaN     19.1329    18.7514     1   \n",
       "SQBedjefe        9557    NaN           NaN  NaN     53.5003    78.4458     0   \n",
       "SQBhogar_nin     9557    NaN           NaN  NaN     3.84483     6.9463     0   \n",
       "SQBovercrowding  9557    NaN           NaN  NaN     3.24949    4.12955  0.04   \n",
       "SQBdependency    9557    NaN           NaN  NaN     3.90041    12.5118     0   \n",
       "SQBmeaned        9552    NaN           NaN  NaN     102.589    93.5169     0   \n",
       "agesq            9557    NaN           NaN  NaN     1643.77     1741.2     0   \n",
       "Target           9557    NaN           NaN  NaN     3.30229    1.00956     1   \n",
       "\n",
       "                      25%       50%      75%          max  \n",
       "Id                    NaN       NaN      NaN          NaN  \n",
       "v2a1                80000    130000   200000  2.35348e+06  \n",
       "hacdor                  0         0        0            1  \n",
       "rooms                   4         5        6           11  \n",
       "hacapo                  0         0        0            1  \n",
       "v14a                    1         1        1            1  \n",
       "refrig                  1         1        1            1  \n",
       "v18q                    0         0        0            1  \n",
       "v18q1                   1         1        2            6  \n",
       "r4h1                    0         0        1            5  \n",
       "r4h2                    1         1        2            8  \n",
       "r4h3                    1         2        3            8  \n",
       "r4m1                    0         0        1            6  \n",
       "r4m2                    1         1        2            6  \n",
       "r4m3                    1         2        3            8  \n",
       "r4t1                    0         0        1            7  \n",
       "r4t2                    2         3        4           11  \n",
       "r4t3                    3         4        5           13  \n",
       "tamhog                  3         4        5           13  \n",
       "tamviv                  3         4        5           15  \n",
       "escolari                4         6       11           21  \n",
       "rez_esc                 0         0        1            5  \n",
       "hhsize                  3         4        5           13  \n",
       "paredblolad             0         1        1            1  \n",
       "paredzocalo             0         0        0            1  \n",
       "paredpreb               0         0        0            1  \n",
       "pareddes                0         0        0            1  \n",
       "paredmad                0         0        0            1  \n",
       "paredzinc               0         0        0            1  \n",
       "paredfibras             0         0        0            1  \n",
       "...                   ...       ...      ...          ...  \n",
       "bedrooms                2         3        3            8  \n",
       "overcrowding            1       1.5        2            6  \n",
       "tipovivi1               0         1        1            1  \n",
       "tipovivi2               0         0        0            1  \n",
       "tipovivi3               0         0        0            1  \n",
       "tipovivi4               0         0        0            1  \n",
       "tipovivi5               0         0        0            1  \n",
       "computer                0         0        0            1  \n",
       "television              0         0        1            1  \n",
       "mobilephone             1         1        1            1  \n",
       "qmobilephone            2         3        4           10  \n",
       "lugar1                  0         1        1            1  \n",
       "lugar2                  0         0        0            1  \n",
       "lugar3                  0         0        0            1  \n",
       "lugar4                  0         0        0            1  \n",
       "lugar5                  0         0        0            1  \n",
       "lugar6                  0         0        0            1  \n",
       "area1                   0         1        1            1  \n",
       "area2                   0         0        1            1  \n",
       "age                    17        31       51           97  \n",
       "SQBescolari            16        36      121          441  \n",
       "SQBage                289       961     2601         9409  \n",
       "SQBhogar_total          9        16       25          169  \n",
       "SQBedjefe               0        36       81          441  \n",
       "SQBhogar_nin            0         1        4           81  \n",
       "SQBovercrowding         1      2.25        4           36  \n",
       "SQBdependency    0.111111  0.444444  1.77778           64  \n",
       "SQBmeaned              36        81   134.56         1369  \n",
       "agesq                 289       961     2601         9409  \n",
       "Target                  3         4        4            4  \n",
       "\n",
       "[143 rows x 11 columns]"
      ]
     },
     "execution_count": 3,
     "metadata": {},
     "output_type": "execute_result"
    }
   ],
   "source": [
    "train_data.describe(include='all').T"
   ]
  },
  {
   "cell_type": "code",
   "execution_count": 4,
   "metadata": {},
   "outputs": [],
   "source": [
    "train_data.columns = [str(i).lower() for i in train_data.columns.tolist()]"
   ]
  },
  {
   "cell_type": "markdown",
   "metadata": {},
   "source": [
    "We will look at target variable first"
   ]
  },
  {
   "cell_type": "code",
   "execution_count": 5,
   "metadata": {},
   "outputs": [
    {
     "data": {
      "text/plain": [
       "count    9557.000000\n",
       "mean        3.302292\n",
       "std         1.009565\n",
       "min         1.000000\n",
       "25%         3.000000\n",
       "50%         4.000000\n",
       "75%         4.000000\n",
       "max         4.000000\n",
       "Name: target, dtype: float64"
      ]
     },
     "execution_count": 5,
     "metadata": {},
     "output_type": "execute_result"
    }
   ],
   "source": [
    "train_data['target'].describe().T"
   ]
  },
  {
   "cell_type": "code",
   "execution_count": 6,
   "metadata": {},
   "outputs": [
    {
     "data": {
      "text/plain": [
       "4    5996\n",
       "2    1597\n",
       "3    1209\n",
       "1     755\n",
       "Name: target, dtype: int64"
      ]
     },
     "execution_count": 6,
     "metadata": {},
     "output_type": "execute_result"
    }
   ],
   "source": [
    "train_data.target.value_counts()"
   ]
  },
  {
   "cell_type": "code",
   "execution_count": 7,
   "metadata": {},
   "outputs": [
    {
     "data": {
      "text/plain": [
       "False"
      ]
     },
     "execution_count": 7,
     "metadata": {},
     "output_type": "execute_result"
    }
   ],
   "source": [
    "train_data.target.isnull().any()"
   ]
  },
  {
   "cell_type": "code",
   "execution_count": 8,
   "metadata": {},
   "outputs": [
    {
     "data": {
      "text/plain": [
       "(array([1, 2, 3, 4], dtype=int64),\n",
       " array([   0,  755, 1597, 1209, 5996], dtype=int64))"
      ]
     },
     "execution_count": 8,
     "metadata": {},
     "output_type": "execute_result"
    }
   ],
   "source": [
    "np.unique(train_data.target.values),np.bincount(train_data.target.values)"
   ]
  },
  {
   "cell_type": "code",
   "execution_count": 9,
   "metadata": {},
   "outputs": [
    {
     "data": {
      "image/png": "[encoded data removed]",
      "text/plain": [
       "<Figure size 432x288 with 1 Axes>"
      ]
     },
     "metadata": {},
     "output_type": "display_data"
    }
   ],
   "source": [
    "train_data.target.value_counts().plot(kind='bar')\n",
    "\n",
    "plot.show()"
   ]
  },
  {
   "cell_type": "markdown",
   "metadata": {},
   "source": [
    "##### Conclusions:\n",
    "\n",
    "1. Target variable are discrete with values of 1,2,3,4\n",
    "\n",
    "\n",
    "2. There are no data format mismatches or null data in target variables\n",
    "\n",
    "\n",
    "3. Target variables are imbalanced. There is a higer frequency of target 4 wrt to others , more than double\n",
    "    \n",
    "    \n",
    "    \n",
    "From our data dictionary we know the following:\n",
    "\n",
    "1 = extreme poverty \n",
    "\n",
    "2 = moderate poverty \n",
    "\n",
    "3 = vulnerable households \n",
    "\n",
    "4 = non vulnerable households"
   ]
  },
  {
   "cell_type": "markdown",
   "metadata": {},
   "source": [
    "\n",
    "<br>\n",
    "#### Time to look at the other columns, one by one\n",
    "\n"
   ]
  },
  {
   "cell_type": "markdown",
   "metadata": {},
   "source": [
    "First lets segregate out the numerical columns and non numerical columns"
   ]
  },
  {
   "cell_type": "code",
   "execution_count": 10,
   "metadata": {},
   "outputs": [
    {
     "data": {
      "text/html": [
       "<div>\n",
       "<style scoped>\n",
       "    .dataframe tbody tr th:only-of-type {\n",
       "        vertical-align: middle;\n",
       "    }\n",
       "\n",
       "    .dataframe tbody tr th {\n",
       "        vertical-align: top;\n",
       "    }\n",
       "\n",
       "    .dataframe thead th {\n",
       "        text-align: right;\n",
       "    }\n",
       "</style>\n",
       "<table border=\"1\" class=\"dataframe\">\n",
       "  <thead>\n",
       "    <tr style=\"text-align: right;\">\n",
       "      <th></th>\n",
       "      <th>col_name</th>\n",
       "      <th>col_type</th>\n",
       "    </tr>\n",
       "  </thead>\n",
       "  <tbody>\n",
       "    <tr>\n",
       "      <th>0</th>\n",
       "      <td>id</td>\n",
       "      <td>object</td>\n",
       "    </tr>\n",
       "    <tr>\n",
       "      <th>1</th>\n",
       "      <td>v2a1</td>\n",
       "      <td>float64</td>\n",
       "    </tr>\n",
       "    <tr>\n",
       "      <th>2</th>\n",
       "      <td>hacdor</td>\n",
       "      <td>int64</td>\n",
       "    </tr>\n",
       "    <tr>\n",
       "      <th>3</th>\n",
       "      <td>rooms</td>\n",
       "      <td>int64</td>\n",
       "    </tr>\n",
       "    <tr>\n",
       "      <th>4</th>\n",
       "      <td>hacapo</td>\n",
       "      <td>int64</td>\n",
       "    </tr>\n",
       "  </tbody>\n",
       "</table>\n",
       "</div>"
      ],
      "text/plain": [
       "  col_name col_type\n",
       "0       id   object\n",
       "1     v2a1  float64\n",
       "2   hacdor    int64\n",
       "3    rooms    int64\n",
       "4   hacapo    int64"
      ]
     },
     "execution_count": 10,
     "metadata": {},
     "output_type": "execute_result"
    }
   ],
   "source": [
    "train_data_dtypes = panda.DataFrame(train_data.dtypes).reset_index()\n",
    "train_data_dtypes.columns = ['col_name', 'col_type']\n",
    "train_data_dtypes.head()"
   ]
  },
  {
   "cell_type": "code",
   "execution_count": 11,
   "metadata": {},
   "outputs": [
    {
     "data": {
      "text/plain": [
       "int64      130\n",
       "float64      8\n",
       "object       5\n",
       "Name: col_type, dtype: int64"
      ]
     },
     "execution_count": 11,
     "metadata": {},
     "output_type": "execute_result"
    }
   ],
   "source": [
    "train_data_dtypes.col_type.value_counts()"
   ]
  },
  {
   "cell_type": "code",
   "execution_count": 12,
   "metadata": {},
   "outputs": [
    {
     "data": {
      "text/plain": [
       "['id', 'idhogar', 'dependency', 'edjefe', 'edjefa']"
      ]
     },
     "execution_count": 12,
     "metadata": {},
     "output_type": "execute_result"
    }
   ],
   "source": [
    "numerical_columns = train_data_dtypes[train_data_dtypes['col_type'] != np.object]['col_name'].values\n",
    "non_numerical_columns = [i for i in train_data.columns.tolist() if i not in numerical_columns]\n",
    "non_numerical_columns"
   ]
  },
  {
   "cell_type": "code",
   "execution_count": 13,
   "metadata": {},
   "outputs": [
    {
     "name": "stdout",
     "output_type": "stream",
     "text": [
      "Total Number of numerical columns:  138  and non numerical columns:  5\n"
     ]
    }
   ],
   "source": [
    "print('Total Number of numerical columns: ', len(numerical_columns), ' and non numerical columns: ', len(non_numerical_columns))"
   ]
  },
  {
   "cell_type": "code",
   "execution_count": 14,
   "metadata": {},
   "outputs": [
    {
     "name": "stdout",
     "output_type": "stream",
     "text": [
      "<class 'pandas.core.frame.DataFrame'>\n",
      "RangeIndex: 9557 entries, 0 to 9556\n",
      "Data columns (total 5 columns):\n",
      "id            9557 non-null object\n",
      "idhogar       9557 non-null object\n",
      "dependency    9557 non-null object\n",
      "edjefe        9557 non-null object\n",
      "edjefa        9557 non-null object\n",
      "dtypes: object(5)\n",
      "memory usage: 373.4+ KB\n"
     ]
    }
   ],
   "source": [
    "train_data[non_numerical_columns].info()"
   ]
  },
  {
   "cell_type": "code",
   "execution_count": 15,
   "metadata": {},
   "outputs": [
    {
     "data": {
      "text/html": [
       "<div>\n",
       "<style scoped>\n",
       "    .dataframe tbody tr th:only-of-type {\n",
       "        vertical-align: middle;\n",
       "    }\n",
       "\n",
       "    .dataframe tbody tr th {\n",
       "        vertical-align: top;\n",
       "    }\n",
       "\n",
       "    .dataframe thead th {\n",
       "        text-align: right;\n",
       "    }\n",
       "</style>\n",
       "<table border=\"1\" class=\"dataframe\">\n",
       "  <thead>\n",
       "    <tr style=\"text-align: right;\">\n",
       "      <th></th>\n",
       "      <th>count</th>\n",
       "      <th>unique</th>\n",
       "      <th>top</th>\n",
       "      <th>freq</th>\n",
       "    </tr>\n",
       "  </thead>\n",
       "  <tbody>\n",
       "    <tr>\n",
       "      <th>id</th>\n",
       "      <td>9557</td>\n",
       "      <td>9557</td>\n",
       "      <td>ID_7173c12fc</td>\n",
       "      <td>1</td>\n",
       "    </tr>\n",
       "    <tr>\n",
       "      <th>idhogar</th>\n",
       "      <td>9557</td>\n",
       "      <td>2988</td>\n",
       "      <td>fd8a6d014</td>\n",
       "      <td>13</td>\n",
       "    </tr>\n",
       "    <tr>\n",
       "      <th>dependency</th>\n",
       "      <td>9557</td>\n",
       "      <td>31</td>\n",
       "      <td>yes</td>\n",
       "      <td>2192</td>\n",
       "    </tr>\n",
       "    <tr>\n",
       "      <th>edjefe</th>\n",
       "      <td>9557</td>\n",
       "      <td>22</td>\n",
       "      <td>no</td>\n",
       "      <td>3762</td>\n",
       "    </tr>\n",
       "    <tr>\n",
       "      <th>edjefa</th>\n",
       "      <td>9557</td>\n",
       "      <td>22</td>\n",
       "      <td>no</td>\n",
       "      <td>6230</td>\n",
       "    </tr>\n",
       "  </tbody>\n",
       "</table>\n",
       "</div>"
      ],
      "text/plain": [
       "           count unique           top  freq\n",
       "id          9557   9557  ID_7173c12fc     1\n",
       "idhogar     9557   2988     fd8a6d014    13\n",
       "dependency  9557     31           yes  2192\n",
       "edjefe      9557     22            no  3762\n",
       "edjefa      9557     22            no  6230"
      ]
     },
     "execution_count": 15,
     "metadata": {},
     "output_type": "execute_result"
    }
   ],
   "source": [
    "train_data[non_numerical_columns].describe().T"
   ]
  },
  {
   "cell_type": "markdown",
   "metadata": {},
   "source": [
    "1. Columns id is just a row identifier , as such we will ignore the same\n",
    "\n",
    "\n",
    "2. Columns edjefa and edjefe and dependecny are categorical variables. We will rename the columns for ease of use.\n",
    "\n",
    "\n",
    "3. Check for data mismatch, format errors in the categorical variables and convert them to numerical features \n"
   ]
  },
  {
   "cell_type": "code",
   "execution_count": 16,
   "metadata": {},
   "outputs": [],
   "source": [
    "columns_name_dict = {'edjefe':'male_education_years','edjefa':'female_education_years'}\n",
    "train_data.rename(columns = columns_name_dict, inplace = True)\n",
    "\n"
   ]
  },
  {
   "cell_type": "code",
   "execution_count": 17,
   "metadata": {},
   "outputs": [
    {
     "data": {
      "text/plain": [
       "['id',\n",
       " 'idhogar',\n",
       " 'dependency',\n",
       " 'male_education_years',\n",
       " 'female_education_years']"
      ]
     },
     "execution_count": 17,
     "metadata": {},
     "output_type": "execute_result"
    }
   ],
   "source": [
    "non_numerical_columns.extend(columns_name_dict.values())\n",
    "non_numerical_columns = [i for i in non_numerical_columns if i not in columns_name_dict.keys()]\n",
    "non_numerical_columns"
   ]
  },
  {
   "cell_type": "code",
   "execution_count": 18,
   "metadata": {},
   "outputs": [
    {
     "data": {
      "text/html": [
       "<div>\n",
       "<style scoped>\n",
       "    .dataframe tbody tr th:only-of-type {\n",
       "        vertical-align: middle;\n",
       "    }\n",
       "\n",
       "    .dataframe tbody tr th {\n",
       "        vertical-align: top;\n",
       "    }\n",
       "\n",
       "    .dataframe thead th {\n",
       "        text-align: right;\n",
       "    }\n",
       "</style>\n",
       "<table border=\"1\" class=\"dataframe\">\n",
       "  <thead>\n",
       "    <tr style=\"text-align: right;\">\n",
       "      <th></th>\n",
       "      <th>count</th>\n",
       "      <th>unique</th>\n",
       "      <th>top</th>\n",
       "      <th>freq</th>\n",
       "    </tr>\n",
       "  </thead>\n",
       "  <tbody>\n",
       "    <tr>\n",
       "      <th>id</th>\n",
       "      <td>9557</td>\n",
       "      <td>9557</td>\n",
       "      <td>ID_7173c12fc</td>\n",
       "      <td>1</td>\n",
       "    </tr>\n",
       "    <tr>\n",
       "      <th>idhogar</th>\n",
       "      <td>9557</td>\n",
       "      <td>2988</td>\n",
       "      <td>fd8a6d014</td>\n",
       "      <td>13</td>\n",
       "    </tr>\n",
       "    <tr>\n",
       "      <th>dependency</th>\n",
       "      <td>9557</td>\n",
       "      <td>31</td>\n",
       "      <td>yes</td>\n",
       "      <td>2192</td>\n",
       "    </tr>\n",
       "    <tr>\n",
       "      <th>male_education_years</th>\n",
       "      <td>9557</td>\n",
       "      <td>22</td>\n",
       "      <td>no</td>\n",
       "      <td>3762</td>\n",
       "    </tr>\n",
       "    <tr>\n",
       "      <th>female_education_years</th>\n",
       "      <td>9557</td>\n",
       "      <td>22</td>\n",
       "      <td>no</td>\n",
       "      <td>6230</td>\n",
       "    </tr>\n",
       "  </tbody>\n",
       "</table>\n",
       "</div>"
      ],
      "text/plain": [
       "                       count unique           top  freq\n",
       "id                      9557   9557  ID_7173c12fc     1\n",
       "idhogar                 9557   2988     fd8a6d014    13\n",
       "dependency              9557     31           yes  2192\n",
       "male_education_years    9557     22            no  3762\n",
       "female_education_years  9557     22            no  6230"
      ]
     },
     "execution_count": 18,
     "metadata": {},
     "output_type": "execute_result"
    }
   ],
   "source": [
    "train_data[non_numerical_columns].describe().T # we can see that the columns names have been properly updated"
   ]
  },
  {
   "cell_type": "code",
   "execution_count": 19,
   "metadata": {},
   "outputs": [
    {
     "data": {
      "text/plain": [
       "no     3762\n",
       "6      1845\n",
       "11      751\n",
       "9       486\n",
       "3       307\n",
       "15      285\n",
       "8       257\n",
       "7       234\n",
       "5       222\n",
       "14      208\n",
       "17      202\n",
       "2       194\n",
       "4       137\n",
       "16      134\n",
       "yes     123\n",
       "12      113\n",
       "10      111\n",
       "13      103\n",
       "21       43\n",
       "18       19\n",
       "19       14\n",
       "20        7\n",
       "Name: male_education_years, dtype: int64"
      ]
     },
     "execution_count": 19,
     "metadata": {},
     "output_type": "execute_result"
    }
   ],
   "source": [
    "#lets check for data mismatches an empty values\n",
    "\n",
    "train_data.male_education_years.value_counts()"
   ]
  },
  {
   "cell_type": "code",
   "execution_count": 20,
   "metadata": {},
   "outputs": [
    {
     "data": {
      "text/plain": [
       "False"
      ]
     },
     "execution_count": 20,
     "metadata": {},
     "output_type": "execute_result"
    }
   ],
   "source": [
    "train_data.male_education_years.isnull().any() # no empty values."
   ]
  },
  {
   "cell_type": "code",
   "execution_count": 21,
   "metadata": {},
   "outputs": [
    {
     "data": {
      "text/plain": [
       "0     3762\n",
       "6     1845\n",
       "11     751\n",
       "9      486\n",
       "3      307\n",
       "15     285\n",
       "8      257\n",
       "7      234\n",
       "5      222\n",
       "14     208\n",
       "17     202\n",
       "2      194\n",
       "4      137\n",
       "16     134\n",
       "1      123\n",
       "12     113\n",
       "10     111\n",
       "13     103\n",
       "21      43\n",
       "18      19\n",
       "19      14\n",
       "20       7\n",
       "Name: male_education_years, dtype: int64"
      ]
     },
     "execution_count": 21,
     "metadata": {},
     "output_type": "execute_result"
    }
   ],
   "source": [
    "# based on our data dictionary value of yes = 1 and no = 0. so we would need to replace the values\n",
    "\n",
    "train_data['male_education_years']=train_data.male_education_years.apply(lambda x: 1 if x=='yes' else( 0 if x=='no' else x))\n",
    "train_data.male_education_years.value_counts()"
   ]
  },
  {
   "cell_type": "code",
   "execution_count": 22,
   "metadata": {},
   "outputs": [
    {
     "data": {
      "text/plain": [
       "0     6230\n",
       "6      947\n",
       "11     399\n",
       "9      237\n",
       "8      217\n",
       "15     188\n",
       "7      179\n",
       "5      176\n",
       "3      152\n",
       "4      136\n",
       "14     120\n",
       "16     113\n",
       "10      96\n",
       "2       84\n",
       "17      76\n",
       "12      72\n",
       "1       69\n",
       "13      52\n",
       "21       5\n",
       "19       4\n",
       "18       3\n",
       "20       2\n",
       "Name: female_education_years, dtype: int64"
      ]
     },
     "execution_count": 22,
     "metadata": {},
     "output_type": "execute_result"
    }
   ],
   "source": [
    "##similar treatment for female education\n",
    "\n",
    "\n",
    "train_data['female_education_years']=train_data.female_education_years.apply(lambda x: 1 if x=='yes' else( 0 if x=='no' else x))\n",
    "train_data.female_education_years.value_counts()"
   ]
  },
  {
   "cell_type": "code",
   "execution_count": 23,
   "metadata": {},
   "outputs": [
    {
     "name": "stdout",
     "output_type": "stream",
     "text": [
      "<class 'pandas.core.frame.DataFrame'>\n",
      "RangeIndex: 9557 entries, 0 to 9556\n",
      "Data columns (total 2 columns):\n",
      "female_education_years    9557 non-null object\n",
      "male_education_years      9557 non-null object\n",
      "dtypes: object(2)\n",
      "memory usage: 149.4+ KB\n"
     ]
    }
   ],
   "source": [
    "train_data[['female_education_years','male_education_years']].info()"
   ]
  },
  {
   "cell_type": "code",
   "execution_count": 24,
   "metadata": {},
   "outputs": [
    {
     "data": {
      "text/plain": [
       "['id', 'idhogar', 'dependency']"
      ]
     },
     "execution_count": 24,
     "metadata": {},
     "output_type": "execute_result"
    }
   ],
   "source": [
    "## lets convert our male /female education  years to integer values and at the same time add them to\n",
    "## numerical columns and remove from non numerical columns\n",
    "train_data['male_education_years'] = train_data['male_education_years'].astype(np.int64)\n",
    "train_data['female_education_years'] = train_data['female_education_years'].astype(np.int64)\n",
    "\n",
    "numerical_columns = numerical_columns.tolist()\n",
    "numerical_columns.extend(['male_education_years','female_education_years'])\n",
    "non_numerical_columns = [i for i in non_numerical_columns if i not in ['male_education_years','female_education_years']]\n",
    "non_numerical_columns"
   ]
  },
  {
   "cell_type": "code",
   "execution_count": 25,
   "metadata": {},
   "outputs": [
    {
     "data": {
      "text/plain": [
       "yes    2192\n",
       "no     1747\n",
       ".5     1497\n",
       "2       730\n",
       "1.5     713\n",
       "Name: dependency, dtype: int64"
      ]
     },
     "execution_count": 25,
     "metadata": {},
     "output_type": "execute_result"
    }
   ],
   "source": [
    "train_data.dependency.value_counts().head()"
   ]
  },
  {
   "cell_type": "code",
   "execution_count": 26,
   "metadata": {},
   "outputs": [
    {
     "data": {
      "text/plain": [
       "1.0    2192\n",
       "Name: sqbdependency, dtype: int64"
      ]
     },
     "execution_count": 26,
     "metadata": {},
     "output_type": "execute_result"
    }
   ],
   "source": [
    "## we can see that our dependency has yes or no values. however their conversions will not be as simple as male/female\n",
    "## education years. cehcking in our data dictionary, we can see that another columns SQBdependency has a direct relation with\n",
    "## dependency column, where SQBdependency = dependency squared\n",
    "## lets validate this claim\n",
    "\n",
    "\n",
    "train_data[['dependency','sqbdependency']][train_data['dependency']=='yes']['sqbdependency'].value_counts()\n"
   ]
  },
  {
   "cell_type": "code",
   "execution_count": 27,
   "metadata": {},
   "outputs": [
    {
     "data": {
      "text/plain": [
       "0.0    1747\n",
       "Name: sqbdependency, dtype: int64"
      ]
     },
     "execution_count": 27,
     "metadata": {},
     "output_type": "execute_result"
    }
   ],
   "source": [
    "train_data[['dependency','sqbdependency']][train_data['dependency']=='no']['sqbdependency'].value_counts()\n"
   ]
  },
  {
   "cell_type": "code",
   "execution_count": 28,
   "metadata": {},
   "outputs": [
    {
     "data": {
      "image/png": "[encoded data removed]",
      "text/plain": [
       "<Figure size 720x360 with 1 Axes>"
      ]
     },
     "metadata": {},
     "output_type": "display_data"
    }
   ],
   "source": [
    "# let check for non yes and non no values and their corresponding values in a line plot to see for squared behavior\n",
    "\n",
    "temp = train_data.loc[~train_data['dependency'].isin(['yes','no'])]\n",
    "temp['dependency'] = temp['dependency'].astype(np.float) \n",
    "temp['sqbdependency'] = temp['sqbdependency'].astype(np.float) \n",
    "# temp[['dependency','sqbdependency']].head()\n",
    "plot.figure(figsize= (10,5))\n",
    "plot.scatter(temp.dependency, temp.sqbdependency)\n",
    "plot.show()"
   ]
  },
  {
   "cell_type": "code",
   "execution_count": 29,
   "metadata": {},
   "outputs": [],
   "source": [
    "# we can see a clear parabolic relationship and if we look closely there actally is a sqaured relationship.\n",
    "# based on what is provided in the data dictionary and what we have founf we can safely replace yes with 1 and no with 0\n",
    "# as we did in case of female and male education years\n",
    "\n",
    "\n",
    "train_data['dependency']= train_data['dependency'].apply(lambda x: 1 if x =='yes' else (0 if x =='no' else x))\n",
    "train_data['dependency'] = train_data['dependency'].astype(np.float)\n"
   ]
  },
  {
   "cell_type": "code",
   "execution_count": 30,
   "metadata": {},
   "outputs": [
    {
     "data": {
      "text/plain": [
       "['id', 'idhogar']"
      ]
     },
     "execution_count": 30,
     "metadata": {},
     "output_type": "execute_result"
    }
   ],
   "source": [
    "numerical_columns.append('dependency')\n",
    "non_numerical_columns = [i for i in non_numerical_columns if i not in numerical_columns]\n",
    "\n",
    "non_numerical_columns"
   ]
  },
  {
   "cell_type": "code",
   "execution_count": 31,
   "metadata": {},
   "outputs": [
    {
     "name": "stdout",
     "output_type": "stream",
     "text": [
      "<class 'pandas.core.frame.DataFrame'>\n",
      "RangeIndex: 9557 entries, 0 to 9556\n",
      "Data columns (total 3 columns):\n",
      "dependency                9557 non-null float64\n",
      "male_education_years      9557 non-null int64\n",
      "female_education_years    9557 non-null int64\n",
      "dtypes: float64(1), int64(2)\n",
      "memory usage: 224.1 KB\n"
     ]
    }
   ],
   "source": [
    "train_data[['dependency','male_education_years','female_education_years']].info()"
   ]
  },
  {
   "cell_type": "markdown",
   "metadata": {},
   "source": [
    "We are left with only the id columns at the time being. we are going to be working on this later. Lets now tackle the numerical columns one by one. We are going to be checking for:\n",
    "\n",
    "\n",
    "1. Are any of the numerical columns actually categorical data (other than the ones above which we promoted from string to numerical columns)\n",
    "\n",
    "2. Are they any missing values in numerical columns\n",
    "\n",
    "3. Are they any outliers in the numerical columns\n",
    "\n",
    "4. What is the spread/distribution of the numerical columns\n",
    "\n",
    "5. How do the numerical columns relate to the target variable"
   ]
  },
  {
   "cell_type": "code",
   "execution_count": 32,
   "metadata": {},
   "outputs": [
    {
     "data": {
      "text/plain": [
       "141"
      ]
     },
     "execution_count": 32,
     "metadata": {},
     "output_type": "execute_result"
    }
   ],
   "source": [
    "len(numerical_columns)"
   ]
  },
  {
   "cell_type": "code",
   "execution_count": 33,
   "metadata": {},
   "outputs": [],
   "source": [
    "numerical_columns_description = train_data[numerical_columns].describe().T"
   ]
  },
  {
   "cell_type": "code",
   "execution_count": 34,
   "metadata": {},
   "outputs": [
    {
     "data": {
      "text/html": [
       "<div>\n",
       "<style scoped>\n",
       "    .dataframe tbody tr th:only-of-type {\n",
       "        vertical-align: middle;\n",
       "    }\n",
       "\n",
       "    .dataframe tbody tr th {\n",
       "        vertical-align: top;\n",
       "    }\n",
       "\n",
       "    .dataframe thead th {\n",
       "        text-align: right;\n",
       "    }\n",
       "</style>\n",
       "<table border=\"1\" class=\"dataframe\">\n",
       "  <thead>\n",
       "    <tr style=\"text-align: right;\">\n",
       "      <th></th>\n",
       "      <th>col_name</th>\n",
       "      <th>col_type</th>\n",
       "    </tr>\n",
       "  </thead>\n",
       "  <tbody>\n",
       "    <tr>\n",
       "      <th>0</th>\n",
       "      <td>id</td>\n",
       "      <td>object</td>\n",
       "    </tr>\n",
       "    <tr>\n",
       "      <th>1</th>\n",
       "      <td>v2a1</td>\n",
       "      <td>float64</td>\n",
       "    </tr>\n",
       "    <tr>\n",
       "      <th>2</th>\n",
       "      <td>hacdor</td>\n",
       "      <td>int64</td>\n",
       "    </tr>\n",
       "    <tr>\n",
       "      <th>3</th>\n",
       "      <td>rooms</td>\n",
       "      <td>int64</td>\n",
       "    </tr>\n",
       "    <tr>\n",
       "      <th>4</th>\n",
       "      <td>hacapo</td>\n",
       "      <td>int64</td>\n",
       "    </tr>\n",
       "  </tbody>\n",
       "</table>\n",
       "</div>"
      ],
      "text/plain": [
       "  col_name col_type\n",
       "0       id   object\n",
       "1     v2a1  float64\n",
       "2   hacdor    int64\n",
       "3    rooms    int64\n",
       "4   hacapo    int64"
      ]
     },
     "execution_count": 34,
     "metadata": {},
     "output_type": "execute_result"
    }
   ],
   "source": [
    "## since we mucked aroud with a couple of variables and their data types lets check again\n",
    "\n",
    "train_data_dtypes = panda.DataFrame(train_data.dtypes).reset_index()\n",
    "train_data_dtypes.columns = ['col_name', 'col_type']\n",
    "train_data_dtypes.head()"
   ]
  },
  {
   "cell_type": "code",
   "execution_count": 35,
   "metadata": {},
   "outputs": [
    {
     "data": {
      "text/plain": [
       "((141, 8), (143, 2))"
      ]
     },
     "execution_count": 35,
     "metadata": {},
     "output_type": "execute_result"
    }
   ],
   "source": [
    "numerical_columns_description.shape,train_data_dtypes.shape"
   ]
  },
  {
   "cell_type": "code",
   "execution_count": 36,
   "metadata": {},
   "outputs": [],
   "source": [
    "numerical_columns_description.reset_index(inplace = True)\n",
    "numerical_columns_description.rename(columns ={'index':'col_name'},inplace = True)\n"
   ]
  },
  {
   "cell_type": "code",
   "execution_count": 37,
   "metadata": {},
   "outputs": [
    {
     "data": {
      "text/html": [
       "<div>\n",
       "<style scoped>\n",
       "    .dataframe tbody tr th:only-of-type {\n",
       "        vertical-align: middle;\n",
       "    }\n",
       "\n",
       "    .dataframe tbody tr th {\n",
       "        vertical-align: top;\n",
       "    }\n",
       "\n",
       "    .dataframe thead th {\n",
       "        text-align: right;\n",
       "    }\n",
       "</style>\n",
       "<table border=\"1\" class=\"dataframe\">\n",
       "  <thead>\n",
       "    <tr style=\"text-align: right;\">\n",
       "      <th></th>\n",
       "      <th>col_name</th>\n",
       "      <th>count</th>\n",
       "      <th>mean</th>\n",
       "      <th>std</th>\n",
       "      <th>min</th>\n",
       "      <th>25%</th>\n",
       "      <th>50%</th>\n",
       "      <th>75%</th>\n",
       "      <th>max</th>\n",
       "    </tr>\n",
       "  </thead>\n",
       "  <tbody>\n",
       "    <tr>\n",
       "      <th>0</th>\n",
       "      <td>v2a1</td>\n",
       "      <td>2697.0</td>\n",
       "      <td>165231.606971</td>\n",
       "      <td>150457.133301</td>\n",
       "      <td>0.0</td>\n",
       "      <td>80000.0</td>\n",
       "      <td>130000.0</td>\n",
       "      <td>200000.0</td>\n",
       "      <td>2353477.0</td>\n",
       "    </tr>\n",
       "    <tr>\n",
       "      <th>1</th>\n",
       "      <td>hacdor</td>\n",
       "      <td>9557.0</td>\n",
       "      <td>0.038087</td>\n",
       "      <td>0.191417</td>\n",
       "      <td>0.0</td>\n",
       "      <td>0.0</td>\n",
       "      <td>0.0</td>\n",
       "      <td>0.0</td>\n",
       "      <td>1.0</td>\n",
       "    </tr>\n",
       "  </tbody>\n",
       "</table>\n",
       "</div>"
      ],
      "text/plain": [
       "  col_name   count           mean            std  min      25%       50%  \\\n",
       "0     v2a1  2697.0  165231.606971  150457.133301  0.0  80000.0  130000.0   \n",
       "1   hacdor  9557.0       0.038087       0.191417  0.0      0.0       0.0   \n",
       "\n",
       "        75%        max  \n",
       "0  200000.0  2353477.0  \n",
       "1       0.0        1.0  "
      ]
     },
     "execution_count": 37,
     "metadata": {},
     "output_type": "execute_result"
    }
   ],
   "source": [
    "numerical_columns_description.head(2)"
   ]
  },
  {
   "cell_type": "code",
   "execution_count": 38,
   "metadata": {},
   "outputs": [
    {
     "data": {
      "text/plain": [
       "{'id', 'idhogar'}"
      ]
     },
     "execution_count": 38,
     "metadata": {},
     "output_type": "execute_result"
    }
   ],
   "source": [
    "set(train_data_dtypes.col_name.values.tolist()).difference(set(numerical_columns_description.col_name.values.tolist()))"
   ]
  },
  {
   "cell_type": "code",
   "execution_count": 39,
   "metadata": {},
   "outputs": [
    {
     "data": {
      "text/html": [
       "<div>\n",
       "<style scoped>\n",
       "    .dataframe tbody tr th:only-of-type {\n",
       "        vertical-align: middle;\n",
       "    }\n",
       "\n",
       "    .dataframe tbody tr th {\n",
       "        vertical-align: top;\n",
       "    }\n",
       "\n",
       "    .dataframe thead th {\n",
       "        text-align: right;\n",
       "    }\n",
       "</style>\n",
       "<table border=\"1\" class=\"dataframe\">\n",
       "  <thead>\n",
       "    <tr style=\"text-align: right;\">\n",
       "      <th></th>\n",
       "      <th>col_name</th>\n",
       "      <th>count</th>\n",
       "      <th>mean</th>\n",
       "      <th>std</th>\n",
       "      <th>min</th>\n",
       "      <th>25%</th>\n",
       "      <th>50%</th>\n",
       "      <th>75%</th>\n",
       "      <th>max</th>\n",
       "      <th>col_type</th>\n",
       "    </tr>\n",
       "  </thead>\n",
       "  <tbody>\n",
       "    <tr>\n",
       "      <th>0</th>\n",
       "      <td>v2a1</td>\n",
       "      <td>2697.0</td>\n",
       "      <td>165231.606971</td>\n",
       "      <td>150457.133301</td>\n",
       "      <td>0.0</td>\n",
       "      <td>80000.0</td>\n",
       "      <td>130000.0</td>\n",
       "      <td>200000.0</td>\n",
       "      <td>2353477.0</td>\n",
       "      <td>float64</td>\n",
       "    </tr>\n",
       "    <tr>\n",
       "      <th>1</th>\n",
       "      <td>hacdor</td>\n",
       "      <td>9557.0</td>\n",
       "      <td>0.038087</td>\n",
       "      <td>0.191417</td>\n",
       "      <td>0.0</td>\n",
       "      <td>0.0</td>\n",
       "      <td>0.0</td>\n",
       "      <td>0.0</td>\n",
       "      <td>1.0</td>\n",
       "      <td>int64</td>\n",
       "    </tr>\n",
       "    <tr>\n",
       "      <th>2</th>\n",
       "      <td>rooms</td>\n",
       "      <td>9557.0</td>\n",
       "      <td>4.955530</td>\n",
       "      <td>1.468381</td>\n",
       "      <td>1.0</td>\n",
       "      <td>4.0</td>\n",
       "      <td>5.0</td>\n",
       "      <td>6.0</td>\n",
       "      <td>11.0</td>\n",
       "      <td>int64</td>\n",
       "    </tr>\n",
       "    <tr>\n",
       "      <th>3</th>\n",
       "      <td>hacapo</td>\n",
       "      <td>9557.0</td>\n",
       "      <td>0.023648</td>\n",
       "      <td>0.151957</td>\n",
       "      <td>0.0</td>\n",
       "      <td>0.0</td>\n",
       "      <td>0.0</td>\n",
       "      <td>0.0</td>\n",
       "      <td>1.0</td>\n",
       "      <td>int64</td>\n",
       "    </tr>\n",
       "    <tr>\n",
       "      <th>4</th>\n",
       "      <td>v14a</td>\n",
       "      <td>9557.0</td>\n",
       "      <td>0.994768</td>\n",
       "      <td>0.072145</td>\n",
       "      <td>0.0</td>\n",
       "      <td>1.0</td>\n",
       "      <td>1.0</td>\n",
       "      <td>1.0</td>\n",
       "      <td>1.0</td>\n",
       "      <td>int64</td>\n",
       "    </tr>\n",
       "  </tbody>\n",
       "</table>\n",
       "</div>"
      ],
      "text/plain": [
       "  col_name   count           mean            std  min      25%       50%  \\\n",
       "0     v2a1  2697.0  165231.606971  150457.133301  0.0  80000.0  130000.0   \n",
       "1   hacdor  9557.0       0.038087       0.191417  0.0      0.0       0.0   \n",
       "2    rooms  9557.0       4.955530       1.468381  1.0      4.0       5.0   \n",
       "3   hacapo  9557.0       0.023648       0.151957  0.0      0.0       0.0   \n",
       "4     v14a  9557.0       0.994768       0.072145  0.0      1.0       1.0   \n",
       "\n",
       "        75%        max col_type  \n",
       "0  200000.0  2353477.0  float64  \n",
       "1       0.0        1.0    int64  \n",
       "2       6.0       11.0    int64  \n",
       "3       0.0        1.0    int64  \n",
       "4       1.0        1.0    int64  "
      ]
     },
     "execution_count": 39,
     "metadata": {},
     "output_type": "execute_result"
    }
   ],
   "source": [
    "numerical_columns_description = panda.merge(numerical_columns_description, train_data_dtypes, how='left', on='col_name')\n",
    "\n",
    "numerical_columns_description.head(5)"
   ]
  },
  {
   "cell_type": "code",
   "execution_count": 40,
   "metadata": {},
   "outputs": [
    {
     "data": {
      "text/plain": [
       "int64      132\n",
       "float64      9\n",
       "Name: col_type, dtype: int64"
      ]
     },
     "execution_count": 40,
     "metadata": {},
     "output_type": "execute_result"
    }
   ],
   "source": [
    "numerical_columns_description.col_type.value_counts()\n",
    "\n",
    "## seeing that there are lesser number of float data types , lets deal with those first"
   ]
  },
  {
   "cell_type": "code",
   "execution_count": 41,
   "metadata": {},
   "outputs": [
    {
     "data": {
      "text/html": [
       "<div>\n",
       "<style scoped>\n",
       "    .dataframe tbody tr th:only-of-type {\n",
       "        vertical-align: middle;\n",
       "    }\n",
       "\n",
       "    .dataframe tbody tr th {\n",
       "        vertical-align: top;\n",
       "    }\n",
       "\n",
       "    .dataframe thead th {\n",
       "        text-align: right;\n",
       "    }\n",
       "</style>\n",
       "<table border=\"1\" class=\"dataframe\">\n",
       "  <thead>\n",
       "    <tr style=\"text-align: right;\">\n",
       "      <th></th>\n",
       "      <th>col_name</th>\n",
       "      <th>count</th>\n",
       "      <th>mean</th>\n",
       "      <th>std</th>\n",
       "      <th>min</th>\n",
       "      <th>25%</th>\n",
       "      <th>50%</th>\n",
       "      <th>75%</th>\n",
       "      <th>max</th>\n",
       "      <th>col_type</th>\n",
       "    </tr>\n",
       "  </thead>\n",
       "  <tbody>\n",
       "    <tr>\n",
       "      <th>0</th>\n",
       "      <td>v2a1</td>\n",
       "      <td>2697.0</td>\n",
       "      <td>165231.606971</td>\n",
       "      <td>150457.133301</td>\n",
       "      <td>0.00</td>\n",
       "      <td>80000.000000</td>\n",
       "      <td>130000.000000</td>\n",
       "      <td>200000.000000</td>\n",
       "      <td>2353477.0</td>\n",
       "      <td>float64</td>\n",
       "    </tr>\n",
       "    <tr>\n",
       "      <th>7</th>\n",
       "      <td>v18q1</td>\n",
       "      <td>2215.0</td>\n",
       "      <td>1.404063</td>\n",
       "      <td>0.763131</td>\n",
       "      <td>1.00</td>\n",
       "      <td>1.000000</td>\n",
       "      <td>1.000000</td>\n",
       "      <td>2.000000</td>\n",
       "      <td>6.0</td>\n",
       "      <td>float64</td>\n",
       "    </tr>\n",
       "    <tr>\n",
       "      <th>20</th>\n",
       "      <td>rez_esc</td>\n",
       "      <td>1629.0</td>\n",
       "      <td>0.459791</td>\n",
       "      <td>0.946550</td>\n",
       "      <td>0.00</td>\n",
       "      <td>0.000000</td>\n",
       "      <td>0.000000</td>\n",
       "      <td>1.000000</td>\n",
       "      <td>5.0</td>\n",
       "      <td>float64</td>\n",
       "    </tr>\n",
       "    <tr>\n",
       "      <th>98</th>\n",
       "      <td>meaneduc</td>\n",
       "      <td>9552.0</td>\n",
       "      <td>9.231523</td>\n",
       "      <td>4.167694</td>\n",
       "      <td>0.00</td>\n",
       "      <td>6.000000</td>\n",
       "      <td>9.000000</td>\n",
       "      <td>11.600000</td>\n",
       "      <td>37.0</td>\n",
       "      <td>float64</td>\n",
       "    </tr>\n",
       "    <tr>\n",
       "      <th>109</th>\n",
       "      <td>overcrowding</td>\n",
       "      <td>9557.0</td>\n",
       "      <td>1.605380</td>\n",
       "      <td>0.819946</td>\n",
       "      <td>0.20</td>\n",
       "      <td>1.000000</td>\n",
       "      <td>1.500000</td>\n",
       "      <td>2.000000</td>\n",
       "      <td>6.0</td>\n",
       "      <td>float64</td>\n",
       "    </tr>\n",
       "    <tr>\n",
       "      <th>133</th>\n",
       "      <td>sqbovercrowding</td>\n",
       "      <td>9557.0</td>\n",
       "      <td>3.249485</td>\n",
       "      <td>4.129547</td>\n",
       "      <td>0.04</td>\n",
       "      <td>1.000000</td>\n",
       "      <td>2.250000</td>\n",
       "      <td>4.000000</td>\n",
       "      <td>36.0</td>\n",
       "      <td>float64</td>\n",
       "    </tr>\n",
       "    <tr>\n",
       "      <th>134</th>\n",
       "      <td>sqbdependency</td>\n",
       "      <td>9557.0</td>\n",
       "      <td>3.900409</td>\n",
       "      <td>12.511831</td>\n",
       "      <td>0.00</td>\n",
       "      <td>0.111111</td>\n",
       "      <td>0.444444</td>\n",
       "      <td>1.777778</td>\n",
       "      <td>64.0</td>\n",
       "      <td>float64</td>\n",
       "    </tr>\n",
       "    <tr>\n",
       "      <th>135</th>\n",
       "      <td>sqbmeaned</td>\n",
       "      <td>9552.0</td>\n",
       "      <td>102.588867</td>\n",
       "      <td>93.516890</td>\n",
       "      <td>0.00</td>\n",
       "      <td>36.000000</td>\n",
       "      <td>81.000000</td>\n",
       "      <td>134.560010</td>\n",
       "      <td>1369.0</td>\n",
       "      <td>float64</td>\n",
       "    </tr>\n",
       "    <tr>\n",
       "      <th>140</th>\n",
       "      <td>dependency</td>\n",
       "      <td>9557.0</td>\n",
       "      <td>1.149550</td>\n",
       "      <td>1.605993</td>\n",
       "      <td>0.00</td>\n",
       "      <td>0.333333</td>\n",
       "      <td>0.666667</td>\n",
       "      <td>1.333333</td>\n",
       "      <td>8.0</td>\n",
       "      <td>float64</td>\n",
       "    </tr>\n",
       "  </tbody>\n",
       "</table>\n",
       "</div>"
      ],
      "text/plain": [
       "            col_name   count           mean            std   min  \\\n",
       "0               v2a1  2697.0  165231.606971  150457.133301  0.00   \n",
       "7              v18q1  2215.0       1.404063       0.763131  1.00   \n",
       "20           rez_esc  1629.0       0.459791       0.946550  0.00   \n",
       "98          meaneduc  9552.0       9.231523       4.167694  0.00   \n",
       "109     overcrowding  9557.0       1.605380       0.819946  0.20   \n",
       "133  sqbovercrowding  9557.0       3.249485       4.129547  0.04   \n",
       "134    sqbdependency  9557.0       3.900409      12.511831  0.00   \n",
       "135        sqbmeaned  9552.0     102.588867      93.516890  0.00   \n",
       "140       dependency  9557.0       1.149550       1.605993  0.00   \n",
       "\n",
       "              25%            50%            75%        max col_type  \n",
       "0    80000.000000  130000.000000  200000.000000  2353477.0  float64  \n",
       "7        1.000000       1.000000       2.000000        6.0  float64  \n",
       "20       0.000000       0.000000       1.000000        5.0  float64  \n",
       "98       6.000000       9.000000      11.600000       37.0  float64  \n",
       "109      1.000000       1.500000       2.000000        6.0  float64  \n",
       "133      1.000000       2.250000       4.000000       36.0  float64  \n",
       "134      0.111111       0.444444       1.777778       64.0  float64  \n",
       "135     36.000000      81.000000     134.560010     1369.0  float64  \n",
       "140      0.333333       0.666667       1.333333        8.0  float64  "
      ]
     },
     "execution_count": 41,
     "metadata": {},
     "output_type": "execute_result"
    }
   ],
   "source": [
    "numerical_columns_description[numerical_columns_description.col_type==np.float64]"
   ]
  },
  {
   "cell_type": "code",
   "execution_count": 49,
   "metadata": {},
   "outputs": [
    {
     "data": {
      "text/plain": [
       "(7342, 7928)"
      ]
     },
     "execution_count": 49,
     "metadata": {},
     "output_type": "execute_result"
    }
   ],
   "source": [
    "# columns such as v18q1,rez_esc, seems to be categorical data. \n",
    "\n",
    "train_data.v18q1.isnull().sum(),train_data.rez_esc.isnull().sum(),"
   ]
  },
  {
   "cell_type": "code",
   "execution_count": 52,
   "metadata": {},
   "outputs": [
    {
     "data": {
      "text/plain": [
       "1.0    1586\n",
       "2.0     444\n",
       "3.0     129\n",
       "4.0      37\n",
       "5.0      13\n",
       "6.0       6\n",
       "Name: v18q1, dtype: int64"
      ]
     },
     "execution_count": 52,
     "metadata": {},
     "output_type": "execute_result"
    }
   ],
   "source": [
    "\n",
    "\n",
    "train_data['v18q1'].value_counts()"
   ]
  },
  {
   "cell_type": "code",
   "execution_count": 45,
   "metadata": {},
   "outputs": [
    {
     "data": {
      "text/plain": [
       "0.0    1211\n",
       "1.0     227\n",
       "2.0      98\n",
       "3.0      55\n",
       "4.0      29\n",
       "5.0       9\n",
       "Name: rez_esc, dtype: int64"
      ]
     },
     "execution_count": 45,
     "metadata": {},
     "output_type": "execute_result"
    }
   ],
   "source": [
    "train_data['rez_esc'].value_counts()"
   ]
  },
  {
   "cell_type": "code",
   "execution_count": 66,
   "metadata": {},
   "outputs": [
    {
     "data": {
      "text/html": [
       "<div>\n",
       "<style scoped>\n",
       "    .dataframe tbody tr th:only-of-type {\n",
       "        vertical-align: middle;\n",
       "    }\n",
       "\n",
       "    .dataframe tbody tr th {\n",
       "        vertical-align: top;\n",
       "    }\n",
       "\n",
       "    .dataframe thead th {\n",
       "        text-align: right;\n",
       "    }\n",
       "</style>\n",
       "<table border=\"1\" class=\"dataframe\">\n",
       "  <thead>\n",
       "    <tr style=\"text-align: right;\">\n",
       "      <th></th>\n",
       "      <th>0</th>\n",
       "      <th>2</th>\n",
       "      <th>7</th>\n",
       "      <th>8</th>\n",
       "      <th>9</th>\n",
       "      <th>10</th>\n",
       "      <th>11</th>\n",
       "      <th>12</th>\n",
       "      <th>15</th>\n",
       "      <th>16</th>\n",
       "      <th>...</th>\n",
       "      <th>9547</th>\n",
       "      <th>9548</th>\n",
       "      <th>9549</th>\n",
       "      <th>9550</th>\n",
       "      <th>9551</th>\n",
       "      <th>9552</th>\n",
       "      <th>9553</th>\n",
       "      <th>9554</th>\n",
       "      <th>9555</th>\n",
       "      <th>9556</th>\n",
       "    </tr>\n",
       "  </thead>\n",
       "  <tbody>\n",
       "    <tr>\n",
       "      <th>v18q</th>\n",
       "      <td>0.0</td>\n",
       "      <td>0.0</td>\n",
       "      <td>0.0</td>\n",
       "      <td>0.0</td>\n",
       "      <td>0.0</td>\n",
       "      <td>0.0</td>\n",
       "      <td>0.0</td>\n",
       "      <td>0.0</td>\n",
       "      <td>0.0</td>\n",
       "      <td>0.0</td>\n",
       "      <td>...</td>\n",
       "      <td>0.0</td>\n",
       "      <td>0.0</td>\n",
       "      <td>0.0</td>\n",
       "      <td>0.0</td>\n",
       "      <td>0.0</td>\n",
       "      <td>0.0</td>\n",
       "      <td>0.0</td>\n",
       "      <td>0.0</td>\n",
       "      <td>0.0</td>\n",
       "      <td>0.0</td>\n",
       "    </tr>\n",
       "    <tr>\n",
       "      <th>v18q1</th>\n",
       "      <td>NaN</td>\n",
       "      <td>NaN</td>\n",
       "      <td>NaN</td>\n",
       "      <td>NaN</td>\n",
       "      <td>NaN</td>\n",
       "      <td>NaN</td>\n",
       "      <td>NaN</td>\n",
       "      <td>NaN</td>\n",
       "      <td>NaN</td>\n",
       "      <td>NaN</td>\n",
       "      <td>...</td>\n",
       "      <td>NaN</td>\n",
       "      <td>NaN</td>\n",
       "      <td>NaN</td>\n",
       "      <td>NaN</td>\n",
       "      <td>NaN</td>\n",
       "      <td>NaN</td>\n",
       "      <td>NaN</td>\n",
       "      <td>NaN</td>\n",
       "      <td>NaN</td>\n",
       "      <td>NaN</td>\n",
       "    </tr>\n",
       "  </tbody>\n",
       "</table>\n",
       "<p>2 rows × 7342 columns</p>\n",
       "</div>"
      ],
      "text/plain": [
       "       0     2     7     8     9     10    11    12    15    16    ...   9547  \\\n",
       "v18q    0.0   0.0   0.0   0.0   0.0   0.0   0.0   0.0   0.0   0.0  ...    0.0   \n",
       "v18q1   NaN   NaN   NaN   NaN   NaN   NaN   NaN   NaN   NaN   NaN  ...    NaN   \n",
       "\n",
       "       9548  9549  9550  9551  9552  9553  9554  9555  9556  \n",
       "v18q    0.0   0.0   0.0   0.0   0.0   0.0   0.0   0.0   0.0  \n",
       "v18q1   NaN   NaN   NaN   NaN   NaN   NaN   NaN   NaN   NaN  \n",
       "\n",
       "[2 rows x 7342 columns]"
      ]
     },
     "execution_count": 66,
     "metadata": {},
     "output_type": "execute_result"
    }
   ],
   "source": [
    "## We can notice there are significant number of missing values in both categorical data\n",
    "# lets chek their meanings in the data dictionary and if we can discern a way to replace the missing values using domain knowldege\n",
    "\n",
    "# v18q, owns a tablet\n",
    "# v18q1, number of tablets household owns\n",
    "# lets check for the relationship when v18q1 is empty\n",
    "\n",
    "train_data[['v18q','v18q1']][train_data['v18q1'].isna()].T\n"
   ]
  },
  {
   "cell_type": "code",
   "execution_count": 67,
   "metadata": {},
   "outputs": [
    {
     "data": {
      "text/html": [
       "<div>\n",
       "<style scoped>\n",
       "    .dataframe tbody tr th:only-of-type {\n",
       "        vertical-align: middle;\n",
       "    }\n",
       "\n",
       "    .dataframe tbody tr th {\n",
       "        vertical-align: top;\n",
       "    }\n",
       "\n",
       "    .dataframe thead th {\n",
       "        text-align: right;\n",
       "    }\n",
       "</style>\n",
       "<table border=\"1\" class=\"dataframe\">\n",
       "  <thead>\n",
       "    <tr style=\"text-align: right;\">\n",
       "      <th></th>\n",
       "      <th>0</th>\n",
       "      <th>1</th>\n",
       "      <th>2</th>\n",
       "      <th>3</th>\n",
       "      <th>4</th>\n",
       "      <th>5</th>\n",
       "      <th>6</th>\n",
       "      <th>7</th>\n",
       "      <th>8</th>\n",
       "      <th>9</th>\n",
       "      <th>...</th>\n",
       "      <th>9547</th>\n",
       "      <th>9548</th>\n",
       "      <th>9549</th>\n",
       "      <th>9550</th>\n",
       "      <th>9551</th>\n",
       "      <th>9552</th>\n",
       "      <th>9553</th>\n",
       "      <th>9554</th>\n",
       "      <th>9555</th>\n",
       "      <th>9556</th>\n",
       "    </tr>\n",
       "  </thead>\n",
       "  <tbody>\n",
       "    <tr>\n",
       "      <th>v18q</th>\n",
       "      <td>0.0</td>\n",
       "      <td>1.0</td>\n",
       "      <td>0.0</td>\n",
       "      <td>1.0</td>\n",
       "      <td>1.0</td>\n",
       "      <td>1.0</td>\n",
       "      <td>1.0</td>\n",
       "      <td>0.0</td>\n",
       "      <td>0.0</td>\n",
       "      <td>0.0</td>\n",
       "      <td>...</td>\n",
       "      <td>0.0</td>\n",
       "      <td>0.0</td>\n",
       "      <td>0.0</td>\n",
       "      <td>0.0</td>\n",
       "      <td>0.0</td>\n",
       "      <td>0.0</td>\n",
       "      <td>0.0</td>\n",
       "      <td>0.0</td>\n",
       "      <td>0.0</td>\n",
       "      <td>0.0</td>\n",
       "    </tr>\n",
       "    <tr>\n",
       "      <th>v18q1</th>\n",
       "      <td>NaN</td>\n",
       "      <td>1.0</td>\n",
       "      <td>NaN</td>\n",
       "      <td>1.0</td>\n",
       "      <td>1.0</td>\n",
       "      <td>1.0</td>\n",
       "      <td>1.0</td>\n",
       "      <td>NaN</td>\n",
       "      <td>NaN</td>\n",
       "      <td>NaN</td>\n",
       "      <td>...</td>\n",
       "      <td>NaN</td>\n",
       "      <td>NaN</td>\n",
       "      <td>NaN</td>\n",
       "      <td>NaN</td>\n",
       "      <td>NaN</td>\n",
       "      <td>NaN</td>\n",
       "      <td>NaN</td>\n",
       "      <td>NaN</td>\n",
       "      <td>NaN</td>\n",
       "      <td>NaN</td>\n",
       "    </tr>\n",
       "  </tbody>\n",
       "</table>\n",
       "<p>2 rows × 9557 columns</p>\n",
       "</div>"
      ],
      "text/plain": [
       "       0     1     2     3     4     5     6     7     8     9     ...   9547  \\\n",
       "v18q    0.0   1.0   0.0   1.0   1.0   1.0   1.0   0.0   0.0   0.0  ...    0.0   \n",
       "v18q1   NaN   1.0   NaN   1.0   1.0   1.0   1.0   NaN   NaN   NaN  ...    NaN   \n",
       "\n",
       "       9548  9549  9550  9551  9552  9553  9554  9555  9556  \n",
       "v18q    0.0   0.0   0.0   0.0   0.0   0.0   0.0   0.0   0.0  \n",
       "v18q1   NaN   NaN   NaN   NaN   NaN   NaN   NaN   NaN   NaN  \n",
       "\n",
       "[2 rows x 9557 columns]"
      ]
     },
     "execution_count": 67,
     "metadata": {},
     "output_type": "execute_result"
    }
   ],
   "source": [
    "train_data[['v18q','v18q1']].loc[train_data['v18q1'].isna() & train_data['v18q']==0].T"
   ]
  },
  {
   "cell_type": "code",
   "execution_count": 68,
   "metadata": {},
   "outputs": [
    {
     "data": {
      "text/html": [
       "<div>\n",
       "<style scoped>\n",
       "    .dataframe tbody tr th:only-of-type {\n",
       "        vertical-align: middle;\n",
       "    }\n",
       "\n",
       "    .dataframe tbody tr th {\n",
       "        vertical-align: top;\n",
       "    }\n",
       "\n",
       "    .dataframe thead th {\n",
       "        text-align: right;\n",
       "    }\n",
       "</style>\n",
       "<table border=\"1\" class=\"dataframe\">\n",
       "  <thead>\n",
       "    <tr style=\"text-align: right;\">\n",
       "      <th></th>\n",
       "    </tr>\n",
       "  </thead>\n",
       "  <tbody>\n",
       "    <tr>\n",
       "      <th>v18q</th>\n",
       "    </tr>\n",
       "    <tr>\n",
       "      <th>v18q1</th>\n",
       "    </tr>\n",
       "  </tbody>\n",
       "</table>\n",
       "</div>"
      ],
      "text/plain": [
       "Empty DataFrame\n",
       "Columns: []\n",
       "Index: [v18q, v18q1]"
      ]
     },
     "execution_count": 68,
     "metadata": {},
     "output_type": "execute_result"
    }
   ],
   "source": [
    "train_data[['v18q','v18q1']].loc[train_data['v18q1'].isna() & train_data['v18q']==1].T"
   ]
  },
  {
   "cell_type": "code",
   "execution_count": 69,
   "metadata": {},
   "outputs": [
    {
     "data": {
      "text/html": [
       "<div>\n",
       "<style scoped>\n",
       "    .dataframe tbody tr th:only-of-type {\n",
       "        vertical-align: middle;\n",
       "    }\n",
       "\n",
       "    .dataframe tbody tr th {\n",
       "        vertical-align: top;\n",
       "    }\n",
       "\n",
       "    .dataframe thead th {\n",
       "        text-align: right;\n",
       "    }\n",
       "</style>\n",
       "<table border=\"1\" class=\"dataframe\">\n",
       "  <thead>\n",
       "    <tr style=\"text-align: right;\">\n",
       "      <th></th>\n",
       "      <th>1</th>\n",
       "      <th>3</th>\n",
       "      <th>4</th>\n",
       "      <th>5</th>\n",
       "      <th>6</th>\n",
       "      <th>13</th>\n",
       "      <th>14</th>\n",
       "      <th>27</th>\n",
       "      <th>28</th>\n",
       "      <th>29</th>\n",
       "      <th>...</th>\n",
       "      <th>9274</th>\n",
       "      <th>9275</th>\n",
       "      <th>9401</th>\n",
       "      <th>9402</th>\n",
       "      <th>9403</th>\n",
       "      <th>9504</th>\n",
       "      <th>9505</th>\n",
       "      <th>9516</th>\n",
       "      <th>9517</th>\n",
       "      <th>9518</th>\n",
       "    </tr>\n",
       "  </thead>\n",
       "  <tbody>\n",
       "    <tr>\n",
       "      <th>v18q</th>\n",
       "      <td>1.0</td>\n",
       "      <td>1.0</td>\n",
       "      <td>1.0</td>\n",
       "      <td>1.0</td>\n",
       "      <td>1.0</td>\n",
       "      <td>1.0</td>\n",
       "      <td>1.0</td>\n",
       "      <td>1.0</td>\n",
       "      <td>1.0</td>\n",
       "      <td>1.0</td>\n",
       "      <td>...</td>\n",
       "      <td>1.0</td>\n",
       "      <td>1.0</td>\n",
       "      <td>1.0</td>\n",
       "      <td>1.0</td>\n",
       "      <td>1.0</td>\n",
       "      <td>1.0</td>\n",
       "      <td>1.0</td>\n",
       "      <td>1.0</td>\n",
       "      <td>1.0</td>\n",
       "      <td>1.0</td>\n",
       "    </tr>\n",
       "    <tr>\n",
       "      <th>v18q1</th>\n",
       "      <td>1.0</td>\n",
       "      <td>1.0</td>\n",
       "      <td>1.0</td>\n",
       "      <td>1.0</td>\n",
       "      <td>1.0</td>\n",
       "      <td>1.0</td>\n",
       "      <td>1.0</td>\n",
       "      <td>1.0</td>\n",
       "      <td>1.0</td>\n",
       "      <td>1.0</td>\n",
       "      <td>...</td>\n",
       "      <td>2.0</td>\n",
       "      <td>2.0</td>\n",
       "      <td>1.0</td>\n",
       "      <td>1.0</td>\n",
       "      <td>1.0</td>\n",
       "      <td>1.0</td>\n",
       "      <td>1.0</td>\n",
       "      <td>1.0</td>\n",
       "      <td>1.0</td>\n",
       "      <td>1.0</td>\n",
       "    </tr>\n",
       "  </tbody>\n",
       "</table>\n",
       "<p>2 rows × 2215 columns</p>\n",
       "</div>"
      ],
      "text/plain": [
       "       1     3     4     5     6     13    14    27    28    29    ...   9274  \\\n",
       "v18q    1.0   1.0   1.0   1.0   1.0   1.0   1.0   1.0   1.0   1.0  ...    1.0   \n",
       "v18q1   1.0   1.0   1.0   1.0   1.0   1.0   1.0   1.0   1.0   1.0  ...    2.0   \n",
       "\n",
       "       9275  9401  9402  9403  9504  9505  9516  9517  9518  \n",
       "v18q    1.0   1.0   1.0   1.0   1.0   1.0   1.0   1.0   1.0  \n",
       "v18q1   2.0   1.0   1.0   1.0   1.0   1.0   1.0   1.0   1.0  \n",
       "\n",
       "[2 rows x 2215 columns]"
      ]
     },
     "execution_count": 69,
     "metadata": {},
     "output_type": "execute_result"
    }
   ],
   "source": [
    "train_data[['v18q','v18q1']].loc[train_data['v18q']==1].T"
   ]
  },
  {
   "cell_type": "code",
   "execution_count": 72,
   "metadata": {},
   "outputs": [
    {
     "data": {
      "text/plain": [
       "((7342,), (7342,))"
      ]
     },
     "execution_count": 72,
     "metadata": {},
     "output_type": "execute_result"
    }
   ],
   "source": [
    "#lets confirm our hypothesis that v18q1 is NaN only when there are no tablets that the household is using by comparing counts\n",
    "\n",
    "\n",
    "train_data['v18q1'][train_data.v18q1.isna()].shape, train_data['v18q'][train_data.v18q==0].shape"
   ]
  },
  {
   "cell_type": "code",
   "execution_count": 73,
   "metadata": {},
   "outputs": [
    {
     "data": {
      "text/plain": [
       "0"
      ]
     },
     "execution_count": 73,
     "metadata": {},
     "output_type": "execute_result"
    }
   ],
   "source": [
    "# perfect our hypothesis is proved and we can go ahead and replace v18q1 NaN with a value of 0\n",
    "train_data['v18q1'].fillna(value = 0, inplace = True)\n",
    "train_data.v18q1.isnull().sum()"
   ]
  },
  {
   "cell_type": "code",
   "execution_count": 74,
   "metadata": {},
   "outputs": [],
   "source": [
    "# while we are at it, we will also replace the column names as well for better understanding.\n",
    "\n",
    "columns_name_dict = {'v18q1':'num_of_tablets','v18q':'tablet_owner'}\n",
    "train_data.rename(columns = columns_name_dict, inplace = True)"
   ]
  },
  {
   "cell_type": "code",
   "execution_count": 77,
   "metadata": {},
   "outputs": [
    {
     "data": {
      "text/html": [
       "<div>\n",
       "<style scoped>\n",
       "    .dataframe tbody tr th:only-of-type {\n",
       "        vertical-align: middle;\n",
       "    }\n",
       "\n",
       "    .dataframe tbody tr th {\n",
       "        vertical-align: top;\n",
       "    }\n",
       "\n",
       "    .dataframe thead th {\n",
       "        text-align: right;\n",
       "    }\n",
       "</style>\n",
       "<table border=\"1\" class=\"dataframe\">\n",
       "  <thead>\n",
       "    <tr style=\"text-align: right;\">\n",
       "      <th></th>\n",
       "      <th>0</th>\n",
       "      <th>1</th>\n",
       "      <th>2</th>\n",
       "      <th>4</th>\n",
       "      <th>5</th>\n",
       "      <th>8</th>\n",
       "      <th>9</th>\n",
       "      <th>11</th>\n",
       "      <th>12</th>\n",
       "      <th>13</th>\n",
       "      <th>...</th>\n",
       "      <th>9547</th>\n",
       "      <th>9548</th>\n",
       "      <th>9549</th>\n",
       "      <th>9550</th>\n",
       "      <th>9551</th>\n",
       "      <th>9552</th>\n",
       "      <th>9553</th>\n",
       "      <th>9554</th>\n",
       "      <th>9555</th>\n",
       "      <th>9556</th>\n",
       "    </tr>\n",
       "  </thead>\n",
       "  <tbody>\n",
       "    <tr>\n",
       "      <th>escolari</th>\n",
       "      <td>10.0</td>\n",
       "      <td>12.0</td>\n",
       "      <td>11.0</td>\n",
       "      <td>11.0</td>\n",
       "      <td>11.0</td>\n",
       "      <td>9.0</td>\n",
       "      <td>11.0</td>\n",
       "      <td>12.0</td>\n",
       "      <td>11.0</td>\n",
       "      <td>4.0</td>\n",
       "      <td>...</td>\n",
       "      <td>11.0</td>\n",
       "      <td>11.0</td>\n",
       "      <td>0.0</td>\n",
       "      <td>6.0</td>\n",
       "      <td>0.0</td>\n",
       "      <td>9.0</td>\n",
       "      <td>0.0</td>\n",
       "      <td>5.0</td>\n",
       "      <td>11.0</td>\n",
       "      <td>8.0</td>\n",
       "    </tr>\n",
       "    <tr>\n",
       "      <th>rez_esc</th>\n",
       "      <td>NaN</td>\n",
       "      <td>NaN</td>\n",
       "      <td>NaN</td>\n",
       "      <td>NaN</td>\n",
       "      <td>NaN</td>\n",
       "      <td>NaN</td>\n",
       "      <td>NaN</td>\n",
       "      <td>NaN</td>\n",
       "      <td>NaN</td>\n",
       "      <td>NaN</td>\n",
       "      <td>...</td>\n",
       "      <td>NaN</td>\n",
       "      <td>NaN</td>\n",
       "      <td>NaN</td>\n",
       "      <td>NaN</td>\n",
       "      <td>NaN</td>\n",
       "      <td>NaN</td>\n",
       "      <td>NaN</td>\n",
       "      <td>NaN</td>\n",
       "      <td>NaN</td>\n",
       "      <td>NaN</td>\n",
       "    </tr>\n",
       "  </tbody>\n",
       "</table>\n",
       "<p>2 rows × 7928 columns</p>\n",
       "</div>"
      ],
      "text/plain": [
       "          0     1     2     4     5     8     9     11    12    13    ...   \\\n",
       "escolari  10.0  12.0  11.0  11.0  11.0   9.0  11.0  12.0  11.0   4.0  ...    \n",
       "rez_esc    NaN   NaN   NaN   NaN   NaN   NaN   NaN   NaN   NaN   NaN  ...    \n",
       "\n",
       "          9547  9548  9549  9550  9551  9552  9553  9554  9555  9556  \n",
       "escolari  11.0  11.0   0.0   6.0   0.0   9.0   0.0   5.0  11.0   8.0  \n",
       "rez_esc    NaN   NaN   NaN   NaN   NaN   NaN   NaN   NaN   NaN   NaN  \n",
       "\n",
       "[2 rows x 7928 columns]"
      ]
     },
     "execution_count": 77,
     "metadata": {},
     "output_type": "execute_result"
    }
   ],
   "source": [
    "# escolari, years of schooling\n",
    "# rez_esc, Years behind in school\n",
    "\n",
    "train_data[['escolari','rez_esc']][train_data.rez_esc.isna()].T\n"
   ]
  },
  {
   "cell_type": "code",
   "execution_count": 78,
   "metadata": {},
   "outputs": [
    {
     "data": {
      "text/html": [
       "<div>\n",
       "<style scoped>\n",
       "    .dataframe tbody tr th:only-of-type {\n",
       "        vertical-align: middle;\n",
       "    }\n",
       "\n",
       "    .dataframe tbody tr th {\n",
       "        vertical-align: top;\n",
       "    }\n",
       "\n",
       "    .dataframe thead th {\n",
       "        text-align: right;\n",
       "    }\n",
       "</style>\n",
       "<table border=\"1\" class=\"dataframe\">\n",
       "  <thead>\n",
       "    <tr style=\"text-align: right;\">\n",
       "      <th></th>\n",
       "      <th>3</th>\n",
       "      <th>6</th>\n",
       "      <th>7</th>\n",
       "      <th>10</th>\n",
       "      <th>38</th>\n",
       "      <th>42</th>\n",
       "      <th>48</th>\n",
       "      <th>50</th>\n",
       "      <th>52</th>\n",
       "      <th>54</th>\n",
       "      <th>...</th>\n",
       "      <th>9479</th>\n",
       "      <th>9491</th>\n",
       "      <th>9493</th>\n",
       "      <th>9497</th>\n",
       "      <th>9514</th>\n",
       "      <th>9516</th>\n",
       "      <th>9533</th>\n",
       "      <th>9536</th>\n",
       "      <th>9542</th>\n",
       "      <th>9543</th>\n",
       "    </tr>\n",
       "  </thead>\n",
       "  <tbody>\n",
       "    <tr>\n",
       "      <th>escolari</th>\n",
       "      <td>9.0</td>\n",
       "      <td>2.0</td>\n",
       "      <td>0.0</td>\n",
       "      <td>3.0</td>\n",
       "      <td>8.0</td>\n",
       "      <td>8.0</td>\n",
       "      <td>2.0</td>\n",
       "      <td>2.0</td>\n",
       "      <td>8.0</td>\n",
       "      <td>6.0</td>\n",
       "      <td>...</td>\n",
       "      <td>2.0</td>\n",
       "      <td>6.0</td>\n",
       "      <td>1.0</td>\n",
       "      <td>3.0</td>\n",
       "      <td>1.0</td>\n",
       "      <td>6.0</td>\n",
       "      <td>10.0</td>\n",
       "      <td>0.0</td>\n",
       "      <td>3.0</td>\n",
       "      <td>6.0</td>\n",
       "    </tr>\n",
       "    <tr>\n",
       "      <th>rez_esc</th>\n",
       "      <td>1.0</td>\n",
       "      <td>0.0</td>\n",
       "      <td>0.0</td>\n",
       "      <td>1.0</td>\n",
       "      <td>0.0</td>\n",
       "      <td>0.0</td>\n",
       "      <td>0.0</td>\n",
       "      <td>0.0</td>\n",
       "      <td>0.0</td>\n",
       "      <td>0.0</td>\n",
       "      <td>...</td>\n",
       "      <td>1.0</td>\n",
       "      <td>0.0</td>\n",
       "      <td>1.0</td>\n",
       "      <td>2.0</td>\n",
       "      <td>0.0</td>\n",
       "      <td>0.0</td>\n",
       "      <td>0.0</td>\n",
       "      <td>1.0</td>\n",
       "      <td>0.0</td>\n",
       "      <td>0.0</td>\n",
       "    </tr>\n",
       "  </tbody>\n",
       "</table>\n",
       "<p>2 rows × 1629 columns</p>\n",
       "</div>"
      ],
      "text/plain": [
       "          3     6     7     10    38    42    48    50    52    54    ...   \\\n",
       "escolari   9.0   2.0   0.0   3.0   8.0   8.0   2.0   2.0   8.0   6.0  ...    \n",
       "rez_esc    1.0   0.0   0.0   1.0   0.0   0.0   0.0   0.0   0.0   0.0  ...    \n",
       "\n",
       "          9479  9491  9493  9497  9514  9516  9533  9536  9542  9543  \n",
       "escolari   2.0   6.0   1.0   3.0   1.0   6.0  10.0   0.0   3.0   6.0  \n",
       "rez_esc    1.0   0.0   1.0   2.0   0.0   0.0   0.0   1.0   0.0   0.0  \n",
       "\n",
       "[2 rows x 1629 columns]"
      ]
     },
     "execution_count": 78,
     "metadata": {},
     "output_type": "execute_result"
    }
   ],
   "source": [
    "\n",
    "train_data[['escolari','rez_esc']][~train_data.rez_esc.isna()].T\n"
   ]
  },
  {
   "cell_type": "code",
   "execution_count": 80,
   "metadata": {},
   "outputs": [
    {
     "data": {
      "text/html": [
       "<div>\n",
       "<style scoped>\n",
       "    .dataframe tbody tr th:only-of-type {\n",
       "        vertical-align: middle;\n",
       "    }\n",
       "\n",
       "    .dataframe tbody tr th {\n",
       "        vertical-align: top;\n",
       "    }\n",
       "\n",
       "    .dataframe thead th {\n",
       "        text-align: right;\n",
       "    }\n",
       "</style>\n",
       "<table border=\"1\" class=\"dataframe\">\n",
       "  <thead>\n",
       "    <tr style=\"text-align: right;\">\n",
       "      <th></th>\n",
       "      <th>210</th>\n",
       "      <th>296</th>\n",
       "      <th>386</th>\n",
       "      <th>558</th>\n",
       "      <th>563</th>\n",
       "      <th>644</th>\n",
       "      <th>1016</th>\n",
       "      <th>1852</th>\n",
       "      <th>2213</th>\n",
       "      <th>2321</th>\n",
       "      <th>...</th>\n",
       "      <th>2724</th>\n",
       "      <th>3598</th>\n",
       "      <th>4140</th>\n",
       "      <th>4334</th>\n",
       "      <th>4552</th>\n",
       "      <th>4736</th>\n",
       "      <th>5321</th>\n",
       "      <th>7153</th>\n",
       "      <th>7952</th>\n",
       "      <th>7956</th>\n",
       "    </tr>\n",
       "  </thead>\n",
       "  <tbody>\n",
       "    <tr>\n",
       "      <th>escolari</th>\n",
       "      <td>21.0</td>\n",
       "      <td>21.0</td>\n",
       "      <td>21.0</td>\n",
       "      <td>21.0</td>\n",
       "      <td>21.0</td>\n",
       "      <td>21.0</td>\n",
       "      <td>21.0</td>\n",
       "      <td>21.0</td>\n",
       "      <td>21.0</td>\n",
       "      <td>21.0</td>\n",
       "      <td>...</td>\n",
       "      <td>21.0</td>\n",
       "      <td>21.0</td>\n",
       "      <td>21.0</td>\n",
       "      <td>21.0</td>\n",
       "      <td>21.0</td>\n",
       "      <td>21.0</td>\n",
       "      <td>21.0</td>\n",
       "      <td>21.0</td>\n",
       "      <td>21.0</td>\n",
       "      <td>21.0</td>\n",
       "    </tr>\n",
       "    <tr>\n",
       "      <th>rez_esc</th>\n",
       "      <td>NaN</td>\n",
       "      <td>NaN</td>\n",
       "      <td>NaN</td>\n",
       "      <td>NaN</td>\n",
       "      <td>NaN</td>\n",
       "      <td>NaN</td>\n",
       "      <td>NaN</td>\n",
       "      <td>NaN</td>\n",
       "      <td>NaN</td>\n",
       "      <td>NaN</td>\n",
       "      <td>...</td>\n",
       "      <td>NaN</td>\n",
       "      <td>NaN</td>\n",
       "      <td>NaN</td>\n",
       "      <td>NaN</td>\n",
       "      <td>NaN</td>\n",
       "      <td>NaN</td>\n",
       "      <td>NaN</td>\n",
       "      <td>NaN</td>\n",
       "      <td>NaN</td>\n",
       "      <td>NaN</td>\n",
       "    </tr>\n",
       "  </tbody>\n",
       "</table>\n",
       "<p>2 rows × 21 columns</p>\n",
       "</div>"
      ],
      "text/plain": [
       "          210   296   386   558   563   644   1016  1852  2213  2321  ...   \\\n",
       "escolari  21.0  21.0  21.0  21.0  21.0  21.0  21.0  21.0  21.0  21.0  ...    \n",
       "rez_esc    NaN   NaN   NaN   NaN   NaN   NaN   NaN   NaN   NaN   NaN  ...    \n",
       "\n",
       "          2724  3598  4140  4334  4552  4736  5321  7153  7952  7956  \n",
       "escolari  21.0  21.0  21.0  21.0  21.0  21.0  21.0  21.0  21.0  21.0  \n",
       "rez_esc    NaN   NaN   NaN   NaN   NaN   NaN   NaN   NaN   NaN   NaN  \n",
       "\n",
       "[2 rows x 21 columns]"
      ]
     },
     "execution_count": 80,
     "metadata": {},
     "output_type": "execute_result"
    }
   ],
   "source": [
    "train_data[['escolari','rez_esc']][train_data.escolari==21].T"
   ]
  },
  {
   "cell_type": "code",
   "execution_count": 93,
   "metadata": {},
   "outputs": [
    {
     "data": {
      "text/plain": [
       "(0.0, 0.46)"
      ]
     },
     "execution_count": 93,
     "metadata": {},
     "output_type": "execute_result"
    }
   ],
   "source": [
    "# there is no clear pattern emerging, so this is what we are going to do\n",
    "# 1. we are going to create a new column with nan replaced with mean of the data\n",
    "# 2. we are going to create another column with nan replaced with max appearing value\n",
    "\n",
    "mean = train_data.rez_esc.mean()\n",
    "most_appearing = train_data.rez_esc.value_counts().idxmax()\n",
    "most_appearing,round(mean,2)\n"
   ]
  },
  {
   "cell_type": "code",
   "execution_count": 90,
   "metadata": {},
   "outputs": [
    {
     "data": {
      "text/plain": [
       "0"
      ]
     },
     "execution_count": 90,
     "metadata": {},
     "output_type": "execute_result"
    }
   ],
   "source": [
    "train_data['yrs_behind_in_school_nan_with_max_appearing'] = train_data['rez_esc']\n",
    "train_data['yrs_behind_in_school_nan_with_max_appearing'].fillna(value = most_appearing, inplace=True)\n",
    "\n",
    "train_data.yrs_behind_in_school_nan_with_max_appearing.isnull().sum()"
   ]
  },
  {
   "cell_type": "code",
   "execution_count": 94,
   "metadata": {},
   "outputs": [
    {
     "data": {
      "text/plain": [
       "0"
      ]
     },
     "execution_count": 94,
     "metadata": {},
     "output_type": "execute_result"
    }
   ],
   "source": [
    "train_data['yrs_behind_in_school_nan_with_mean'] = train_data['rez_esc']\n",
    "train_data['yrs_behind_in_school_nan_with_mean'].fillna(value = round(mean,2), inplace=True)\n",
    "\n",
    "train_data.yrs_behind_in_school_nan_with_mean.isnull().sum()"
   ]
  },
  {
   "cell_type": "code",
   "execution_count": 95,
   "metadata": {},
   "outputs": [],
   "source": [
    "numerical_columns.append('yrs_behind_in_school_nan_with_mean')\n",
    "numerical_columns.append('yrs_behind_in_school_nan_with_max_appearing')"
   ]
  },
  {
   "cell_type": "code",
   "execution_count": 96,
   "metadata": {},
   "outputs": [
    {
     "data": {
      "text/plain": [
       "0.0    9139\n",
       "1.0     227\n",
       "2.0      98\n",
       "3.0      55\n",
       "4.0      29\n",
       "5.0       9\n",
       "Name: yrs_behind_in_school_nan_with_max_appearing, dtype: int64"
      ]
     },
     "execution_count": 96,
     "metadata": {},
     "output_type": "execute_result"
    }
   ],
   "source": [
    "train_data.yrs_behind_in_school_nan_with_max_appearing.value_counts()"
   ]
  },
  {
   "cell_type": "code",
   "execution_count": 97,
   "metadata": {},
   "outputs": [
    {
     "data": {
      "text/plain": [
       "0.46    7928\n",
       "0.00    1211\n",
       "1.00     227\n",
       "2.00      98\n",
       "3.00      55\n",
       "4.00      29\n",
       "5.00       9\n",
       "Name: yrs_behind_in_school_nan_with_mean, dtype: int64"
      ]
     },
     "execution_count": 97,
     "metadata": {},
     "output_type": "execute_result"
    }
   ],
   "source": [
    "train_data.yrs_behind_in_school_nan_with_mean.value_counts()"
   ]
  },
  {
   "cell_type": "code",
   "execution_count": 102,
   "metadata": {},
   "outputs": [
    {
     "data": {
      "text/plain": [
       "0.0    7342\n",
       "1.0    1586\n",
       "2.0     444\n",
       "3.0     129\n",
       "4.0      37\n",
       "5.0      13\n",
       "6.0       6\n",
       "Name: num_of_tablets, dtype: int64"
      ]
     },
     "execution_count": 102,
     "metadata": {},
     "output_type": "execute_result"
    }
   ],
   "source": [
    "train_data.num_of_tablets.value_counts()"
   ]
  },
  {
   "cell_type": "code",
   "execution_count": 99,
   "metadata": {},
   "outputs": [
    {
     "data": {
      "text/plain": [
       "0    7342\n",
       "1    2215\n",
       "Name: tablet_owner, dtype: int64"
      ]
     },
     "execution_count": 99,
     "metadata": {},
     "output_type": "execute_result"
    }
   ],
   "source": [
    "train_data.tablet_owner.value_counts()"
   ]
  },
  {
   "cell_type": "code",
   "execution_count": null,
   "metadata": {},
   "outputs": [],
   "source": [
    "# ## all the above columns would need to undergo categorical encoding. so lets mark them as such.\n",
    "\n",
    "# require_encoding = ['tablet_owner',\n",
    "#                     'num_of_tablets',\n",
    "#                     'yrs_behind_in_school_nan_with_max_appearing',\n",
    "#                     'yrs_behind_in_school_nan_with_mean']"
   ]
  },
  {
   "cell_type": "code",
   "execution_count": 103,
   "metadata": {},
   "outputs": [
    {
     "data": {
      "text/plain": [
       "6860"
      ]
     },
     "execution_count": 103,
     "metadata": {},
     "output_type": "execute_result"
    }
   ],
   "source": [
    "train_data.v2a1.isnull().sum()"
   ]
  },
  {
   "cell_type": "code",
   "execution_count": 104,
   "metadata": {},
   "outputs": [
    {
     "data": {
      "text/plain": [
       "150000.0     233\n",
       "100000.0     181\n",
       "200000.0     159\n",
       "120000.0     149\n",
       "50000.0      118\n",
       "80000.0      104\n",
       "90000.0       81\n",
       "70000.0       79\n",
       "180000.0      77\n",
       "300000.0      76\n",
       "250000.0      75\n",
       "40000.0       72\n",
       "60000.0       57\n",
       "130000.0      53\n",
       "350000.0      53\n",
       "110000.0      53\n",
       "30000.0       48\n",
       "160000.0      46\n",
       "170000.0      41\n",
       "140000.0      39\n",
       "220000.0      30\n",
       "0.0           29\n",
       "570540.0      25\n",
       "45000.0       25\n",
       "175000.0      23\n",
       "400000.0      22\n",
       "20000.0       22\n",
       "25000.0       21\n",
       "285270.0      21\n",
       "35000.0       20\n",
       "            ... \n",
       "176000.0       2\n",
       "420000.0       2\n",
       "52000.0        2\n",
       "100297.0       2\n",
       "155000.0       2\n",
       "159751.0       2\n",
       "102000.0       2\n",
       "58731.0        2\n",
       "278000.0       2\n",
       "32600.0        2\n",
       "470000.0       2\n",
       "2353477.0      2\n",
       "44000.0        2\n",
       "93000.0        2\n",
       "275000.0       2\n",
       "288750.0       2\n",
       "325000.0       2\n",
       "16000.0        2\n",
       "219087.0       2\n",
       "234000.0       1\n",
       "249896.0       1\n",
       "125518.0       1\n",
       "25310.0        1\n",
       "510000.0       1\n",
       "253000.0       1\n",
       "119813.0       1\n",
       "268153.0       1\n",
       "542013.0       1\n",
       "118097.0       1\n",
       "108000.0       1\n",
       "Name: v2a1, Length: 157, dtype: int64"
      ]
     },
     "execution_count": 104,
     "metadata": {},
     "output_type": "execute_result"
    }
   ],
   "source": [
    "train_data.v2a1.value_counts()"
   ]
  },
  {
   "cell_type": "code",
   "execution_count": 106,
   "metadata": {},
   "outputs": [],
   "source": [
    "# since v2a1 is rent paidn in month, we are not goinf to be replacing it with the max  rent. since that will move those \n",
    "# households to a copletely different category which we dont want\n",
    "# instead we are goinf to be replacing it with mean of the rent paid in months.\n",
    "# however we are only goiung to be doing the same for households which are actualyl rented.\n",
    "# for non rented households we are going to be replacing it with 0\n",
    "# also rename the column at the same time\n",
    "\n",
    "\n",
    "columns_name_dict['v2a1']='monthly_rent_paid'\n",
    "train_data.rename(columns = columns_name_dict, inplace='True')\n"
   ]
  },
  {
   "cell_type": "code",
   "execution_count": 121,
   "metadata": {},
   "outputs": [
    {
     "data": {
      "text/html": [
       "<div>\n",
       "<style scoped>\n",
       "    .dataframe tbody tr th:only-of-type {\n",
       "        vertical-align: middle;\n",
       "    }\n",
       "\n",
       "    .dataframe tbody tr th {\n",
       "        vertical-align: top;\n",
       "    }\n",
       "\n",
       "    .dataframe thead th {\n",
       "        text-align: right;\n",
       "    }\n",
       "</style>\n",
       "<table border=\"1\" class=\"dataframe\">\n",
       "  <thead>\n",
       "    <tr style=\"text-align: right;\">\n",
       "      <th></th>\n",
       "      <th>tipovivi3</th>\n",
       "      <th>monthly_rent_paid</th>\n",
       "    </tr>\n",
       "  </thead>\n",
       "  <tbody>\n",
       "  </tbody>\n",
       "</table>\n",
       "</div>"
      ],
      "text/plain": [
       "Empty DataFrame\n",
       "Columns: [tipovivi3, monthly_rent_paid]\n",
       "Index: []"
      ]
     },
     "execution_count": 121,
     "metadata": {},
     "output_type": "execute_result"
    }
   ],
   "source": [
    "\n",
    "# are they any households which are rented and at the same time have no values for the monthly rent paid??\n",
    "train_data[['tipovivi3','monthly_rent_paid']].loc[(train_data['tipovivi3']==1) & train_data.monthly_rent_paid.isna()]"
   ]
  },
  {
   "cell_type": "code",
   "execution_count": 122,
   "metadata": {},
   "outputs": [],
   "source": [
    "# since there are no households which are rented but do not have value for monthly rent paid\n",
    "# we can safely assume that nan values in monthly rent paid column is =beacuse that particular household is not \n",
    "# rented. we will replace nan with a value of 0\n",
    "\n",
    "train_data['monthly_rent_paid'].fillna(value = 0 , inplace = True)"
   ]
  },
  {
   "cell_type": "code",
   "execution_count": 123,
   "metadata": {},
   "outputs": [
    {
     "data": {
      "text/plain": [
       "5"
      ]
     },
     "execution_count": 123,
     "metadata": {},
     "output_type": "execute_result"
    }
   ],
   "source": [
    "train_data.meaneduc.isnull().sum()"
   ]
  },
  {
   "cell_type": "code",
   "execution_count": 128,
   "metadata": {},
   "outputs": [
    {
     "data": {
      "text/plain": [
       "(0    8270\n",
       " 1    1287\n",
       " Name: instlevel1, dtype: int64, 0)"
      ]
     },
     "execution_count": 128,
     "metadata": {},
     "output_type": "execute_result"
    }
   ],
   "source": [
    "train_data['instlevel1'].value_counts(), train_data['instlevel1'].isnull().sum()"
   ]
  },
  {
   "cell_type": "code",
   "execution_count": 133,
   "metadata": {},
   "outputs": [
    {
     "data": {
      "text/html": [
       "<div>\n",
       "<style scoped>\n",
       "    .dataframe tbody tr th:only-of-type {\n",
       "        vertical-align: middle;\n",
       "    }\n",
       "\n",
       "    .dataframe tbody tr th {\n",
       "        vertical-align: top;\n",
       "    }\n",
       "\n",
       "    .dataframe thead th {\n",
       "        text-align: right;\n",
       "    }\n",
       "</style>\n",
       "<table border=\"1\" class=\"dataframe\">\n",
       "  <thead>\n",
       "    <tr style=\"text-align: right;\">\n",
       "      <th></th>\n",
       "      <th>meaneduc</th>\n",
       "      <th>instlevel1</th>\n",
       "    </tr>\n",
       "  </thead>\n",
       "  <tbody>\n",
       "  </tbody>\n",
       "</table>\n",
       "</div>"
      ],
      "text/plain": [
       "Empty DataFrame\n",
       "Columns: [meaneduc, instlevel1]\n",
       "Index: []"
      ]
     },
     "execution_count": 133,
     "metadata": {},
     "output_type": "execute_result"
    }
   ],
   "source": [
    "# lets check if any of the mean education with nan values are because there is 0 yrs of education \n",
    "# in which case we can saefly replace the nan with 0 values\n",
    "# 0 yrs of education is instlevel1 = 1\n",
    "\n",
    "\n",
    "# we can see below that our hypothesis proved incorrect. there are empty meaneduc values for folks who have \n",
    "# completed some years of education\n",
    "\n",
    "train_data[['meaneduc','instlevel1']].loc[train_data.meaneduc.isna() & train_data['instlevel1']==1]"
   ]
  },
  {
   "cell_type": "code",
   "execution_count": 135,
   "metadata": {
    "scrolled": true
   },
   "outputs": [
    {
     "data": {
      "text/html": [
       "<div>\n",
       "<style scoped>\n",
       "    .dataframe tbody tr th:only-of-type {\n",
       "        vertical-align: middle;\n",
       "    }\n",
       "\n",
       "    .dataframe tbody tr th {\n",
       "        vertical-align: top;\n",
       "    }\n",
       "\n",
       "    .dataframe thead th {\n",
       "        text-align: right;\n",
       "    }\n",
       "</style>\n",
       "<table border=\"1\" class=\"dataframe\">\n",
       "  <thead>\n",
       "    <tr style=\"text-align: right;\">\n",
       "      <th></th>\n",
       "      <th>meaneduc</th>\n",
       "      <th>instlevel2</th>\n",
       "    </tr>\n",
       "  </thead>\n",
       "  <tbody>\n",
       "    <tr>\n",
       "      <th>1841</th>\n",
       "      <td>NaN</td>\n",
       "      <td>1</td>\n",
       "    </tr>\n",
       "  </tbody>\n",
       "</table>\n",
       "</div>"
      ],
      "text/plain": [
       "      meaneduc  instlevel2\n",
       "1841       NaN           1"
      ]
     },
     "execution_count": 135,
     "metadata": {},
     "output_type": "execute_result"
    }
   ],
   "source": [
    "# lets check if any of the mean education with nan values are because there is incomplete primary education\n",
    "# in which case we can saefly replace the nan with 0 values\n",
    "# imcplete primary education is instlevel2 = 1\n",
    "\n",
    "\n",
    "\n",
    "train_data[['meaneduc','instlevel2']].loc[train_data.meaneduc.isna() & train_data['instlevel2']==1]"
   ]
  },
  {
   "cell_type": "code",
   "execution_count": null,
   "metadata": {},
   "outputs": [],
   "source": [
    "## from google we saw that costa rica has 6 yrs of primary education. so for the above data we are going to assign \n",
    "## a mid value of education = 3"
   ]
  },
  {
   "cell_type": "code",
   "execution_count": 163,
   "metadata": {
    "scrolled": true
   },
   "outputs": [
    {
     "data": {
      "text/html": [
       "<div>\n",
       "<style scoped>\n",
       "    .dataframe tbody tr th:only-of-type {\n",
       "        vertical-align: middle;\n",
       "    }\n",
       "\n",
       "    .dataframe tbody tr th {\n",
       "        vertical-align: top;\n",
       "    }\n",
       "\n",
       "    .dataframe thead th {\n",
       "        text-align: right;\n",
       "    }\n",
       "</style>\n",
       "<table border=\"1\" class=\"dataframe\">\n",
       "  <thead>\n",
       "    <tr style=\"text-align: right;\">\n",
       "      <th></th>\n",
       "      <th>meaneduc</th>\n",
       "      <th>instlevel3</th>\n",
       "    </tr>\n",
       "  </thead>\n",
       "  <tbody>\n",
       "    <tr>\n",
       "      <th>1840</th>\n",
       "      <td>NaN</td>\n",
       "      <td>1</td>\n",
       "    </tr>\n",
       "  </tbody>\n",
       "</table>\n",
       "</div>"
      ],
      "text/plain": [
       "      meaneduc  instlevel3\n",
       "1840       NaN           1"
      ]
     },
     "execution_count": 163,
     "metadata": {},
     "output_type": "execute_result"
    }
   ],
   "source": [
    "\n",
    "# lets check if any of the mean education with nan values are because there is complete primary education\n",
    "# in which case we can saefly replace the nan with 0 values\n",
    "# cplete primary education is instlevel3 = 1\n",
    "\n",
    "train_data[['meaneduc','instlevel3']].loc[train_data.meaneduc.isna() & train_data['instlevel3']==1]"
   ]
  },
  {
   "cell_type": "code",
   "execution_count": 169,
   "metadata": {
    "scrolled": true
   },
   "outputs": [
    {
     "data": {
      "text/html": [
       "<div>\n",
       "<style scoped>\n",
       "    .dataframe tbody tr th:only-of-type {\n",
       "        vertical-align: middle;\n",
       "    }\n",
       "\n",
       "    .dataframe tbody tr th {\n",
       "        vertical-align: top;\n",
       "    }\n",
       "\n",
       "    .dataframe thead th {\n",
       "        text-align: right;\n",
       "    }\n",
       "</style>\n",
       "<table border=\"1\" class=\"dataframe\">\n",
       "  <thead>\n",
       "    <tr style=\"text-align: right;\">\n",
       "      <th></th>\n",
       "      <th>meaneduc</th>\n",
       "      <th>instlevel4</th>\n",
       "    </tr>\n",
       "  </thead>\n",
       "  <tbody>\n",
       "    <tr>\n",
       "      <th>1291</th>\n",
       "      <td>NaN</td>\n",
       "      <td>1</td>\n",
       "    </tr>\n",
       "  </tbody>\n",
       "</table>\n",
       "</div>"
      ],
      "text/plain": [
       "      meaneduc  instlevel4\n",
       "1291       NaN           1"
      ]
     },
     "execution_count": 169,
     "metadata": {},
     "output_type": "execute_result"
    }
   ],
   "source": [
    "\n",
    "# lets check if any of the mean education with nan values are because there is incomplete secondary education\n",
    "# in which case we can saefly replace the nan with 0 values incplete secondary education is instlevel4 = 1\n",
    "\n",
    "train_data[['meaneduc','instlevel4']].loc[train_data.meaneduc.isna() & train_data['instlevel4']==1]"
   ]
  },
  {
   "cell_type": "code",
   "execution_count": 170,
   "metadata": {
    "scrolled": true
   },
   "outputs": [
    {
     "data": {
      "text/html": [
       "<div>\n",
       "<style scoped>\n",
       "    .dataframe tbody tr th:only-of-type {\n",
       "        vertical-align: middle;\n",
       "    }\n",
       "\n",
       "    .dataframe tbody tr th {\n",
       "        vertical-align: top;\n",
       "    }\n",
       "\n",
       "    .dataframe thead th {\n",
       "        text-align: right;\n",
       "    }\n",
       "</style>\n",
       "<table border=\"1\" class=\"dataframe\">\n",
       "  <thead>\n",
       "    <tr style=\"text-align: right;\">\n",
       "      <th></th>\n",
       "      <th>meaneduc</th>\n",
       "      <th>instlevel5</th>\n",
       "    </tr>\n",
       "  </thead>\n",
       "  <tbody>\n",
       "  </tbody>\n",
       "</table>\n",
       "</div>"
      ],
      "text/plain": [
       "Empty DataFrame\n",
       "Columns: [meaneduc, instlevel5]\n",
       "Index: []"
      ]
     },
     "execution_count": 170,
     "metadata": {},
     "output_type": "execute_result"
    }
   ],
   "source": [
    "\n",
    "# lets check if any of the mean education with nan values are because there is complete secondary education\n",
    "# in which case we can saefly replace the nan with 0 values cplete secondary education is instlevel5 = 1\n",
    "\n",
    "\n",
    "train_data[['meaneduc','instlevel5']].loc[train_data.meaneduc.isna() & train_data['instlevel5']==1]"
   ]
  },
  {
   "cell_type": "code",
   "execution_count": 171,
   "metadata": {
    "scrolled": true
   },
   "outputs": [
    {
     "data": {
      "text/html": [
       "<div>\n",
       "<style scoped>\n",
       "    .dataframe tbody tr th:only-of-type {\n",
       "        vertical-align: middle;\n",
       "    }\n",
       "\n",
       "    .dataframe tbody tr th {\n",
       "        vertical-align: top;\n",
       "    }\n",
       "\n",
       "    .dataframe thead th {\n",
       "        text-align: right;\n",
       "    }\n",
       "</style>\n",
       "<table border=\"1\" class=\"dataframe\">\n",
       "  <thead>\n",
       "    <tr style=\"text-align: right;\">\n",
       "      <th></th>\n",
       "      <th>meaneduc</th>\n",
       "      <th>instlevel6</th>\n",
       "    </tr>\n",
       "  </thead>\n",
       "  <tbody>\n",
       "  </tbody>\n",
       "</table>\n",
       "</div>"
      ],
      "text/plain": [
       "Empty DataFrame\n",
       "Columns: [meaneduc, instlevel6]\n",
       "Index: []"
      ]
     },
     "execution_count": 171,
     "metadata": {},
     "output_type": "execute_result"
    }
   ],
   "source": [
    "\n",
    "# lets check if any of the mean education with nan values are because there is incomplete tech secondary education\n",
    "# in which case we can saefly replace the nan with 0 values ncomplete tech secondary education is instlevel6 = 1\n",
    "\n",
    "\n",
    "train_data[['meaneduc','instlevel6']].loc[train_data.meaneduc.isna() & train_data['instlevel6']==1]"
   ]
  },
  {
   "cell_type": "code",
   "execution_count": 172,
   "metadata": {},
   "outputs": [
    {
     "data": {
      "text/html": [
       "<div>\n",
       "<style scoped>\n",
       "    .dataframe tbody tr th:only-of-type {\n",
       "        vertical-align: middle;\n",
       "    }\n",
       "\n",
       "    .dataframe tbody tr th {\n",
       "        vertical-align: top;\n",
       "    }\n",
       "\n",
       "    .dataframe thead th {\n",
       "        text-align: right;\n",
       "    }\n",
       "</style>\n",
       "<table border=\"1\" class=\"dataframe\">\n",
       "  <thead>\n",
       "    <tr style=\"text-align: right;\">\n",
       "      <th></th>\n",
       "      <th>meaneduc</th>\n",
       "      <th>instlevel7</th>\n",
       "    </tr>\n",
       "  </thead>\n",
       "  <tbody>\n",
       "    <tr>\n",
       "      <th>2049</th>\n",
       "      <td>NaN</td>\n",
       "      <td>1</td>\n",
       "    </tr>\n",
       "    <tr>\n",
       "      <th>2050</th>\n",
       "      <td>NaN</td>\n",
       "      <td>1</td>\n",
       "    </tr>\n",
       "  </tbody>\n",
       "</table>\n",
       "</div>"
      ],
      "text/plain": [
       "      meaneduc  instlevel7\n",
       "2049       NaN           1\n",
       "2050       NaN           1"
      ]
     },
     "execution_count": 172,
     "metadata": {},
     "output_type": "execute_result"
    }
   ],
   "source": [
    "\n",
    "# lets check if any of the mean education with nan values are because there is complete tech secondary education\n",
    "# in which case we can saefly replace the nan with 0 values complete tech secondary education is instlevel7 = 1\n",
    "\n",
    "\n",
    "train_data[['meaneduc','instlevel7']].loc[train_data.meaneduc.isna() & train_data['instlevel7']==1]"
   ]
  },
  {
   "cell_type": "code",
   "execution_count": null,
   "metadata": {},
   "outputs": [],
   "source": [
    "# we have found all our 5 missing meaneduc rows and we know what values to replace each with\n",
    "# 1840= 6\n",
    "# 1841 = 3\n",
    "# 1291 = 2 + 6\n",
    "# 2049 = 3+6+3\n",
    "# 2050 = 3+6+3"
   ]
  },
  {
   "cell_type": "code",
   "execution_count": 175,
   "metadata": {},
   "outputs": [],
   "source": [
    "train_data['meaneduc'].fillna(value = -99999, inplace = True) # fillinf with crazy values so that later on i can do replace"
   ]
  },
  {
   "cell_type": "code",
   "execution_count": 180,
   "metadata": {},
   "outputs": [
    {
     "data": {
      "text/plain": [
       "(-99999.0, -99999.0, -99999.0)"
      ]
     },
     "execution_count": 180,
     "metadata": {},
     "output_type": "execute_result"
    }
   ],
   "source": [
    "train_data.iloc[1840]['meaneduc'],train_data.iloc[1841]['meaneduc'],train_data.iloc[1291]['meaneduc']"
   ]
  },
  {
   "cell_type": "code",
   "execution_count": 191,
   "metadata": {},
   "outputs": [],
   "source": [
    "train_data.loc[1840,'meaneduc'] =6\n",
    "train_data.loc[1841,'meaneduc'] = 3\n",
    "train_data.loc[1291,'meaneduc'] = 8\n",
    "train_data.loc[2049,'meaneduc'] = 12\n",
    "train_data.loc[2050,'meaneduc'] = 12"
   ]
  },
  {
   "cell_type": "code",
   "execution_count": 194,
   "metadata": {},
   "outputs": [
    {
     "data": {
      "text/plain": [
       "0"
      ]
     },
     "execution_count": 194,
     "metadata": {},
     "output_type": "execute_result"
    }
   ],
   "source": [
    "train_data.meaneduc.isna().sum()"
   ]
  },
  {
   "cell_type": "code",
   "execution_count": 201,
   "metadata": {},
   "outputs": [
    {
     "data": {
      "text/plain": [
       "sqbmeaned          5\n",
       "sqbovercrowding    0\n",
       "overcrowding       0\n",
       "dependency         0\n",
       "sqbdependency      0\n",
       "dtype: int64"
      ]
     },
     "execution_count": 201,
     "metadata": {},
     "output_type": "execute_result"
    }
   ],
   "source": [
    "# moving on to columns overcrowding and sqbovercrowding and sqbmeaned\n",
    "\n",
    "train_data[['sqbmeaned','sqbovercrowding','overcrowding','dependency','sqbdependency']].isnull().sum()"
   ]
  },
  {
   "cell_type": "code",
   "execution_count": 205,
   "metadata": {},
   "outputs": [
    {
     "data": {
      "text/plain": [
       "1291   NaN\n",
       "1840   NaN\n",
       "1841   NaN\n",
       "2049   NaN\n",
       "2050   NaN\n",
       "Name: sqbmeaned, dtype: float64"
      ]
     },
     "execution_count": 205,
     "metadata": {},
     "output_type": "execute_result"
    }
   ],
   "source": [
    "# we know sqbmeaned is the square value of meaneduc so we can simply chek in those row number\n",
    "train_data.iloc[[1291,1840,1841,2049,2050]]['sqbmeaned']"
   ]
  },
  {
   "cell_type": "code",
   "execution_count": 206,
   "metadata": {},
   "outputs": [],
   "source": [
    "train_data.loc[1840,'meaneduc'] =6**2\n",
    "train_data.loc[1841,'meaneduc'] = 3**2\n",
    "train_data.loc[1291,'meaneduc'] = 8**2\n",
    "train_data.loc[2049,'meaneduc'] = 12**2\n",
    "train_data.loc[2050,'meaneduc'] = 12**2"
   ]
  },
  {
   "cell_type": "markdown",
   "metadata": {},
   "source": [
    "#### At this point, we are done dealing with the float data types for numerical columns\n",
    "#### Lets tackle the int values one by one based on categorization already provided in the data dictionary"
   ]
  },
  {
   "cell_type": "code",
   "execution_count": 217,
   "metadata": {},
   "outputs": [
    {
     "name": "stdout",
     "output_type": "stream",
     "text": [
      "{0, 1} [3646 5911]\n",
      "{0, 1} [8596  961]\n",
      "{0, 1} [7821 1736]\n",
      "{0, 1} [9394  163]\n",
      "{0, 1} [8771  786]\n",
      "\n",
      " any null values: tipovivi1    0\n",
      "tipovivi2    0\n",
      "tipovivi3    0\n",
      "tipovivi4    0\n",
      "tipovivi5    0\n",
      "dtype: int64\n"
     ]
    }
   ],
   "source": [
    "# tipovivi1, =1 own and fully paid house\n",
    "# tipovivi2, \"=1 own,  paying in installments\"\n",
    "# tipovivi3, =1 rented\n",
    "# tipovivi4, =1 precarious\n",
    "# tipovivi5, \"=1 other(assigned,  borrowed)\"\n",
    "\n",
    "print(set(train_data.tipovivi1.values.tolist()),np.bincount(train_data.tipovivi1.values))\n",
    "print(set(train_data.tipovivi2.values.tolist()),np.bincount(train_data.tipovivi2.values))\n",
    "print(set(train_data.tipovivi3.values.tolist()),np.bincount(train_data.tipovivi3.values))\n",
    "print(set(train_data.tipovivi4.values.tolist()),np.bincount(train_data.tipovivi4.values))\n",
    "print(set(train_data.tipovivi5.values.tolist()),np.bincount(train_data.tipovivi5.values))\n",
    "print('\\n any null values:',train_data[['tipovivi1','tipovivi2','tipovivi3','tipovivi4','tipovivi5']].isnull().sum())"
   ]
  },
  {
   "cell_type": "code",
   "execution_count": 219,
   "metadata": {},
   "outputs": [
    {
     "name": "stdout",
     "output_type": "stream",
     "text": [
      "{0, 1} [8270 1287]\n",
      "{0, 1} [7927 1630]\n",
      "{0, 1} [7572 1985]\n",
      "{0, 1} [7785 1772]\n",
      "{0, 1} [8480 1077]\n",
      "{0, 1} [9386  171]\n",
      "{0, 1} [9408  149]\n",
      "{0, 1} [8221 1336]\n",
      "{0, 1} [9410  147]\n",
      "\n",
      " any null values: instlevel1    0\n",
      "instlevel2    0\n",
      "instlevel3    0\n",
      "instlevel4    0\n",
      "instlevel5    0\n",
      "instlevel6    0\n",
      "instlevel7    0\n",
      "instlevel8    0\n",
      "instlevel9    0\n",
      "dtype: int64\n"
     ]
    }
   ],
   "source": [
    "# instlevel1, =1 no level of education\n",
    "# instlevel2, =1 incomplete primary\n",
    "# instlevel3, =1 complete primary\n",
    "# instlevel4, =1 incomplete academic secondary level\n",
    "# instlevel5, =1 complete academic secondary level\n",
    "# instlevel6, =1 incomplete technical secondary level\n",
    "# instlevel7, =1 complete technical secondary level\n",
    "# instlevel8, =1 undergraduate and higher education\n",
    "# instlevel9, =1 postgraduate higher education\n",
    "\n",
    "print(set(train_data.instlevel1.values.tolist()),np.bincount(train_data.instlevel1.values))\n",
    "print(set(train_data.instlevel2.values.tolist()),np.bincount(train_data.instlevel2.values))\n",
    "print(set(train_data.instlevel3.values.tolist()),np.bincount(train_data.instlevel3.values))\n",
    "print(set(train_data.instlevel4.values.tolist()),np.bincount(train_data.instlevel4.values))\n",
    "print(set(train_data.instlevel5.values.tolist()),np.bincount(train_data.instlevel5.values))\n",
    "print(set(train_data.instlevel6.values.tolist()),np.bincount(train_data.instlevel6.values))\n",
    "print(set(train_data.instlevel7.values.tolist()),np.bincount(train_data.instlevel7.values))\n",
    "print(set(train_data.instlevel8.values.tolist()),np.bincount(train_data.instlevel8.values))\n",
    "print(set(train_data.instlevel9.values.tolist()),np.bincount(train_data.instlevel9.values))\n",
    "print('\\n any null values:',train_data[['instlevel1',\\\n",
    "                                        'instlevel2',\\\n",
    "                                        'instlevel3',\\\n",
    "                                        'instlevel4',\\\n",
    "                                        'instlevel5',\\\n",
    "                                        'instlevel6',\\\n",
    "                                        'instlevel7',\\\n",
    "                                        'instlevel8',\\\n",
    "                                        'instlevel9']].isnull().sum())"
   ]
  },
  {
   "cell_type": "code",
   "execution_count": 220,
   "metadata": {},
   "outputs": [
    {
     "name": "stdout",
     "output_type": "stream",
     "text": [
      "{0, 1} [6584 2973]\n",
      "{0, 1} [7798 1759]\n",
      "{0, 1} [5908 3649]\n",
      "{0, 1} [9441  116]\n",
      "{0, 1} [9466   91]\n",
      "{0, 1} [9068  489]\n",
      "{0, 1} [9461   96]\n",
      "{0, 1} [9534   23]\n",
      "{0, 1} [9430  127]\n",
      "{0, 1} [9527   30]\n",
      "{0, 1} [9436  121]\n",
      "{0, 1} [9474   83]\n",
      "\n",
      " any null values: parentesco1     0\n",
      "parentesco2     0\n",
      "parentesco3     0\n",
      "parentesco4     0\n",
      "parentesco5     0\n",
      "parentesco6     0\n",
      "parentesco7     0\n",
      "parentesco8     0\n",
      "parentesco9     0\n",
      "parentesco10    0\n",
      "parentesco11    0\n",
      "parentesco12    0\n",
      "dtype: int64\n"
     ]
    }
   ],
   "source": [
    "# parentesco1, =1 if household head\n",
    "# parentesco2, =1 if spouse/partner\n",
    "# parentesco3, =1 if son/doughter\n",
    "# parentesco4, =1 if stepson/doughter\n",
    "# parentesco5, =1 if son/doughter in law\n",
    "# parentesco6, =1 if grandson/doughter\n",
    "# parentesco7, =1 if mother/father\n",
    "# parentesco8, =1 if father/mother in law\n",
    "# parentesco9, =1 if brother/sister\n",
    "# parentesco10, =1 if brother/sister in law\n",
    "# parentesco11, =1 if other family member\n",
    "# parentesco12, =1 if other non family member\n",
    "\n",
    "print(set(train_data.parentesco1.values.tolist()),np.bincount(train_data.parentesco1.values))\n",
    "print(set(train_data.parentesco2.values.tolist()),np.bincount(train_data.parentesco2.values))\n",
    "print(set(train_data.parentesco3.values.tolist()),np.bincount(train_data.parentesco3.values))\n",
    "print(set(train_data.parentesco4.values.tolist()),np.bincount(train_data.parentesco4.values))\n",
    "print(set(train_data.parentesco5.values.tolist()),np.bincount(train_data.parentesco5.values))\n",
    "print(set(train_data.parentesco6.values.tolist()),np.bincount(train_data.parentesco6.values))\n",
    "print(set(train_data.parentesco7.values.tolist()),np.bincount(train_data.parentesco7.values))\n",
    "print(set(train_data.parentesco8.values.tolist()),np.bincount(train_data.parentesco8.values))\n",
    "print(set(train_data.parentesco9.values.tolist()),np.bincount(train_data.parentesco9.values))\n",
    "print(set(train_data.parentesco10.values.tolist()),np.bincount(train_data.parentesco10.values))\n",
    "print(set(train_data.parentesco11.values.tolist()),np.bincount(train_data.parentesco11.values))\n",
    "print(set(train_data.parentesco12.values.tolist()),np.bincount(train_data.parentesco12.values))\n",
    "print('\\n any null values:',train_data[['parentesco1',\\\n",
    "                                        'parentesco2',\\\n",
    "                                        'parentesco3',\\\n",
    "                                        'parentesco4',\\\n",
    "                                        'parentesco5',\\\n",
    "                                        'parentesco6',\\\n",
    "                                        'parentesco7',\\\n",
    "                                        'parentesco8',\\\n",
    "                                        'parentesco9',\\\n",
    "                                        'parentesco10',\\\n",
    "                                        'parentesco11',\\\n",
    "                                        'parentesco12']].isnull().sum())"
   ]
  },
  {
   "cell_type": "code",
   "execution_count": 220,
   "metadata": {},
   "outputs": [
    {
     "name": "stdout",
     "output_type": "stream",
     "text": [
      "{0, 1} [6584 2973]\n",
      "{0, 1} [7798 1759]\n",
      "{0, 1} [5908 3649]\n",
      "{0, 1} [9441  116]\n",
      "{0, 1} [9466   91]\n",
      "{0, 1} [9068  489]\n",
      "{0, 1} [9461   96]\n",
      "{0, 1} [9534   23]\n",
      "{0, 1} [9430  127]\n",
      "{0, 1} [9527   30]\n",
      "{0, 1} [9436  121]\n",
      "{0, 1} [9474   83]\n",
      "\n",
      " any null values: parentesco1     0\n",
      "parentesco2     0\n",
      "parentesco3     0\n",
      "parentesco4     0\n",
      "parentesco5     0\n",
      "parentesco6     0\n",
      "parentesco7     0\n",
      "parentesco8     0\n",
      "parentesco9     0\n",
      "parentesco10    0\n",
      "parentesco11    0\n",
      "parentesco12    0\n",
      "dtype: int64\n"
     ]
    }
   ],
   "source": [
    "# parentesco1, =1 if household head\n",
    "# parentesco2, =1 if spouse/partner\n",
    "# parentesco3, =1 if son/doughter\n",
    "# parentesco4, =1 if stepson/doughter\n",
    "# parentesco5, =1 if son/doughter in law\n",
    "# parentesco6, =1 if grandson/doughter\n",
    "# parentesco7, =1 if mother/father\n",
    "# parentesco8, =1 if father/mother in law\n",
    "# parentesco9, =1 if brother/sister\n",
    "# parentesco10, =1 if brother/sister in law\n",
    "# parentesco11, =1 if other family member\n",
    "# parentesco12, =1 if other non family member\n",
    "\n",
    "print(set(train_data.parentesco1.values.tolist()),np.bincount(train_data.parentesco1.values))\n",
    "print(set(train_data.parentesco2.values.tolist()),np.bincount(train_data.parentesco2.values))\n",
    "print(set(train_data.parentesco3.values.tolist()),np.bincount(train_data.parentesco3.values))\n",
    "print(set(train_data.parentesco4.values.tolist()),np.bincount(train_data.parentesco4.values))\n",
    "print(set(train_data.parentesco5.values.tolist()),np.bincount(train_data.parentesco5.values))\n",
    "print(set(train_data.parentesco6.values.tolist()),np.bincount(train_data.parentesco6.values))\n",
    "print(set(train_data.parentesco7.values.tolist()),np.bincount(train_data.parentesco7.values))\n",
    "print(set(train_data.parentesco8.values.tolist()),np.bincount(train_data.parentesco8.values))\n",
    "print(set(train_data.parentesco9.values.tolist()),np.bincount(train_data.parentesco9.values))\n",
    "print(set(train_data.parentesco10.values.tolist()),np.bincount(train_data.parentesco10.values))\n",
    "print(set(train_data.parentesco11.values.tolist()),np.bincount(train_data.parentesco11.values))\n",
    "print(set(train_data.parentesco12.values.tolist()),np.bincount(train_data.parentesco12.values))\n",
    "print('\\n any null values:',train_data[['parentesco1',\\\n",
    "                                        'parentesco2',\\\n",
    "                                        'parentesco3',\\\n",
    "                                        'parentesco4',\\\n",
    "                                        'parentesco5',\\\n",
    "                                        'parentesco6',\\\n",
    "                                        'parentesco7',\\\n",
    "                                        'parentesco8',\\\n",
    "                                        'parentesco9',\\\n",
    "                                        'parentesco10',\\\n",
    "                                        'parentesco11',\\\n",
    "                                        'parentesco12']].isnull().sum())"
   ]
  },
  {
   "cell_type": "code",
   "execution_count": 222,
   "metadata": {
    "scrolled": true
   },
   "outputs": [
    {
     "name": "stdout",
     "output_type": "stream",
     "text": [
      "{0, 1} [8240 1317]\n",
      "{0, 1} [8379 1178]\n",
      "{0, 1} [6992 2565]\n",
      "{0, 1} [9252  305]\n",
      "{0, 1} [8957  600]\n",
      "{0, 1} [9240  317]\n",
      "{0, 1} [6282 3275]\n",
      "\n",
      " any null values: estadocivil1    0\n",
      "estadocivil2    0\n",
      "estadocivil3    0\n",
      "estadocivil4    0\n",
      "estadocivil5    0\n",
      "estadocivil6    0\n",
      "estadocivil7    0\n",
      "dtype: int64\n"
     ]
    }
   ],
   "source": [
    "# estadocivil1, =1 if less than 10 years old\n",
    "# estadocivil2, =1 if free or coupled uunion\n",
    "# estadocivil3, =1 if married\n",
    "# estadocivil4, =1 if divorced\n",
    "# estadocivil5, =1 if separated\n",
    "# estadocivil6, =1 if widow/er\n",
    "# estadocivil7, =1 if single\n",
    "\n",
    "print(set(train_data.estadocivil1.values.tolist()),np.bincount(train_data.estadocivil1.values))\n",
    "print(set(train_data.estadocivil2.values.tolist()),np.bincount(train_data.estadocivil2.values))\n",
    "print(set(train_data.estadocivil3.values.tolist()),np.bincount(train_data.estadocivil3.values))\n",
    "print(set(train_data.estadocivil4.values.tolist()),np.bincount(train_data.estadocivil4.values))\n",
    "print(set(train_data.estadocivil5.values.tolist()),np.bincount(train_data.estadocivil5.values))\n",
    "print(set(train_data.estadocivil6.values.tolist()),np.bincount(train_data.estadocivil6.values))\n",
    "print(set(train_data.estadocivil7.values.tolist()),np.bincount(train_data.estadocivil7.values))\n",
    "print('\\n any null values:',train_data[['estadocivil1',\\\n",
    "                                        'estadocivil2',\\\n",
    "                                        'estadocivil3',\\\n",
    "                                        'estadocivil4',\\\n",
    "                                        'estadocivil5',\\\n",
    "                                        'estadocivil6',\\\n",
    "                                        'estadocivil7']].isnull().sum())"
   ]
  },
  {
   "cell_type": "code",
   "execution_count": 223,
   "metadata": {
    "scrolled": true
   },
   "outputs": [
    {
     "name": "stdout",
     "output_type": "stream",
     "text": [
      "{0, 1} [8591  966]\n",
      "{0, 1} [7141 2416]\n",
      "{0, 1} [3382 6175]\n",
      "\n",
      " any null values: eviv1    0\n",
      "eviv2    0\n",
      "eviv3    0\n",
      "dtype: int64\n"
     ]
    }
   ],
   "source": [
    "# eviv1, =1 if floor are bad\n",
    "# eviv2, =1 if floor are regular\n",
    "# eviv3, =1 if floor are good\n",
    "\n",
    "print(set(train_data.eviv1.values.tolist()),np.bincount(train_data.eviv1.values))\n",
    "print(set(train_data.eviv2.values.tolist()),np.bincount(train_data.eviv2.values))\n",
    "print(set(train_data.eviv3.values.tolist()),np.bincount(train_data.eviv3.values))\n",
    "print('\\n any null values:',train_data[['eviv1',\\\n",
    "                                        'eviv2',\\\n",
    "                                        'eviv3']].isnull().sum())"
   ]
  },
  {
   "cell_type": "code",
   "execution_count": 225,
   "metadata": {},
   "outputs": [
    {
     "name": "stdout",
     "output_type": "stream",
     "text": [
      "{0, 1} [9520   37]\n",
      "{0, 1} [7512 2045]\n",
      "{0, 1} [2253 7304]\n",
      "{0, 1} [9410  147]\n",
      "{0, 1} [9533   24]\n",
      "\n",
      " any null values: sanitario1    0\n",
      "sanitario2    0\n",
      "sanitario3    0\n",
      "sanitario5    0\n",
      "sanitario6    0\n",
      "dtype: int64\n"
     ]
    }
   ],
   "source": [
    "# sanitario1, =1 no toilet in the dwelling\n",
    "# sanitario2, =1 toilet connected to sewer or cesspool\n",
    "# sanitario3, =1 toilet connected to  septic tank\n",
    "# sanitario5, =1 toilet connected to black hole or letrine\n",
    "# sanitario6, =1 toilet connected to other system\n",
    "\n",
    "print(set(train_data.sanitario1.values.tolist()),np.bincount(train_data.sanitario1.values))\n",
    "print(set(train_data.sanitario2.values.tolist()),np.bincount(train_data.sanitario2.values))\n",
    "print(set(train_data.sanitario3.values.tolist()),np.bincount(train_data.sanitario3.values))\n",
    "print(set(train_data.sanitario5.values.tolist()),np.bincount(train_data.sanitario5.values))\n",
    "print(set(train_data.sanitario6.values.tolist()),np.bincount(train_data.sanitario6.values))\n",
    "print('\\n any null values:',train_data[['sanitario1',\\\n",
    "                                        'sanitario2',\\\n",
    "                                        'sanitario3',\\\n",
    "                                        'sanitario5',\\\n",
    "                                        'sanitario6']].isnull().sum())"
   ]
  },
  {
   "cell_type": "code",
   "execution_count": 226,
   "metadata": {},
   "outputs": [
    {
     "name": "stdout",
     "output_type": "stream",
     "text": [
      "{0, 1} [8330 1227]\n",
      "{0, 1} [6804 2753]\n",
      "{0, 1} [3980 5577]\n",
      "\n",
      " any null values: etecho1    0\n",
      "etecho2    0\n",
      "etecho3    0\n",
      "dtype: int64\n"
     ]
    }
   ],
   "source": [
    "# etecho1, =1 if roof are bad\n",
    "# etecho2, =1 if roof are regular\n",
    "# etecho3, =1 if roof are good\n",
    "\n",
    "print(set(train_data.etecho1.values.tolist()),np.bincount(train_data.etecho1.values))\n",
    "print(set(train_data.etecho2.values.tolist()),np.bincount(train_data.etecho2.values))\n",
    "print(set(train_data.etecho3.values.tolist()),np.bincount(train_data.etecho3.values))\n",
    "print('\\n any null values:',train_data[['etecho1',\\\n",
    "                                        'etecho2',\\\n",
    "                                        'etecho3']].isnull().sum())"
   ]
  },
  {
   "cell_type": "code",
   "execution_count": 227,
   "metadata": {},
   "outputs": [
    {
     "name": "stdout",
     "output_type": "stream",
     "text": [
      "{0, 1} [8578  979]\n",
      "{0, 1} [6428 3129]\n",
      "{0, 1} [4108 5449]\n",
      "\n",
      " any null values: epared1    0\n",
      "epared2    0\n",
      "epared3    0\n",
      "dtype: int64\n"
     ]
    }
   ],
   "source": [
    "# epared1, =1 if walls are bad\n",
    "# epared2, =1 if walls are regular\n",
    "# epared3, =1 if walls are good\n",
    "\n",
    "print(set(train_data.epared1.values.tolist()),np.bincount(train_data.epared1.values))\n",
    "print(set(train_data.epared2.values.tolist()),np.bincount(train_data.epared2.values))\n",
    "print(set(train_data.epared3.values.tolist()),np.bincount(train_data.epared3.values))\n",
    "print('\\n any null values:',train_data[['epared1',\\\n",
    "                                        'epared2',\\\n",
    "                                        'epared3']].isnull().sum())"
   ]
  },
  {
   "cell_type": "code",
   "execution_count": 228,
   "metadata": {},
   "outputs": [
    {
     "name": "stdout",
     "output_type": "stream",
     "text": [
      "{0, 1} [1121 8436]\n",
      "{0, 1} [9270  287]\n",
      "{0, 1} [8749  808]\n",
      "{0, 1} [9543   14]\n",
      "{0} [9557]\n",
      "{0, 1} [9545   12]\n",
      "\n",
      " any null values: elimbasu1    0\n",
      "elimbasu2    0\n",
      "elimbasu3    0\n",
      "elimbasu4    0\n",
      "elimbasu5    0\n",
      "elimbasu6    0\n",
      "dtype: int64\n"
     ]
    }
   ],
   "source": [
    "# elimbasu1, =1 if rubbish disposal mainly by tanker truck\n",
    "# elimbasu2, =1 if rubbish disposal mainly by botan hollow or buried\n",
    "# elimbasu3, =1 if rubbish disposal mainly by burning\n",
    "# elimbasu4, =1 if rubbish disposal mainly by throwing in an unoccupied space\n",
    "# elimbasu4, =1 if rubbish disposal mainly by throwing in an unoccupied space\n",
    "# elimbasu5, \"=1 if rubbish disposal mainly by throwing in river,  creek or sea\"\n",
    "# elimbasu6, =1 if rubbish disposal mainly other\n",
    "\n",
    "print(set(train_data.elimbasu1.values.tolist()),np.bincount(train_data.elimbasu1.values))\n",
    "print(set(train_data.elimbasu2.values.tolist()),np.bincount(train_data.elimbasu2.values))\n",
    "print(set(train_data.elimbasu3.values.tolist()),np.bincount(train_data.elimbasu3.values))\n",
    "print(set(train_data.elimbasu4.values.tolist()),np.bincount(train_data.elimbasu4.values))\n",
    "print(set(train_data.elimbasu5.values.tolist()),np.bincount(train_data.elimbasu5.values))\n",
    "print(set(train_data.elimbasu6.values.tolist()),np.bincount(train_data.elimbasu6.values))\n",
    "\n",
    "\n",
    "print('\\n any null values:',train_data[['elimbasu1',\\\n",
    "                                        'elimbasu2',\\\n",
    "                                        'elimbasu3',\\\n",
    "                                        'elimbasu4',\\\n",
    "                                        'elimbasu5',\\\n",
    "                                        'elimbasu6']].isnull().sum())"
   ]
  },
  {
   "cell_type": "code",
   "execution_count": 229,
   "metadata": {},
   "outputs": [
    {
     "name": "stdout",
     "output_type": "stream",
     "text": [
      "{0, 1} [9539   18]\n",
      "{0, 1} [4878 4679]\n",
      "{0, 1} [5176 4381]\n",
      "{0, 1} [9078  479]\n",
      "\n",
      " any null values: energcocinar1    0\n",
      "energcocinar2    0\n",
      "energcocinar3    0\n",
      "energcocinar4    0\n",
      "dtype: int64\n"
     ]
    }
   ],
   "source": [
    "# energcocinar1, =1 no main source of energy used for cooking (no kitchen)\n",
    "# energcocinar2, =1 main source of energy used for cooking electricity\n",
    "# energcocinar3, =1 main source of energy used for cooking gas\n",
    "# energcocinar4, =1 main source of energy used for cooking wood charcoal\n",
    "\n",
    "print(set(train_data.energcocinar1.values.tolist()),np.bincount(train_data.energcocinar1.values))\n",
    "print(set(train_data.energcocinar2.values.tolist()),np.bincount(train_data.energcocinar2.values))\n",
    "print(set(train_data.energcocinar3.values.tolist()),np.bincount(train_data.energcocinar3.values))\n",
    "print(set(train_data.energcocinar4.values.tolist()),np.bincount(train_data.energcocinar4.values))\n",
    "\n",
    "\n",
    "\n",
    "print('\\n any null values:',train_data[['energcocinar1',\\\n",
    "                                        'energcocinar2',\\\n",
    "                                        'energcocinar3',\\\n",
    "                                        'energcocinar4']].isnull().sum())"
   ]
  },
  {
   "cell_type": "code",
   "execution_count": 247,
   "metadata": {},
   "outputs": [
    {
     "name": "stdout",
     "output_type": "stream",
     "text": [
      "{0, 1} [8498 1059]\n",
      "{0, 1} [9536   21]\n",
      "{0, 1} [9554    3]\n",
      "{0, 1} [1098 8459]\n",
      "{0, 1} [9523   34]\n",
      "{0, 1} [9254  303]\n",
      "{0, 1} [ 337 9220]\n",
      "{0, 1} [3083 6474]\n",
      "{0, 1} [9536   21]\n",
      "{0, 1} [9527   30]\n",
      "{0, 1} [9388  169]\n",
      "{0, 1} [ 286 9271]\n",
      "{0, 1} [8927  630]\n",
      "{0, 1} [9400  157]\n",
      "{0, 1} [9547   10]\n",
      "{0, 1} [9548    9]\n",
      "{0, 1} [7427 2130]\n",
      "{0, 1} [2936 6621]\n",
      "{0, 1} [9543   14]\n",
      "{0, 1} [9543   14]\n",
      "{0, 1} [9432  125]\n",
      "{0, 1} [8452 1105]\n",
      "{0, 1} [9475   82]\n",
      "{0, 1} [7760 1797]\n",
      "{0, 1} [8814  743]\n",
      "{0, 1} [3880 5677]\n",
      "{0, 1} [9193  364]\n",
      "{0, 1} [9331  226]\n",
      "{0, 1} [  50 9507]\n",
      "{0, 1} [ 405 9152]\n",
      "{0, 1} [3941 5616]\n",
      "{0, 1} [8671  886]\n",
      "{0, 1} [8961  596]\n",
      "{0, 1} [8766  791]\n",
      "{0, 1} [8660  897]\n",
      "{0, 1} [8786  771]\n",
      "{0, 1} [2728 6829]\n",
      "{0, 1} [6829 2728]\n",
      "\n",
      " any null values: area1              0\n",
      "area2              0\n",
      "lugar6             0\n",
      "lugar5             0\n",
      "lugar4             0\n",
      "lugar3             0\n",
      "lugar2             0\n",
      "lugar1             0\n",
      "refrig             0\n",
      "v14a               0\n",
      "hacapo             0\n",
      "hacdor             0\n",
      "paredblolad        0\n",
      "paredzocalo        0\n",
      "paredpreb          0\n",
      "pareddes           0\n",
      "paredmad           0\n",
      "paredzinc          0\n",
      "paredfibras        0\n",
      "paredother         0\n",
      "pisomoscer         0\n",
      "pisocemento        0\n",
      "pisoother          0\n",
      "pisonatur          0\n",
      "pisonotiene        0\n",
      "pisomadera         0\n",
      "techozinc          0\n",
      "techoentrepiso     0\n",
      "techocane          0\n",
      "techootro          0\n",
      "cielorazo          0\n",
      "abastaguadentro    0\n",
      "abastaguafuera     0\n",
      "abastaguano        0\n",
      "public             0\n",
      "planpri            0\n",
      "noelec             0\n",
      "coopele            0\n",
      "dtype: int64\n"
     ]
    }
   ],
   "source": [
    "# paredblolad, =1 if predominant material on the outside wall is block or brick\n",
    "# paredzocalo, \"=1 if predominant material on the outside wall is socket (wood,  zinc or absbesto\"\n",
    "# paredpreb, =1 if predominant material on the outside wall is prefabricated or cement\n",
    "# pareddes, =1 if predominant material on the outside wall is waste material\n",
    "# paredmad, =1 if predominant material on the outside wall is wood\n",
    "# paredzinc, =1 if predominant material on the outside wall is zink\n",
    "# paredfibras, =1 if predominant material on the outside wall is natural fibers\n",
    "# paredother, =1 if predominant material on the outside wall is other\n",
    "# pisomoscer, \"=1 if predominant material on the floor is mosaic,  ceramic,  terrazo\"\n",
    "# pisocemento, =1 if predominant material on the floor is cement\n",
    "# pisoother, =1 if predominant material on the floor is other\n",
    "# pisonatur, =1 if predominant material on the floor is  natural material\n",
    "# pisonotiene, =1 if no floor at the household\n",
    "# pisomadera, =1 if predominant material on the floor is wood\n",
    "# techozinc, =1 if predominant material on the roof is metal foil or zink\n",
    "# techoentrepiso, \"=1 if predominant material on the roof is fiber cement,  mezzanine \"\n",
    "# techocane, =1 if predominant material on the roof is natural fibers\n",
    "# techootro, =1 if predominant material on the roof is other\n",
    "# cielorazo, =1 if the house has ceiling\n",
    "# abastaguadentro, =1 if water provision inside the dwelling\n",
    "# abastaguafuera, =1 if water provision outside the dwelling\n",
    "# abastaguano, =1 if no water provision\n",
    "# public, \"=1 electricity from CNFL,  ICE,  ESPH/JASEC\"\n",
    "# planpri, =1 electricity from private plant\n",
    "# noelec, =1 no electricity in the dwelling\n",
    "# coopele, =1 electricity from cooperative\n",
    "\n",
    "print(set(train_data.coopele.values.tolist()),np.bincount(train_data.coopele.values))\n",
    "print(set(train_data.noelec.values.tolist()),np.bincount(train_data.noelec.values))\n",
    "print(set(train_data.planpri.values.tolist()),np.bincount(train_data.planpri.values))\n",
    "print(set(train_data.public.values.tolist()),np.bincount(train_data.public.values))\n",
    "print(set(train_data.abastaguano.values.tolist()),np.bincount(train_data.abastaguano.values))\n",
    "print(set(train_data.abastaguafuera.values.tolist()),np.bincount(train_data.abastaguafuera.values))\n",
    "print(set(train_data.abastaguadentro.values.tolist()),np.bincount(train_data.abastaguadentro.values))\n",
    "print(set(train_data.cielorazo.values.tolist()),np.bincount(train_data.cielorazo.values))\n",
    "print(set(train_data.techootro.values.tolist()),np.bincount(train_data.techootro.values))\n",
    "print(set(train_data.techocane.values.tolist()),np.bincount(train_data.techocane.values))\n",
    "print(set(train_data.techoentrepiso.values.tolist()),np.bincount(train_data.techoentrepiso.values))\n",
    "print(set(train_data.techozinc.values.tolist()),np.bincount(train_data.techozinc.values))\n",
    "print(set(train_data.pisomadera.values.tolist()),np.bincount(train_data.pisomadera.values))\n",
    "print(set(train_data.pisonotiene.values.tolist()),np.bincount(train_data.pisonotiene.values))\n",
    "print(set(train_data.pisonatur.values.tolist()),np.bincount(train_data.pisonatur.values))\n",
    "print(set(train_data.pisoother.values.tolist()),np.bincount(train_data.pisoother.values))\n",
    "print(set(train_data.pisocemento.values.tolist()),np.bincount(train_data.pisocemento.values))\n",
    "print(set(train_data.pisomoscer.values.tolist()),np.bincount(train_data.pisomoscer.values))\n",
    "print(set(train_data.paredother.values.tolist()),np.bincount(train_data.paredother.values))\n",
    "print(set(train_data.paredfibras.values.tolist()),np.bincount(train_data.paredfibras.values))\n",
    "\n",
    "print(set(train_data.paredzinc.values.tolist()),np.bincount(train_data.paredzinc.values))\n",
    "print(set(train_data.paredmad.values.tolist()),np.bincount(train_data.paredmad.values))\n",
    "print(set(train_data.pareddes.values.tolist()),np.bincount(train_data.pareddes.values))\n",
    "print(set(train_data.paredpreb.values.tolist()),np.bincount(train_data.paredpreb.values))\n",
    "print(set(train_data.paredzocalo.values.tolist()),np.bincount(train_data.paredzocalo.values))\n",
    "print(set(train_data.paredblolad.values.tolist()),np.bincount(train_data.paredblolad.values))\n",
    "\n",
    "\n",
    "print(set(train_data.hacdor.values.tolist()),np.bincount(train_data.hacdor.values))\n",
    "print(set(train_data.hacapo.values.tolist()),np.bincount(train_data.hacapo.values))\n",
    "print(set(train_data.v14a.values.tolist()),np.bincount(train_data.v14a.values))\n",
    "print(set(train_data.refrig.values.tolist()),np.bincount(train_data.refrig.values))\n",
    "\n",
    "\n",
    "print(set(train_data.lugar1.values.tolist()),np.bincount(train_data.lugar1.values))\n",
    "print(set(train_data.lugar2.values.tolist()),np.bincount(train_data.lugar2.values))\n",
    "print(set(train_data.lugar3.values.tolist()),np.bincount(train_data.lugar3.values))\n",
    "print(set(train_data.lugar4.values.tolist()),np.bincount(train_data.lugar4.values))\n",
    "print(set(train_data.lugar5.values.tolist()),np.bincount(train_data.lugar5.values))\n",
    "print(set(train_data.lugar6.values.tolist()),np.bincount(train_data.lugar6.values))\n",
    "\n",
    "\n",
    "print(set(train_data.area1.values.tolist()),np.bincount(train_data.area1.values))\n",
    "print(set(train_data.area2.values.tolist()),np.bincount(train_data.area2.values))\n",
    "\n",
    "cat_columns = [\n",
    "    \n",
    "    'area1',\n",
    "    'area2',    \n",
    "    'lugar6',\n",
    "    'lugar5',\n",
    "    'lugar4',\n",
    "    'lugar3',\n",
    "    'lugar2',\n",
    "    'lugar1',    \n",
    "    'refrig',\n",
    "    'v14a',\n",
    "    'hacapo',\n",
    "    'hacdor',    \n",
    "    'paredblolad',\n",
    "    'paredzocalo',\n",
    "    'paredpreb',\n",
    "    'pareddes',\n",
    "    'paredmad',\n",
    "    'paredzinc',   \n",
    "    'paredfibras',\n",
    "    'paredother',\n",
    "    'pisomoscer',\n",
    "    'pisocemento',\n",
    "    'pisoother',\n",
    "    'pisonatur',\n",
    "    'pisonotiene',\n",
    "    'pisomadera',\n",
    "    'techozinc',\n",
    "    'techoentrepiso',\n",
    "    'techocane',\n",
    "    'techootro',\n",
    "    \n",
    "    'cielorazo',\n",
    "    'abastaguadentro',\n",
    "    'abastaguafuera',\n",
    "    'abastaguano',\n",
    "    'public',\n",
    "    'planpri',\n",
    "    'noelec',\n",
    "    'coopele',\n",
    "]\n",
    "print('\\n any null values:',train_data[cat_columns].isnull().sum())"
   ]
  },
  {
   "cell_type": "code",
   "execution_count": 252,
   "metadata": {},
   "outputs": [
    {
     "name": "stdout",
     "output_type": "stream",
     "text": [
      "{0, 1, 2, 3, 4, 5} [6718 2141  607   53   16   22]\n",
      "{0, 1, 2, 3, 4, 5, 6, 7, 8} [ 954 4370 2775 1057  278   71   31   11   10]\n",
      "{0, 1, 2, 3, 4, 5, 6, 7, 8} [ 628 3142 3211 1760  507  181   94   24   10]\n",
      "{0, 1, 2, 3, 4, 6} [6638 2202  581  111   16    0    9]\n",
      "{0, 1, 2, 3, 4, 5, 6} [ 335 4651 2988 1204  289   54   36]\n",
      "{0, 1, 2, 3, 4, 5, 6, 7, 8} [ 328 3203 3230 1707  757  165  119   39    9]\n",
      "{0, 1, 2, 3, 4, 5, 7} [4990 2564 1404  406  114   48    0   31]\n",
      "{1, 2, 3, 4, 5, 6, 7, 8, 9, 10, 11} [   0  599 2827 2559 2024 1000  315  121   46   21   33   12]\n",
      "{1, 2, 3, 4, 5, 6, 7, 8, 9, 10, 11, 12, 13} [   0  378 1355 2260 2447 1598  824  368   96   90   60   44   24   13]\n",
      "r4h1    0\n",
      "r4h2    0\n",
      "r4h3    0\n",
      "r4m1    0\n",
      "r4m2    0\n",
      "r4m3    0\n",
      "r4t1    0\n",
      "r4t2    0\n",
      "r4t3    0\n",
      "dtype: int64\n"
     ]
    }
   ],
   "source": [
    "# r4h1, Males younger than 12 years of age\n",
    "# r4h2, Males 12 years of age and older\n",
    "# r4h3, Total males in the household\n",
    "# r4m1, Females younger than 12 years of age\n",
    "# r4m2, Females 12 years of age and older\n",
    "# r4m3, Total females in the household\n",
    "# r4t1, persons younger than 12 years of age\n",
    "# r4t2, persons 12 years of age and older\n",
    "# r4t3, Total persons in the household\n",
    "\n",
    "print(set(train_data.r4h1.values.tolist()),np.bincount(train_data.r4h1.values))\n",
    "print(set(train_data.r4h2.values.tolist()),np.bincount(train_data.r4h2.values))\n",
    "print(set(train_data.r4h3.values.tolist()),np.bincount(train_data.r4h3.values))\n",
    "print(set(train_data.r4m1.values.tolist()),np.bincount(train_data.r4m1.values))\n",
    "print(set(train_data.r4m2.values.tolist()),np.bincount(train_data.r4m2.values))\n",
    "print(set(train_data.r4m3.values.tolist()),np.bincount(train_data.r4m3.values))\n",
    "print(set(train_data.r4t1.values.tolist()),np.bincount(train_data.r4t1.values))\n",
    "print(set(train_data.r4t2.values.tolist()),np.bincount(train_data.r4t2.values))\n",
    "print(set(train_data.r4t3.values.tolist()),np.bincount(train_data.r4t3.values))\n",
    "\n",
    "print(train_data[[\n",
    "    \n",
    "'r4h1',\n",
    "'r4h2',\n",
    "'r4h3',\n",
    "'r4m1',\n",
    "'r4m2',\n",
    "'r4m3',\n",
    "'r4t1',\n",
    "'r4t2',\n",
    "'r4t3'\n",
    "]].isnull().sum())"
   ]
  },
  {
   "cell_type": "code",
   "execution_count": 253,
   "metadata": {},
   "outputs": [
    {
     "name": "stdout",
     "output_type": "stream",
     "text": [
      "{0, 1} [9193  364]\n",
      "{1, 2, 3, 4, 5, 6, 7, 8, 9, 10, 11} [   0   97  188  890 2587 2940 1607  732  298  168   43    7]\n",
      "{0, 1} [9331  226]\n",
      "{1, 2, 3, 4, 5, 6, 7, 8, 9, 10, 11, 12, 13} [   0  386 1362 2258 2451 1590  819  364   96   90   60   44   24   13]\n",
      "{1, 2, 3, 4, 5, 6, 7, 8, 9, 10, 11, 12, 13, 15} [   0  355 1320 2206 2400 1627  868  384  111   98   70   55   24   30\n",
      "    0    9]\n",
      "{0, 1, 2, 3, 4, 5, 6, 7, 8, 9, 10, 11, 12, 13, 14, 15, 16, 17, 18, 19, 20, 21} [1307  247  318  401  306  346 1985  488  498  612  297 1123  296  199\n",
      "  316  382  195  199    8    9    4   21]\n",
      "{1, 2, 3, 4, 5, 6, 7, 8, 9, 10, 11, 12, 13} [   0  386 1362 2258 2451 1590  819  364   96   90   60   44   24   13]\n",
      "{0, 1} [9007  550]\n",
      "{0, 1} [4937 4620]\n",
      "{0, 1} [4620 4937]\n",
      "{0, 1, 2, 3, 4, 5, 6, 7, 8, 9} [2997 2529 2278 1110  395  135   63   18   19   13]\n",
      "{0, 1, 2, 3, 4, 5, 6, 7, 8, 9} [   5 1077 4462 2199 1247  367  107   52   20   21]\n",
      "{0, 1, 2, 3} [7529 1386  597   45]\n",
      "{1, 2, 3, 4, 5, 6, 7, 8, 9, 10, 11, 12, 13} [   0  386 1362 2258 2451 1590  819  364   96   90   60   44   24   13]\n",
      "{1, 2, 3, 4, 5, 6, 8} [   0  602 3383 3985 1184  299  100    0    4]\n",
      "{0, 1} [8581  976]\n",
      "{0, 1} [6837 2720]\n",
      "{0, 1} [ 236 9321]\n",
      "{0, 1, 2, 3, 4, 5, 6, 7, 8, 9, 10} [ 236 1233 3164 2219 1560  669  324   50   67   18   17]\n",
      "hacdor          0\n",
      "rooms           0\n",
      "hacapo          0\n",
      "tamhog          0\n",
      "tamviv          0\n",
      "escolari        0\n",
      "hhsize          0\n",
      "dis             0\n",
      "male            0\n",
      "female          0\n",
      "hogar_nin       0\n",
      "hogar_adul      0\n",
      "hogar_mayor     0\n",
      "hogar_total     0\n",
      "bedrooms        0\n",
      "computer        0\n",
      "television      0\n",
      "mobilephone     0\n",
      "qmobilephone    0\n",
      "dtype: int64\n"
     ]
    }
   ],
   "source": [
    "\n",
    "# hacdor, =1 Overcrowding by bedrooms\n",
    "# rooms,  number of all rooms in the house\n",
    "# hacapo, =1 Overcrowding by rooms\n",
    "\n",
    "# tamhog, size of the household\n",
    "# tamviv, number of persons living in the household\n",
    "# escolari, years of schooling\n",
    "# hhsize, household size\n",
    "# dis, =1 if disable person\n",
    "# male, =1 if male\n",
    "# female, =1 if female\n",
    "# hogar_nin, Number of children 0 to 19 in household\n",
    "# hogar_adul, Number of adults in household\n",
    "# hogar_mayor, # of individuals 65+ in the household\n",
    "# hogar_total, # of total individuals in the household\n",
    "# bedrooms, number of bedrooms\n",
    "# computer, =1 if the household has notebook or desktop computer\n",
    "# television, =1 if the household has TV\n",
    "# mobilephone, =1 if mobile phone\n",
    "# qmobilephone, # of mobile phones\n",
    "\n",
    "\n",
    "print(set(train_data.hacdor.values.tolist()),np.bincount(train_data.hacdor.values))\n",
    "print(set(train_data.rooms.values.tolist()),np.bincount(train_data.rooms.values))\n",
    "print(set(train_data.hacapo.values.tolist()),np.bincount(train_data.hacapo.values))\n",
    "print(set(train_data.tamhog.values.tolist()),np.bincount(train_data.tamhog.values))\n",
    "print(set(train_data.tamviv.values.tolist()),np.bincount(train_data.tamviv.values))\n",
    "print(set(train_data.escolari.values.tolist()),np.bincount(train_data.escolari.values))\n",
    "print(set(train_data.hhsize.values.tolist()),np.bincount(train_data.hhsize.values))\n",
    "print(set(train_data.dis.values.tolist()),np.bincount(train_data.dis.values))\n",
    "print(set(train_data.male.values.tolist()),np.bincount(train_data.male.values))\n",
    "print(set(train_data.female.values.tolist()),np.bincount(train_data.female.values))\n",
    "print(set(train_data.hogar_nin.values.tolist()),np.bincount(train_data.hogar_nin.values))\n",
    "print(set(train_data.hogar_adul.values.tolist()),np.bincount(train_data.hogar_adul.values))\n",
    "print(set(train_data.hogar_mayor.values.tolist()),np.bincount(train_data.hogar_mayor.values))\n",
    "print(set(train_data.hogar_total.values.tolist()),np.bincount(train_data.hogar_total.values))\n",
    "print(set(train_data.bedrooms.values.tolist()),np.bincount(train_data.bedrooms.values))\n",
    "print(set(train_data.computer.values.tolist()),np.bincount(train_data.computer.values))\n",
    "print(set(train_data.television.values.tolist()),np.bincount(train_data.television.values))\n",
    "print(set(train_data.mobilephone.values.tolist()),np.bincount(train_data.mobilephone.values))\n",
    "print(set(train_data.qmobilephone.values.tolist()),np.bincount(train_data.qmobilephone.values))\n",
    "\n",
    "print(train_data[[\n",
    "'hacdor',\n",
    "'rooms',\n",
    "'hacapo',\n",
    "'tamhog',\n",
    "'tamviv',\n",
    "'escolari',\n",
    "'hhsize',\n",
    "'dis',\n",
    "'male',\n",
    "'female', \n",
    "'hogar_nin',\n",
    "'hogar_adul',\n",
    "'hogar_mayor',\n",
    "'hogar_total',\n",
    "'bedrooms',\n",
    "'computer',\n",
    "'television',\n",
    "'mobilephone',\n",
    "'qmobilephone'\n",
    "]].isnull().sum())"
   ]
  },
  {
   "cell_type": "code",
   "execution_count": 255,
   "metadata": {},
   "outputs": [
    {
     "name": "stdout",
     "output_type": "stream",
     "text": [
      "age               0\n",
      "sqbescolari       0\n",
      "sqbhogar_total    0\n",
      "sqbedjefe         0\n",
      "sqbhogar_nin      0\n",
      "agesq             0\n",
      "dtype: int64\n"
     ]
    }
   ],
   "source": [
    "# age, Age in years\n",
    "# sqbage, age squared\n",
    "# sqbhogar_total, hogar_total squared\n",
    "# sqbedjefe, edjefe squared\n",
    "# sqbhogar_nin, hogar_nin squared\n",
    "# agesq, Age squared\n",
    "\n",
    "\n",
    "# print(set(train_data.age.values.tolist()),np.bincount(train_data.age.values))\n",
    "# print(set(train_data.sqbescolari.values.tolist()),np.bincount(train_data.sqbescolari.values))\n",
    "# print(set(train_data.sqbhogar_total.values.tolist()),np.bincount(train_data.sqbhogar_total.values))\n",
    "# print(set(train_data.sqbedjefe.values.tolist()),np.bincount(train_data.sqbedjefe.values))\n",
    "# print(set(train_data.sqbhogar_nin.values.tolist()),np.bincount(train_data.sqbhogar_nin.values))\n",
    "# print(set(train_data.agesq.values.tolist()),np.bincount(train_data.agesq.values))\n",
    "\n",
    "\n",
    "print(train_data[[\n",
    "'age',\n",
    "'sqbescolari',\n",
    "'sqbhogar_total',\n",
    "'sqbedjefe',\n",
    "'sqbhogar_nin',\n",
    "'agesq'\n",
    "]].isnull().sum())"
   ]
  },
  {
   "cell_type": "code",
   "execution_count": 256,
   "metadata": {},
   "outputs": [
    {
     "data": {
      "text/plain": [
       "(9557, 145)"
      ]
     },
     "execution_count": 256,
     "metadata": {},
     "output_type": "execute_result"
    }
   ],
   "source": [
    "# we have completed our entire data cleaning .. in the sense we have filled in the null values and \n",
    "# checked for empty values as well. data is pretty clean. we can now safely save the updated data for further analysis\n",
    "\n",
    "train_data.shape"
   ]
  },
  {
   "cell_type": "code",
   "execution_count": 258,
   "metadata": {},
   "outputs": [],
   "source": [
    "train_data.to_csv('data/train_1.csv', index=False)"
   ]
  }
 ],
 "metadata": {
  "kernelspec": {
   "display_name": "Python 3",
   "language": "python",
   "name": "python3"
  },
  "language_info": {
   "codemirror_mode": {
    "name": "ipython",
    "version": 3
   },
   "file_extension": ".py",
   "mimetype": "text/x-python",
   "name": "python",
   "nbconvert_exporter": "python",
   "pygments_lexer": "ipython3",
   "version": "3.6.5"
  }
 },
 "nbformat": 4,
 "nbformat_minor": 2
}
