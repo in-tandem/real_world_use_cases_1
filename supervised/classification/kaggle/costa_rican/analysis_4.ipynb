{
 "cells": [
  {
   "cell_type": "markdown",
   "metadata": {},
   "source": [
    "##### We  would be performing a set of task on the test data to bring it to the same dimensions as our modified train set"
   ]
  },
  {
   "cell_type": "code",
   "execution_count": 1,
   "metadata": {},
   "outputs": [],
   "source": [
    "import pandas as panda\n",
    "import numpy as np"
   ]
  },
  {
   "cell_type": "code",
   "execution_count": 2,
   "metadata": {},
   "outputs": [
    {
     "data": {
      "text/plain": [
       "((2973, 177), (23856, 142))"
      ]
     },
     "execution_count": 2,
     "metadata": {},
     "output_type": "execute_result"
    }
   ],
   "source": [
    "train_data = panda.read_csv('data/train_2.csv')\n",
    "test_data = panda.read_csv('data/test.csv')\n",
    "\n",
    "train_data.shape, test_data.shape"
   ]
  },
  {
   "cell_type": "code",
   "execution_count": 5,
   "metadata": {},
   "outputs": [
    {
     "data": {
      "text/plain": [
       "(2973, 23856, 7352)"
      ]
     },
     "execution_count": 5,
     "metadata": {},
     "output_type": "execute_result"
    }
   ],
   "source": [
    "train_household_ids = train_data.idhogar.values.tolist()\n",
    "test_household_ids = test_data.idhogar.values.tolist()\n",
    "\n",
    "len(set(train_household_ids)),len(test_household_ids), len(set(test_household_ids))"
   ]
  },
  {
   "cell_type": "code",
   "execution_count": 11,
   "metadata": {},
   "outputs": [],
   "source": [
    "columns_name_dict = {\n",
    "                    'edjefe':'male_education_years',\n",
    "                    'edjefa':'female_education_years',\n",
    "                    'v18q1':'num_of_tablets',\n",
    "                    'v18q':'tablet_owner',\n",
    "                    'v2a1':'monthly_rent_paid',\n",
    "                    'r4h1':'males_below_12',\n",
    "                    'r4h2':'males_above_12',\n",
    "                    'r4h3':'total_males',\n",
    "                    'r4m1':'females_below_12',\n",
    "                    'r4m2':'females_above_12',\n",
    "                    'r4m3':'total_females',\n",
    "                    'r4t1':'person_below_12',\n",
    "                    'r4t2':'person_above_12',\n",
    "                    'r4t3':'total_num_person',\n",
    "                    'tamviv' : 'total_living',\n",
    "                    'escolari' : 'yrs_of_schooling',\n",
    "                    'rez_esc' : 'yrs_behind_in_school',\n",
    "                    'meaneduc' : 'average_education',\n",
    "                    'hogar_nin': 'num_children', #Number of children 0 to 19 in household\n",
    "                    'hogar_adul': 'num_adults',\n",
    "                    'hogar_mayor': 'num_senior',\n",
    "                    'hogar_total' : 'total_individuals',\n",
    "                    \n",
    "                    }\n",
    "test_data.rename(columns = columns_name_dict, inplace = True)"
   ]
  },
  {
   "cell_type": "code",
   "execution_count": 26,
   "metadata": {},
   "outputs": [],
   "source": [
    "test_data.columns = [str(i).lower() for i in test_data.columns.tolist() ]"
   ]
  },
  {
   "cell_type": "code",
   "execution_count": 27,
   "metadata": {
    "scrolled": true
   },
   "outputs": [],
   "source": [
    "columns_name_dict = {\n",
    "                    'edjefe':'male_education_years',\n",
    "                    'edjefa':'female_education_years',\n",
    "                    'v18q1':'num_of_tablets',\n",
    "                    'v18q':'tablet_owner',\n",
    "                    'v2a1':'monthly_rent_paid',\n",
    "                    'r4h1':'males_below_12',\n",
    "                    'r4h2':'males_above_12',\n",
    "                    'r4h3':'total_males',\n",
    "                    'r4m1':'females_below_12',\n",
    "                    'r4m2':'females_above_12',\n",
    "                    'r4m3':'total_females',\n",
    "                    'r4t1':'person_below_12',\n",
    "                    'r4t2':'person_above_12',\n",
    "                    'r4t3':'total_num_person',\n",
    "                    'tamviv' : 'total_living',\n",
    "                    'escolari' : 'yrs_of_schooling',\n",
    "                    'rez_esc' : 'yrs_behind_in_school',\n",
    "                    'meaneduc' : 'average_education',\n",
    "                    'hogar_nin': 'num_children', #Number of children 0 to 19 in household\n",
    "                    'hogar_adul': 'num_adults',\n",
    "                    'hogar_mayor': 'num_senior',\n",
    "                    'hogar_total' : 'total_individuals',\n",
    "                    \n",
    "                    }\n",
    "test_data.rename(columns = columns_name_dict, inplace = True)\n"
   ]
  },
  {
   "cell_type": "code",
   "execution_count": 13,
   "metadata": {
    "scrolled": true
   },
   "outputs": [
    {
     "data": {
      "text/html": [
       "<div>\n",
       "<style scoped>\n",
       "    .dataframe tbody tr th:only-of-type {\n",
       "        vertical-align: middle;\n",
       "    }\n",
       "\n",
       "    .dataframe tbody tr th {\n",
       "        vertical-align: top;\n",
       "    }\n",
       "\n",
       "    .dataframe thead th {\n",
       "        text-align: right;\n",
       "    }\n",
       "</style>\n",
       "<table border=\"1\" class=\"dataframe\">\n",
       "  <thead>\n",
       "    <tr style=\"text-align: right;\">\n",
       "      <th></th>\n",
       "      <th>col_name</th>\n",
       "      <th>col_type</th>\n",
       "    </tr>\n",
       "  </thead>\n",
       "  <tbody>\n",
       "    <tr>\n",
       "      <th>0</th>\n",
       "      <td>Id</td>\n",
       "      <td>object</td>\n",
       "    </tr>\n",
       "    <tr>\n",
       "      <th>95</th>\n",
       "      <td>idhogar</td>\n",
       "      <td>object</td>\n",
       "    </tr>\n",
       "    <tr>\n",
       "      <th>100</th>\n",
       "      <td>dependency</td>\n",
       "      <td>object</td>\n",
       "    </tr>\n",
       "    <tr>\n",
       "      <th>101</th>\n",
       "      <td>male_education_years</td>\n",
       "      <td>object</td>\n",
       "    </tr>\n",
       "    <tr>\n",
       "      <th>102</th>\n",
       "      <td>female_education_years</td>\n",
       "      <td>object</td>\n",
       "    </tr>\n",
       "  </tbody>\n",
       "</table>\n",
       "</div>"
      ],
      "text/plain": [
       "                   col_name col_type\n",
       "0                        Id   object\n",
       "95                  idhogar   object\n",
       "100              dependency   object\n",
       "101    male_education_years   object\n",
       "102  female_education_years   object"
      ]
     },
     "execution_count": 13,
     "metadata": {},
     "output_type": "execute_result"
    }
   ],
   "source": [
    "\n",
    "test_data_dtypes = panda.DataFrame(test_data.dtypes).reset_index()\n",
    "test_data_dtypes.columns = ['col_name', 'col_type']\n",
    "test_data_dtypes[test_data_dtypes['col_type']==np.object]"
   ]
  },
  {
   "cell_type": "code",
   "execution_count": 15,
   "metadata": {},
   "outputs": [
    {
     "data": {
      "text/plain": [
       "Id                        0\n",
       "idhogar                   0\n",
       "dependency                0\n",
       "male_education_years      0\n",
       "female_education_years    0\n",
       "dtype: int64"
      ]
     },
     "execution_count": 15,
     "metadata": {},
     "output_type": "execute_result"
    }
   ],
   "source": [
    "\n",
    "##there are no empty objects in any of the object types columns\n",
    "test_data[test_data_dtypes[test_data_dtypes['col_type']==np.object].col_name.tolist()].isnull().sum()"
   ]
  },
  {
   "cell_type": "code",
   "execution_count": 17,
   "metadata": {},
   "outputs": [
    {
     "data": {
      "text/plain": [
       "no     9056\n",
       "6      5113\n",
       "11     1756\n",
       "9      1078\n",
       "8       763\n",
       "3       739\n",
       "15      625\n",
       "14      596\n",
       "7       563\n",
       "17      500\n",
       "16      475\n",
       "5       463\n",
       "2       423\n",
       "12      381\n",
       "4       368\n",
       "yes     293\n",
       "10      284\n",
       "13      238\n",
       "21       68\n",
       "19       30\n",
       "20       24\n",
       "18       20\n",
       "Name: male_education_years, dtype: int64"
      ]
     },
     "execution_count": 17,
     "metadata": {},
     "output_type": "execute_result"
    }
   ],
   "source": [
    "test_data.male_education_years.value_counts()"
   ]
  },
  {
   "cell_type": "code",
   "execution_count": 18,
   "metadata": {},
   "outputs": [
    {
     "data": {
      "text/plain": [
       "no     15845\n",
       "6       2454\n",
       "11       951\n",
       "9        498\n",
       "15       468\n",
       "5        447\n",
       "8        410\n",
       "7        382\n",
       "3        381\n",
       "16       280\n",
       "14       264\n",
       "4        263\n",
       "2        263\n",
       "17       235\n",
       "10       228\n",
       "12       155\n",
       "yes      145\n",
       "13       142\n",
       "21        24\n",
       "19        10\n",
       "18         6\n",
       "20         5\n",
       "Name: female_education_years, dtype: int64"
      ]
     },
     "execution_count": 18,
     "metadata": {},
     "output_type": "execute_result"
    }
   ],
   "source": [
    "test_data.female_education_years.value_counts()"
   ]
  },
  {
   "cell_type": "code",
   "execution_count": 21,
   "metadata": {},
   "outputs": [],
   "source": [
    "## we can see existence of yes/no values in both data series. we are going to be replacing it with 1/0 as\n",
    "## directed in the data dictionary\n",
    "\n",
    "test_data['male_education_years'] = test_data.male_education_years.apply(lambda x : 1 if  x =='yes' else (0 if x=='no' else x))\n",
    "test_data['female_education_years'] = test_data.female_education_years.apply(lambda x : 1 if  x =='yes' else (0 if x=='no' else x))\n",
    "test_data['male_education_years'] = test_data.male_education_years.astype(np.int64)\n",
    "test_data['female_education_years'] = test_data.female_education_years.astype(np.int64)"
   ]
  },
  {
   "cell_type": "code",
   "execution_count": 24,
   "metadata": {},
   "outputs": [
    {
     "data": {
      "text/plain": [
       "(0     9056\n",
       " 6     5113\n",
       " 11    1756\n",
       " 9     1078\n",
       " 8      763\n",
       " Name: male_education_years, dtype: int64, 0     15845\n",
       " 6      2454\n",
       " 11      951\n",
       " 9       498\n",
       " 15      468\n",
       " Name: female_education_years, dtype: int64)"
      ]
     },
     "execution_count": 24,
     "metadata": {},
     "output_type": "execute_result"
    }
   ],
   "source": [
    "test_data.male_education_years.value_counts().head(),test_data.female_education_years.value_counts().head()"
   ]
  },
  {
   "cell_type": "code",
   "execution_count": 30,
   "metadata": {},
   "outputs": [
    {
     "data": {
      "text/plain": [
       "yes          5388\n",
       "no           4289\n",
       ".5           3678\n",
       "2            1769\n",
       "1.5          1758\n",
       ".33333334    1533\n",
       ".66666669    1130\n",
       "8            1037\n",
       ".25           684\n",
       "3             596\n",
       "1.3333334     278\n",
       "2.5           224\n",
       ".2            216\n",
       ".75           203\n",
       "4             195\n",
       ".40000001     175\n",
       ".60000002     128\n",
       "1.6666666     120\n",
       "5              96\n",
       ".16666667      56\n",
       "1.25           54\n",
       ".80000001      45\n",
       ".14285715      32\n",
       "2.3333333      30\n",
       ".83333331      22\n",
       "3.5            18\n",
       "7              16\n",
       "2.25           13\n",
       "3.3333333      13\n",
       ".85714287      13\n",
       "1.2            11\n",
       ".375           11\n",
       ".125            9\n",
       ".2857143        9\n",
       "6               7\n",
       "Name: dependency, dtype: int64"
      ]
     },
     "execution_count": 30,
     "metadata": {},
     "output_type": "execute_result"
    }
   ],
   "source": [
    "test_data.dependency.value_counts()"
   ]
  },
  {
   "cell_type": "code",
   "execution_count": 36,
   "metadata": {},
   "outputs": [
    {
     "data": {
      "text/html": [
       "<div>\n",
       "<style scoped>\n",
       "    .dataframe tbody tr th:only-of-type {\n",
       "        vertical-align: middle;\n",
       "    }\n",
       "\n",
       "    .dataframe tbody tr th {\n",
       "        vertical-align: top;\n",
       "    }\n",
       "\n",
       "    .dataframe thead th {\n",
       "        text-align: right;\n",
       "    }\n",
       "</style>\n",
       "<table border=\"1\" class=\"dataframe\">\n",
       "  <thead>\n",
       "    <tr style=\"text-align: right;\">\n",
       "      <th></th>\n",
       "      <th>dependency</th>\n",
       "      <th>sqbdependency</th>\n",
       "    </tr>\n",
       "  </thead>\n",
       "  <tbody>\n",
       "    <tr>\n",
       "      <th>3</th>\n",
       "      <td>no</td>\n",
       "      <td>0.0</td>\n",
       "    </tr>\n",
       "    <tr>\n",
       "      <th>5</th>\n",
       "      <td>no</td>\n",
       "      <td>0.0</td>\n",
       "    </tr>\n",
       "    <tr>\n",
       "      <th>6</th>\n",
       "      <td>no</td>\n",
       "      <td>0.0</td>\n",
       "    </tr>\n",
       "    <tr>\n",
       "      <th>7</th>\n",
       "      <td>no</td>\n",
       "      <td>0.0</td>\n",
       "    </tr>\n",
       "    <tr>\n",
       "      <th>8</th>\n",
       "      <td>no</td>\n",
       "      <td>0.0</td>\n",
       "    </tr>\n",
       "  </tbody>\n",
       "</table>\n",
       "</div>"
      ],
      "text/plain": [
       "  dependency  sqbdependency\n",
       "3         no            0.0\n",
       "5         no            0.0\n",
       "6         no            0.0\n",
       "7         no            0.0\n",
       "8         no            0.0"
      ]
     },
     "execution_count": 36,
     "metadata": {},
     "output_type": "execute_result"
    }
   ],
   "source": [
    "## replace yes/no value with square root of sqbdependency according to data dictionary\n",
    "\n",
    "test_data[['dependency','sqbdependency']].loc[test_data['dependency'].isin(['yes','no']) & ~test_data['sqbdependency'].isna()].head()"
   ]
  },
  {
   "cell_type": "code",
   "execution_count": 40,
   "metadata": {},
   "outputs": [
    {
     "data": {
      "text/html": [
       "<div>\n",
       "<style scoped>\n",
       "    .dataframe tbody tr th:only-of-type {\n",
       "        vertical-align: middle;\n",
       "    }\n",
       "\n",
       "    .dataframe tbody tr th {\n",
       "        vertical-align: top;\n",
       "    }\n",
       "\n",
       "    .dataframe thead th {\n",
       "        text-align: right;\n",
       "    }\n",
       "</style>\n",
       "<table border=\"1\" class=\"dataframe\">\n",
       "  <thead>\n",
       "    <tr style=\"text-align: right;\">\n",
       "      <th></th>\n",
       "      <th>dependency</th>\n",
       "      <th>sqbdependency</th>\n",
       "    </tr>\n",
       "  </thead>\n",
       "  <tbody>\n",
       "  </tbody>\n",
       "</table>\n",
       "</div>"
      ],
      "text/plain": [
       "Empty DataFrame\n",
       "Columns: [dependency, sqbdependency]\n",
       "Index: []"
      ]
     },
     "execution_count": 40,
     "metadata": {},
     "output_type": "execute_result"
    }
   ],
   "source": [
    "# to recheekc the hypothesis that yes = 1 and no = 0 for dependency, lets run a value check\n",
    "test_data[['dependency','sqbdependency']].loc[(test_data['sqbdependency']!=0) & (test_data['dependency']=='no' )]"
   ]
  },
  {
   "cell_type": "code",
   "execution_count": 41,
   "metadata": {},
   "outputs": [
    {
     "data": {
      "text/html": [
       "<div>\n",
       "<style scoped>\n",
       "    .dataframe tbody tr th:only-of-type {\n",
       "        vertical-align: middle;\n",
       "    }\n",
       "\n",
       "    .dataframe tbody tr th {\n",
       "        vertical-align: top;\n",
       "    }\n",
       "\n",
       "    .dataframe thead th {\n",
       "        text-align: right;\n",
       "    }\n",
       "</style>\n",
       "<table border=\"1\" class=\"dataframe\">\n",
       "  <thead>\n",
       "    <tr style=\"text-align: right;\">\n",
       "      <th></th>\n",
       "      <th>dependency</th>\n",
       "      <th>sqbdependency</th>\n",
       "    </tr>\n",
       "  </thead>\n",
       "  <tbody>\n",
       "  </tbody>\n",
       "</table>\n",
       "</div>"
      ],
      "text/plain": [
       "Empty DataFrame\n",
       "Columns: [dependency, sqbdependency]\n",
       "Index: []"
      ]
     },
     "execution_count": 41,
     "metadata": {},
     "output_type": "execute_result"
    }
   ],
   "source": [
    "test_data[['dependency','sqbdependency']].loc[(test_data['sqbdependency']!=1) & (test_data['dependency']=='yes' )]"
   ]
  },
  {
   "cell_type": "code",
   "execution_count": 42,
   "metadata": {},
   "outputs": [
    {
     "data": {
      "text/plain": [
       "1.000000    5388\n",
       "0.000000    4289\n",
       "0.500000    3678\n",
       "2.000000    1769\n",
       "1.500000    1758\n",
       "0.333333    1533\n",
       "0.666667    1130\n",
       "8.000000    1037\n",
       "0.250000     684\n",
       "3.000000     596\n",
       "1.333333     278\n",
       "2.500000     224\n",
       "0.200000     216\n",
       "0.750000     203\n",
       "4.000000     195\n",
       "0.400000     175\n",
       "0.600000     128\n",
       "1.666667     120\n",
       "5.000000      96\n",
       "0.166667      56\n",
       "1.250000      54\n",
       "0.800000      45\n",
       "0.142857      32\n",
       "2.333333      30\n",
       "0.833333      22\n",
       "3.500000      18\n",
       "7.000000      16\n",
       "0.857143      13\n",
       "3.333333      13\n",
       "2.250000      13\n",
       "1.200000      11\n",
       "0.375000      11\n",
       "0.125000       9\n",
       "0.285714       9\n",
       "6.000000       7\n",
       "Name: dependency, dtype: int64"
      ]
     },
     "execution_count": 42,
     "metadata": {},
     "output_type": "execute_result"
    }
   ],
   "source": [
    "test_data['dependency'] =  test_data.dependency.apply(lambda x: 1 if x=='yes' else (0 if x=='no' else x)).astype(np.float64)\n",
    "test_data['dependency'].value_counts()"
   ]
  },
  {
   "cell_type": "code",
   "execution_count": 79,
   "metadata": {},
   "outputs": [
    {
     "data": {
      "text/plain": [
       "int64      131\n",
       "float64      9\n",
       "object       2\n",
       "Name: col_type, dtype: int64"
      ]
     },
     "execution_count": 79,
     "metadata": {},
     "output_type": "execute_result"
    }
   ],
   "source": [
    "test_data_dtypes = panda.DataFrame(test_data.dtypes).reset_index()\n",
    "test_data_dtypes.columns = ['col_name', 'col_type']\n",
    "test_data_dtypes.col_type.value_counts()"
   ]
  },
  {
   "cell_type": "code",
   "execution_count": 80,
   "metadata": {},
   "outputs": [
    {
     "data": {
      "text/html": [
       "<div>\n",
       "<style scoped>\n",
       "    .dataframe tbody tr th:only-of-type {\n",
       "        vertical-align: middle;\n",
       "    }\n",
       "\n",
       "    .dataframe tbody tr th {\n",
       "        vertical-align: top;\n",
       "    }\n",
       "\n",
       "    .dataframe thead th {\n",
       "        text-align: right;\n",
       "    }\n",
       "</style>\n",
       "<table border=\"1\" class=\"dataframe\">\n",
       "  <thead>\n",
       "    <tr style=\"text-align: right;\">\n",
       "      <th></th>\n",
       "      <th>col_name</th>\n",
       "      <th>col_type</th>\n",
       "    </tr>\n",
       "  </thead>\n",
       "  <tbody>\n",
       "    <tr>\n",
       "      <th>1</th>\n",
       "      <td>monthly_rent_paid</td>\n",
       "      <td>float64</td>\n",
       "    </tr>\n",
       "    <tr>\n",
       "      <th>8</th>\n",
       "      <td>num_of_tablets</td>\n",
       "      <td>float64</td>\n",
       "    </tr>\n",
       "    <tr>\n",
       "      <th>99</th>\n",
       "      <td>dependency</td>\n",
       "      <td>float64</td>\n",
       "    </tr>\n",
       "    <tr>\n",
       "      <th>112</th>\n",
       "      <td>overcrowding</td>\n",
       "      <td>float64</td>\n",
       "    </tr>\n",
       "    <tr>\n",
       "      <th>136</th>\n",
       "      <td>sqbovercrowding</td>\n",
       "      <td>float64</td>\n",
       "    </tr>\n",
       "    <tr>\n",
       "      <th>137</th>\n",
       "      <td>sqbdependency</td>\n",
       "      <td>float64</td>\n",
       "    </tr>\n",
       "    <tr>\n",
       "      <th>139</th>\n",
       "      <td>yrs_behind_in_school_nan_with_mean</td>\n",
       "      <td>float64</td>\n",
       "    </tr>\n",
       "    <tr>\n",
       "      <th>140</th>\n",
       "      <td>yrs_behind_in_school_nan_with_max_appearing</td>\n",
       "      <td>float64</td>\n",
       "    </tr>\n",
       "    <tr>\n",
       "      <th>141</th>\n",
       "      <td>average_education</td>\n",
       "      <td>float64</td>\n",
       "    </tr>\n",
       "  </tbody>\n",
       "</table>\n",
       "</div>"
      ],
      "text/plain": [
       "                                        col_name col_type\n",
       "1                              monthly_rent_paid  float64\n",
       "8                                 num_of_tablets  float64\n",
       "99                                    dependency  float64\n",
       "112                                 overcrowding  float64\n",
       "136                              sqbovercrowding  float64\n",
       "137                                sqbdependency  float64\n",
       "139           yrs_behind_in_school_nan_with_mean  float64\n",
       "140  yrs_behind_in_school_nan_with_max_appearing  float64\n",
       "141                            average_education  float64"
      ]
     },
     "execution_count": 80,
     "metadata": {},
     "output_type": "execute_result"
    }
   ],
   "source": [
    "test_data_dtypes[test_data_dtypes['col_type']==np.float64]"
   ]
  },
  {
   "cell_type": "code",
   "execution_count": 81,
   "metadata": {},
   "outputs": [
    {
     "data": {
      "text/plain": [
       "monthly_rent_paid                              0\n",
       "num_of_tablets                                 0\n",
       "dependency                                     0\n",
       "overcrowding                                   0\n",
       "sqbovercrowding                                0\n",
       "sqbdependency                                  0\n",
       "yrs_behind_in_school_nan_with_mean             0\n",
       "yrs_behind_in_school_nan_with_max_appearing    0\n",
       "average_education                              0\n",
       "dtype: int64"
      ]
     },
     "execution_count": 81,
     "metadata": {},
     "output_type": "execute_result"
    }
   ],
   "source": [
    "test_data[test_data_dtypes[test_data_dtypes['col_type']==np.float64].col_name.values.tolist()].isnull().sum()"
   ]
  },
  {
   "cell_type": "code",
   "execution_count": 51,
   "metadata": {},
   "outputs": [],
   "source": [
    "##we will replace average_education with mean and max appearing in separate columns and we willl drop the columns\n",
    "## average education and sqbmeaned\n",
    "\n",
    "most_appearing = test_data.average_education.value_counts().idxmax()\n",
    "mean = np.mean(test_data[~test_data.average_education.isna()]['average_education'].values)\n",
    "most_appearing, mean\n",
    "\n",
    "test_data['yrs_behind_in_school_nan_with_mean'] = test_data['average_education']\n",
    "test_data['yrs_behind_in_school_nan_with_max_appearing'] = test_data['average_education']\n",
    "test_data['yrs_behind_in_school_nan_with_max_appearing'].fillna(value = most_appearing, inplace=True)\n",
    "test_data['yrs_behind_in_school_nan_with_mean'].fillna(value = mean, inplace=True)"
   ]
  },
  {
   "cell_type": "code",
   "execution_count": 52,
   "metadata": {},
   "outputs": [
    {
     "data": {
      "text/plain": [
       "yrs_behind_in_school_nan_with_mean             False\n",
       "yrs_behind_in_school_nan_with_max_appearing    False\n",
       "dtype: bool"
      ]
     },
     "execution_count": 52,
     "metadata": {},
     "output_type": "execute_result"
    }
   ],
   "source": [
    "test_data[['yrs_behind_in_school_nan_with_mean','yrs_behind_in_school_nan_with_max_appearing']].isnull().any()"
   ]
  },
  {
   "cell_type": "code",
   "execution_count": 57,
   "metadata": {},
   "outputs": [
    {
     "data": {
      "text/html": [
       "<div>\n",
       "<style scoped>\n",
       "    .dataframe tbody tr th:only-of-type {\n",
       "        vertical-align: middle;\n",
       "    }\n",
       "\n",
       "    .dataframe tbody tr th {\n",
       "        vertical-align: top;\n",
       "    }\n",
       "\n",
       "    .dataframe thead th {\n",
       "        text-align: right;\n",
       "    }\n",
       "</style>\n",
       "<table border=\"1\" class=\"dataframe\">\n",
       "  <thead>\n",
       "    <tr style=\"text-align: right;\">\n",
       "      <th></th>\n",
       "      <th>tipovivi3</th>\n",
       "      <th>monthly_rent_paid</th>\n",
       "    </tr>\n",
       "  </thead>\n",
       "  <tbody>\n",
       "  </tbody>\n",
       "</table>\n",
       "</div>"
      ],
      "text/plain": [
       "Empty DataFrame\n",
       "Columns: [tipovivi3, monthly_rent_paid]\n",
       "Index: []"
      ]
     },
     "execution_count": 57,
     "metadata": {},
     "output_type": "execute_result"
    }
   ],
   "source": [
    "# tipovivi3\n",
    "## are there any households which are rented however are marked as nan in rent paid\n",
    "## if not we will simply replace the monthly rent paid as 0\n",
    "test_data[['tipovivi3','monthly_rent_paid']].loc[(test_data.monthly_rent_paid.isna()) & (test_data.tipovivi3==1)]"
   ]
  },
  {
   "cell_type": "code",
   "execution_count": 59,
   "metadata": {},
   "outputs": [],
   "source": [
    "test_data['monthly_rent_paid'].fillna(value = 0, inplace=True)"
   ]
  },
  {
   "cell_type": "code",
   "execution_count": 62,
   "metadata": {},
   "outputs": [
    {
     "data": {
      "text/html": [
       "<div>\n",
       "<style scoped>\n",
       "    .dataframe tbody tr th:only-of-type {\n",
       "        vertical-align: middle;\n",
       "    }\n",
       "\n",
       "    .dataframe tbody tr th {\n",
       "        vertical-align: top;\n",
       "    }\n",
       "\n",
       "    .dataframe thead th {\n",
       "        text-align: right;\n",
       "    }\n",
       "</style>\n",
       "<table border=\"1\" class=\"dataframe\">\n",
       "  <thead>\n",
       "    <tr style=\"text-align: right;\">\n",
       "      <th></th>\n",
       "      <th>tablet_owner</th>\n",
       "      <th>num_of_tablets</th>\n",
       "    </tr>\n",
       "  </thead>\n",
       "  <tbody>\n",
       "  </tbody>\n",
       "</table>\n",
       "</div>"
      ],
      "text/plain": [
       "Empty DataFrame\n",
       "Columns: [tablet_owner, num_of_tablets]\n",
       "Index: []"
      ]
     },
     "execution_count": 62,
     "metadata": {},
     "output_type": "execute_result"
    }
   ],
   "source": [
    "## lets chek if there are any tablet owbners who have been marked as having nan no of tables\n",
    "\n",
    "test_data[['tablet_owner','num_of_tablets']].loc[ (test_data['tablet_owner']==1) & (test_data['num_of_tablets'].isna())]"
   ]
  },
  {
   "cell_type": "code",
   "execution_count": 63,
   "metadata": {},
   "outputs": [],
   "source": [
    "test_data['num_of_tablets'].fillna(value = 0, inplace = True)"
   ]
  },
  {
   "cell_type": "code",
   "execution_count": 70,
   "metadata": {},
   "outputs": [],
   "source": [
    "mean_educ= np.mean(test_data[~test_data.average_education.isna()].average_education.values)\n",
    "test_data['average_education'].fillna(value= mean_educ, inplace = True)\n",
    "test_data.drop(columns=['sqbmeaned'], inplace= True)"
   ]
  },
  {
   "cell_type": "code",
   "execution_count": 78,
   "metadata": {},
   "outputs": [],
   "source": [
    "test_data.drop(columns = ['yrs_behind_in_school'], inplace = True)"
   ]
  },
  {
   "cell_type": "code",
   "execution_count": 85,
   "metadata": {},
   "outputs": [
    {
     "data": {
      "text/plain": [
       "0"
      ]
     },
     "execution_count": 85,
     "metadata": {},
     "output_type": "execute_result"
    }
   ],
   "source": [
    "\n",
    "##none of the integer columns are nan, hence we can simply ignore them\n",
    "test_data[test_data_dtypes[test_data_dtypes['col_type']==np.int64].col_name.values.tolist()].isnull().any().sum()"
   ]
  },
  {
   "cell_type": "code",
   "execution_count": 86,
   "metadata": {},
   "outputs": [],
   "source": [
    "agg_columns = [\n",
    "    'idhogar',\n",
    "    'yrs_behind_in_school_nan_with_max_appearing',\n",
    "    'yrs_behind_in_school_nan_with_mean',\n",
    "    'yrs_of_schooling',\n",
    "    'average_education',\n",
    "    'male_education_years',\n",
    "    'female_education_years',\n",
    "    \n",
    "]\n"
   ]
  },
  {
   "cell_type": "code",
   "execution_count": 87,
   "metadata": {},
   "outputs": [],
   "source": [
    "groupby_idhogar = test_data.groupby(['idhogar'])"
   ]
  },
  {
   "cell_type": "code",
   "execution_count": 88,
   "metadata": {},
   "outputs": [],
   "source": [
    "##perform some aggregation\n",
    "t = groupby_idhogar.agg(\n",
    "\n",
    "{\n",
    "    'male_education_years':['sum','mean','max','min','std'],\n",
    "    'female_education_years':['sum','mean','max','min','std'],\n",
    "    'average_education' : ['nunique','sum','mean','max','min','std'],\n",
    "    'yrs_of_schooling' : ['nunique','sum','mean','max','min','std'],\n",
    "    'yrs_behind_in_school_nan_with_mean' : ['nunique','sum','mean','max','min','std'],\n",
    "    'yrs_behind_in_school_nan_with_max_appearing' : ['nunique','sum','mean','max','min','std'],\n",
    "    \n",
    "}\n",
    "\n",
    ")\n"
   ]
  },
  {
   "cell_type": "code",
   "execution_count": 89,
   "metadata": {},
   "outputs": [
    {
     "data": {
      "text/html": [
       "<div>\n",
       "<style scoped>\n",
       "    .dataframe tbody tr th:only-of-type {\n",
       "        vertical-align: middle;\n",
       "    }\n",
       "\n",
       "    .dataframe tbody tr th {\n",
       "        vertical-align: top;\n",
       "    }\n",
       "\n",
       "    .dataframe thead tr th {\n",
       "        text-align: left;\n",
       "    }\n",
       "</style>\n",
       "<table border=\"1\" class=\"dataframe\">\n",
       "  <thead>\n",
       "    <tr>\n",
       "      <th></th>\n",
       "      <th>idhogar</th>\n",
       "      <th colspan=\"5\" halign=\"left\">male_education_years</th>\n",
       "      <th colspan=\"4\" halign=\"left\">female_education_years</th>\n",
       "      <th>...</th>\n",
       "      <th colspan=\"4\" halign=\"left\">yrs_behind_in_school_nan_with_mean</th>\n",
       "      <th colspan=\"6\" halign=\"left\">yrs_behind_in_school_nan_with_max_appearing</th>\n",
       "    </tr>\n",
       "    <tr>\n",
       "      <th></th>\n",
       "      <th></th>\n",
       "      <th>sum</th>\n",
       "      <th>mean</th>\n",
       "      <th>max</th>\n",
       "      <th>min</th>\n",
       "      <th>std</th>\n",
       "      <th>sum</th>\n",
       "      <th>mean</th>\n",
       "      <th>max</th>\n",
       "      <th>min</th>\n",
       "      <th>...</th>\n",
       "      <th>mean</th>\n",
       "      <th>max</th>\n",
       "      <th>min</th>\n",
       "      <th>std</th>\n",
       "      <th>nunique</th>\n",
       "      <th>sum</th>\n",
       "      <th>mean</th>\n",
       "      <th>max</th>\n",
       "      <th>min</th>\n",
       "      <th>std</th>\n",
       "    </tr>\n",
       "  </thead>\n",
       "  <tbody>\n",
       "    <tr>\n",
       "      <th>0</th>\n",
       "      <td>000a08204</td>\n",
       "      <td>36</td>\n",
       "      <td>12</td>\n",
       "      <td>12</td>\n",
       "      <td>12</td>\n",
       "      <td>0.0</td>\n",
       "      <td>0</td>\n",
       "      <td>0</td>\n",
       "      <td>0</td>\n",
       "      <td>0</td>\n",
       "      <td>...</td>\n",
       "      <td>13.000000</td>\n",
       "      <td>13.000000</td>\n",
       "      <td>13.000000</td>\n",
       "      <td>0.0</td>\n",
       "      <td>1</td>\n",
       "      <td>39.000000</td>\n",
       "      <td>13.000000</td>\n",
       "      <td>13.000000</td>\n",
       "      <td>13.000000</td>\n",
       "      <td>0.0</td>\n",
       "    </tr>\n",
       "    <tr>\n",
       "      <th>1</th>\n",
       "      <td>000bce7c4</td>\n",
       "      <td>0</td>\n",
       "      <td>0</td>\n",
       "      <td>0</td>\n",
       "      <td>0</td>\n",
       "      <td>0.0</td>\n",
       "      <td>0</td>\n",
       "      <td>0</td>\n",
       "      <td>0</td>\n",
       "      <td>0</td>\n",
       "      <td>...</td>\n",
       "      <td>2.500000</td>\n",
       "      <td>2.500000</td>\n",
       "      <td>2.500000</td>\n",
       "      <td>0.0</td>\n",
       "      <td>1</td>\n",
       "      <td>5.000000</td>\n",
       "      <td>2.500000</td>\n",
       "      <td>2.500000</td>\n",
       "      <td>2.500000</td>\n",
       "      <td>0.0</td>\n",
       "    </tr>\n",
       "    <tr>\n",
       "      <th>2</th>\n",
       "      <td>001845fb0</td>\n",
       "      <td>24</td>\n",
       "      <td>6</td>\n",
       "      <td>6</td>\n",
       "      <td>6</td>\n",
       "      <td>0.0</td>\n",
       "      <td>0</td>\n",
       "      <td>0</td>\n",
       "      <td>0</td>\n",
       "      <td>0</td>\n",
       "      <td>...</td>\n",
       "      <td>13.666667</td>\n",
       "      <td>13.666667</td>\n",
       "      <td>13.666667</td>\n",
       "      <td>0.0</td>\n",
       "      <td>1</td>\n",
       "      <td>54.666668</td>\n",
       "      <td>13.666667</td>\n",
       "      <td>13.666667</td>\n",
       "      <td>13.666667</td>\n",
       "      <td>0.0</td>\n",
       "    </tr>\n",
       "    <tr>\n",
       "      <th>3</th>\n",
       "      <td>003514e22</td>\n",
       "      <td>56</td>\n",
       "      <td>14</td>\n",
       "      <td>14</td>\n",
       "      <td>14</td>\n",
       "      <td>0.0</td>\n",
       "      <td>0</td>\n",
       "      <td>0</td>\n",
       "      <td>0</td>\n",
       "      <td>0</td>\n",
       "      <td>...</td>\n",
       "      <td>10.000000</td>\n",
       "      <td>10.000000</td>\n",
       "      <td>10.000000</td>\n",
       "      <td>0.0</td>\n",
       "      <td>1</td>\n",
       "      <td>40.000000</td>\n",
       "      <td>10.000000</td>\n",
       "      <td>10.000000</td>\n",
       "      <td>10.000000</td>\n",
       "      <td>0.0</td>\n",
       "    </tr>\n",
       "    <tr>\n",
       "      <th>4</th>\n",
       "      <td>003b51a87</td>\n",
       "      <td>0</td>\n",
       "      <td>0</td>\n",
       "      <td>0</td>\n",
       "      <td>0</td>\n",
       "      <td>0.0</td>\n",
       "      <td>8</td>\n",
       "      <td>2</td>\n",
       "      <td>2</td>\n",
       "      <td>2</td>\n",
       "      <td>...</td>\n",
       "      <td>4.000000</td>\n",
       "      <td>4.000000</td>\n",
       "      <td>4.000000</td>\n",
       "      <td>0.0</td>\n",
       "      <td>1</td>\n",
       "      <td>16.000000</td>\n",
       "      <td>4.000000</td>\n",
       "      <td>4.000000</td>\n",
       "      <td>4.000000</td>\n",
       "      <td>0.0</td>\n",
       "    </tr>\n",
       "  </tbody>\n",
       "</table>\n",
       "<p>5 rows × 35 columns</p>\n",
       "</div>"
      ],
      "text/plain": [
       "     idhogar male_education_years                   female_education_years  \\\n",
       "                              sum mean max min  std                    sum   \n",
       "0  000a08204                   36   12  12  12  0.0                      0   \n",
       "1  000bce7c4                    0    0   0   0  0.0                      0   \n",
       "2  001845fb0                   24    6   6   6  0.0                      0   \n",
       "3  003514e22                   56   14  14  14  0.0                      0   \n",
       "4  003b51a87                    0    0   0   0  0.0                      8   \n",
       "\n",
       "               ...  yrs_behind_in_school_nan_with_mean                        \\\n",
       "  mean max min ...                                mean        max        min   \n",
       "0    0   0   0 ...                           13.000000  13.000000  13.000000   \n",
       "1    0   0   0 ...                            2.500000   2.500000   2.500000   \n",
       "2    0   0   0 ...                           13.666667  13.666667  13.666667   \n",
       "3    0   0   0 ...                           10.000000  10.000000  10.000000   \n",
       "4    2   2   2 ...                            4.000000   4.000000   4.000000   \n",
       "\n",
       "       yrs_behind_in_school_nan_with_max_appearing                        \\\n",
       "   std                                     nunique        sum       mean   \n",
       "0  0.0                                           1  39.000000  13.000000   \n",
       "1  0.0                                           1   5.000000   2.500000   \n",
       "2  0.0                                           1  54.666668  13.666667   \n",
       "3  0.0                                           1  40.000000  10.000000   \n",
       "4  0.0                                           1  16.000000   4.000000   \n",
       "\n",
       "                              \n",
       "         max        min  std  \n",
       "0  13.000000  13.000000  0.0  \n",
       "1   2.500000   2.500000  0.0  \n",
       "2  13.666667  13.666667  0.0  \n",
       "3  10.000000  10.000000  0.0  \n",
       "4   4.000000   4.000000  0.0  \n",
       "\n",
       "[5 rows x 35 columns]"
      ]
     },
     "execution_count": 89,
     "metadata": {},
     "output_type": "execute_result"
    }
   ],
   "source": [
    "t.reset_index(inplace=True)\n",
    "# t.columns = new_cols\n",
    "t.head()"
   ]
  },
  {
   "cell_type": "code",
   "execution_count": 90,
   "metadata": {},
   "outputs": [],
   "source": [
    "new_cols=[('occupants_'+i+'_'+j) for (i,j) in t.columns.tolist()]\n",
    "\n",
    "t.columns = new_cols"
   ]
  },
  {
   "cell_type": "code",
   "execution_count": 91,
   "metadata": {},
   "outputs": [
    {
     "data": {
      "text/html": [
       "<div>\n",
       "<style scoped>\n",
       "    .dataframe tbody tr th:only-of-type {\n",
       "        vertical-align: middle;\n",
       "    }\n",
       "\n",
       "    .dataframe tbody tr th {\n",
       "        vertical-align: top;\n",
       "    }\n",
       "\n",
       "    .dataframe thead th {\n",
       "        text-align: right;\n",
       "    }\n",
       "</style>\n",
       "<table border=\"1\" class=\"dataframe\">\n",
       "  <thead>\n",
       "    <tr style=\"text-align: right;\">\n",
       "      <th></th>\n",
       "      <th>idhogar</th>\n",
       "      <th>occupants_male_education_years_sum</th>\n",
       "      <th>occupants_male_education_years_mean</th>\n",
       "      <th>occupants_male_education_years_max</th>\n",
       "      <th>occupants_male_education_years_min</th>\n",
       "      <th>occupants_male_education_years_std</th>\n",
       "      <th>occupants_female_education_years_sum</th>\n",
       "      <th>occupants_female_education_years_mean</th>\n",
       "      <th>occupants_female_education_years_max</th>\n",
       "      <th>occupants_female_education_years_min</th>\n",
       "      <th>...</th>\n",
       "      <th>occupants_yrs_behind_in_school_nan_with_mean_mean</th>\n",
       "      <th>occupants_yrs_behind_in_school_nan_with_mean_max</th>\n",
       "      <th>occupants_yrs_behind_in_school_nan_with_mean_min</th>\n",
       "      <th>occupants_yrs_behind_in_school_nan_with_mean_std</th>\n",
       "      <th>occupants_yrs_behind_in_school_nan_with_max_appearing_nunique</th>\n",
       "      <th>occupants_yrs_behind_in_school_nan_with_max_appearing_sum</th>\n",
       "      <th>occupants_yrs_behind_in_school_nan_with_max_appearing_mean</th>\n",
       "      <th>occupants_yrs_behind_in_school_nan_with_max_appearing_max</th>\n",
       "      <th>occupants_yrs_behind_in_school_nan_with_max_appearing_min</th>\n",
       "      <th>occupants_yrs_behind_in_school_nan_with_max_appearing_std</th>\n",
       "    </tr>\n",
       "  </thead>\n",
       "  <tbody>\n",
       "    <tr>\n",
       "      <th>0</th>\n",
       "      <td>000a08204</td>\n",
       "      <td>36</td>\n",
       "      <td>12</td>\n",
       "      <td>12</td>\n",
       "      <td>12</td>\n",
       "      <td>0.0</td>\n",
       "      <td>0</td>\n",
       "      <td>0</td>\n",
       "      <td>0</td>\n",
       "      <td>0</td>\n",
       "      <td>...</td>\n",
       "      <td>13.000000</td>\n",
       "      <td>13.000000</td>\n",
       "      <td>13.000000</td>\n",
       "      <td>0.0</td>\n",
       "      <td>1</td>\n",
       "      <td>39.000000</td>\n",
       "      <td>13.000000</td>\n",
       "      <td>13.000000</td>\n",
       "      <td>13.000000</td>\n",
       "      <td>0.0</td>\n",
       "    </tr>\n",
       "    <tr>\n",
       "      <th>1</th>\n",
       "      <td>000bce7c4</td>\n",
       "      <td>0</td>\n",
       "      <td>0</td>\n",
       "      <td>0</td>\n",
       "      <td>0</td>\n",
       "      <td>0.0</td>\n",
       "      <td>0</td>\n",
       "      <td>0</td>\n",
       "      <td>0</td>\n",
       "      <td>0</td>\n",
       "      <td>...</td>\n",
       "      <td>2.500000</td>\n",
       "      <td>2.500000</td>\n",
       "      <td>2.500000</td>\n",
       "      <td>0.0</td>\n",
       "      <td>1</td>\n",
       "      <td>5.000000</td>\n",
       "      <td>2.500000</td>\n",
       "      <td>2.500000</td>\n",
       "      <td>2.500000</td>\n",
       "      <td>0.0</td>\n",
       "    </tr>\n",
       "    <tr>\n",
       "      <th>2</th>\n",
       "      <td>001845fb0</td>\n",
       "      <td>24</td>\n",
       "      <td>6</td>\n",
       "      <td>6</td>\n",
       "      <td>6</td>\n",
       "      <td>0.0</td>\n",
       "      <td>0</td>\n",
       "      <td>0</td>\n",
       "      <td>0</td>\n",
       "      <td>0</td>\n",
       "      <td>...</td>\n",
       "      <td>13.666667</td>\n",
       "      <td>13.666667</td>\n",
       "      <td>13.666667</td>\n",
       "      <td>0.0</td>\n",
       "      <td>1</td>\n",
       "      <td>54.666668</td>\n",
       "      <td>13.666667</td>\n",
       "      <td>13.666667</td>\n",
       "      <td>13.666667</td>\n",
       "      <td>0.0</td>\n",
       "    </tr>\n",
       "    <tr>\n",
       "      <th>3</th>\n",
       "      <td>003514e22</td>\n",
       "      <td>56</td>\n",
       "      <td>14</td>\n",
       "      <td>14</td>\n",
       "      <td>14</td>\n",
       "      <td>0.0</td>\n",
       "      <td>0</td>\n",
       "      <td>0</td>\n",
       "      <td>0</td>\n",
       "      <td>0</td>\n",
       "      <td>...</td>\n",
       "      <td>10.000000</td>\n",
       "      <td>10.000000</td>\n",
       "      <td>10.000000</td>\n",
       "      <td>0.0</td>\n",
       "      <td>1</td>\n",
       "      <td>40.000000</td>\n",
       "      <td>10.000000</td>\n",
       "      <td>10.000000</td>\n",
       "      <td>10.000000</td>\n",
       "      <td>0.0</td>\n",
       "    </tr>\n",
       "    <tr>\n",
       "      <th>4</th>\n",
       "      <td>003b51a87</td>\n",
       "      <td>0</td>\n",
       "      <td>0</td>\n",
       "      <td>0</td>\n",
       "      <td>0</td>\n",
       "      <td>0.0</td>\n",
       "      <td>8</td>\n",
       "      <td>2</td>\n",
       "      <td>2</td>\n",
       "      <td>2</td>\n",
       "      <td>...</td>\n",
       "      <td>4.000000</td>\n",
       "      <td>4.000000</td>\n",
       "      <td>4.000000</td>\n",
       "      <td>0.0</td>\n",
       "      <td>1</td>\n",
       "      <td>16.000000</td>\n",
       "      <td>4.000000</td>\n",
       "      <td>4.000000</td>\n",
       "      <td>4.000000</td>\n",
       "      <td>0.0</td>\n",
       "    </tr>\n",
       "  </tbody>\n",
       "</table>\n",
       "<p>5 rows × 35 columns</p>\n",
       "</div>"
      ],
      "text/plain": [
       "     idhogar  occupants_male_education_years_sum  \\\n",
       "0  000a08204                                  36   \n",
       "1  000bce7c4                                   0   \n",
       "2  001845fb0                                  24   \n",
       "3  003514e22                                  56   \n",
       "4  003b51a87                                   0   \n",
       "\n",
       "   occupants_male_education_years_mean  occupants_male_education_years_max  \\\n",
       "0                                   12                                  12   \n",
       "1                                    0                                   0   \n",
       "2                                    6                                   6   \n",
       "3                                   14                                  14   \n",
       "4                                    0                                   0   \n",
       "\n",
       "   occupants_male_education_years_min  occupants_male_education_years_std  \\\n",
       "0                                  12                                 0.0   \n",
       "1                                   0                                 0.0   \n",
       "2                                   6                                 0.0   \n",
       "3                                  14                                 0.0   \n",
       "4                                   0                                 0.0   \n",
       "\n",
       "   occupants_female_education_years_sum  \\\n",
       "0                                     0   \n",
       "1                                     0   \n",
       "2                                     0   \n",
       "3                                     0   \n",
       "4                                     8   \n",
       "\n",
       "   occupants_female_education_years_mean  \\\n",
       "0                                      0   \n",
       "1                                      0   \n",
       "2                                      0   \n",
       "3                                      0   \n",
       "4                                      2   \n",
       "\n",
       "   occupants_female_education_years_max  occupants_female_education_years_min  \\\n",
       "0                                     0                                     0   \n",
       "1                                     0                                     0   \n",
       "2                                     0                                     0   \n",
       "3                                     0                                     0   \n",
       "4                                     2                                     2   \n",
       "\n",
       "                             ...                              \\\n",
       "0                            ...                               \n",
       "1                            ...                               \n",
       "2                            ...                               \n",
       "3                            ...                               \n",
       "4                            ...                               \n",
       "\n",
       "   occupants_yrs_behind_in_school_nan_with_mean_mean  \\\n",
       "0                                          13.000000   \n",
       "1                                           2.500000   \n",
       "2                                          13.666667   \n",
       "3                                          10.000000   \n",
       "4                                           4.000000   \n",
       "\n",
       "   occupants_yrs_behind_in_school_nan_with_mean_max  \\\n",
       "0                                         13.000000   \n",
       "1                                          2.500000   \n",
       "2                                         13.666667   \n",
       "3                                         10.000000   \n",
       "4                                          4.000000   \n",
       "\n",
       "   occupants_yrs_behind_in_school_nan_with_mean_min  \\\n",
       "0                                         13.000000   \n",
       "1                                          2.500000   \n",
       "2                                         13.666667   \n",
       "3                                         10.000000   \n",
       "4                                          4.000000   \n",
       "\n",
       "   occupants_yrs_behind_in_school_nan_with_mean_std  \\\n",
       "0                                               0.0   \n",
       "1                                               0.0   \n",
       "2                                               0.0   \n",
       "3                                               0.0   \n",
       "4                                               0.0   \n",
       "\n",
       "   occupants_yrs_behind_in_school_nan_with_max_appearing_nunique  \\\n",
       "0                                                  1               \n",
       "1                                                  1               \n",
       "2                                                  1               \n",
       "3                                                  1               \n",
       "4                                                  1               \n",
       "\n",
       "   occupants_yrs_behind_in_school_nan_with_max_appearing_sum  \\\n",
       "0                                          39.000000           \n",
       "1                                           5.000000           \n",
       "2                                          54.666668           \n",
       "3                                          40.000000           \n",
       "4                                          16.000000           \n",
       "\n",
       "   occupants_yrs_behind_in_school_nan_with_max_appearing_mean  \\\n",
       "0                                          13.000000            \n",
       "1                                           2.500000            \n",
       "2                                          13.666667            \n",
       "3                                          10.000000            \n",
       "4                                           4.000000            \n",
       "\n",
       "   occupants_yrs_behind_in_school_nan_with_max_appearing_max  \\\n",
       "0                                          13.000000           \n",
       "1                                           2.500000           \n",
       "2                                          13.666667           \n",
       "3                                          10.000000           \n",
       "4                                           4.000000           \n",
       "\n",
       "   occupants_yrs_behind_in_school_nan_with_max_appearing_min  \\\n",
       "0                                          13.000000           \n",
       "1                                           2.500000           \n",
       "2                                          13.666667           \n",
       "3                                          10.000000           \n",
       "4                                           4.000000           \n",
       "\n",
       "   occupants_yrs_behind_in_school_nan_with_max_appearing_std  \n",
       "0                                                0.0          \n",
       "1                                                0.0          \n",
       "2                                                0.0          \n",
       "3                                                0.0          \n",
       "4                                                0.0          \n",
       "\n",
       "[5 rows x 35 columns]"
      ]
     },
     "execution_count": 91,
     "metadata": {},
     "output_type": "execute_result"
    }
   ],
   "source": [
    "t.rename(columns={'occupants_idhogar_':'idhogar'}, inplace=True)\n",
    "t.fillna(value=0, inplace=True) ## why would be get nan,, coz some households have single entry and are \n",
    "t.head()"
   ]
  },
  {
   "cell_type": "code",
   "execution_count": 92,
   "metadata": {},
   "outputs": [
    {
     "data": {
      "text/plain": [
       "((23856, 142), (7352, 35))"
      ]
     },
     "execution_count": 92,
     "metadata": {},
     "output_type": "execute_result"
    }
   ],
   "source": [
    "test_data.shape, t.shape"
   ]
  },
  {
   "cell_type": "code",
   "execution_count": 93,
   "metadata": {},
   "outputs": [],
   "source": [
    "tt = panda.merge(test_data,t, how = 'inner' , on='idhogar')"
   ]
  },
  {
   "cell_type": "code",
   "execution_count": 94,
   "metadata": {},
   "outputs": [
    {
     "data": {
      "text/plain": [
       "(23856, 176)"
      ]
     },
     "execution_count": 94,
     "metadata": {},
     "output_type": "execute_result"
    }
   ],
   "source": [
    "tt.shape"
   ]
  },
  {
   "cell_type": "code",
   "execution_count": 95,
   "metadata": {},
   "outputs": [
    {
     "data": {
      "text/plain": [
       "(7334, 176)"
      ]
     },
     "execution_count": 95,
     "metadata": {},
     "output_type": "execute_result"
    }
   ],
   "source": [
    "aa = tt[tt.parentesco1==1]\n",
    "aa.shape"
   ]
  },
  {
   "cell_type": "code",
   "execution_count": 96,
   "metadata": {},
   "outputs": [
    {
     "data": {
      "text/plain": [
       "0"
      ]
     },
     "execution_count": 96,
     "metadata": {},
     "output_type": "execute_result"
    }
   ],
   "source": [
    "aa.isnull().any().sum()"
   ]
  },
  {
   "cell_type": "code",
   "execution_count": 97,
   "metadata": {},
   "outputs": [],
   "source": [
    "aa.to_csv('data/test_2.csv', index= False)"
   ]
  },
  {
   "cell_type": "code",
   "execution_count": null,
   "metadata": {},
   "outputs": [],
   "source": []
  }
 ],
 "metadata": {
  "kernelspec": {
   "display_name": "Python 3",
   "language": "python",
   "name": "python3"
  },
  "language_info": {
   "codemirror_mode": {
    "name": "ipython",
    "version": 3
   },
   "file_extension": ".py",
   "mimetype": "text/x-python",
   "name": "python",
   "nbconvert_exporter": "python",
   "pygments_lexer": "ipython3",
   "version": "3.6.5"
  }
 },
 "nbformat": 4,
 "nbformat_minor": 2
}
