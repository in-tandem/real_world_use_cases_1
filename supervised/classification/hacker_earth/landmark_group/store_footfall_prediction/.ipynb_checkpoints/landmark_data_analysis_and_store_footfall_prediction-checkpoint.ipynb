{
 "cells": [
  {
   "cell_type": "code",
   "execution_count": 18,
   "metadata": {},
   "outputs": [],
   "source": [
    "import numpy as np\n",
    "import pandas as panda\n",
    "import pickle\n",
    "import os"
   ]
  },
  {
   "cell_type": "code",
   "execution_count": 19,
   "metadata": {},
   "outputs": [],
   "source": [
    "customer_demo_file = 'data/Customer_Demographics.xlsx'\n",
    "\n",
    "customer_transaction_file = 'data/Customer_Transaction.xlsx'\n",
    "\n",
    "store_master_file = 'data/Store_Master.xlsx'\n",
    "\n",
    "train_data_file = 'data/Test_Set.xlsx'\n",
    "\n",
    "customer_demo_data_pkl = 'data/customer_demo_data.pkl'\n",
    "\n",
    "customer_transaction_data_pkl = 'data/customer_transaction_data.pkl'\n",
    "\n",
    "store_master_data_pkl = 'data/store_master_data.pkl'\n",
    "\n",
    "train_data_pkl = 'data/train_data.pkl'\n",
    "\n"
   ]
  },
  {
   "cell_type": "code",
   "execution_count": 30,
   "metadata": {},
   "outputs": [
    {
     "data": {
      "text/plain": [
       "(100000, 16)"
      ]
     },
     "execution_count": 30,
     "metadata": {},
     "output_type": "execute_result"
    }
   ],
   "source": [
    "if os.path.isfile(customer_demo_data_pkl):\n",
    "    \n",
    "    customer_demo_data = panda.read_pickle(customer_demo_data_pkl)\n",
    "    \n",
    "else:\n",
    "    \n",
    "    customer_demo_data = panda.read_excel(customer_demo_file, sheet_name = 'Demographics')\n",
    "    \n",
    "customer_demo_data_shape = customer_demo_data.shape  \n",
    "\n",
    "customer_demo_data_shape"
   ]
  },
  {
   "cell_type": "code",
   "execution_count": 31,
   "metadata": {},
   "outputs": [
    {
     "data": {
      "text/plain": [
       "(544649, 15)"
      ]
     },
     "execution_count": 31,
     "metadata": {},
     "output_type": "execute_result"
    }
   ],
   "source": [
    "if os.path.isfile(customer_transaction_data_pkl):\n",
    "    \n",
    "    customer_transaction_data = panda.read_pickle(customer_transaction_data_pkl)\n",
    "    \n",
    "else:\n",
    "    \n",
    "    customer_transaction_data = panda.read_excel(customer_transaction_file, sheet_name = 'Transaction')\n",
    "    \n",
    "customer_transaction_data_shape = customer_transaction_data.shape \n",
    "\n",
    "customer_transaction_data_shape"
   ]
  },
  {
   "cell_type": "code",
   "execution_count": 29,
   "metadata": {},
   "outputs": [
    {
     "data": {
      "text/plain": [
       "(35, 15)"
      ]
     },
     "execution_count": 29,
     "metadata": {},
     "output_type": "execute_result"
    }
   ],
   "source": [
    "if os.path.isfile(store_master_data_pkl):\n",
    "    \n",
    "    store_master_data = panda.read_pickle(store_master_data_pkl)\n",
    "    \n",
    "else:\n",
    "    \n",
    "    store_master_data = panda.read_excel(store_master_file, sheet_name = 'Store_Master')\n",
    "\n",
    "    \n",
    "store_master_data_shape = store_master_data.shape \n",
    "store_master_data_shape"
   ]
  },
  {
   "cell_type": "code",
   "execution_count": 28,
   "metadata": {},
   "outputs": [
    {
     "data": {
      "text/plain": [
       "(400000, 2)"
      ]
     },
     "execution_count": 28,
     "metadata": {},
     "output_type": "execute_result"
    }
   ],
   "source": [
    "if os.path.isfile(train_data_pkl):\n",
    "    \n",
    "    train_data = panda.read_pickle(train_data_pkl)\n",
    "    \n",
    "else:\n",
    "    \n",
    "    train_data = panda.read_excel(train_data_file, sheet_name = 'Test_Set')\n",
    "\n",
    "    \n",
    "train_data_shape = train_data.shape \n",
    "\n",
    "train_data_shape"
   ]
  },
  {
   "cell_type": "code",
   "execution_count": 33,
   "metadata": {},
   "outputs": [
    {
     "name": "stdout",
     "output_type": "stream",
     "text": [
      "customer_demo_data_columns:  ['Customer_ID', 'Territory', 'Nationality', 'Income_Range', 'Job_Type', 'Marital_Status', 'Gender', 'State', 'Language', 'Loyalty_Status', 'Birth_date', 'Age', 'Points', 'First_txn_dt', 'Last_accr_txn_dt', 'Last_rdm_txn_dt']\n",
      "\n",
      " customer_transaction_data_columns:  ['Territory', 'Business', 'Year', 'Week', 'Store_Code', 'City_Name', 'Store_Type', 'Transaction_Type', 'Return_Reason', 'Customer_ID', 'Invoices', 'Item_Count', 'Revenue', 'Discount', 'Units_Sold']\n",
      "\n",
      " store_master_data_columns:  ['Territory', 'Business', 'Region', 'Region_Code', 'Store_Code', 'Store_Name', 'Mall_Name', 'Store_Format', 'Sales_Per_Day', 'Store_Launch_Date', 'Train_Test_Store', 'Geo_Field', 'Store_Size_Sq_Ft', 'Customer_Count', 'Total_Revenue']\n",
      "\n",
      " train_data_columns:  ['Customer_ID', 'Store_Code']\n"
     ]
    }
   ],
   "source": [
    "customer_demo_data_columns = customer_demo_data.columns.tolist()\n",
    "\n",
    "customer_transaction_data_columns = customer_transaction_data.columns.tolist()\n",
    "\n",
    "store_master_data_columns = store_master_data.columns.tolist()\n",
    "\n",
    "train_data_columns = train_data.columns.tolist()\n",
    "\n",
    "\n",
    "print(\"customer_demo_data_columns: \", customer_demo_data_columns)\n",
    "print(\"\\n customer_transaction_data_columns: \", customer_transaction_data_columns)\n",
    "print(\"\\n store_master_data_columns: \", store_master_data_columns)\n",
    "print(\"\\n train_data_columns: \", train_data_columns)\n",
    "\n"
   ]
  },
  {
   "cell_type": "code",
   "execution_count": 37,
   "metadata": {},
   "outputs": [
    {
     "name": "stdout",
     "output_type": "stream",
     "text": [
      "nationality value counts : INDIA                             21128\n",
      "UNITED ARAB EMIRATES              15123\n",
      "PHILIPPINES                       14495\n",
      "EGYPT                              6700\n",
      "Unspecified                        6490\n",
      "PAKISTAN                           5671\n",
      "UNDEFINED                          4505\n",
      "JORDAN                             3631\n",
      "SYRIAN ARAB REPUBLIC               3324\n",
      "SUDAN                              1699\n",
      "OCCUPIED PALESTINIAN TERRITORY     1372\n",
      "MOROCCO                            1134\n",
      "SRI LANKA                          1070\n",
      "OMAN                                897\n",
      "BANGLADESH                          850\n",
      "NEPAL                               838\n",
      "LEBANON                             783\n",
      "IRAQ                                680\n",
      "ISLAMIC REPUBLIC OF IRAN            668\n",
      "ETHIOPIA                            601\n",
      "YEMEN                               472\n",
      "UNITED KINGDOM                      456\n",
      "UNDISCLOSED ARAB NATIONAL           443\n",
      "TUNISIA                             414\n",
      "PALESTINE                           324\n",
      "CANADA                              302\n",
      "ALGERIA                             298\n",
      "UNITED STATES                       288\n",
      "KENYA                               274\n",
      "SOUTH AFRICA                        273\n",
      "                                  ...  \n",
      "COTE DIVOIRE                          2\n",
      "BELIZE                                2\n",
      "CENTRAL AFRICAN REPUBLIC              2\n",
      "FAROE ISLANDS                         2\n",
      "SVALBARD & JAN MAYEN                  1\n",
      "COSTA RICA                            1\n",
      "HEARD & MCDONALD ISLANDS              1\n",
      "SURINAME                              1\n",
      "WALLIS & FUTUNA                       1\n",
      "BOTSWANA                              1\n",
      "BERMUDA                               1\n",
      "BRUNEI DARUSSALAM                     1\n",
      "ANTIGUA & BARBUDA                     1\n",
      "COCOS (KEELING) ISLANDS               1\n",
      "MADAGASCAR                            1\n",
      "WESTERN SAHARA                        1\n",
      "SAO TOME & PRINCIPE                   1\n",
      "MARSHALL ISLANDS                      1\n",
      "SLOVENIA                              1\n",
      "LAOS                                  1\n",
      "VANUATU                               1\n",
      "NETHERLANDS ANTILLES                  1\n",
      "TOGO                                  1\n",
      "PUERTO RICO                           1\n",
      "TIMOR-LESTE                           1\n",
      "HOLY SEE (VATICAN CITY STATE)         1\n",
      "BOLIVIA                               1\n",
      "VIRGIN ISLANDS U.S.                   1\n",
      "SAN MARINO                            1\n",
      "CHRISTMAS ISLAND                      1\n",
      "Name: Nationality, Length: 223, dtype: int64\n",
      "language  value counts : English        80499\n",
      "Arabic         18476\n",
      "Unspecified     1025\n",
      "Name: Language, dtype: int64\n",
      "territory value counts : United Arab Emirates    100000\n",
      "Name: Territory, dtype: int64\n"
     ]
    }
   ],
   "source": [
    "##lets analyze the customer demographics data.\n",
    "\n",
    "##check the nationality/language distribution. if we see that nationality and language are the same, we can simply ignore these fields\n",
    "\n",
    "print('nationality value counts :', customer_demo_data['Nationality'].value_counts())\n",
    "\n",
    "print('language  value counts :', customer_demo_data['Language'].value_counts())\n",
    "\n",
    "print('territory value counts :', customer_demo_data['Territory'].value_counts())\n",
    "\n",
    "## we can see there are 1025 rows where customers have not disclosed language spoken.\n",
    "## lets try and see if Territory has been specified\n",
    "\n",
    "## there is only one territory - UAE. The most common language spoken there is English - count of 80499.\n",
    "\n",
    "## First assumption: can we fill the empty language data with English blindly.\n",
    "\n",
    "## out of the unspecified language rows does any one have a nationality listed. in that case, we need to check the language\n",
    "## for that nationality. else fill in english in all.\n",
    "\n"
   ]
  },
  {
   "cell_type": "code",
   "execution_count": null,
   "metadata": {},
   "outputs": [],
   "source": [
    "language_data = customer_demo_data.loc[customer_demo_data['Language']=='Unspecified']\n",
    "\n",
    "language_data"
   ]
  }
 ],
 "metadata": {
  "kernelspec": {
   "display_name": "Python 3",
   "language": "python",
   "name": "python3"
  },
  "language_info": {
   "codemirror_mode": {
    "name": "ipython",
    "version": 3
   },
   "file_extension": ".py",
   "mimetype": "text/x-python",
   "name": "python",
   "nbconvert_exporter": "python",
   "pygments_lexer": "ipython3",
   "version": "3.6.5"
  }
 },
 "nbformat": 4,
 "nbformat_minor": 2
}
