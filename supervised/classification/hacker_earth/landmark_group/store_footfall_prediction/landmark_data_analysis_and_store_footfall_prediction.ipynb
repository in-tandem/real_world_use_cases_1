{
 "cells": [
  {
   "cell_type": "code",
   "execution_count": 11,
   "metadata": {},
   "outputs": [],
   "source": [
    "import numpy as np\n",
    "import pandas as panda\n",
    "import pickle"
   ]
  },
  {
   "cell_type": "code",
   "execution_count": 7,
   "metadata": {},
   "outputs": [],
   "source": [
    "customer_demo_file = 'data/Customer_Demographics.xlsx'\n",
    "\n",
    "customer_transaction_file = 'data/Customer_Transaction.xlsx'\n",
    "\n",
    "store_master_file = 'data/Store_Master.xlsx'\n",
    "\n",
    "train_data_file = 'data/Test_Set.xlsx'\n",
    "\n"
   ]
  },
  {
   "cell_type": "code",
   "execution_count": 13,
   "metadata": {},
   "outputs": [],
   "source": [
    "store_master_data = panda.read_excel(store_master_file, sheet_name = 'Store_Master')\n",
    "\n",
    "store_master_data_shape = store_master_data.shape\n",
    "\n",
    "train_data = panda.read_excel(train_data_file, sheet_name = 'Test_Set')\n",
    "\n",
    "train_data_shape = train_data.shape\n",
    "\n",
    "\n",
    "customer_transaction_data = panda.read_excel(customer_transaction_file, sheet_name = 'Transaction')\n",
    "\n",
    "customer_transaction_data_shape = customer_transaction_data.shape\n",
    "\n",
    "\n",
    "customer_demo_data = panda.read_excel(customer_demo_file, sheet_name = 'Demographics')\n",
    "\n",
    "customer_demo_data_shape = customer_demo_data.shape\n",
    "\n"
   ]
  },
  {
   "cell_type": "code",
   "execution_count": 12,
   "metadata": {},
   "outputs": [],
   "source": [
    "customer_demo_data.to_pickle('data/customer_demo_data.pkl')\n",
    "\n",
    "\n",
    "customer_transaction_data.to_pickle('data/customer_transaction_data.pkl')\n",
    "\n",
    "store_master_data.to_pickle('data/store_master_data.pkl')\n",
    "\n",
    "train_data.to_pickle('data/train_data.pkl')"
   ]
  },
  {
   "cell_type": "code",
   "execution_count": 16,
   "metadata": {},
   "outputs": [
    {
     "name": "stdout",
     "output_type": "stream",
     "text": [
      "Size same for customer demo data :  True\n",
      "Size same for customer transaction data :  True\n",
      "Size same for store master data :  True\n",
      "Size same for train data :  True\n"
     ]
    }
   ],
   "source": [
    "## check to see if pickling /unpickling gives me the same data.\n",
    "\n",
    "print('Size same for customer demo data : ' ,customer_demo_data_shape == panda.read_pickle('data/customer_demo_data.pkl').shape)\n",
    "\n",
    "print('Size same for customer transaction data : ' ,customer_transaction_data_shape == panda.read_pickle('data/customer_transaction_data.pkl').shape)\n",
    "\n",
    "print('Size same for store master data : ' ,store_master_data_shape == panda.read_pickle('data/store_master_data.pkl').shape)\n",
    "\n",
    "print('Size same for train data : ' ,train_data_shape == panda.read_pickle('data/train_data.pkl').shape)\n",
    "\n"
   ]
  }
 ],
 "metadata": {
  "kernelspec": {
   "display_name": "Python 3",
   "language": "python",
   "name": "python3"
  },
  "language_info": {
   "codemirror_mode": {
    "name": "ipython",
    "version": 3
   },
   "file_extension": ".py",
   "mimetype": "text/x-python",
   "name": "python",
   "nbconvert_exporter": "python",
   "pygments_lexer": "ipython3",
   "version": "3.6.5"
  }
 },
 "nbformat": 4,
 "nbformat_minor": 2
}
