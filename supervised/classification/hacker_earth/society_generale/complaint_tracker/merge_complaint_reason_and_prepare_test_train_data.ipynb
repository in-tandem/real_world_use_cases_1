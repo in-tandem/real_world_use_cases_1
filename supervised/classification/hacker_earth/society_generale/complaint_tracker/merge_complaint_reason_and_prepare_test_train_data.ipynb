{
 "cells": [
  {
   "cell_type": "markdown",
   "metadata": {},
   "source": [
    "## Merging Complaint Reason and Preparing Test/Train Data"
   ]
  },
  {
   "cell_type": "code",
   "execution_count": 1,
   "metadata": {},
   "outputs": [],
   "source": [
    "import pandas as panda\n",
    "\n",
    "from sklearn.model_selection import learning_curve, train_test_split,GridSearchCV\n",
    "from sklearn.preprocessing import StandardScaler, OneHotEncoder, LabelEncoder\n",
    "from sklearn.pipeline import make_pipeline, Pipeline\n",
    "from sklearn.metrics import accuracy_score, mean_absolute_error, classification_report, \\\n",
    "    confusion_matrix, f1_score, roc_curve, roc_auc_score\n",
    "from sklearn.model_selection import StratifiedKFold\n",
    "from sklearn.linear_model import Perceptron, LogisticRegression\n",
    "from sklearn.svm import SVC\n",
    "from sklearn.tree import DecisionTreeClassifier\n",
    "from sklearn.ensemble import RandomForestClassifier\n",
    "from sklearn.neighbors import KNeighborsClassifier\n",
    "import numpy as np\n",
    "\n",
    "from matplotlib import pyplot as plot\n",
    "import seaborn as sns\n",
    "\n",
    "\n",
    "from numpy import bincount, linspace, mean, std, arange, squeeze\n",
    "\n",
    "import itertools, time, datetime\n",
    "\n",
    "import warnings\n",
    "warnings.simplefilter('ignore')\n",
    "\n",
    "%matplotlib inline"
   ]
  },
  {
   "cell_type": "code",
   "execution_count": 2,
   "metadata": {},
   "outputs": [],
   "source": [
    "\n",
    "test_data_path ='dataset/test.csv'\n",
    "train_data_path = 'dataset/train.csv'\n",
    "sample_submission_path = 'dataset/sample_submission.csv'\n",
    "test_complaint_reason_path = 'dataset/test_data_complaint_reason.csv'\n",
    "train_complaint_reason_path = 'dataset/train_data_complaint_reason.csv'"
   ]
  },
  {
   "cell_type": "code",
   "execution_count": 3,
   "metadata": {},
   "outputs": [],
   "source": [
    "test_data = panda.read_csv(test_data_path)\n",
    "train_data = panda.read_csv(train_data_path)\n",
    "test_data_complaint_reason = panda.read_csv(test_complaint_reason_path)\n",
    "train_data_complaint_reason = panda.read_csv(train_complaint_reason_path)"
   ]
  },
  {
   "cell_type": "code",
   "execution_count": 4,
   "metadata": {},
   "outputs": [
    {
     "data": {
      "text/plain": [
       "((18543, 8), (43266, 9), (18543, 4), (43266, 4))"
      ]
     },
     "execution_count": 4,
     "metadata": {},
     "output_type": "execute_result"
    }
   ],
   "source": [
    "test_data.shape, train_data.shape, test_data_complaint_reason.shape, train_data_complaint_reason.shape"
   ]
  },
  {
   "cell_type": "code",
   "execution_count": 5,
   "metadata": {},
   "outputs": [
    {
     "data": {
      "text/plain": [
       "['complaint_id',\n",
       " 'date_received',\n",
       " 'transaction_type',\n",
       " 'complaint_reason',\n",
       " 'company_response',\n",
       " 'date_sent_to_company',\n",
       " 'complaint_status',\n",
       " 'consumer_disputes',\n",
       " 'consumer_complaint_summary']"
      ]
     },
     "execution_count": 5,
     "metadata": {},
     "output_type": "execute_result"
    }
   ],
   "source": [
    "train_data.columns = [i.lower().strip().replace('-','_') for i in train_data.columns.tolist()]\n",
    "train_data.columns.tolist()"
   ]
  },
  {
   "cell_type": "code",
   "execution_count": 6,
   "metadata": {},
   "outputs": [
    {
     "data": {
      "text/plain": [
       "['complaint_id',\n",
       " 'date_received',\n",
       " 'transaction_type',\n",
       " 'complaint_reason',\n",
       " 'company_response',\n",
       " 'date_sent_to_company',\n",
       " 'consumer_disputes',\n",
       " 'consumer_complaint_summary']"
      ]
     },
     "execution_count": 6,
     "metadata": {},
     "output_type": "execute_result"
    }
   ],
   "source": [
    "test_data.columns = [i.lower().strip().replace('-','_') for i in test_data.columns.tolist()]\n",
    "test_data.columns.tolist()"
   ]
  },
  {
   "cell_type": "code",
   "execution_count": 7,
   "metadata": {},
   "outputs": [
    {
     "data": {
      "text/plain": [
       "(['Unnamed: 0',\n",
       "  'complaint_id',\n",
       "  'complaint_reason',\n",
       "  'complaint_reason_encoded'],\n",
       " ['Unnamed: 0',\n",
       "  'complaint_id',\n",
       "  'complaint_reason',\n",
       "  'complaint_reason_encoded'])"
      ]
     },
     "execution_count": 7,
     "metadata": {},
     "output_type": "execute_result"
    }
   ],
   "source": [
    "test_data_complaint_reason.columns.tolist(),train_data_complaint_reason.columns.tolist()"
   ]
  },
  {
   "cell_type": "code",
   "execution_count": 8,
   "metadata": {},
   "outputs": [
    {
     "data": {
      "text/plain": [
       "['complaint_id', 'complaint_reason', 'complaint_reason_encoded']"
      ]
     },
     "execution_count": 8,
     "metadata": {},
     "output_type": "execute_result"
    }
   ],
   "source": [
    "test_data_complaint_reason.drop(['Unnamed: 0'], axis =1, inplace = True)\n",
    "test_data_complaint_reason.columns.tolist()"
   ]
  },
  {
   "cell_type": "code",
   "execution_count": 9,
   "metadata": {},
   "outputs": [
    {
     "data": {
      "text/plain": [
       "['complaint_id', 'complaint_reason', 'complaint_reason_encoded']"
      ]
     },
     "execution_count": 9,
     "metadata": {},
     "output_type": "execute_result"
    }
   ],
   "source": [
    "train_data_complaint_reason.drop(['Unnamed: 0'], axis =1, inplace = True)\n",
    "train_data_complaint_reason.columns.tolist()"
   ]
  },
  {
   "cell_type": "code",
   "execution_count": 10,
   "metadata": {},
   "outputs": [],
   "source": [
    "# test_data_merged = panda.concat([test_data, test_data_complaint_reason], axis =1 ) #test_data.merge(test_data_complaint_reason, how ='inner', on='complaint_reason')\n",
    "\n",
    "test_data_merged  = test_data_complaint_reason.merge(test_data, how='inner', on='complaint_id')"
   ]
  },
  {
   "cell_type": "code",
   "execution_count": null,
   "metadata": {},
   "outputs": [],
   "source": []
  },
  {
   "cell_type": "code",
   "execution_count": 11,
   "metadata": {},
   "outputs": [
    {
     "data": {
      "text/plain": [
       "((18543, 10), (18543, 8))"
      ]
     },
     "execution_count": 11,
     "metadata": {},
     "output_type": "execute_result"
    }
   ],
   "source": [
    "test_data_merged.shape, test_data.shape"
   ]
  },
  {
   "cell_type": "code",
   "execution_count": 12,
   "metadata": {},
   "outputs": [
    {
     "data": {
      "text/html": [
       "<div>\n",
       "<style scoped>\n",
       "    .dataframe tbody tr th:only-of-type {\n",
       "        vertical-align: middle;\n",
       "    }\n",
       "\n",
       "    .dataframe tbody tr th {\n",
       "        vertical-align: top;\n",
       "    }\n",
       "\n",
       "    .dataframe thead th {\n",
       "        text-align: right;\n",
       "    }\n",
       "</style>\n",
       "<table border=\"1\" class=\"dataframe\">\n",
       "  <thead>\n",
       "    <tr style=\"text-align: right;\">\n",
       "      <th></th>\n",
       "      <th>complaint_id</th>\n",
       "      <th>complaint_reason_x</th>\n",
       "      <th>complaint_reason_encoded</th>\n",
       "      <th>date_received</th>\n",
       "      <th>transaction_type</th>\n",
       "      <th>complaint_reason_y</th>\n",
       "      <th>company_response</th>\n",
       "      <th>date_sent_to_company</th>\n",
       "      <th>consumer_disputes</th>\n",
       "      <th>consumer_complaint_summary</th>\n",
       "    </tr>\n",
       "  </thead>\n",
       "  <tbody>\n",
       "    <tr>\n",
       "      <th>0</th>\n",
       "      <td>Te-1</td>\n",
       "      <td>Account opening, closing, or management</td>\n",
       "      <td>5</td>\n",
       "      <td>8/18/2016</td>\n",
       "      <td>Bank account or service</td>\n",
       "      <td>Account opening, closing, or management</td>\n",
       "      <td>Company has responded to the consumer and the ...</td>\n",
       "      <td>8/18/2016</td>\n",
       "      <td>No</td>\n",
       "      <td>XXXX / XXXX / 16 I called Citibank to open a c...</td>\n",
       "    </tr>\n",
       "    <tr>\n",
       "      <th>1</th>\n",
       "      <td>Te-2</td>\n",
       "      <td>Communication tactics</td>\n",
       "      <td>24</td>\n",
       "      <td>4/18/2016</td>\n",
       "      <td>Debt collection</td>\n",
       "      <td>Communication tactics</td>\n",
       "      <td>Company believes it acted appropriately as aut...</td>\n",
       "      <td>4/20/2016</td>\n",
       "      <td>No</td>\n",
       "      <td>I'm struggling financially. I called and I off...</td>\n",
       "    </tr>\n",
       "    <tr>\n",
       "      <th>2</th>\n",
       "      <td>Te-3</td>\n",
       "      <td>Incorrect information on credit report</td>\n",
       "      <td>13</td>\n",
       "      <td>3/23/2016</td>\n",
       "      <td>Credit reporting</td>\n",
       "      <td>Incorrect information on credit report</td>\n",
       "      <td>NaN</td>\n",
       "      <td>3/23/2016</td>\n",
       "      <td>No</td>\n",
       "      <td>In XXXX of 2015, an automatic payment was conf...</td>\n",
       "    </tr>\n",
       "    <tr>\n",
       "      <th>3</th>\n",
       "      <td>Te-4</td>\n",
       "      <td>Dealing with your lender or servicer</td>\n",
       "      <td>4</td>\n",
       "      <td>6/26/2017</td>\n",
       "      <td>Student loan</td>\n",
       "      <td>Dealing with your lender or servicer</td>\n",
       "      <td>NaN</td>\n",
       "      <td>6/26/2017</td>\n",
       "      <td>NaN</td>\n",
       "      <td>I submitted a request to XXXX, which is my cur...</td>\n",
       "    </tr>\n",
       "    <tr>\n",
       "      <th>4</th>\n",
       "      <td>Te-5</td>\n",
       "      <td>Incorrect information on credit report</td>\n",
       "      <td>13</td>\n",
       "      <td>5/13/2016</td>\n",
       "      <td>Credit reporting</td>\n",
       "      <td>Incorrect information on credit report</td>\n",
       "      <td>Company has responded to the consumer and the ...</td>\n",
       "      <td>5/13/2016</td>\n",
       "      <td>No</td>\n",
       "      <td>A state tax lien was filed against me XXXX / X...</td>\n",
       "    </tr>\n",
       "  </tbody>\n",
       "</table>\n",
       "</div>"
      ],
      "text/plain": [
       "  complaint_id                       complaint_reason_x  \\\n",
       "0         Te-1  Account opening, closing, or management   \n",
       "1         Te-2                    Communication tactics   \n",
       "2         Te-3   Incorrect information on credit report   \n",
       "3         Te-4     Dealing with your lender or servicer   \n",
       "4         Te-5   Incorrect information on credit report   \n",
       "\n",
       "   complaint_reason_encoded date_received         transaction_type  \\\n",
       "0                         5     8/18/2016  Bank account or service   \n",
       "1                        24     4/18/2016          Debt collection   \n",
       "2                        13     3/23/2016         Credit reporting   \n",
       "3                         4     6/26/2017             Student loan   \n",
       "4                        13     5/13/2016         Credit reporting   \n",
       "\n",
       "                        complaint_reason_y  \\\n",
       "0  Account opening, closing, or management   \n",
       "1                    Communication tactics   \n",
       "2   Incorrect information on credit report   \n",
       "3     Dealing with your lender or servicer   \n",
       "4   Incorrect information on credit report   \n",
       "\n",
       "                                    company_response date_sent_to_company  \\\n",
       "0  Company has responded to the consumer and the ...            8/18/2016   \n",
       "1  Company believes it acted appropriately as aut...            4/20/2016   \n",
       "2                                                NaN            3/23/2016   \n",
       "3                                                NaN            6/26/2017   \n",
       "4  Company has responded to the consumer and the ...            5/13/2016   \n",
       "\n",
       "  consumer_disputes                         consumer_complaint_summary  \n",
       "0                No  XXXX / XXXX / 16 I called Citibank to open a c...  \n",
       "1                No  I'm struggling financially. I called and I off...  \n",
       "2                No  In XXXX of 2015, an automatic payment was conf...  \n",
       "3               NaN  I submitted a request to XXXX, which is my cur...  \n",
       "4                No  A state tax lien was filed against me XXXX / X...  "
      ]
     },
     "execution_count": 12,
     "metadata": {},
     "output_type": "execute_result"
    }
   ],
   "source": [
    "test_data_merged.head(5)"
   ]
  },
  {
   "cell_type": "code",
   "execution_count": 13,
   "metadata": {},
   "outputs": [
    {
     "data": {
      "text/plain": [
       "((43266, 11), (43266, 9))"
      ]
     },
     "execution_count": 13,
     "metadata": {},
     "output_type": "execute_result"
    }
   ],
   "source": [
    "# train_data_merged = panda.concat([train_data, train_data_complaint_reason], axis =1)\n",
    "train_data_merged = train_data_complaint_reason.merge(train_data, how='inner', on='complaint_id')\n",
    "train_data_merged.shape, train_data.shape"
   ]
  },
  {
   "cell_type": "code",
   "execution_count": 14,
   "metadata": {},
   "outputs": [],
   "source": [
    "from dateutil import relativedelta\n",
    "\n",
    "\n",
    "def get_days_passed( given):\n",
    "    \n",
    "    current = datetime.datetime.now()\n",
    "    given = datetime.datetime.strptime(given, '%m/%d/%Y')\n",
    "    \n",
    "    return (current-given).days"
   ]
  },
  {
   "cell_type": "code",
   "execution_count": 15,
   "metadata": {},
   "outputs": [],
   "source": [
    "train_data_merged['days_passed_since_complaint_received'] = train_data_merged['date_received'].apply(lambda x : get_days_passed(x))"
   ]
  },
  {
   "cell_type": "code",
   "execution_count": 16,
   "metadata": {},
   "outputs": [],
   "source": [
    "test_data_merged['days_passed_since_complaint_received'] = test_data_merged['date_received'].apply(lambda x : get_days_passed(x))"
   ]
  },
  {
   "cell_type": "code",
   "execution_count": null,
   "metadata": {},
   "outputs": [],
   "source": [
    "train_data_merged['days_since_complaint_sent_to_company'] = train_data_merged['date_sent_to_company'].apply(lambda x: get_days_passed(x))"
   ]
  },
  {
   "cell_type": "code",
   "execution_count": null,
   "metadata": {},
   "outputs": [],
   "source": [
    "test_data_merged['days_since_complaint_sent_to_company'] = test_data_merged['date_sent_to_company'].apply(lambda x: get_days_passed(x))"
   ]
  },
  {
   "cell_type": "code",
   "execution_count": null,
   "metadata": {},
   "outputs": [],
   "source": [
    "le = LabelEncoder().fit(train_data_merged['transaction_type'].values)\n",
    "\n",
    "print(le.classes_)\n",
    "\n",
    "transformed_transaction_types = le.transform(train_data_merged['transaction_type'].values)\n"
   ]
  },
  {
   "cell_type": "code",
   "execution_count": null,
   "metadata": {},
   "outputs": [],
   "source": [
    "transformed = OneHotEncoder().fit_transform(transformed_transaction_types[:,np.newaxis])\n",
    "\n",
    "print(transformed.toarray())"
   ]
  },
  {
   "cell_type": "code",
   "execution_count": null,
   "metadata": {},
   "outputs": [],
   "source": [
    "tt = panda.DataFrame(transformed.toarray())\n",
    "tt.columns = le.classes_\n",
    "tt.head()"
   ]
  },
  {
   "cell_type": "code",
   "execution_count": null,
   "metadata": {},
   "outputs": [],
   "source": [
    "train_data_transaction_type_encoded = panda.concat([train_data_merged,tt], axis =1)"
   ]
  },
  {
   "cell_type": "code",
   "execution_count": null,
   "metadata": {
    "scrolled": true
   },
   "outputs": [],
   "source": [
    "train_data_transaction_type_encoded.head()"
   ]
  },
  {
   "cell_type": "code",
   "execution_count": null,
   "metadata": {},
   "outputs": [],
   "source": [
    "del tt, le"
   ]
  },
  {
   "cell_type": "code",
   "execution_count": null,
   "metadata": {},
   "outputs": [],
   "source": [
    "le = LabelEncoder().fit(test_data_merged['transaction_type'].values)\n",
    "\n",
    "\n",
    "transformed_transaction_types = le.transform(test_data_merged['transaction_type'].values)\n",
    "\n",
    "\n",
    "transformed = OneHotEncoder().fit_transform(transformed_transaction_types[:,np.newaxis])\n",
    "\n",
    "# print(transformed.toarray())\n",
    "\n",
    "tt = panda.DataFrame(transformed.toarray())\n",
    "tt.columns = le.classes_\n",
    "# tt.head()\n",
    "\n",
    "test_data_transaction_type_encoded = panda.concat([test_data_merged,tt], axis =1)\n",
    "\n",
    "test_data_transaction_type_encoded.head()"
   ]
  },
  {
   "cell_type": "code",
   "execution_count": null,
   "metadata": {},
   "outputs": [],
   "source": [
    "del tt, le"
   ]
  },
  {
   "cell_type": "code",
   "execution_count": null,
   "metadata": {},
   "outputs": [],
   "source": [
    "le = LabelEncoder().fit(test_data_transaction_type_encoded['complaint_reason_encoded'].values)\n",
    "\n",
    "\n",
    "transformed_transaction_types = le.transform(test_data_transaction_type_encoded['complaint_reason_encoded'].values)\n",
    "\n",
    "\n",
    "transformed = OneHotEncoder().fit_transform(transformed_transaction_types[:,np.newaxis])\n",
    "\n",
    "# print(transformed.toarray())\n",
    "\n",
    "tt = panda.DataFrame(transformed.toarray())\n",
    "tt.columns = le.classes_\n",
    "# tt.head()\n",
    "\n",
    "test_data_complaint_reason_encoded = panda.concat([test_data_transaction_type_encoded,tt], axis =1)\n",
    "\n",
    "del tt, le\n",
    "test_data_complaint_reason_encoded.columns.tolist()"
   ]
  },
  {
   "cell_type": "code",
   "execution_count": null,
   "metadata": {},
   "outputs": [],
   "source": [
    "test_data_complaint_reason_encoded.head()"
   ]
  },
  {
   "cell_type": "code",
   "execution_count": null,
   "metadata": {},
   "outputs": [],
   "source": [
    "le = LabelEncoder().fit(train_data_transaction_type_encoded['complaint_reason_encoded'].values)\n",
    "\n",
    "\n",
    "transformed_transaction_types = le.transform(train_data_transaction_type_encoded['complaint_reason_encoded'].values)\n",
    "\n",
    "\n",
    "transformed = OneHotEncoder().fit_transform(transformed_transaction_types[:,np.newaxis])\n",
    "\n",
    "# print(transformed.toarray())\n",
    "\n",
    "tt = panda.DataFrame(transformed.toarray())\n",
    "tt.columns = le.classes_\n",
    "# tt.head()\n",
    "\n",
    "train_data_complaint_reason_encoded = panda.concat([train_data_transaction_type_encoded,tt], axis =1)\n",
    "\n",
    "del tt, le\n",
    "train_data_complaint_reason_encoded.head()"
   ]
  },
  {
   "cell_type": "code",
   "execution_count": null,
   "metadata": {},
   "outputs": [],
   "source": [
    "train_data_complaint_reason_encoded['company_response'].isnull().sum()\n",
    "\n",
    "## there are quite a few null values.. we will see what we can do about it.\n",
    "## check the complaint status for the ones which has nan in company response\n",
    "## if status is same throughout-- we can replace nan with some made up status\n",
    "## else we will replace with the most appearing response"
   ]
  },
  {
   "cell_type": "code",
   "execution_count": null,
   "metadata": {},
   "outputs": [],
   "source": [
    "train_data_complaint_reason_encoded['company_response'].value_counts()"
   ]
  },
  {
   "cell_type": "code",
   "execution_count": null,
   "metadata": {},
   "outputs": [],
   "source": [
    "empty_response = train_data_complaint_reason_encoded[train_data_complaint_reason_encoded['company_response'].isnull()][['company_response','complaint_status']]\n"
   ]
  },
  {
   "cell_type": "code",
   "execution_count": null,
   "metadata": {},
   "outputs": [],
   "source": [
    "empty_response['complaint_status'].value_counts()"
   ]
  },
  {
   "cell_type": "markdown",
   "metadata": {},
   "source": [
    "#### Since most status of the are closed..we will decide on categorical variable to replace NaN values for company-response. Lets get the most appearing company response for complaint status similar to the one above (except the NaN ones)"
   ]
  },
  {
   "cell_type": "code",
   "execution_count": null,
   "metadata": {},
   "outputs": [],
   "source": [
    "a = empty_response['complaint_status'].value_counts()\n",
    "\n",
    "t =train_data_complaint_reason_encoded[train_data_complaint_reason_encoded['complaint_status'].isin(a.index.tolist())][['company_response']]\n",
    "\n",
    "t['company_response'].value_counts()"
   ]
  },
  {
   "cell_type": "code",
   "execution_count": null,
   "metadata": {},
   "outputs": [],
   "source": [
    "most_appearing = t['company_response'].value_counts().index.tolist()[0]\n",
    "most_appearing"
   ]
  },
  {
   "cell_type": "code",
   "execution_count": null,
   "metadata": {},
   "outputs": [],
   "source": [
    "del t, empty_response, a"
   ]
  },
  {
   "cell_type": "markdown",
   "metadata": {},
   "source": [
    "\n",
    "<br> We will replace the empty value with the most appearing value for the column company-response"
   ]
  },
  {
   "cell_type": "code",
   "execution_count": null,
   "metadata": {},
   "outputs": [],
   "source": [
    "train_data_complaint_reason_encoded.company_response = train_data_complaint_reason_encoded['company_response'].fillna(value = most_appearing)\n",
    "# train_data_complaint_reason_encoded\n"
   ]
  },
  {
   "cell_type": "code",
   "execution_count": null,
   "metadata": {},
   "outputs": [],
   "source": [
    "train_data_complaint_reason_encoded.columns.tolist()"
   ]
  },
  {
   "cell_type": "code",
   "execution_count": null,
   "metadata": {},
   "outputs": [],
   "source": [
    "train_data_complaint_reason_encoded['company_response'].isnull().sum()"
   ]
  },
  {
   "cell_type": "code",
   "execution_count": null,
   "metadata": {},
   "outputs": [],
   "source": [
    "test_data_complaint_reason_encoded['company_response'].isnull().sum()"
   ]
  },
  {
   "cell_type": "code",
   "execution_count": null,
   "metadata": {},
   "outputs": [],
   "source": [
    "test_data_complaint_reason_encoded.company_response = test_data_complaint_reason_encoded['company_response'].fillna(value = most_appearing)\n",
    "# train_data_complaint_reason_encoded\n"
   ]
  },
  {
   "cell_type": "code",
   "execution_count": null,
   "metadata": {},
   "outputs": [],
   "source": [
    "test_data_complaint_reason_encoded['company_response'].isnull().sum()"
   ]
  },
  {
   "cell_type": "code",
   "execution_count": null,
   "metadata": {},
   "outputs": [],
   "source": [
    "len(set(test_data_complaint_reason_encoded['company_response'].values.tolist())) ,len(set(train_data_complaint_reason_encoded['company_response'].values.tolist()))"
   ]
  },
  {
   "cell_type": "code",
   "execution_count": null,
   "metadata": {},
   "outputs": [],
   "source": [
    "le = LabelEncoder().fit(train_data_complaint_reason_encoded['company_response'].values)\n",
    "\n",
    "\n",
    "transformed_transaction_types = le.transform(train_data_complaint_reason_encoded['company_response'].values)\n",
    "\n",
    "\n",
    "transformed = OneHotEncoder().fit_transform(transformed_transaction_types[:,np.newaxis])\n",
    "\n",
    "# print(transformed.toarray())\n",
    "\n",
    "tt = panda.DataFrame(transformed.toarray())\n",
    "tt.columns = le.classes_\n",
    "# tt.head()\n",
    "\n",
    "train_data_company_response_encoded = panda.concat([train_data_complaint_reason_encoded,tt], axis =1)\n",
    "\n",
    "del tt, le\n",
    "train_data_company_response_encoded.head()"
   ]
  },
  {
   "cell_type": "code",
   "execution_count": null,
   "metadata": {},
   "outputs": [],
   "source": [
    "le = LabelEncoder().fit(test_data_complaint_reason_encoded['company_response'].values)\n",
    "\n",
    "\n",
    "transformed_transaction_types = le.transform(test_data_complaint_reason_encoded['company_response'].values)\n",
    "\n",
    "\n",
    "transformed = OneHotEncoder().fit_transform(transformed_transaction_types[:,np.newaxis])\n",
    "\n",
    "# print(transformed.toarray())\n",
    "\n",
    "tt = panda.DataFrame(transformed.toarray())\n",
    "tt.columns = le.classes_\n",
    "# tt.head()\n",
    "\n",
    "test_data_company_response_encoded = panda.concat([test_data_complaint_reason_encoded,tt], axis =1)\n",
    "\n",
    "del tt, le\n",
    "test_data_company_response_encoded.head()"
   ]
  },
  {
   "cell_type": "code",
   "execution_count": null,
   "metadata": {},
   "outputs": [],
   "source": [
    "\n",
    "print(train_data_company_response_encoded['consumer_disputes'].isnull().sum())\n",
    "## dere are close to 8k empty values..for now we will replace it will most appearing value\n",
    "\n",
    "# train_data_two_encoded['consumer-disputes'].value_counts()\n",
    "\n",
    "most_appearing = train_data_company_response_encoded['consumer_disputes'].value_counts().idxmax(axis=1)\n",
    "print(most_appearing)\n",
    "\n",
    "train_data_company_response_encoded['consumer_disputes'].fillna(value = most_appearing, inplace = True)\n",
    "\n",
    "print(train_data_company_response_encoded['consumer_disputes'].isnull().sum())\n",
    "\n",
    "train_data_company_response_encoded['encoded_consumer_disputes']= train_data_company_response_encoded['consumer_disputes'].apply(lambda x: 1 if x=='Yes' else 0)"
   ]
  },
  {
   "cell_type": "code",
   "execution_count": null,
   "metadata": {},
   "outputs": [],
   "source": [
    "train_data_company_response_encoded.head()"
   ]
  },
  {
   "cell_type": "code",
   "execution_count": null,
   "metadata": {},
   "outputs": [],
   "source": [
    "\n",
    "print(test_data_company_response_encoded['consumer_disputes'].isnull().sum())\n",
    "## dere are close to 8k empty values..for now we will replace it will most appearing value\n",
    "\n",
    "# train_data_two_encoded['consumer-disputes'].value_counts()\n",
    "\n",
    "most_appearing = test_data_company_response_encoded['consumer_disputes'].value_counts().idxmax(axis=1)\n",
    "print(most_appearing)\n",
    "\n",
    "test_data_company_response_encoded['consumer_disputes'].fillna(value = most_appearing, inplace = True)\n",
    "\n",
    "print(test_data_company_response_encoded['consumer_disputes'].isnull().sum())\n",
    "\n",
    "test_data_company_response_encoded['encoded_consumer_disputes']= test_data_company_response_encoded['consumer_disputes'].apply(lambda x: 1 if x=='Yes' else 0)\n",
    "\n",
    "\n",
    "test_data_company_response_encoded.head()"
   ]
  },
  {
   "cell_type": "code",
   "execution_count": null,
   "metadata": {},
   "outputs": [],
   "source": [
    "#lets apply encoding on our target columns\n",
    "\n",
    "target_dict = {\n",
    "    \n",
    "    'Closed with explanation':0,\n",
    "    'Closed with non-monetary relief':1,\n",
    "    'Closed with monetary relief':2,\n",
    "    'Closed':3,\n",
    "    'Untimely response':4\n",
    "    \n",
    "}\n",
    "train_data_company_response_encoded['y'] = train_data_company_response_encoded['complaint_status'].apply(lambda x: target_dict.get(x))"
   ]
  },
  {
   "cell_type": "code",
   "execution_count": null,
   "metadata": {},
   "outputs": [],
   "source": [
    "train_data.columns.values"
   ]
  },
  {
   "cell_type": "code",
   "execution_count": null,
   "metadata": {},
   "outputs": [],
   "source": [
    "train_data['time_series_date_received'] = panda.DatetimeIndex(train_data.date_received).astype(np.int64)\n",
    "train_data['time_series_date_sent_to_company'] = panda.DatetimeIndex(train_data.date_sent_to_company).astype(np.int64)\n",
    "\n",
    "test_data['time_series_date_received'] = panda.DatetimeIndex(test_data.date_received).astype(np.int64)\n",
    "test_data['time_series_date_sent_to_company'] = panda.DatetimeIndex(test_data.date_sent_to_company).astype(np.int64)"
   ]
  },
  {
   "cell_type": "code",
   "execution_count": null,
   "metadata": {},
   "outputs": [],
   "source": [
    "train_data_company_response_encoded.to_csv('dataset/train_all_merged_1.csv')"
   ]
  },
  {
   "cell_type": "code",
   "execution_count": null,
   "metadata": {},
   "outputs": [],
   "source": [
    "test_data_company_response_encoded.to_csv('dataset/test_all_merged_1.csv')"
   ]
  }
 ],
 "metadata": {
  "kernelspec": {
   "display_name": "Python 3",
   "language": "python",
   "name": "python3"
  },
  "language_info": {
   "codemirror_mode": {
    "name": "ipython",
    "version": 3
   },
   "file_extension": ".py",
   "mimetype": "text/x-python",
   "name": "python",
   "nbconvert_exporter": "python",
   "pygments_lexer": "ipython3",
   "version": "3.6.5"
  }
 },
 "nbformat": 4,
 "nbformat_minor": 2
}
