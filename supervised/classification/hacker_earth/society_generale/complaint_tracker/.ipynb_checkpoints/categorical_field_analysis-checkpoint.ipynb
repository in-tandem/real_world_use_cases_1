{
 "cells": [
  {
   "cell_type": "markdown",
   "metadata": {},
   "source": [
    "# Societe Generale Complaint Tracker - Categorical Field Analysis"
   ]
  },
  {
   "cell_type": "code",
   "execution_count": 1,
   "metadata": {},
   "outputs": [],
   "source": [
    "import pandas as panda\n",
    "\n",
    "from sklearn.model_selection import learning_curve, train_test_split,GridSearchCV\n",
    "from sklearn.preprocessing import StandardScaler, OneHotEncoder, LabelEncoder\n",
    "from sklearn.pipeline import make_pipeline, Pipeline\n",
    "from sklearn.metrics import accuracy_score, mean_absolute_error, classification_report, \\\n",
    "    confusion_matrix, f1_score, roc_curve, roc_auc_score\n",
    "from sklearn.model_selection import StratifiedKFold\n",
    "from sklearn.linear_model import Perceptron, LogisticRegression\n",
    "from sklearn.svm import SVC\n",
    "from sklearn.tree import DecisionTreeClassifier\n",
    "from sklearn.ensemble import RandomForestClassifier\n",
    "from sklearn.neighbors import KNeighborsClassifier\n",
    "import numpy as np\n",
    "\n",
    "from matplotlib import pyplot as plot\n",
    "import seaborn as sns\n",
    "\n",
    "\n",
    "from numpy import bincount, linspace, mean, std, arange, squeeze\n",
    "\n",
    "import itertools, time, datetime\n",
    "\n",
    "import warnings\n",
    "warnings.simplefilter('ignore')\n",
    "\n",
    "%matplotlib inline"
   ]
  },
  {
   "cell_type": "code",
   "execution_count": 2,
   "metadata": {},
   "outputs": [],
   "source": [
    "test_data_path ='dataset/test.csv'\n",
    "train_data_path = 'dataset/train.csv'\n",
    "sample_submission_path = 'dataset/sample_submission.csv'\n"
   ]
  },
  {
   "cell_type": "code",
   "execution_count": 3,
   "metadata": {},
   "outputs": [],
   "source": [
    "train_data = panda.read_csv(train_data_path)\n",
    "test_data = panda.read_csv(test_data_path)"
   ]
  },
  {
   "cell_type": "code",
   "execution_count": 4,
   "metadata": {},
   "outputs": [],
   "source": [
    "train_data.columns = [i.lower().replace('-','_') for i in train_data.columns.tolist()]\n",
    "\n",
    "test_data.columns = [i.lower().replace('-','_') for i in test_data.columns.tolist()]"
   ]
  },
  {
   "cell_type": "code",
   "execution_count": 5,
   "metadata": {},
   "outputs": [
    {
     "data": {
      "text/plain": [
       "True"
      ]
     },
     "execution_count": 5,
     "metadata": {},
     "output_type": "execute_result"
    }
   ],
   "source": [
    "len(train_data['transaction_type'].value_counts()) == len(test_data['transaction_type'].value_counts())"
   ]
  },
  {
   "cell_type": "code",
   "execution_count": 6,
   "metadata": {},
   "outputs": [
    {
     "data": {
      "text/plain": [
       "(set(), set())"
      ]
     },
     "execution_count": 6,
     "metadata": {},
     "output_type": "execute_result"
    }
   ],
   "source": [
    "train_data_transaction_types = set(train_data.transaction_type.values.tolist())\n",
    "test_data_transaction_types = set(test_data.transaction_type.values.tolist())\n",
    "train_data_transaction_types - test_data_transaction_types, test_data_transaction_types-train_data_transaction_types"
   ]
  },
  {
   "cell_type": "code",
   "execution_count": 7,
   "metadata": {
    "scrolled": true
   },
   "outputs": [
    {
     "data": {
      "text/plain": [
       "True"
      ]
     },
     "execution_count": 7,
     "metadata": {},
     "output_type": "execute_result"
    }
   ],
   "source": [
    "len(train_data['consumer_disputes'].value_counts()) == len(test_data['consumer_disputes'].value_counts())"
   ]
  },
  {
   "cell_type": "code",
   "execution_count": 8,
   "metadata": {},
   "outputs": [
    {
     "data": {
      "text/plain": [
       "(set(), set())"
      ]
     },
     "execution_count": 8,
     "metadata": {},
     "output_type": "execute_result"
    }
   ],
   "source": [
    "train_data_consumer_disputes_types = set(train_data.consumer_disputes.values.tolist())\n",
    "test_data_consumer_disputes_types = set(test_data.consumer_disputes.values.tolist())\n",
    "\n",
    "train_data_consumer_disputes_types -test_data_consumer_disputes_types, test_data_consumer_disputes_types-train_data_consumer_disputes_types"
   ]
  },
  {
   "cell_type": "code",
   "execution_count": 20,
   "metadata": {},
   "outputs": [
    {
     "data": {
      "text/plain": [
       "True"
      ]
     },
     "execution_count": 20,
     "metadata": {},
     "output_type": "execute_result"
    }
   ],
   "source": [
    "len(train_data['company_response'].value_counts()) == len(test_data['company_response'].value_counts())"
   ]
  },
  {
   "cell_type": "code",
   "execution_count": 9,
   "metadata": {},
   "outputs": [
    {
     "data": {
      "text/plain": [
       "(set(), set())"
      ]
     },
     "execution_count": 9,
     "metadata": {},
     "output_type": "execute_result"
    }
   ],
   "source": [
    "train_data_company_response_types = set(train_data.company_response.values.tolist())\n",
    "test_data_company_response_types = set(test_data.company_response.values.tolist())\n",
    "\n",
    "train_data_company_response_types -test_data_company_response_types, test_data_company_response_types-train_data_company_response_types"
   ]
  },
  {
   "cell_type": "code",
   "execution_count": 10,
   "metadata": {},
   "outputs": [
    {
     "data": {
      "text/plain": [
       "False"
      ]
     },
     "execution_count": 10,
     "metadata": {},
     "output_type": "execute_result"
    }
   ],
   "source": [
    "len(train_data['complaint_reason'].value_counts()) == len(test_data['complaint_reason'].value_counts())\n",
    "\n",
    "## this is the problem.. number of unique variables in complaint reason in train and test set differs..so\n",
    "## when we perform one hot encoding it actually causes issues"
   ]
  },
  {
   "cell_type": "code",
   "execution_count": 11,
   "metadata": {},
   "outputs": [
    {
     "name": "stdout",
     "output_type": "stream",
     "text": [
      "150 147\n"
     ]
    }
   ],
   "source": [
    "print(len(train_data['complaint_reason'].value_counts()),len(test_data['complaint_reason'].value_counts()))"
   ]
  },
  {
   "cell_type": "code",
   "execution_count": 12,
   "metadata": {},
   "outputs": [
    {
     "data": {
      "text/plain": [
       "({'Account terms and changes',\n",
       "  'Advertising',\n",
       "  'Incorrect exchange rate',\n",
       "  'Problem with an overdraft',\n",
       "  \"Was approved for a loan, but didn't receive the money\"},\n",
       " {\"Can't stop withdrawals from your bank account\",\n",
       "  'Problem with cash advance'})"
      ]
     },
     "execution_count": 12,
     "metadata": {},
     "output_type": "execute_result"
    }
   ],
   "source": [
    "train_data_complaint_reason_types = set(train_data.complaint_reason.values.tolist())\n",
    "test_data_complaint_reason_types = set(test_data.complaint_reason.values.tolist())\n",
    "\n",
    "train_data_complaint_reason_types -test_data_complaint_reason_types, test_data_complaint_reason_types-train_data_complaint_reason_types"
   ]
  },
  {
   "cell_type": "markdown",
   "metadata": {},
   "source": [
    "#### \"Can't stop withdrawals from your bank account\", 'Problem with cash advance \n",
    "-- these values are present in test set and not present in train data. We cannot predict for values which we have not trained in. which means we can safely drop these values from the training as well as test data"
   ]
  },
  {
   "cell_type": "markdown",
   "metadata": {},
   "source": [
    "### we may have to apply proper bining and categorization on complaint reason category field"
   ]
  },
  {
   "cell_type": "code",
   "execution_count": 24,
   "metadata": {},
   "outputs": [
    {
     "data": {
      "text/plain": [
       "{'APR or interest rate',\n",
       " 'Account opening, closing, or management',\n",
       " 'Account terms and changes',\n",
       " 'Adding money',\n",
       " 'Advertising',\n",
       " 'Advertising and marketing',\n",
       " 'Advertising and marketing, including promotional offers',\n",
       " 'Advertising, marketing or disclosures',\n",
       " 'Application processing delay',\n",
       " 'Application, originator, mortgage broker',\n",
       " 'Applied for loan/did not receive money',\n",
       " 'Applying for a mortgage',\n",
       " 'Applying for a mortgage or refinancing an existing mortgage',\n",
       " 'Arbitration',\n",
       " 'Attempts to collect debt not owed',\n",
       " 'Balance transfer',\n",
       " 'Balance transfer fee',\n",
       " 'Bankruptcy',\n",
       " 'Billing disputes',\n",
       " 'Billing statement',\n",
       " \"Can't contact lender\",\n",
       " \"Can't contact lender or servicer\",\n",
       " \"Can't repay my loan\",\n",
       " \"Can't stop charges to bank account\",\n",
       " 'Cash advance',\n",
       " 'Cash advance fee',\n",
       " 'Charged bank acct wrong day or amt',\n",
       " \"Charged fees or interest I didn't expect\",\n",
       " \"Charged fees or interest you didn't expect\",\n",
       " 'Closing an account',\n",
       " 'Closing on a mortgage',\n",
       " 'Closing your account',\n",
       " 'Closing/Cancelling account',\n",
       " 'Communication tactics',\n",
       " 'Confusing or misleading advertising or marketing',\n",
       " 'Confusing or missing disclosures',\n",
       " \"Cont'd attempts collect debt not owed\",\n",
       " 'Convenience checks',\n",
       " 'Credit card protection / Debt protection',\n",
       " 'Credit decision / Underwriting',\n",
       " 'Credit determination',\n",
       " 'Credit limit changed',\n",
       " 'Credit line increase/decrease',\n",
       " 'Credit monitoring or identity protection',\n",
       " 'Credit monitoring or identity theft protection services',\n",
       " \"Credit reporting company's investigation\",\n",
       " 'Customer service / Customer relations',\n",
       " 'Customer service/Customer relations',\n",
       " 'Dealing with my lender or servicer',\n",
       " 'Dealing with your lender or servicer',\n",
       " 'Delinquent account',\n",
       " 'Deposits and withdrawals',\n",
       " 'Disclosure verification of debt',\n",
       " 'Disclosures',\n",
       " 'Excessive fees',\n",
       " 'False statements or representation',\n",
       " 'Fees',\n",
       " 'Fees or interest',\n",
       " 'Forbearance / Workout plans',\n",
       " 'Fraud or scam',\n",
       " 'Getting a credit card',\n",
       " 'Getting a line of credit',\n",
       " 'Getting a loan',\n",
       " 'Getting a loan or lease',\n",
       " 'Getting the loan',\n",
       " 'Identity theft / Fraud / Embezzlement',\n",
       " 'Identity theft protection or other monitoring services',\n",
       " 'Improper contact or sharing of info',\n",
       " 'Improper use of my credit report',\n",
       " 'Improper use of your report',\n",
       " 'Incorrect exchange rate',\n",
       " 'Incorrect information on credit report',\n",
       " 'Incorrect information on your report',\n",
       " 'Incorrect/missing disclosures or info',\n",
       " 'Late fee',\n",
       " 'Lender repossessed or sold the vehicle',\n",
       " 'Loan modification,collection,foreclosure',\n",
       " \"Loan payment wasn't credited to your account\",\n",
       " 'Loan servicing, payments, escrow account',\n",
       " 'Lost or stolen check',\n",
       " 'Lost or stolen money order',\n",
       " 'Making/receiving payments, sending money',\n",
       " 'Managing an account',\n",
       " 'Managing the line of credit',\n",
       " 'Managing the loan or lease',\n",
       " 'Managing, opening, or closing account',\n",
       " 'Managing, opening, or closing your mobile wallet account',\n",
       " 'Money was not available when promised',\n",
       " 'Money was taken from your bank account on the wrong day or for the wrong amount',\n",
       " 'Opening an account',\n",
       " 'Other',\n",
       " 'Other features, terms, or problems',\n",
       " 'Other fee',\n",
       " 'Other service issues',\n",
       " 'Other service problem',\n",
       " 'Other transaction issues',\n",
       " 'Other transaction problem',\n",
       " 'Overdraft, savings or rewards features',\n",
       " 'Overlimit fee',\n",
       " 'Payment to acct not credited',\n",
       " 'Payoff process',\n",
       " 'Privacy',\n",
       " 'Problem adding money',\n",
       " 'Problem caused by your funds being low',\n",
       " 'Problem getting a card or closing an account',\n",
       " 'Problem when making payments',\n",
       " \"Problem with a company's investigation into an existing issue\",\n",
       " \"Problem with a credit reporting company's investigation into an existing problem\",\n",
       " 'Problem with a lender or other company charging your account',\n",
       " 'Problem with a purchase or transfer',\n",
       " 'Problem with a purchase shown on your statement',\n",
       " 'Problem with additional add-on products or services',\n",
       " 'Problem with an overdraft',\n",
       " 'Problem with customer service',\n",
       " 'Problem with fraud alerts or security freezes',\n",
       " 'Problem with the payoff process at the end of the loan',\n",
       " 'Problems at the end of the loan or lease',\n",
       " 'Problems caused by my funds being low',\n",
       " 'Problems when you are unable to pay',\n",
       " \"Received a loan I didn't apply for\",\n",
       " \"Received a loan you didn't apply for\",\n",
       " 'Rewards',\n",
       " 'Sale of account',\n",
       " 'Settlement process and costs',\n",
       " 'Shopping for a line of credit',\n",
       " 'Shopping for a loan or lease',\n",
       " 'Struggling to pay mortgage',\n",
       " 'Struggling to pay your bill',\n",
       " 'Struggling to pay your loan',\n",
       " 'Struggling to repay your loan',\n",
       " 'Taking out the loan or lease',\n",
       " 'Taking/threatening an illegal action',\n",
       " 'Threatened to contact someone or share information improperly',\n",
       " 'Took or threatened to take negative or legal action',\n",
       " 'Transaction issue',\n",
       " 'Trouble during payment process',\n",
       " 'Trouble using the card',\n",
       " 'Trouble using your card',\n",
       " 'Unable to get credit report/credit score',\n",
       " 'Unable to get your credit report or credit score',\n",
       " 'Unauthorized transactions or other transaction problem',\n",
       " 'Unauthorized transactions/trans. issues',\n",
       " 'Unexpected or other fees',\n",
       " 'Unexpected/Other fees',\n",
       " 'Unsolicited issuance of credit card',\n",
       " 'Using a debit or ATM card',\n",
       " 'Vehicle was repossessed or sold the vehicle',\n",
       " \"Was approved for a loan, but didn't receive the money\",\n",
       " 'Written notification about debt',\n",
       " 'Wrong amount charged or received'}"
      ]
     },
     "execution_count": 24,
     "metadata": {},
     "output_type": "execute_result"
    }
   ],
   "source": [
    "train_data_complaint_reason_types"
   ]
  },
  {
   "cell_type": "code",
   "execution_count": 25,
   "metadata": {},
   "outputs": [
    {
     "data": {
      "text/plain": [
       "{'APR or interest rate',\n",
       " 'Account opening, closing, or management',\n",
       " 'Adding money',\n",
       " 'Advertising and marketing',\n",
       " 'Advertising and marketing, including promotional offers',\n",
       " 'Advertising, marketing or disclosures',\n",
       " 'Application processing delay',\n",
       " 'Application, originator, mortgage broker',\n",
       " 'Applied for loan/did not receive money',\n",
       " 'Applying for a mortgage',\n",
       " 'Applying for a mortgage or refinancing an existing mortgage',\n",
       " 'Arbitration',\n",
       " 'Attempts to collect debt not owed',\n",
       " 'Balance transfer',\n",
       " 'Balance transfer fee',\n",
       " 'Bankruptcy',\n",
       " 'Billing disputes',\n",
       " 'Billing statement',\n",
       " \"Can't contact lender\",\n",
       " \"Can't contact lender or servicer\",\n",
       " \"Can't repay my loan\",\n",
       " \"Can't stop charges to bank account\",\n",
       " \"Can't stop withdrawals from your bank account\",\n",
       " 'Cash advance',\n",
       " 'Cash advance fee',\n",
       " 'Charged bank acct wrong day or amt',\n",
       " \"Charged fees or interest I didn't expect\",\n",
       " \"Charged fees or interest you didn't expect\",\n",
       " 'Closing an account',\n",
       " 'Closing on a mortgage',\n",
       " 'Closing your account',\n",
       " 'Closing/Cancelling account',\n",
       " 'Communication tactics',\n",
       " 'Confusing or misleading advertising or marketing',\n",
       " 'Confusing or missing disclosures',\n",
       " \"Cont'd attempts collect debt not owed\",\n",
       " 'Convenience checks',\n",
       " 'Credit card protection / Debt protection',\n",
       " 'Credit decision / Underwriting',\n",
       " 'Credit determination',\n",
       " 'Credit limit changed',\n",
       " 'Credit line increase/decrease',\n",
       " 'Credit monitoring or identity protection',\n",
       " 'Credit monitoring or identity theft protection services',\n",
       " \"Credit reporting company's investigation\",\n",
       " 'Customer service / Customer relations',\n",
       " 'Customer service/Customer relations',\n",
       " 'Dealing with my lender or servicer',\n",
       " 'Dealing with your lender or servicer',\n",
       " 'Delinquent account',\n",
       " 'Deposits and withdrawals',\n",
       " 'Disclosure verification of debt',\n",
       " 'Disclosures',\n",
       " 'Excessive fees',\n",
       " 'False statements or representation',\n",
       " 'Fees',\n",
       " 'Fees or interest',\n",
       " 'Forbearance / Workout plans',\n",
       " 'Fraud or scam',\n",
       " 'Getting a credit card',\n",
       " 'Getting a line of credit',\n",
       " 'Getting a loan',\n",
       " 'Getting a loan or lease',\n",
       " 'Getting the loan',\n",
       " 'Identity theft / Fraud / Embezzlement',\n",
       " 'Identity theft protection or other monitoring services',\n",
       " 'Improper contact or sharing of info',\n",
       " 'Improper use of my credit report',\n",
       " 'Improper use of your report',\n",
       " 'Incorrect information on credit report',\n",
       " 'Incorrect information on your report',\n",
       " 'Incorrect/missing disclosures or info',\n",
       " 'Late fee',\n",
       " 'Lender repossessed or sold the vehicle',\n",
       " 'Loan modification,collection,foreclosure',\n",
       " \"Loan payment wasn't credited to your account\",\n",
       " 'Loan servicing, payments, escrow account',\n",
       " 'Lost or stolen check',\n",
       " 'Lost or stolen money order',\n",
       " 'Making/receiving payments, sending money',\n",
       " 'Managing an account',\n",
       " 'Managing the line of credit',\n",
       " 'Managing the loan or lease',\n",
       " 'Managing, opening, or closing account',\n",
       " 'Managing, opening, or closing your mobile wallet account',\n",
       " 'Money was not available when promised',\n",
       " 'Money was taken from your bank account on the wrong day or for the wrong amount',\n",
       " 'Opening an account',\n",
       " 'Other',\n",
       " 'Other features, terms, or problems',\n",
       " 'Other fee',\n",
       " 'Other service issues',\n",
       " 'Other service problem',\n",
       " 'Other transaction issues',\n",
       " 'Other transaction problem',\n",
       " 'Overdraft, savings or rewards features',\n",
       " 'Overlimit fee',\n",
       " 'Payment to acct not credited',\n",
       " 'Payoff process',\n",
       " 'Privacy',\n",
       " 'Problem adding money',\n",
       " 'Problem caused by your funds being low',\n",
       " 'Problem getting a card or closing an account',\n",
       " 'Problem when making payments',\n",
       " \"Problem with a company's investigation into an existing issue\",\n",
       " \"Problem with a credit reporting company's investigation into an existing problem\",\n",
       " 'Problem with a lender or other company charging your account',\n",
       " 'Problem with a purchase or transfer',\n",
       " 'Problem with a purchase shown on your statement',\n",
       " 'Problem with additional add-on products or services',\n",
       " 'Problem with cash advance',\n",
       " 'Problem with customer service',\n",
       " 'Problem with fraud alerts or security freezes',\n",
       " 'Problem with the payoff process at the end of the loan',\n",
       " 'Problems at the end of the loan or lease',\n",
       " 'Problems caused by my funds being low',\n",
       " 'Problems when you are unable to pay',\n",
       " \"Received a loan I didn't apply for\",\n",
       " \"Received a loan you didn't apply for\",\n",
       " 'Rewards',\n",
       " 'Sale of account',\n",
       " 'Settlement process and costs',\n",
       " 'Shopping for a line of credit',\n",
       " 'Shopping for a loan or lease',\n",
       " 'Struggling to pay mortgage',\n",
       " 'Struggling to pay your bill',\n",
       " 'Struggling to pay your loan',\n",
       " 'Struggling to repay your loan',\n",
       " 'Taking out the loan or lease',\n",
       " 'Taking/threatening an illegal action',\n",
       " 'Threatened to contact someone or share information improperly',\n",
       " 'Took or threatened to take negative or legal action',\n",
       " 'Transaction issue',\n",
       " 'Trouble during payment process',\n",
       " 'Trouble using the card',\n",
       " 'Trouble using your card',\n",
       " 'Unable to get credit report/credit score',\n",
       " 'Unable to get your credit report or credit score',\n",
       " 'Unauthorized transactions or other transaction problem',\n",
       " 'Unauthorized transactions/trans. issues',\n",
       " 'Unexpected or other fees',\n",
       " 'Unexpected/Other fees',\n",
       " 'Unsolicited issuance of credit card',\n",
       " 'Using a debit or ATM card',\n",
       " 'Vehicle was repossessed or sold the vehicle',\n",
       " 'Written notification about debt',\n",
       " 'Wrong amount charged or received'}"
      ]
     },
     "execution_count": 25,
     "metadata": {},
     "output_type": "execute_result"
    }
   ],
   "source": [
    "test_data_complaint_reason_types"
   ]
  },
  {
   "cell_type": "code",
   "execution_count": 13,
   "metadata": {},
   "outputs": [],
   "source": [
    "from gensim.parsing.preprocessing import STOPWORDS\n",
    "from gensim.utils import simple_preprocess # converts into lowercase tokens\n",
    "from gensim import corpora\n",
    "\n",
    "from nltk.stem import WordNetLemmatizer, SnowballStemmer\n",
    "import nltk\n",
    "import gensim\n",
    "\n",
    "np.random.seed(2018)\n"
   ]
  },
  {
   "cell_type": "code",
   "execution_count": 14,
   "metadata": {},
   "outputs": [],
   "source": [
    "def lemmatize_stemming(text):\n",
    "    stemmer = SnowballStemmer('english')\n",
    "    lemetized =  [stemmer.stem(WordNetLemmatizer().lemmatize(i, pos='v')) for i in text]\n",
    "    if len(lemetized) == 0:\n",
    "        print('this gave me 0 text..it removed everything ', text)\n",
    "    \n",
    "    return lemetized\n",
    "\n",
    "def stop_words_removed(text):\n",
    "    removed =  [word for word in text if word not in STOPWORDS]\n",
    "    if len(removed) == 0: # for a complaint reason like Others, stopword was removing this. we need others\n",
    "        print('This removed all my words: ', text)\n",
    "        removed = text\n",
    "    \n",
    "    return removed\n"
   ]
  },
  {
   "cell_type": "code",
   "execution_count": 15,
   "metadata": {},
   "outputs": [
    {
     "name": "stdout",
     "output_type": "stream",
     "text": [
      "This removed all my words:  ['other']\n"
     ]
    }
   ],
   "source": [
    "tokenized_complaint_reason_types = [simple_preprocess(word) for word in train_data_complaint_reason_types]\n",
    "\n",
    "cleaned_complaint_reason_types = [stop_words_removed(word) for word in tokenized_complaint_reason_types ]\n",
    "\n",
    "lemmetized_complaint_reason_types = [lemmatize_stemming(word) for word in cleaned_complaint_reason_types]\n"
   ]
  },
  {
   "cell_type": "code",
   "execution_count": 16,
   "metadata": {},
   "outputs": [],
   "source": [
    "dictionary = corpora.Dictionary(lemmetized_complaint_reason_types)\n",
    "corpus = [dictionary.doc2bow(word) for word in lemmetized_complaint_reason_types]\n"
   ]
  },
  {
   "cell_type": "code",
   "execution_count": 17,
   "metadata": {},
   "outputs": [
    {
     "name": "stdout",
     "output_type": "stream",
     "text": [
      "found topic:  (22, '0.058*\"share\" + 0.058*\"improp\" + 0.058*\"process\" + 0.058*\"payoff\" + 0.058*\"contact\" + 0.058*\"info\" + 0.030*\"charg\" + 0.030*\"wrong\" + 0.030*\"bank\" + 0.030*\"end\"')\n",
      "found topic:  (24, '0.110*\"loan\" + 0.084*\"account\" + 0.084*\"chang\" + 0.084*\"repay\" + 0.043*\"credit\" + 0.043*\"limit\" + 0.043*\"steal\" + 0.043*\"check\" + 0.043*\"lose\" + 0.043*\"payment\"')\n",
      "found topic:  (11, '0.065*\"loan\" + 0.065*\"collect\" + 0.065*\"foreclosur\" + 0.065*\"modif\" + 0.065*\"payment\" + 0.065*\"troubl\" + 0.065*\"process\" + 0.065*\"wallet\" + 0.065*\"mobil\" + 0.010*\"close\"')\n",
      "found topic:  (20, '0.138*\"issu\" + 0.104*\"transact\" + 0.104*\"card\" + 0.070*\"protect\" + 0.070*\"credit\" + 0.070*\"get\" + 0.037*\"problem\" + 0.035*\"rate\" + 0.035*\"apr\" + 0.035*\"tran\"')\n",
      "found topic:  (16, '0.099*\"statement\" + 0.080*\"debt\" + 0.080*\"notif\" + 0.080*\"represent\" + 0.080*\"fals\" + 0.080*\"write\" + 0.003*\"get\" + 0.003*\"problem\" + 0.003*\"custom\" + 0.003*\"loan\"')\n",
      "found topic:  (23, '0.154*\"problem\" + 0.103*\"purchas\" + 0.053*\"featur\" + 0.053*\"statement\" + 0.053*\"show\" + 0.053*\"action\" + 0.053*\"illeg\" + 0.053*\"take\" + 0.053*\"term\" + 0.053*\"threaten\"')\n",
      "found topic:  (14, '0.109*\"credit\" + 0.109*\"report\" + 0.109*\"compani\" + 0.089*\"problem\" + 0.082*\"investig\" + 0.055*\"unexpect\" + 0.055*\"fee\" + 0.055*\"improp\" + 0.055*\"exist\" + 0.055*\"use\"')\n",
      "found topic:  (13, '0.184*\"loan\" + 0.096*\"credit\" + 0.092*\"leas\" + 0.074*\"report\" + 0.074*\"get\" + 0.055*\"unabl\" + 0.054*\"appli\" + 0.053*\"receiv\" + 0.037*\"score\" + 0.037*\"inform\"')\n",
      "found topic:  (4, '0.251*\"struggl\" + 0.251*\"pay\" + 0.087*\"loan\" + 0.002*\"fals\" + 0.002*\"statement\" + 0.002*\"verif\" + 0.002*\"deal\" + 0.002*\"appli\" + 0.002*\"balanc\" + 0.002*\"transfer\"')\n",
      "found topic:  (21, '0.105*\"vehicl\" + 0.071*\"advanc\" + 0.071*\"cash\" + 0.071*\"sell\" + 0.071*\"repossess\" + 0.036*\"problem\" + 0.036*\"fraud\" + 0.036*\"alert\" + 0.036*\"secur\" + 0.036*\"freez\"')\n",
      "found topic:  (3, '0.098*\"contact\" + 0.050*\"money\" + 0.050*\"take\" + 0.050*\"legal\" + 0.050*\"negat\" + 0.050*\"threaten\" + 0.050*\"action\" + 0.050*\"card\" + 0.050*\"receiv\" + 0.050*\"loan\"')\n",
      "found topic:  (18, '0.257*\"account\" + 0.183*\"close\" + 0.121*\"manag\" + 0.097*\"open\" + 0.025*\"late\" + 0.025*\"shop\" + 0.025*\"ident\" + 0.025*\"embezzl\" + 0.025*\"theft\" + 0.025*\"fraud\"')\n",
      "found topic:  (2, '0.171*\"transact\" + 0.115*\"problem\" + 0.059*\"withdraw\" + 0.059*\"exchang\" + 0.059*\"rate\" + 0.059*\"deposit\" + 0.059*\"incorrect\" + 0.059*\"unauthor\" + 0.002*\"deal\" + 0.002*\"appli\"')\n",
      "found topic:  (6, '0.225*\"servic\" + 0.188*\"custom\" + 0.114*\"problem\" + 0.076*\"relat\" + 0.039*\"fraud\" + 0.039*\"issu\" + 0.039*\"scam\" + 0.039*\"other\" + 0.003*\"lender\" + 0.002*\"charg\"')\n",
      "found topic:  (7, '0.192*\"mortgag\" + 0.081*\"appli\" + 0.079*\"disclosur\" + 0.044*\"money\" + 0.040*\"bankruptci\" + 0.040*\"overlimit\" + 0.040*\"miss\" + 0.040*\"exist\" + 0.040*\"order\" + 0.040*\"lose\"')\n",
      "found topic:  (1, '0.337*\"lender\" + 0.172*\"servic\" + 0.116*\"deal\" + 0.002*\"represent\" + 0.002*\"disclosur\" + 0.002*\"verif\" + 0.002*\"appli\" + 0.002*\"balanc\" + 0.002*\"transfer\" + 0.002*\"fals\"')\n",
      "found topic:  (9, '0.096*\"account\" + 0.064*\"wrong\" + 0.064*\"bank\" + 0.064*\"theft\" + 0.064*\"servic\" + 0.064*\"monitor\" + 0.064*\"ident\" + 0.064*\"protect\" + 0.033*\"charg\" + 0.033*\"stop\"')\n",
      "found topic:  (19, '0.233*\"fee\" + 0.079*\"credit\" + 0.041*\"account\" + 0.040*\"tactic\" + 0.040*\"determin\" + 0.040*\"excess\" + 0.040*\"communic\" + 0.040*\"workout\" + 0.040*\"forbear\" + 0.040*\"plan\"')\n",
      "found topic:  (17, '0.134*\"cont\" + 0.006*\"collect\" + 0.006*\"debt\" + 0.006*\"attempt\" + 0.006*\"owe\" + 0.005*\"servic\" + 0.005*\"charg\" + 0.005*\"fee\" + 0.005*\"expect\" + 0.005*\"lender\"')\n",
      "found topic:  (8, '0.105*\"transfer\" + 0.071*\"balanc\" + 0.071*\"card\" + 0.071*\"troubl\" + 0.071*\"reward\" + 0.036*\"mortgag\" + 0.036*\"fee\" + 0.036*\"disclosur\" + 0.036*\"debt\" + 0.036*\"verif\"')\n"
     ]
    }
   ],
   "source": [
    "topic_count = 25\n",
    "\n",
    "ldamodel = gensim.models.ldamodel.LdaModel(corpus, num_topics = topic_count, id2word=dictionary, passes=15)\n",
    "topics = ldamodel.print_topics()\n",
    "\n",
    "for topic in topics:\n",
    "    print('found topic: ',topic)\n"
   ]
  },
  {
   "cell_type": "code",
   "execution_count": 18,
   "metadata": {},
   "outputs": [],
   "source": [
    "def get_topic_count_phrase_belongs_to(lda_model, dictionary, phrase):\n",
    "    \n",
    "    bow = lemmatize_stemming(stop_words_removed(simple_preprocess(item))) \n",
    "    # print(bow)\n",
    "    a = lda_model.get_document_topics(dictionary.doc2bow(bow))\n",
    "    arr = np.array(a)\n",
    "    t1,t2 = arr.max(axis=0)\n",
    "    return t2"
   ]
  },
  {
   "cell_type": "code",
   "execution_count": null,
   "metadata": {},
   "outputs": [],
   "source": []
  }
 ],
 "metadata": {
  "kernelspec": {
   "display_name": "Python 3",
   "language": "python",
   "name": "python3"
  },
  "language_info": {
   "codemirror_mode": {
    "name": "ipython",
    "version": 3
   },
   "file_extension": ".py",
   "mimetype": "text/x-python",
   "name": "python",
   "nbconvert_exporter": "python",
   "pygments_lexer": "ipython3",
   "version": "3.6.5"
  }
 },
 "nbformat": 4,
 "nbformat_minor": 2
}
