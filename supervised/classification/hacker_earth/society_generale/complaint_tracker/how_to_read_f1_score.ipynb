{
 "cells": [
  {
   "cell_type": "code",
   "execution_count": 1,
   "metadata": {},
   "outputs": [],
   "source": [
    "from sklearn.metrics import f1_score, classification_report\n",
    "import numpy as np\n",
    "import warnings\n",
    "import pandas as panda\n",
    "import lightgbm as lgb\n",
    "warnings.simplefilter('ignore')"
   ]
  },
  {
   "cell_type": "code",
   "execution_count": 10,
   "metadata": {},
   "outputs": [
    {
     "data": {
      "text/plain": [
       "array([[0.81108053, 0.01237239, 0.04257178],\n",
       "       [0.11336287, 0.55004503, 0.81291484],\n",
       "       [0.22744559, 0.76600468, 0.17142808],\n",
       "       [0.63295492, 0.63809223, 0.89597545]])"
      ]
     },
     "execution_count": 10,
     "metadata": {},
     "output_type": "execute_result"
    }
   ],
   "source": [
    "x = np.random.rand(4,3)\n",
    "y = np.random.rand(3)\n",
    "\n",
    "y\n",
    "\n",
    "d = lgb.Dataset(x, label = y)\n",
    "# dir(d)\n",
    "d.data"
   ]
  },
  {
   "cell_type": "code",
   "execution_count": 28,
   "metadata": {},
   "outputs": [],
   "source": [
    "actual = np.array([1,1,1,2,2,2,3]) ## 4 ones, 2 twos and 1 three"
   ]
  },
  {
   "cell_type": "code",
   "execution_count": 27,
   "metadata": {},
   "outputs": [],
   "source": [
    "predicted = np.array([1,2,3,1,2,3,4])"
   ]
  },
  {
   "cell_type": "code",
   "execution_count": 29,
   "metadata": {},
   "outputs": [
    {
     "data": {
      "text/plain": [
       "0.3428571428571429"
      ]
     },
     "execution_count": 29,
     "metadata": {},
     "output_type": "execute_result"
    }
   ],
   "source": [
    "f1_score(actual,predicted, average='weighted')"
   ]
  },
  {
   "cell_type": "code",
   "execution_count": 30,
   "metadata": {},
   "outputs": [
    {
     "name": "stdout",
     "output_type": "stream",
     "text": [
      "             precision    recall  f1-score   support\n",
      "\n",
      "          1       0.50      0.33      0.40         3\n",
      "          2       0.50      0.33      0.40         3\n",
      "          3       0.00      0.00      0.00         1\n",
      "          4       0.00      0.00      0.00         0\n",
      "\n",
      "avg / total       0.43      0.29      0.34         7\n",
      "\n"
     ]
    }
   ],
   "source": [
    "print(classification_report(actual,predicted ))"
   ]
  }
 ],
 "metadata": {
  "kernelspec": {
   "display_name": "Python 3",
   "language": "python",
   "name": "python3"
  },
  "language_info": {
   "codemirror_mode": {
    "name": "ipython",
    "version": 3
   },
   "file_extension": ".py",
   "mimetype": "text/x-python",
   "name": "python",
   "nbconvert_exporter": "python",
   "pygments_lexer": "ipython3",
   "version": "3.6.5"
  }
 },
 "nbformat": 4,
 "nbformat_minor": 2
}
