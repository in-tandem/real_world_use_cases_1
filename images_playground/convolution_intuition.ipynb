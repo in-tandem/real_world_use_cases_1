{
 "cells": [
  {
   "cell_type": "markdown",
   "metadata": {},
   "source": [
    "# Intuition behind Convolution in Image Processing\n",
    "\n",
    "## - No Maths\n",
    "## - All illustrations\n",
    "## - Python code for each operation\n",
    "## - Corresponding vendor code also shown (eg numpy packages, scipy packages,etc)"
   ]
  },
  {
   "cell_type": "markdown",
   "metadata": {},
   "source": [
    "\n",
    "\n",
    "I am a beginner to deep learning and CNN. <br>\n",
    "Like any other beginners to deep learning, i started with the classic example of using an artificial neural network on MNIST database. While this particular use case had challenges of its own, i found nothing more excruciating than the use case of image classification using Convolutional Neural Network.<br>\n",
    "\n",
    "Most blogs/papers/youtube videos/paid tutorials would simply explain what is a convolution, how convolution is performed and its impact or worse, extreme mathematical terms (i went down a rabbit hole of maths upto fourier transform :( ). <br>\n",
    "\n",
    "I could not, for the life of me, understand the intuition behind convolution in image processing. BY that i mean, how is it that the matrix for edge detectors actually detect edge. Why do they detect edges and nothing else? <br>\n",
    "\n",
    "And a direct impact of the above confusion was i could not come up with the kernels for operations such as blur,sharpen on my own. <br>\n",
    "\n",
    "After week of searching intensely, reading intensely i came up with an understanding of convolution in image processing. I am hoping this will come in handy for others as well. And heck, will serve as a reference guide for me too when needed in the future"
   ]
  },
  {
   "cell_type": "markdown",
   "metadata": {},
   "source": [
    "#### Steps \n",
    "\n",
    "###### demonstrate in illustration how convolution is done\n",
    "###### show the python code for each operation\n",
    "###### develop an intuition for convolutions so as to come up with kernels on own\n",
    "###### references i have used "
   ]
  },
  {
   "cell_type": "markdown",
   "metadata": {},
   "source": [
    "![1](image/1.png)"
   ]
  },
  {
   "cell_type": "markdown",
   "metadata": {},
   "source": [
    "#### -------------------------------------------------------------------------------------------------------------------------------------------------------------------------------------------"
   ]
  },
  {
   "cell_type": "markdown",
   "metadata": {},
   "source": [
    "![2](image/2.PNG)"
   ]
  },
  {
   "cell_type": "markdown",
   "metadata": {},
   "source": [
    "#### -------------------------------------------------------------------------------------------------------------------------------------------------------------------------------------------"
   ]
  },
  {
   "cell_type": "markdown",
   "metadata": {},
   "source": [
    "![3](image/3.PNG)"
   ]
  },
  {
   "cell_type": "markdown",
   "metadata": {},
   "source": [
    "#### -------------------------------------------------------------------------------------------------------------------------------------------------------------------------------------------"
   ]
  },
  {
   "cell_type": "markdown",
   "metadata": {},
   "source": [
    "![4](image/4.PNG)"
   ]
  },
  {
   "cell_type": "markdown",
   "metadata": {},
   "source": [
    "#### -------------------------------------------------------------------------------------------------------------------------------------------------------------------------------------------"
   ]
  },
  {
   "cell_type": "markdown",
   "metadata": {},
   "source": [
    "![5](image/5.PNG)"
   ]
  },
  {
   "cell_type": "markdown",
   "metadata": {},
   "source": [
    "#### -------------------------------------------------------------------------------------------------------------------------------------------------------------------------------------------"
   ]
  },
  {
   "cell_type": "markdown",
   "metadata": {},
   "source": [
    "![6](image/6.PNG)"
   ]
  },
  {
   "cell_type": "markdown",
   "metadata": {},
   "source": [
    "#### -------------------------------------------------------------------------------------------------------------------------------------------------------------------------------------------"
   ]
  },
  {
   "cell_type": "markdown",
   "metadata": {},
   "source": [
    "![7](image/7.PNG)"
   ]
  },
  {
   "cell_type": "markdown",
   "metadata": {},
   "source": [
    "#### -------------------------------------------------------------------------------------------------------------------------------------------------------------------------------------------"
   ]
  },
  {
   "cell_type": "markdown",
   "metadata": {},
   "source": [
    "![8](image/8.PNG)"
   ]
  },
  {
   "cell_type": "markdown",
   "metadata": {},
   "source": [
    "#### -------------------------------------------------------------------------------------------------------------------------------------------------------------------------------------------"
   ]
  },
  {
   "cell_type": "markdown",
   "metadata": {},
   "source": [
    "![9](image/9.PNG)"
   ]
  },
  {
   "cell_type": "markdown",
   "metadata": {},
   "source": [
    "#### -------------------------------------------------------------------------------------------------------------------------------------------------------------------------------------------"
   ]
  },
  {
   "cell_type": "markdown",
   "metadata": {},
   "source": [
    "![10](image/10.PNG)"
   ]
  },
  {
   "cell_type": "markdown",
   "metadata": {},
   "source": [
    "#### -------------------------------------------------------------------------------------------------------------------------------------------------------------------------------------------"
   ]
  },
  {
   "cell_type": "markdown",
   "metadata": {},
   "source": [
    "![11](image/11.PNG)"
   ]
  },
  {
   "cell_type": "markdown",
   "metadata": {},
   "source": [
    "#### -------------------------------------------------------------------------------------------------------------------------------------------------------------------------------------------"
   ]
  },
  {
   "cell_type": "markdown",
   "metadata": {},
   "source": [
    "![112](image/121.PNG)"
   ]
  },
  {
   "cell_type": "markdown",
   "metadata": {},
   "source": [
    "#### -------------------------------------------------------------------------------------------------------------------------------------------------------------------------------------------"
   ]
  },
  {
   "cell_type": "markdown",
   "metadata": {},
   "source": [
    "![13](image/13.PNG)"
   ]
  },
  {
   "cell_type": "markdown",
   "metadata": {},
   "source": [
    "#### -------------------------------------------------------------------------------------------------------------------------------------------------------------------------------------------"
   ]
  },
  {
   "cell_type": "markdown",
   "metadata": {},
   "source": [
    "\n",
    "\n",
    "\n",
    "\n",
    "To reiterate the steps in performing an image convolution\n",
    "\n",
    "1. take the pixel representation of the original image\n",
    "\n",
    "2. decide on a kernel matrix and flip it horizontally as well as vertically\n",
    "\n",
    "3. perform padding on the original matrix.\n",
    "\n",
    "4. decide on a slide\n",
    "\n",
    "5. calculate the output image matrix based on the dimensions in 1,2,3 and 4.\n",
    "\n",
    "6. slide the kernel on the original image and calculate the weighted sum to get the output image\n",
    "\n",
    "\n",
    "<br>\n",
    "\n",
    "###### We will now take a look at the python code for each of these operations. We would compare our python code with the already available methods in industry accepted packages such as numpy , scipy, etc"
   ]
  },
  {
   "cell_type": "markdown",
   "metadata": {},
   "source": [
    "<br>"
   ]
  },
  {
   "cell_type": "markdown",
   "metadata": {},
   "source": [
    "##### Flip a matrix horizontally and vertically"
   ]
  },
  {
   "cell_type": "code",
   "execution_count": 1,
   "metadata": {},
   "outputs": [
    {
     "data": {
      "text/plain": [
       "array([[ 5,  2,  3],\n",
       "       [ 1,  1, 11],\n",
       "       [ 3,  4, 55]])"
      ]
     },
     "execution_count": 1,
     "metadata": {},
     "output_type": "execute_result"
    }
   ],
   "source": [
    "## we will first flip horizontally and then vertically\n",
    "import numpy as np\n",
    "\n",
    "m = np.array([\n",
    "\n",
    "    [5, 2, 3],\n",
    "    [1, 1, 11],\n",
    "    [3, 4, 55]\n",
    "\n",
    "])\n",
    "\n",
    "m"
   ]
  },
  {
   "cell_type": "code",
   "execution_count": 2,
   "metadata": {},
   "outputs": [
    {
     "name": "stdout",
     "output_type": "stream",
     "text": [
      "[5 2 3]\n",
      "[3 2 5]\n"
     ]
    },
    {
     "data": {
      "text/plain": [
       "array([[ 3,  2,  5],\n",
       "       [11,  1,  1],\n",
       "       [55,  4,  3]])"
      ]
     },
     "execution_count": 2,
     "metadata": {},
     "output_type": "execute_result"
    }
   ],
   "source": [
    "\n",
    "## lets take an example of only the first row. and see if we can rotate that particular array horizontally\n",
    "## once we do that, we will extend this to entire array\n",
    "a = m[0]\n",
    "\n",
    "print(a[:: ]) ## :: give the entire array\n",
    "\n",
    "## now to rotate this, we give the negative index to rotate\n",
    "print(a[::-1])\n",
    "\n",
    "## now that this has worked, lets extend this to entire matrix\n",
    "\n",
    "m[:,::-1]"
   ]
  },
  {
   "cell_type": "code",
   "execution_count": 3,
   "metadata": {},
   "outputs": [
    {
     "data": {
      "text/plain": [
       "array([[ 3,  2,  5],\n",
       "       [11,  1,  1],\n",
       "       [55,  4,  3]])"
      ]
     },
     "execution_count": 3,
     "metadata": {},
     "output_type": "execute_result"
    }
   ],
   "source": [
    "\n",
    "def flip_horizontally(matrix):\n",
    "    return matrix[:, ::-1]\n",
    "\n",
    "##lets test\n",
    "\n",
    "flip_horizontally(m)"
   ]
  },
  {
   "cell_type": "code",
   "execution_count": 4,
   "metadata": {},
   "outputs": [
    {
     "name": "stdout",
     "output_type": "stream",
     "text": [
      "[[ 3  2  5]\n",
      " [11  1  1]\n",
      " [55  4  3]]\n"
     ]
    }
   ],
   "source": [
    "## lets assert using industry level method to achieve the same\n",
    "\n",
    "print(np.fliplr(m))"
   ]
  },
  {
   "cell_type": "code",
   "execution_count": 5,
   "metadata": {},
   "outputs": [
    {
     "name": "stdout",
     "output_type": "stream",
     "text": [
      "[5 1 3] [3 1 5]\n",
      "[[ 5  2  3]\n",
      " [ 1  1 11]\n",
      " [ 3  4 55]]\n"
     ]
    },
    {
     "data": {
      "text/plain": [
       "array([[ 3,  4, 55],\n",
       "       [ 1,  1, 11],\n",
       "       [ 5,  2,  3]])"
      ]
     },
     "execution_count": 5,
     "metadata": {},
     "output_type": "execute_result"
    }
   ],
   "source": [
    "\n",
    "## lets take an example of only the first column. and see if we can rotate that particular array vertically\n",
    "## once we do that, we will extend this to entire array\n",
    "a = m[:, 0]\n",
    "\n",
    "print(a,a[::-1]) ## :: give the entire array\n",
    "print(m)\n",
    "m[ ::-1]"
   ]
  },
  {
   "cell_type": "code",
   "execution_count": 6,
   "metadata": {},
   "outputs": [
    {
     "name": "stdout",
     "output_type": "stream",
     "text": [
      "[[ 3  4 55]\n",
      " [ 1  1 11]\n",
      " [ 5  2  3]]\n",
      "[[ 3  4 55]\n",
      " [ 1  1 11]\n",
      " [ 5  2  3]]\n"
     ]
    }
   ],
   "source": [
    "def flip_vertically(matrix):\n",
    "    return matrix[::-1]\n",
    "\n",
    "## lets test\n",
    "\n",
    "print(flip_vertically(m))\n",
    "\n",
    "print(np.flipud(m))\n",
    "\n",
    "## we can see that they are the same"
   ]
  },
  {
   "cell_type": "code",
   "execution_count": 7,
   "metadata": {},
   "outputs": [
    {
     "name": "stdout",
     "output_type": "stream",
     "text": [
      "[[55  4  3]\n",
      " [11  1  1]\n",
      " [ 3  2  5]]\n",
      "[[55  4  3]\n",
      " [11  1  1]\n",
      " [ 3  2  5]]\n"
     ]
    }
   ],
   "source": [
    "## lets bring this all together.\n",
    "print(flip_vertically(flip_horizontally(m)))\n",
    "\n",
    "\n",
    "print(np.flipud(np.fliplr(m)))\n",
    "\n"
   ]
  },
  {
   "cell_type": "markdown",
   "metadata": {},
   "source": [
    "<br><br>"
   ]
  },
  {
   "cell_type": "markdown",
   "metadata": {},
   "source": [
    "##### Lets create a method to apply convolution on a pixel representation of an image\n",
    "\n",
    "###### input would be the original image matrix, kernel matrix , stride value"
   ]
  },
  {
   "cell_type": "code",
   "execution_count": 81,
   "metadata": {},
   "outputs": [
    {
     "name": "stdout",
     "output_type": "stream",
     "text": [
      "210\n"
     ]
    }
   ],
   "source": [
    "## lets first see how we can get weighted sum of two matrix\n",
    "\n",
    "a = np.array([[1,2,3],[4,5,6]])\n",
    "\n",
    "k = np.array([[10,10,10],[10,10,10]])\n",
    "\n",
    "## we are expecting a value of 1*10+2*10+3*10+4*10+5*10+6*10\n",
    "sum = 0\n",
    "for i, j in enumerate(a):\n",
    "    \n",
    "    for a, b in zip(j, k[i]):\n",
    "        sum = sum + a*b\n",
    "        \n",
    "print(sum)\n",
    "\n",
    "def weighted_sum(matrix_one, matrix_two):\n",
    "    sum = 0\n",
    "    \n",
    "    for i, j in enumerate(matrix_one):    \n",
    "        for a, b in zip(j, matrix_two[i]):\n",
    "            sum = sum + a*b\n",
    "            \n",
    "    return sum\n",
    "        \n",
    "    "
   ]
  },
  {
   "cell_type": "code",
   "execution_count": 61,
   "metadata": {},
   "outputs": [
    {
     "name": "stdout",
     "output_type": "stream",
     "text": [
      "[[0.5 1.  0.5]\n",
      " [0.1 0.4 0.3]\n",
      " [0.4 0.7 0.5]]\n",
      "(1, 1) (3, 3)\n"
     ]
    },
    {
     "data": {
      "text/plain": [
       "array([[0., 0., 0., 0., 0.],\n",
       "       [0., 2., 1., 2., 0.],\n",
       "       [0., 5., 0., 1., 0.],\n",
       "       [0., 1., 7., 3., 0.],\n",
       "       [0., 0., 0., 0., 0.]])"
      ]
     },
     "execution_count": 61,
     "metadata": {},
     "output_type": "execute_result"
    }
   ],
   "source": [
    "m = np.array([[2,1,2],[5,0,1],[1,7,3]])\n",
    "w = np.array([[0.5,0.7, 0.4],[0.3,0.4, 0.1],[0.5, 1, 0.5]])\n",
    "w = flip_vertically(flip_horizontally(w))\n",
    "print(w)\n",
    "\n",
    "dim_image = m.shape\n",
    "dim_kernel = w.shape\n",
    "stride = 1\n",
    "\n",
    "from math import floor \n",
    "\n",
    "dim_kernel_center = (floor((dim_kernel[0]- 1 )/2),floor((dim_kernel[1]- 1 )/2))\n",
    "\n",
    "padding_dim = dim_kernel_center\n",
    "\n",
    "## pad m with padding_dim[0] number of zeros row wise on top and below, \n",
    "## and padding_dim[1] number of zeros column wise left and right\n",
    "\n",
    "\n",
    "## we find the dimensions of the padded matrix\n",
    "new_dim = (padding_dim[0]*2 + dim_image[0], padding_dim[1]*2 + dim_image[1])\n",
    "\n",
    "\n",
    "\n",
    "new_m = np.zeros((new_dim))\n",
    "print(padding_dim, dim_image)\n",
    "new_m[padding_dim[0] : padding_dim[0]+ dim_image[0], padding_dim[1] : padding_dim[1]+dim_image[1]] = m\n",
    "new_m"
   ]
  },
  {
   "cell_type": "code",
   "execution_count": 68,
   "metadata": {},
   "outputs": [
    {
     "name": "stdout",
     "output_type": "stream",
     "text": [
      "[[2 1 2]\n",
      " [5 0 1]\n",
      " [1 7 3]] \n",
      " padded: \n",
      " [[0. 0. 0. 0. 0.]\n",
      " [0. 2. 1. 2. 0.]\n",
      " [0. 5. 0. 1. 0.]\n",
      " [0. 1. 7. 3. 0.]\n",
      " [0. 0. 0. 0. 0.]]\n",
      "[[0.5 0.7 0.4]\n",
      " [0.3 0.4 0.1]\n",
      " [0.5 1.  0.5]] \n",
      " padded: \n",
      " [[0.  0.  0.  0.  0. ]\n",
      " [0.  0.5 0.7 0.4 0. ]\n",
      " [0.  0.3 0.4 0.1 0. ]\n",
      " [0.  0.5 1.  0.5 0. ]\n",
      " [0.  0.  0.  0.  0. ]]\n",
      "[[0.5 0.7 0.4]\n",
      " [0.3 0.4 0.1]\n",
      " [0.5 1.  0.5]] \n",
      " padded: \n",
      " [[0.  0.  0.  0.  0.  0.  0. ]\n",
      " [0.  0.  0.  0.  0.  0.  0. ]\n",
      " [0.  0.  0.5 0.7 0.4 0.  0. ]\n",
      " [0.  0.  0.3 0.4 0.1 0.  0. ]\n",
      " [0.  0.  0.5 1.  0.5 0.  0. ]\n",
      " [0.  0.  0.  0.  0.  0.  0. ]\n",
      " [0.  0.  0.  0.  0.  0.  0. ]]\n",
      "[[ 1  2  3  4]\n",
      " [11 22 33 44]] \n",
      " padded: \n",
      " [[ 0.  0.  0.  0.  0.  0.]\n",
      " [ 0.  1.  2.  3.  4.  0.]\n",
      " [ 0. 11. 22. 33. 44.  0.]\n",
      " [ 0.  0.  0.  0.  0.  0.]]\n"
     ]
    }
   ],
   "source": [
    "## lets recreate the above code and put it into a reusable method\n",
    "\n",
    "def pad_zeros(matrix, pad_dim):\n",
    "    \"\"\"\n",
    "    pad_dim needs to be a sequence of two length. \n",
    "    \n",
    "    \"\"\"\n",
    "    \n",
    "    existing_dim =  matrix.shape\n",
    "    \n",
    "    new_dim = (pad_dim[0]*2 + existing_dim[0], pad_dim[1]*2 + existing_dim[1])\n",
    "    \n",
    "    new_matrix = np.zeros(new_dim)\n",
    "    \n",
    "    new_matrix[pad_dim[0]: pad_dim[0]+ existing_dim[0], pad_dim[1]: pad_dim[1]+ existing_dim[1]] = matrix\n",
    "    \n",
    "    return new_matrix\n",
    "\n",
    "\n",
    "## lets test\n",
    "\n",
    "t1 = np.array([[2,1,2],[5,0,1],[1,7,3]])\n",
    "t2 = np.array([[0.5,0.7, 0.4],[0.3,0.4, 0.1],[0.5, 1, 0.5]])\n",
    "t3 = np.array([[1,2,3,4], [11,22,33,44]])\n",
    "\n",
    "print(t1, '\\n padded: \\n',pad_zeros(t1, (1,1)))\n",
    "\n",
    "print(t2, '\\n padded: \\n',pad_zeros(t2, (1,1)))\n",
    "\n",
    "print(t2, '\\n padded: \\n',pad_zeros(t2, (2,2)))\n",
    "\n",
    "print(t3, '\\n padded: \\n',pad_zeros(t3, (1,1)))"
   ]
  },
  {
   "cell_type": "code",
   "execution_count": 89,
   "metadata": {},
   "outputs": [
    {
     "name": "stdout",
     "output_type": "stream",
     "text": [
      "[[2 1 2]\n",
      " [5 0 1]\n",
      " [1 7 3]] [[0.5 1.  0.5]\n",
      " [0.1 0.4 0.3]\n",
      " [0.4 0.7 0.5]]\n",
      "3 3 (3, 3)\n"
     ]
    },
    {
     "data": {
      "text/plain": [
       "array([[10.6,  7.8,  2.3],\n",
       "       [ 6.8,  2.9,  0.8],\n",
       "       [ 9. ,  6.5,  1.5]])"
      ]
     },
     "execution_count": 89,
     "metadata": {},
     "output_type": "execute_result"
    }
   ],
   "source": [
    "from math import ceil\n",
    "\n",
    "m = np.array([[2,1,2],[5,0,1],[1,7,3]])\n",
    "w = np.array([[0.5,0.7, 0.4],[0.3,0.4, 0.1],[0.5, 1, 0.5]])\n",
    "w = flip_vertically(flip_horizontally(w))\n",
    "print(m,w)\n",
    "\n",
    "dim_image = m.shape\n",
    "dim_kernel = w.shape\n",
    "stride = 1\n",
    "\n",
    "from math import floor \n",
    "\n",
    "dim_kernel_center = (floor((dim_kernel[0]- 1 )/2),floor((dim_kernel[1]- 1 )/2))\n",
    "\n",
    "padding_dim = dim_kernel_center\n",
    "\n",
    "## we find the dimensions of the padded matrix\n",
    "new_dim = (padding_dim[0]*2 + dim_image[0], padding_dim[1]*2 + dim_image[1])\n",
    "\n",
    "number_of_movements_column_wise = ceil(dim_kernel[1]/stride)\n",
    "number_of_movements_row_wise = ceil(dim_kernel[0]/stride)\n",
    "\n",
    "dim_output_matrix = (floor((dim_image[0] + 2* padding_dim[0] - dim_kernel[0])/stride) +1, \\\n",
    "                        floor((dim_image[1] + 2* padding_dim[1] - dim_kernel[1])/stride)+1)\n",
    "\n",
    "\n",
    "output_matrix = np.zeros(dim_output_matrix)\n",
    "padded_matrix = pad_zeros(m, padding_dim)\n",
    "print(number_of_movements_column_wise, number_of_movements_row_wise, dim_output_matrix)\n",
    "\n",
    "num_of_steps = 0\n",
    "i = 0\n",
    "j =  0\n",
    "# while(num_of_steps < number_of_movements_row_wise*number_of_movements_column_wise):\n",
    "    \n",
    "#     output_matrix[i,j] = weighted_sum(m[i + stride:], w)\n",
    "    \n",
    "#     i+= 1\n",
    "#     j+= 1\n",
    "    \n",
    "#     num_of_steps+= 1\n",
    "    \n",
    "for r in range(dim_output_matrix[0]):\n",
    "    \n",
    "    for c in range(dim_output_matrix[1]):\n",
    "        \n",
    "        for s in range(stride):\n",
    "            output_matrix[r,c] = weighted_sum(m[r:dim_kernel[0], c + s: dim_kernel[1] + s], w)\n",
    "        \n",
    "\n",
    "output_matrix\n",
    "        \n",
    "        "
   ]
  },
  {
   "cell_type": "code",
   "execution_count": 106,
   "metadata": {},
   "outputs": [
    {
     "data": {
      "text/plain": [
       "array([[ 4.6,  3.7,  1.6],\n",
       "       [ 8.7, 10.6,  7.8],\n",
       "       [ 7.5,  6.8,  2.9]])"
      ]
     },
     "execution_count": 106,
     "metadata": {},
     "output_type": "execute_result"
    }
   ],
   "source": [
    "def convolution(image, kernel, stride = 1):\n",
    "    \n",
    "    w = flip_vertically(flip_horizontally(kernel))\n",
    "\n",
    "    dim_image = image.shape\n",
    "    dim_kernel = w.shape\n",
    "    stride = 1\n",
    "\n",
    "    dim_kernel_center = (floor((dim_kernel[0]- 1 )/2),floor((dim_kernel[1]- 1 )/2))\n",
    "\n",
    "    padding_dim = dim_kernel_center\n",
    "\n",
    "    ## we find the dimensions of the padded matrix\n",
    "    new_dim = (padding_dim[0]*2 + dim_image[0], padding_dim[1]*2 + dim_image[1])\n",
    "\n",
    "    dim_output_matrix = (floor((dim_image[0] + 2* padding_dim[0] - dim_kernel[0])/stride) +1, \\\n",
    "                            floor((dim_image[1] + 2* padding_dim[1] - dim_kernel[1])/stride)+1)\n",
    "\n",
    "\n",
    "    output_matrix = np.zeros(dim_output_matrix) \n",
    "    padded_matrix = pad_zeros(image, padding_dim)\n",
    "\n",
    "    rstep = 0\n",
    "    for r in range(dim_output_matrix[0]):\n",
    "\n",
    "        step = 0\n",
    "        for c in range(dim_output_matrix[1]):\n",
    "\n",
    "            output_matrix[r,c] = weighted_sum(padded_matrix[ rstep:dim_kernel[0]+ rstep , step : dim_kernel[1] + step ], w)\n",
    "            step = step+stride\n",
    "\n",
    "        rstep = rstep + stride\n",
    "\n",
    "    return output_matrix\n",
    "\n",
    "m = np.array([[2,1,2],[5, 0, 1],[1,7,3]])\n",
    "w = np.array([[0.5, 0.7, 0.4],[0.3,0.4,0.1],[0.5,1,0.5]])\n",
    "\n",
    "convolution(m, w)\n"
   ]
  },
  {
   "cell_type": "code",
   "execution_count": 114,
   "metadata": {},
   "outputs": [
    {
     "name": "stdout",
     "output_type": "stream",
     "text": [
      "[[3. 0. 3.]\n",
      " [6. 0. 6.]\n",
      " [5. 0. 5.]] \n",
      " [[3 0 3]\n",
      " [6 0 6]\n",
      " [5 0 5]]\n",
      "[[ 2.7 -0.1  2.1]\n",
      " [-3.5  2.1  4.3]\n",
      " [-4.2  2.2  4.2]] \n",
      " [[ 2.7 -0.1  2.1]\n",
      " [-3.5  2.1  4.3]\n",
      " [-4.2  2.2  4.2]]\n",
      "[[ 2.96027312e+00 -4.69902537e-01 -5.83164085e-01 -1.15800681e-01\n",
      "   4.14904790e-02  3.92333603e-01 -1.31630561e-01 -7.20127144e-04\n",
      "  -4.78734716e-01  2.33463586e+00]\n",
      " [ 2.76659025e+00 -3.17736702e-01 -8.20343785e-01  1.05047422e-01\n",
      "  -1.31432464e-01  7.57767942e-01 -3.04166510e-01  8.80853079e-02\n",
      "  -5.93645840e-01  3.31027982e+00]\n",
      " [ 3.25821592e+00  4.85467658e-01 -1.21021802e+00 -5.24451044e-01\n",
      "  -4.20019657e-02  1.26238498e+00 -8.10619249e-01  1.06831846e+00\n",
      "  -1.54129987e+00  4.13106305e+00]\n",
      " [ 2.30954975e+00  1.69254417e+00 -1.90075804e+00 -3.99398868e-01\n",
      "   6.73580916e-01  1.02935072e-01 -1.61883341e-01  1.16034464e+00\n",
      "  -1.25894092e+00  3.09752441e+00]\n",
      " [ 1.49894510e+00  2.83086572e+00 -2.45323046e+00 -8.49430536e-01\n",
      "   1.94374845e+00 -4.82142446e-01 -3.91598666e-01  6.35741519e-01\n",
      "  -8.93785163e-01  3.69443737e+00]\n",
      " [ 2.72710194e+00  1.43065544e+00 -1.44089857e+00 -9.46860479e-01\n",
      "   1.05790425e+00 -1.42159442e-01  6.07089721e-02  1.04878042e+00\n",
      "  -1.71963976e+00  3.78778683e+00]\n",
      " [ 2.79736811e+00  1.02502634e+00 -8.85231994e-02 -1.89864421e+00\n",
      "   1.64616054e+00 -1.30201903e+00  9.44095406e-01  4.74649341e-01\n",
      "  -1.36282122e+00  3.41019921e+00]\n",
      " [ 3.43571463e+00  5.96217722e-02  4.40380418e-01 -1.67052229e+00\n",
      "   2.04761556e+00 -1.89805464e+00  8.20063019e-01  4.66387764e-01\n",
      "  -1.32801649e+00  3.88741037e+00]\n",
      " [ 3.27265409e+00 -6.58185285e-01  1.15434137e+00 -1.68364851e+00\n",
      "   1.65338681e+00 -1.21378481e+00 -1.18152426e-01  8.58691758e-01\n",
      "  -1.68826771e+00  4.27719132e+00]\n",
      " [ 2.31795940e+00 -8.15341791e-01  1.74515299e+00 -1.90363766e+00\n",
      "   1.12063628e+00 -7.97597918e-01  2.16635911e-01  5.43518721e-01\n",
      "  -1.08018253e+00  2.75480964e+00]] \n",
      " convolved \n",
      "  [[ 2.96027312e+00 -4.69902537e-01 -5.83164085e-01 -1.15800681e-01\n",
      "   4.14904790e-02  3.92333603e-01 -1.31630561e-01 -7.20127144e-04\n",
      "  -4.78734716e-01  2.33463586e+00]\n",
      " [ 2.76659025e+00 -3.17736702e-01 -8.20343785e-01  1.05047422e-01\n",
      "  -1.31432464e-01  7.57767942e-01 -3.04166510e-01  8.80853079e-02\n",
      "  -5.93645840e-01  3.31027982e+00]\n",
      " [ 3.25821592e+00  4.85467658e-01 -1.21021802e+00 -5.24451044e-01\n",
      "  -4.20019657e-02  1.26238498e+00 -8.10619249e-01  1.06831846e+00\n",
      "  -1.54129987e+00  4.13106305e+00]\n",
      " [ 2.30954975e+00  1.69254417e+00 -1.90075804e+00 -3.99398868e-01\n",
      "   6.73580916e-01  1.02935072e-01 -1.61883341e-01  1.16034464e+00\n",
      "  -1.25894092e+00  3.09752441e+00]\n",
      " [ 1.49894510e+00  2.83086572e+00 -2.45323046e+00 -8.49430536e-01\n",
      "   1.94374845e+00 -4.82142446e-01 -3.91598666e-01  6.35741519e-01\n",
      "  -8.93785163e-01  3.69443737e+00]\n",
      " [ 2.72710194e+00  1.43065544e+00 -1.44089857e+00 -9.46860479e-01\n",
      "   1.05790425e+00 -1.42159442e-01  6.07089721e-02  1.04878042e+00\n",
      "  -1.71963976e+00  3.78778683e+00]\n",
      " [ 2.79736811e+00  1.02502634e+00 -8.85231994e-02 -1.89864421e+00\n",
      "   1.64616054e+00 -1.30201903e+00  9.44095406e-01  4.74649341e-01\n",
      "  -1.36282122e+00  3.41019921e+00]\n",
      " [ 3.43571463e+00  5.96217722e-02  4.40380418e-01 -1.67052229e+00\n",
      "   2.04761556e+00 -1.89805464e+00  8.20063019e-01  4.66387764e-01\n",
      "  -1.32801649e+00  3.88741037e+00]\n",
      " [ 3.27265409e+00 -6.58185285e-01  1.15434137e+00 -1.68364851e+00\n",
      "   1.65338681e+00 -1.21378481e+00 -1.18152426e-01  8.58691758e-01\n",
      "  -1.68826771e+00  4.27719132e+00]\n",
      " [ 2.31795940e+00 -8.15341791e-01  1.74515299e+00 -1.90363766e+00\n",
      "   1.12063628e+00 -7.97597918e-01  2.16635911e-01  5.43518721e-01\n",
      "  -1.08018253e+00  2.75480964e+00]]\n"
     ]
    }
   ],
   "source": [
    "\n",
    "##lets this our method out against scipy.signal convolve methods\n",
    "from scipy.signal import convolve2d\n",
    "\n",
    "m = np.array([[1,1,1],[2,2,2],[3,3,3]])\n",
    "w = np.array([[-1,2,-1],[-1,2,-1],[-1,2,-1]])\n",
    "print(convolution(m, w), '\\n',convolve2d(m,w,mode='same'))\n",
    "\n",
    "\n",
    "m = np.array([[0.5,0.3,0.2],[2,2,2],[-3,0.2,1.2]])\n",
    "w = np.array([[-1,2,-1],[-1,2,-1],[-1,2,-1]])\n",
    "print(convolution(m, w), '\\n',convolve2d(m,w,mode='same'))\n",
    "\n",
    "\n",
    "m = np.random.rand(10,10)\n",
    "w = np.array([[0,-1,2,-1,0],[0,-1,2,-1,0],[0,-1,2,-1,0],[0,-1,2,-1,0],[0,-1,2,-1,0]])\n",
    "\n",
    "print(convolution(m, w), '\\n convolved \\n ',convolve2d(m,w,mode='same'))\n",
    "\n",
    "## we can see that our values are the same across all. hence we have succesfully convolved"
   ]
  },
  {
   "cell_type": "code",
   "execution_count": 10,
   "metadata": {},
   "outputs": [
    {
     "name": "stderr",
     "output_type": "stream",
     "text": [
      "C:\\Users\\somak\\Anaconda3\\lib\\site-packages\\skimage\\viewer\\utils\\core.py:10: UserWarning: Recommended matplotlib backend is `Agg` for full skimage.viewer functionality.\n",
      "  warn(\"Recommended matplotlib backend is `Agg` for full \"\n"
     ]
    }
   ],
   "source": [
    "from skimage import io, viewer\n",
    "\n",
    "import numpy as np"
   ]
  },
  {
   "cell_type": "code",
   "execution_count": 11,
   "metadata": {},
   "outputs": [
    {
     "name": "stdout",
     "output_type": "stream",
     "text": [
      "(99, 72)\n"
     ]
    }
   ],
   "source": [
    "img = io.imread('C:\\\\Users\\\\somak\\\\Pictures\\\\small_t.jpg', as_grey=True)\n",
    "\n",
    "print(img.shape)\n",
    "\n"
   ]
  },
  {
   "cell_type": "code",
   "execution_count": 12,
   "metadata": {},
   "outputs": [],
   "source": [
    "from matplotlib import pyplot as plot"
   ]
  },
  {
   "cell_type": "code",
   "execution_count": 13,
   "metadata": {},
   "outputs": [
    {
     "data": {
      "text/plain": [
       "<matplotlib.image.AxesImage at 0x216652a1c88>"
      ]
     },
     "execution_count": 13,
     "metadata": {},
     "output_type": "execute_result"
    },
    {
     "data": {
      "image/png": "[encoded data removed]",
      "text/plain": [
       "<Figure size 432x288 with 1 Axes>"
      ]
     },
     "metadata": {},
     "output_type": "display_data"
    }
   ],
   "source": [
    "plot.imshow(img,cmap=plot.cm.gray)"
   ]
  },
  {
   "cell_type": "code",
   "execution_count": 14,
   "metadata": {},
   "outputs": [],
   "source": [
    "vertical_edge_kernel = np.array([[-4,8,-4],[-4,8,-4],[-4,8,-4]])\n",
    "\n",
    "## could be same as [-1,2,-1] or any multiples there of"
   ]
  },
  {
   "cell_type": "code",
   "execution_count": 15,
   "metadata": {},
   "outputs": [],
   "source": [
    "from scipy.signal import convolve"
   ]
  },
  {
   "cell_type": "code",
   "execution_count": 16,
   "metadata": {},
   "outputs": [
    {
     "data": {
      "text/plain": [
       "(101, 74)"
      ]
     },
     "execution_count": 16,
     "metadata": {},
     "output_type": "execute_result"
    }
   ],
   "source": [
    "a = convolve(img, vertical_edge_kernel)\n",
    "\n",
    "a.shape"
   ]
  },
  {
   "cell_type": "code",
   "execution_count": 17,
   "metadata": {},
   "outputs": [
    {
     "data": {
      "text/plain": [
       "<matplotlib.image.AxesImage at 0x216662ff7f0>"
      ]
     },
     "execution_count": 17,
     "metadata": {},
     "output_type": "execute_result"
    },
    {
     "data": {
      "image/png": "[encoded data removed]",
      "text/plain": [
       "<Figure size 432x288 with 1 Axes>"
      ]
     },
     "metadata": {},
     "output_type": "display_data"
    }
   ],
   "source": [
    "plot.imshow(a, cmap = plot.cm.gray)"
   ]
  },
  {
   "cell_type": "code",
   "execution_count": 18,
   "metadata": {},
   "outputs": [
    {
     "data": {
      "text/plain": [
       "<matplotlib.image.AxesImage at 0x21666354898>"
      ]
     },
     "execution_count": 18,
     "metadata": {},
     "output_type": "execute_result"
    },
    {
     "data": {
      "image/png": "[encoded data removed]",
      "text/plain": [
       "<Figure size 432x288 with 1 Axes>"
      ]
     },
     "metadata": {},
     "output_type": "display_data"
    }
   ],
   "source": [
    "## lets draw a rough square 256*256 pixel\n",
    "\n",
    "square = np.zeros((256,256))\n",
    "##this square is completely dark box\n",
    "\n",
    "\n",
    "plot.imshow(square, cmap = plot.cm.gray)"
   ]
  },
  {
   "cell_type": "code",
   "execution_count": 19,
   "metadata": {},
   "outputs": [
    {
     "data": {
      "text/plain": [
       "<matplotlib.image.AxesImage at 0x216663b2f28>"
      ]
     },
     "execution_count": 19,
     "metadata": {},
     "output_type": "execute_result"
    },
    {
     "data": {
      "image/png": "[encoded data removed]",
      "text/plain": [
       "<Figure size 432x288 with 1 Axes>"
      ]
     },
     "metadata": {},
     "output_type": "display_data"
    }
   ],
   "source": [
    "## lets draw vertical lines in position 50 & 200 and horizontal lines at 50 & 200 \n",
    "\n",
    "square[50:200, 50:200] = 1\n",
    "\n",
    "plot.imshow(square, cmap = plot.cm.gray)\n"
   ]
  },
  {
   "cell_type": "code",
   "execution_count": 20,
   "metadata": {},
   "outputs": [
    {
     "data": {
      "text/plain": [
       "<matplotlib.image.AxesImage at 0x2166640bdd8>"
      ]
     },
     "execution_count": 20,
     "metadata": {},
     "output_type": "execute_result"
    },
    {
     "data": {
      "image/png": "[encoded data removed]",
      "text/plain": [
       "<Figure size 432x288 with 1 Axes>"
      ]
     },
     "metadata": {},
     "output_type": "display_data"
    }
   ],
   "source": [
    "## lets detect vertical edge here.. why this example..bcoz it is going from dark to light. lets check if our kernel\n",
    "## can detect the same\n",
    "\n",
    "\n",
    "plot.imshow(convolve(square, vertical_edge_kernel), cmap = plot.cm.gray)"
   ]
  }
 ],
 "metadata": {
  "kernelspec": {
   "display_name": "Python 3",
   "language": "python",
   "name": "python3"
  },
  "language_info": {
   "codemirror_mode": {
    "name": "ipython",
    "version": 3
   },
   "file_extension": ".py",
   "mimetype": "text/x-python",
   "name": "python",
   "nbconvert_exporter": "python",
   "pygments_lexer": "ipython3",
   "version": "3.6.5"
  }
 },
 "nbformat": 4,
 "nbformat_minor": 2
}
