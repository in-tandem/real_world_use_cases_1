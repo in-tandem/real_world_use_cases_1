{
 "cells": [
  {
   "cell_type": "markdown",
   "metadata": {},
   "source": [
    "# Intuition behind Convolution in Image Processing\n",
    "\n",
    "## - No Maths\n",
    "## - All illustrations\n",
    "## - Python code for each operation\n",
    "## - Corresponding vendor code also shown (eg numpy packages, scipy packages,etc)"
   ]
  },
  {
   "cell_type": "markdown",
   "metadata": {},
   "source": [
    "\n",
    "\n",
    "I am a beginner to deep learning and CNN. <br>\n",
    "Like any other beginners to deep learning, i started with the classic example of using an artificial neural network on MNIST database. While this particular use case had challenges of its own, i found nothing more excruciating than the use case of image classification using Convolutional Neural Network.<br>\n",
    "\n",
    "Most blogs/papers/youtube videos/paid tutorials would simply explain what is a convolution, how convolution is performed and its impact or worse, extreme mathematical terms (i went down a rabbit hole of maths upto fourier transform :( ). <br>\n",
    "\n",
    "I could not, for the life of me, understand the intuition behind convolution in image processing. BY that i mean, how is it that the matrix for edge detectors actually detect edge. Why do they detect edges and nothing else? <br>\n",
    "\n",
    "And a direct impact of the above confusion was i could not come up with the kernels for operations such as blur,sharpen on my own. <br>\n",
    "\n",
    "After week of searching intensely, reading intensely i came up with an understanding of convolution in image processing. I am hoping this will come in handy for others as well. And heck, will serve as a reference guide for me too when needed in the future"
   ]
  },
  {
   "cell_type": "markdown",
   "metadata": {},
   "source": [
    "#### Steps \n",
    "\n",
    "###### demonstrate in illustration how convolution is done\n",
    "###### show the python code for each operation\n",
    "###### develop an intuition for convolutions so as to come up with kernels on own\n",
    "###### references i have used "
   ]
  },
  {
   "cell_type": "markdown",
   "metadata": {},
   "source": [
    "![1](image/1.jpg)"
   ]
  },
  {
   "cell_type": "code",
   "execution_count": 1,
   "metadata": {},
   "outputs": [
    {
     "name": "stderr",
     "output_type": "stream",
     "text": [
      "C:\\Users\\somak\\Anaconda3\\lib\\site-packages\\skimage\\viewer\\utils\\core.py:10: UserWarning: Recommended matplotlib backend is `Agg` for full skimage.viewer functionality.\n",
      "  warn(\"Recommended matplotlib backend is `Agg` for full \"\n"
     ]
    }
   ],
   "source": [
    "from skimage import io, viewer\n",
    "\n",
    "import numpy as np"
   ]
  },
  {
   "cell_type": "code",
   "execution_count": 16,
   "metadata": {},
   "outputs": [
    {
     "name": "stdout",
     "output_type": "stream",
     "text": [
      "(99, 72)\n"
     ]
    }
   ],
   "source": [
    "img = io.imread('C:\\\\Users\\\\somak\\\\Pictures\\\\small_t.jpg', as_grey=True)\n",
    "\n",
    "print(img.shape)\n",
    "\n"
   ]
  },
  {
   "cell_type": "code",
   "execution_count": 3,
   "metadata": {},
   "outputs": [],
   "source": [
    "from matplotlib import pyplot as plot"
   ]
  },
  {
   "cell_type": "code",
   "execution_count": 4,
   "metadata": {},
   "outputs": [
    {
     "data": {
      "text/plain": [
       "<matplotlib.image.AxesImage at 0x20946274160>"
      ]
     },
     "execution_count": 4,
     "metadata": {},
     "output_type": "execute_result"
    },
    {
     "data": {
      "image/png": "[encoded data removed]",
      "text/plain": [
       "<Figure size 432x288 with 1 Axes>"
      ]
     },
     "metadata": {},
     "output_type": "display_data"
    }
   ],
   "source": [
    "plot.imshow(img,cmap=plot.cm.gray)"
   ]
  },
  {
   "cell_type": "code",
   "execution_count": 5,
   "metadata": {},
   "outputs": [],
   "source": [
    "vertical_edge_kernel = np.array([[-4,8,-4],[-4,8,-4],[-4,8,-4]])\n",
    "\n",
    "## could be same as [-1,2,-1] or any multiples there of"
   ]
  },
  {
   "cell_type": "code",
   "execution_count": 6,
   "metadata": {},
   "outputs": [],
   "source": [
    "from scipy.signal import convolve"
   ]
  },
  {
   "cell_type": "code",
   "execution_count": 7,
   "metadata": {},
   "outputs": [
    {
     "data": {
      "text/plain": [
       "(101, 74)"
      ]
     },
     "execution_count": 7,
     "metadata": {},
     "output_type": "execute_result"
    }
   ],
   "source": [
    "a = convolve(img, vertical_edge_kernel)\n",
    "\n",
    "a.shape"
   ]
  },
  {
   "cell_type": "code",
   "execution_count": 8,
   "metadata": {},
   "outputs": [
    {
     "data": {
      "text/plain": [
       "<matplotlib.image.AxesImage at 0x209472c9cf8>"
      ]
     },
     "execution_count": 8,
     "metadata": {},
     "output_type": "execute_result"
    },
    {
     "data": {
      "image/png": "[encoded data removed]",
      "text/plain": [
       "<Figure size 432x288 with 1 Axes>"
      ]
     },
     "metadata": {},
     "output_type": "display_data"
    }
   ],
   "source": [
    "plot.imshow(a, cmap = plot.cm.gray)"
   ]
  },
  {
   "cell_type": "code",
   "execution_count": 9,
   "metadata": {},
   "outputs": [
    {
     "data": {
      "text/plain": [
       "<matplotlib.image.AxesImage at 0x2094731cda0>"
      ]
     },
     "execution_count": 9,
     "metadata": {},
     "output_type": "execute_result"
    },
    {
     "data": {
      "image/png": "[encoded data removed]",
      "text/plain": [
       "<Figure size 432x288 with 1 Axes>"
      ]
     },
     "metadata": {},
     "output_type": "display_data"
    }
   ],
   "source": [
    "## lets draw a rough square 256*256 pixel\n",
    "\n",
    "square = np.zeros((256,256))\n",
    "##this square is completely dark box\n",
    "\n",
    "\n",
    "plot.imshow(square, cmap = plot.cm.gray)"
   ]
  },
  {
   "cell_type": "code",
   "execution_count": 10,
   "metadata": {},
   "outputs": [
    {
     "data": {
      "text/plain": [
       "<matplotlib.image.AxesImage at 0x2094737e470>"
      ]
     },
     "execution_count": 10,
     "metadata": {},
     "output_type": "execute_result"
    },
    {
     "data": {
      "image/png": "[encoded data removed]",
      "text/plain": [
       "<Figure size 432x288 with 1 Axes>"
      ]
     },
     "metadata": {},
     "output_type": "display_data"
    }
   ],
   "source": [
    "## lets draw vertical lines in position 50 & 200 and horizontal lines at 50 & 200 \n",
    "\n",
    "square[50:200, 50:200] = 1\n",
    "\n",
    "plot.imshow(square, cmap = plot.cm.gray)\n"
   ]
  },
  {
   "cell_type": "code",
   "execution_count": 11,
   "metadata": {},
   "outputs": [
    {
     "data": {
      "text/plain": [
       "<matplotlib.image.AxesImage at 0x209473d9320>"
      ]
     },
     "execution_count": 11,
     "metadata": {},
     "output_type": "execute_result"
    },
    {
     "data": {
      "image/png": "[encoded data removed]",
      "text/plain": [
       "<Figure size 432x288 with 1 Axes>"
      ]
     },
     "metadata": {},
     "output_type": "display_data"
    }
   ],
   "source": [
    "## lets detect vertical edge here.. why this example..bcoz it is going from dark to light. lets check if our kernel\n",
    "## can detect the same\n",
    "\n",
    "\n",
    "plot.imshow(convolve(square, vertical_edge_kernel), cmap = plot.cm.gray)"
   ]
  }
 ],
 "metadata": {
  "kernelspec": {
   "display_name": "Python 3",
   "language": "python",
   "name": "python3"
  },
  "language_info": {
   "codemirror_mode": {
    "name": "ipython",
    "version": 3
   },
   "file_extension": ".py",
   "mimetype": "text/x-python",
   "name": "python",
   "nbconvert_exporter": "python",
   "pygments_lexer": "ipython3",
   "version": "3.6.5"
  }
 },
 "nbformat": 4,
 "nbformat_minor": 2
}
